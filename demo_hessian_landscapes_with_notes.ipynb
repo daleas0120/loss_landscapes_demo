{
 "cells": [
  {
   "cell_type": "markdown",
   "metadata": {},
   "source": [
    "# Implement Hessian Loss Landscapes\n",
    "\n",
    "Ashley S. Dale\n",
    "\n",
    "Notebook loads a pretrained ALIGNN model, and calculates the loss landscape using Hessian directions\n",
    "\n",
    "\n",
    "- Relevant paper: [*Visualizing high-dimensional loss landscapes with Hessian directions* by Bottcher and Wheeler](https://iopscience.iop.org/article/10.1088/1742-5468/ad13fc/meta)\n",
    "\n",
    "---\n",
    "Notebook Outline:\n",
    "\n",
    "0. Select and load trained model and data\n",
    "\n",
    "0. Generate a set of predictions for the data\n",
    "\n",
    "0. Select a subset of well predicted instances to be \"In Distribution\" (ID) based on the z-score of the prediction error, where low z-score represents well predicted and therefore in-distribution\n",
    "\n",
    "0. Select a subset of poorly predicted instances to be \"Out of Distribution\" (OOD) based on the z-score of the prediction error, where a high z-score represents poorly predicted and therefore out-of-distribution\n",
    "\n",
    "0. Load Hessian eigenvectors as two new models. These models will define the coordinate axes of the loss landscape\n",
    "\n",
    "0. Calculate the loss landscape using the original model as the origin, and the models generated from the eigenvectors of the Hessian as the two directions in which the original model is perturbed. Repeat this twice for the ID and OOD datasets.\n"
   ]
  },
  {
   "cell_type": "code",
   "execution_count": 1,
   "metadata": {},
   "outputs": [],
   "source": [
    "# For the hessian calculation, these additional packages should be installed\n",
    "# !pip install torchdiffeq"
   ]
  },
  {
   "cell_type": "code",
   "execution_count": 2,
   "metadata": {},
   "outputs": [],
   "source": [
    "import copy\n",
    "import torch\n",
    "import glob\n",
    "import json\n",
    "\n",
    "import numpy as np\n",
    "from tqdm import tqdm\n",
    "# import seaborn as sns\n",
    "import matplotlib.pyplot as plt\n",
    "from pandas import DataFrame\n",
    "\n",
    "import ipywidgets as widgets\n",
    "from torchinfo import summary\n",
    "from pymatgen.core.periodic_table import Element\n",
    "from collections import OrderedDict\n",
    "\n",
    "import alignn\n",
    "from alignn.pretrained import *\n",
    "from jarvis.db.figshare import data\n",
    "from jarvis.db.figshare import data\n",
    "from jarvis.db.jsonutils import loadjson\n",
    "\n",
    "import loss_landscapes\n",
    "import loss_landscapes.metrics\n",
    "from loss_landscapes.model_interface.model_wrapper import ModelWrapper\n",
    "from abc import ABC, abstractmethod\n",
    "\n",
    "from src.utils import *"
   ]
  },
  {
   "cell_type": "code",
   "execution_count": 3,
   "metadata": {},
   "outputs": [],
   "source": [
    "if torch. cuda. is_available():\n",
    "    print(\"Using GPU ...\")\n",
    "    device = 'cuda'\n",
    "else:\n",
    "    device = 'cpu'"
   ]
  },
  {
   "cell_type": "markdown",
   "metadata": {},
   "source": [
    "# Load Model"
   ]
  },
  {
   "cell_type": "code",
   "execution_count": 4,
   "metadata": {},
   "outputs": [],
   "source": [
    "list_of_pretrained_models = list(get_all_models().keys())"
   ]
  },
  {
   "cell_type": "markdown",
   "metadata": {},
   "source": [
    "-> Select the `jv_formation_energy_peratom_alignn` model for the demo"
   ]
  },
  {
   "cell_type": "code",
   "execution_count": 5,
   "metadata": {},
   "outputs": [
    {
     "data": {
      "application/vnd.jupyter.widget-view+json": {
       "model_id": "cc6ff71ed29e4285917f0b3026e74f6e",
       "version_major": 2,
       "version_minor": 0
      },
      "text/plain": [
       "Dropdown(description='Select Model', options=('jv_formation_energy_peratom_alignn', 'jv_optb88vdw_total_energy…"
      ]
     },
     "metadata": {},
     "output_type": "display_data"
    }
   ],
   "source": [
    "style = {'description_width': 'initial'}\n",
    "\n",
    "config_selector = widgets.Dropdown(\n",
    "    options=list_of_pretrained_models,\n",
    "    value=list_of_pretrained_models[0],\n",
    "    description='Select Model',\n",
    "    style=style,\n",
    "    disabled=False,\n",
    ")\n",
    "\n",
    "display(config_selector)"
   ]
  },
  {
   "cell_type": "code",
   "execution_count": 6,
   "metadata": {},
   "outputs": [
    {
     "name": "stdout",
     "output_type": "stream",
     "text": [
      "Selected:  jv_formation_energy_peratom_alignn\n"
     ]
    }
   ],
   "source": [
    "# This is the model we will load\n",
    "model_name = config_selector.value\n",
    "print(\"Selected: \", model_name)"
   ]
  },
  {
   "cell_type": "code",
   "execution_count": 7,
   "metadata": {},
   "outputs": [
    {
     "name": "stdout",
     "output_type": "stream",
     "text": [
      "Using chk file jv_formation_energy_peratom_alignn/checkpoint_300.pt from  ['jv_formation_energy_peratom_alignn/checkpoint_300.pt']\n",
      "Path c:\\Users\\hanyu\\anaconda3_2\\envs\\losslandscapeEnv\\lib\\site-packages\\alignn\\jv_formation_energy_peratom_alignn.zip\n",
      "Config c:\\EH\\UT\\ML research\\loss_landscapes_demo\\jv_formation_energy_peratom_alignn\\config.json\n"
     ]
    },
    {
     "name": "stderr",
     "output_type": "stream",
     "text": [
      "c:\\Users\\hanyu\\anaconda3_2\\envs\\losslandscapeEnv\\lib\\site-packages\\alignn\\pretrained.py:292: FutureWarning: You are using `torch.load` with `weights_only=False` (the current default value), which uses the default pickle module implicitly. It is possible to construct malicious pickle data which will execute arbitrary code during unpickling (See https://github.com/pytorch/pytorch/blob/main/SECURITY.md#untrusted-models for more details). In a future release, the default value for `weights_only` will be flipped to `True`. This limits the functions that could be executed during unpickling. Arbitrary objects will no longer be allowed to be loaded via this mode unless they are explicitly allowlisted by the user via `torch.serialization.add_safe_globals`. We recommend you start setting `weights_only=True` for any use case where you don't have full control of the loaded file. Please open an issue on GitHub for any issues related to this experimental feature.\n",
      "  model.load_state_dict(torch.load(filename, map_location=device)[\"model\"])\n"
     ]
    }
   ],
   "source": [
    "model = get_figshare_model(model_name)\n",
    "model.to(device)\n",
    "_ = model.eval()"
   ]
  },
  {
   "cell_type": "code",
   "execution_count": 8,
   "metadata": {},
   "outputs": [],
   "source": [
    "model_wt_dict = OrderedDict([i for i in model.named_parameters()])"
   ]
  },
  {
   "cell_type": "code",
   "execution_count": 9,
   "metadata": {},
   "outputs": [
    {
     "data": {
      "text/plain": [
       "=================================================================\n",
       "Layer (type:depth-idx)                   Param #\n",
       "=================================================================\n",
       "ALIGNN                                   --\n",
       "├─MLPLayer: 1-1                          --\n",
       "│    └─Sequential: 2-1                   --\n",
       "│    │    └─Linear: 3-1                  23,808\n",
       "│    │    └─BatchNorm1d: 3-2             512\n",
       "│    │    └─SiLU: 3-3                    --\n",
       "├─Sequential: 1-2                        --\n",
       "│    └─RBFExpansion: 2-2                 --\n",
       "│    └─MLPLayer: 2-3                     --\n",
       "│    │    └─Sequential: 3-4              5,312\n",
       "│    └─MLPLayer: 2-4                     --\n",
       "│    │    └─Sequential: 3-5              17,152\n",
       "├─Sequential: 1-3                        --\n",
       "│    └─RBFExpansion: 2-5                 --\n",
       "│    └─MLPLayer: 2-6                     --\n",
       "│    │    └─Sequential: 3-6              2,752\n",
       "│    └─MLPLayer: 2-7                     --\n",
       "│    │    └─Sequential: 3-7              17,152\n",
       "├─ModuleList: 1-4                        --\n",
       "│    └─ALIGNNConv: 2-8                   --\n",
       "│    │    └─EdgeGatedGraphConv: 3-8      329,984\n",
       "│    │    └─EdgeGatedGraphConv: 3-9      329,984\n",
       "│    └─ALIGNNConv: 2-9                   --\n",
       "│    │    └─EdgeGatedGraphConv: 3-10     329,984\n",
       "│    │    └─EdgeGatedGraphConv: 3-11     329,984\n",
       "│    └─ALIGNNConv: 2-10                  --\n",
       "│    │    └─EdgeGatedGraphConv: 3-12     329,984\n",
       "│    │    └─EdgeGatedGraphConv: 3-13     329,984\n",
       "│    └─ALIGNNConv: 2-11                  --\n",
       "│    │    └─EdgeGatedGraphConv: 3-14     329,984\n",
       "│    │    └─EdgeGatedGraphConv: 3-15     329,984\n",
       "├─ModuleList: 1-5                        --\n",
       "│    └─EdgeGatedGraphConv: 2-12          --\n",
       "│    │    └─Linear: 3-16                 65,792\n",
       "│    │    └─Linear: 3-17                 65,792\n",
       "│    │    └─Linear: 3-18                 65,792\n",
       "│    │    └─BatchNorm1d: 3-19            512\n",
       "│    │    └─Linear: 3-20                 65,792\n",
       "│    │    └─Linear: 3-21                 65,792\n",
       "│    │    └─BatchNorm1d: 3-22            512\n",
       "│    └─EdgeGatedGraphConv: 2-13          --\n",
       "│    │    └─Linear: 3-23                 65,792\n",
       "│    │    └─Linear: 3-24                 65,792\n",
       "│    │    └─Linear: 3-25                 65,792\n",
       "│    │    └─BatchNorm1d: 3-26            512\n",
       "│    │    └─Linear: 3-27                 65,792\n",
       "│    │    └─Linear: 3-28                 65,792\n",
       "│    │    └─BatchNorm1d: 3-29            512\n",
       "│    └─EdgeGatedGraphConv: 2-14          --\n",
       "│    │    └─Linear: 3-30                 65,792\n",
       "│    │    └─Linear: 3-31                 65,792\n",
       "│    │    └─Linear: 3-32                 65,792\n",
       "│    │    └─BatchNorm1d: 3-33            512\n",
       "│    │    └─Linear: 3-34                 65,792\n",
       "│    │    └─Linear: 3-35                 65,792\n",
       "│    │    └─BatchNorm1d: 3-36            512\n",
       "│    └─EdgeGatedGraphConv: 2-15          --\n",
       "│    │    └─Linear: 3-37                 65,792\n",
       "│    │    └─Linear: 3-38                 65,792\n",
       "│    │    └─Linear: 3-39                 65,792\n",
       "│    │    └─BatchNorm1d: 3-40            512\n",
       "│    │    └─Linear: 3-41                 65,792\n",
       "│    │    └─Linear: 3-42                 65,792\n",
       "│    │    └─BatchNorm1d: 3-43            512\n",
       "├─AvgPooling: 1-6                        --\n",
       "├─AvgPooling: 1-7                        --\n",
       "├─Linear: 1-8                            257\n",
       "=================================================================\n",
       "Total params: 4,026,753\n",
       "Trainable params: 4,026,753\n",
       "Non-trainable params: 0\n",
       "================================================================="
      ]
     },
     "execution_count": 9,
     "metadata": {},
     "output_type": "execute_result"
    }
   ],
   "source": [
    "summary(model)"
   ]
  },
  {
   "cell_type": "markdown",
   "metadata": {},
   "source": [
    "# Load Data"
   ]
  },
  {
   "cell_type": "code",
   "execution_count": 10,
   "metadata": {},
   "outputs": [],
   "source": [
    "# target = 'optb88vdw_bandgap'\n",
    "target = 'formation_energy_peratom'\n",
    "n_samples = 200\n",
    "element_to_omit_from_training_data = 'Fe'"
   ]
  },
  {
   "cell_type": "code",
   "execution_count": 11,
   "metadata": {},
   "outputs": [
    {
     "name": "stdout",
     "output_type": "stream",
     "text": [
      "Obtaining 3D dataset 76k ...\n",
      "Reference:https://www.nature.com/articles/s41524-020-00440-1\n",
      "Other versions:https://doi.org/10.6084/m9.figshare.6815699\n",
      "Loading the zipfile...\n",
      "Loading completed.\n",
      "num train samples: 186\n",
      "num test samples: 14\n"
     ]
    }
   ],
   "source": [
    "d = data(\"dft_3d\")\n",
    "d = d[:n_samples]\n",
    "dataset = DataFrame(copy.deepcopy(d))\n",
    "atoms_df = DataFrame(list(DataFrame(d)['atoms']))\n",
    "dataset = pd.concat([dataset, atoms_df], axis=1)\n",
    "train_idx, test_idx = get_split(dataset, 'elements', element_to_omit_from_training_data)\n",
    "print('num train samples: '+ str(len(train_idx)))\n",
    "print('num test samples: '+ str(len(test_idx)))"
   ]
  },
  {
   "cell_type": "code",
   "execution_count": 12,
   "metadata": {},
   "outputs": [
    {
     "name": "stdout",
     "output_type": "stream",
     "text": [
      "data range 2.71694 -3.53591\n",
      "Converting to graphs!\n"
     ]
    },
    {
     "name": "stderr",
     "output_type": "stream",
     "text": [
      "100%|██████████| 186/186 [00:01<00:00, 139.22it/s]\n"
     ]
    },
    {
     "name": "stdout",
     "output_type": "stream",
     "text": [
      "df                                                  atoms     prop  jid\n",
      "0    {'lattice_mat': [[3.566933224304235, 0.0, -0.0... -0.42762    0\n",
      "1    {'lattice_mat': [[4.089078911208881, 0.0, 0.0]... -0.41596    1\n",
      "2    {'lattice_mat': [[-1.833590720595598, 1.833590...  0.04847    2\n",
      "3    {'lattice_mat': [[7.2963518353359165, 0.0, 0.0... -0.44140    3\n",
      "4    {'lattice_mat': [[1.6777483798834445, -2.90594... -0.71026    4\n",
      "..                                                 ...      ...  ...\n",
      "181  {'lattice_mat': [[3.5901111032581614, 0.0, 0.0... -0.39393  181\n",
      "182  {'lattice_mat': [[3.8231338005011324, 0.0, 0.0... -0.19644  182\n",
      "183  {'lattice_mat': [[5.343771579767017, 3.1726511... -2.63322  183\n",
      "184  {'lattice_mat': [[2.790143252692178, -2.680152... -1.55369  184\n",
      "185  {'lattice_mat': [[2.851156779425013, 0.0, -0.0... -2.49145  185\n",
      "\n",
      "[186 rows x 3 columns]\n",
      "warning: could not load CGCNN features for 103\n",
      "Setting it to max atomic number available here, 103\n",
      "warning: could not load CGCNN features for 101\n",
      "Setting it to max atomic number available here, 103\n",
      "warning: could not load CGCNN features for 102\n",
      "Setting it to max atomic number available here, 103\n",
      "building line graphs\n"
     ]
    },
    {
     "name": "stderr",
     "output_type": "stream",
     "text": [
      "100%|██████████| 186/186 [00:00<00:00, 2204.86it/s]\n"
     ]
    }
   ],
   "source": [
    "train_data = [d[idx] for idx in train_idx.to_list()]\n",
    "train_dataloader = get_data_loader(train_data, target, workers=0)"
   ]
  },
  {
   "cell_type": "markdown",
   "metadata": {},
   "source": [
    "# Predicting on Test and Train Data"
   ]
  },
  {
   "cell_type": "code",
   "execution_count": 13,
   "metadata": {},
   "outputs": [
    {
     "name": "stderr",
     "output_type": "stream",
     "text": [
      "100%|██████████| 186/186 [00:16<00:00, 11.08it/s]\n"
     ]
    }
   ],
   "source": [
    "model_train_predictions = []\n",
    "original_train_targets = []\n",
    "for s in tqdm(train_dataloader):\n",
    "    original_train_targets.append(s[2].detach().numpy()[0])\n",
    "    y_pred = model([s[0].to(device), s[1].to(device)])\n",
    "    y_pred = np.expand_dims(y_pred.cpu().detach().numpy(), axis=0)[0]\n",
    "    model_train_predictions.append(y_pred)"
   ]
  },
  {
   "cell_type": "code",
   "execution_count": 14,
   "metadata": {},
   "outputs": [
    {
     "name": "stdout",
     "output_type": "stream",
     "text": [
      "data range 0.12011 -2.4143\n",
      "Converting to graphs!\n"
     ]
    },
    {
     "name": "stderr",
     "output_type": "stream",
     "text": [
      "100%|██████████| 14/14 [00:00<00:00, 93.13it/s]"
     ]
    },
    {
     "name": "stdout",
     "output_type": "stream",
     "text": [
      "df                                                 atoms     prop jid\n",
      "0   {'lattice_mat': [[3.790914410660539, -0.0, 0.0... -2.07159   0\n",
      "1   {'lattice_mat': [[4.927781968323723, -0.0, 0.0... -1.78124   1\n",
      "2   {'lattice_mat': [[4.839493559425439, 9.7116505... -1.66274   2\n",
      "3   {'lattice_mat': [[5.464512229851642, 0.0, -2.0... -0.93989   3\n",
      "4   {'lattice_mat': [[4.078736102710052, 0.3455178...  0.07844   4\n",
      "5   {'lattice_mat': [[2.80754625599962, 0.0, 0.0],... -2.41430   5\n",
      "6   {'lattice_mat': [[2.719421627743509, 4.2176232... -1.99266   6\n",
      "7   {'lattice_mat': [[4.857428829340624, 0.0, 0.0]... -2.22845   7\n",
      "8   {'lattice_mat': [[1.413929176152854, -2.448997... -2.23094   8\n",
      "9   {'lattice_mat': [[6.082481136762242, -0.039688...  0.12011   9\n",
      "10  {'lattice_mat': [[4.935947268149975, 0.0075616... -0.21301  10\n",
      "11  {'lattice_mat': [[4.293802725718504, 0.0, 0.0]... -1.39242  11\n",
      "12  {'lattice_mat': [[4.110215016104089, 0.0, 0.0]... -0.04638  12\n",
      "13  {'lattice_mat': [[6.93041047578813, 0.11598035... -1.97129  13\n"
     ]
    },
    {
     "name": "stderr",
     "output_type": "stream",
     "text": [
      "\n"
     ]
    },
    {
     "name": "stdout",
     "output_type": "stream",
     "text": [
      "building line graphs\n"
     ]
    },
    {
     "name": "stderr",
     "output_type": "stream",
     "text": [
      "100%|██████████| 14/14 [00:00<00:00, 1998.10it/s]\n",
      "100%|██████████| 14/14 [00:01<00:00, 10.13it/s]\n"
     ]
    }
   ],
   "source": [
    "test_data = [d[idx] for idx in test_idx.to_list()]\n",
    "test_dataloader = get_data_loader(test_data, target, workers=0)\n",
    "\n",
    "model_test_predictions = []\n",
    "original_test_targets = []\n",
    "for s in tqdm(test_dataloader):\n",
    "    original_test_targets.append(s[2].detach().numpy()[0])\n",
    "    y_pred = model([s[0].to(device), s[1].to(device)])\n",
    "    y_pred = np.expand_dims(y_pred.cpu().detach().numpy(), axis=0)[0]\n",
    "    model_test_predictions.append(y_pred)\n"
   ]
  },
  {
   "cell_type": "markdown",
   "metadata": {},
   "source": [
    "## Subselect Train Data Samples: Most ID (Minimum Error)"
   ]
  },
  {
   "cell_type": "code",
   "execution_count": 15,
   "metadata": {},
   "outputs": [],
   "source": [
    "train_df = pd.DataFrame(train_data)\n",
    "train_df['pred_val'] = model_train_predictions\n",
    "train_df['err'] = (train_df[target] - train_df['pred_val'])\n",
    "train_df['abs_err'] = np.abs(train_df[target] - train_df['pred_val'])\n",
    "train_df['z_score_err'] = (train_df['abs_err'] - np.mean(train_df['abs_err']))/np.std(train_df['abs_err'])"
   ]
  },
  {
   "cell_type": "code",
   "execution_count": 16,
   "metadata": {},
   "outputs": [
    {
     "data": {
      "text/html": [
       "<div>\n",
       "<style scoped>\n",
       "    .dataframe tbody tr th:only-of-type {\n",
       "        vertical-align: middle;\n",
       "    }\n",
       "\n",
       "    .dataframe tbody tr th {\n",
       "        vertical-align: top;\n",
       "    }\n",
       "\n",
       "    .dataframe thead th {\n",
       "        text-align: right;\n",
       "    }\n",
       "</style>\n",
       "<table border=\"1\" class=\"dataframe\">\n",
       "  <thead>\n",
       "    <tr style=\"text-align: right;\">\n",
       "      <th></th>\n",
       "      <th>jid</th>\n",
       "      <th>spg_number</th>\n",
       "      <th>spg_symbol</th>\n",
       "      <th>formula</th>\n",
       "      <th>formation_energy_peratom</th>\n",
       "      <th>func</th>\n",
       "      <th>optb88vdw_bandgap</th>\n",
       "      <th>atoms</th>\n",
       "      <th>slme</th>\n",
       "      <th>magmom_oszicar</th>\n",
       "      <th>...</th>\n",
       "      <th>bulk_modulus_kv</th>\n",
       "      <th>shear_modulus_gv</th>\n",
       "      <th>mbj_bandgap</th>\n",
       "      <th>hse_gap</th>\n",
       "      <th>reference</th>\n",
       "      <th>search</th>\n",
       "      <th>pred_val</th>\n",
       "      <th>err</th>\n",
       "      <th>abs_err</th>\n",
       "      <th>z_score_err</th>\n",
       "    </tr>\n",
       "  </thead>\n",
       "  <tbody>\n",
       "    <tr>\n",
       "      <th>0</th>\n",
       "      <td>JVASP-90856</td>\n",
       "      <td>129</td>\n",
       "      <td>P4/nmm</td>\n",
       "      <td>TiCuSiAs</td>\n",
       "      <td>-0.42762</td>\n",
       "      <td>OptB88vdW</td>\n",
       "      <td>0.000</td>\n",
       "      <td>{'lattice_mat': [[3.566933224304235, 0.0, -0.0...</td>\n",
       "      <td>na</td>\n",
       "      <td>0.0</td>\n",
       "      <td>...</td>\n",
       "      <td>na</td>\n",
       "      <td>na</td>\n",
       "      <td>na</td>\n",
       "      <td>na</td>\n",
       "      <td>mp-1080455</td>\n",
       "      <td>-As-Cu-Si-Ti</td>\n",
       "      <td>-0.429359</td>\n",
       "      <td>0.001739</td>\n",
       "      <td>0.001739</td>\n",
       "      <td>-0.240511</td>\n",
       "    </tr>\n",
       "    <tr>\n",
       "      <th>1</th>\n",
       "      <td>JVASP-86097</td>\n",
       "      <td>221</td>\n",
       "      <td>Pm-3m</td>\n",
       "      <td>DyB6</td>\n",
       "      <td>-0.41596</td>\n",
       "      <td>OptB88vdW</td>\n",
       "      <td>0.000</td>\n",
       "      <td>{'lattice_mat': [[4.089078911208881, 0.0, 0.0]...</td>\n",
       "      <td>na</td>\n",
       "      <td>0.0</td>\n",
       "      <td>...</td>\n",
       "      <td>na</td>\n",
       "      <td>na</td>\n",
       "      <td>na</td>\n",
       "      <td>na</td>\n",
       "      <td>mp-568319</td>\n",
       "      <td>-B-Dy</td>\n",
       "      <td>-0.417615</td>\n",
       "      <td>0.001655</td>\n",
       "      <td>0.001655</td>\n",
       "      <td>-0.243626</td>\n",
       "    </tr>\n",
       "    <tr>\n",
       "      <th>2</th>\n",
       "      <td>JVASP-64906</td>\n",
       "      <td>119</td>\n",
       "      <td>I-4m2</td>\n",
       "      <td>Be2OsRu</td>\n",
       "      <td>0.04847</td>\n",
       "      <td>OptB88vdW</td>\n",
       "      <td>0.000</td>\n",
       "      <td>{'lattice_mat': [[-1.833590720595598, 1.833590...</td>\n",
       "      <td>na</td>\n",
       "      <td>0.0</td>\n",
       "      <td>...</td>\n",
       "      <td>na</td>\n",
       "      <td>na</td>\n",
       "      <td>na</td>\n",
       "      <td>na</td>\n",
       "      <td>auid-3eaf68dd483bf4f4</td>\n",
       "      <td>-Be-Os-Ru</td>\n",
       "      <td>0.046013</td>\n",
       "      <td>0.002457</td>\n",
       "      <td>0.002457</td>\n",
       "      <td>-0.213745</td>\n",
       "    </tr>\n",
       "    <tr>\n",
       "      <th>3</th>\n",
       "      <td>JVASP-98225</td>\n",
       "      <td>14</td>\n",
       "      <td>P2_1/c</td>\n",
       "      <td>KBi</td>\n",
       "      <td>-0.44140</td>\n",
       "      <td>OptB88vdW</td>\n",
       "      <td>0.472</td>\n",
       "      <td>{'lattice_mat': [[7.2963518353359165, 0.0, 0.0...</td>\n",
       "      <td>na</td>\n",
       "      <td>0.0</td>\n",
       "      <td>...</td>\n",
       "      <td>na</td>\n",
       "      <td>na</td>\n",
       "      <td>na</td>\n",
       "      <td>na</td>\n",
       "      <td>mp-31104</td>\n",
       "      <td>-Bi-K</td>\n",
       "      <td>-0.444024</td>\n",
       "      <td>0.002624</td>\n",
       "      <td>0.002624</td>\n",
       "      <td>-0.207543</td>\n",
       "    </tr>\n",
       "    <tr>\n",
       "      <th>4</th>\n",
       "      <td>JVASP-10</td>\n",
       "      <td>164</td>\n",
       "      <td>P-3m1</td>\n",
       "      <td>VSe2</td>\n",
       "      <td>-0.71026</td>\n",
       "      <td>OptB88vdW</td>\n",
       "      <td>0.000</td>\n",
       "      <td>{'lattice_mat': [[1.6777483798834445, -2.90594...</td>\n",
       "      <td>na</td>\n",
       "      <td>0.0</td>\n",
       "      <td>...</td>\n",
       "      <td>48.79</td>\n",
       "      <td>33.05</td>\n",
       "      <td>0.0</td>\n",
       "      <td>na</td>\n",
       "      <td>mp-694</td>\n",
       "      <td>-Se-V</td>\n",
       "      <td>-0.713197</td>\n",
       "      <td>0.002937</td>\n",
       "      <td>0.002937</td>\n",
       "      <td>-0.195889</td>\n",
       "    </tr>\n",
       "    <tr>\n",
       "      <th>...</th>\n",
       "      <td>...</td>\n",
       "      <td>...</td>\n",
       "      <td>...</td>\n",
       "      <td>...</td>\n",
       "      <td>...</td>\n",
       "      <td>...</td>\n",
       "      <td>...</td>\n",
       "      <td>...</td>\n",
       "      <td>...</td>\n",
       "      <td>...</td>\n",
       "      <td>...</td>\n",
       "      <td>...</td>\n",
       "      <td>...</td>\n",
       "      <td>...</td>\n",
       "      <td>...</td>\n",
       "      <td>...</td>\n",
       "      <td>...</td>\n",
       "      <td>...</td>\n",
       "      <td>...</td>\n",
       "      <td>...</td>\n",
       "      <td>...</td>\n",
       "    </tr>\n",
       "    <tr>\n",
       "      <th>181</th>\n",
       "      <td>JVASP-86845</td>\n",
       "      <td>6</td>\n",
       "      <td>Pm</td>\n",
       "      <td>NaLi5N2</td>\n",
       "      <td>-0.39393</td>\n",
       "      <td>OptB88vdW</td>\n",
       "      <td>0.683</td>\n",
       "      <td>{'lattice_mat': [[3.5901111032581614, 0.0, 0.0...</td>\n",
       "      <td>na</td>\n",
       "      <td>0.0</td>\n",
       "      <td>...</td>\n",
       "      <td>na</td>\n",
       "      <td>na</td>\n",
       "      <td>na</td>\n",
       "      <td>na</td>\n",
       "      <td>mp-569525</td>\n",
       "      <td>-Li-N-Na</td>\n",
       "      <td>-0.393834</td>\n",
       "      <td>-0.000096</td>\n",
       "      <td>0.000096</td>\n",
       "      <td>-0.301687</td>\n",
       "    </tr>\n",
       "    <tr>\n",
       "      <th>182</th>\n",
       "      <td>JVASP-97500</td>\n",
       "      <td>62</td>\n",
       "      <td>Pnma</td>\n",
       "      <td>CoIN2O2</td>\n",
       "      <td>-0.19644</td>\n",
       "      <td>OptB88vdW</td>\n",
       "      <td>1.275</td>\n",
       "      <td>{'lattice_mat': [[3.8231338005011324, 0.0, 0.0...</td>\n",
       "      <td>na</td>\n",
       "      <td>0.0</td>\n",
       "      <td>...</td>\n",
       "      <td>na</td>\n",
       "      <td>na</td>\n",
       "      <td>na</td>\n",
       "      <td>na</td>\n",
       "      <td>mp-617167</td>\n",
       "      <td>-Co-I-N-O</td>\n",
       "      <td>-0.195089</td>\n",
       "      <td>-0.001351</td>\n",
       "      <td>0.001351</td>\n",
       "      <td>-0.254941</td>\n",
       "    </tr>\n",
       "    <tr>\n",
       "      <th>183</th>\n",
       "      <td>JVASP-52477</td>\n",
       "      <td>15</td>\n",
       "      <td>C2/c</td>\n",
       "      <td>Na2TiO3</td>\n",
       "      <td>-2.63322</td>\n",
       "      <td>OptB88vdW</td>\n",
       "      <td>3.235</td>\n",
       "      <td>{'lattice_mat': [[5.343771579767017, 3.1726511...</td>\n",
       "      <td>0.46</td>\n",
       "      <td>0.0</td>\n",
       "      <td>...</td>\n",
       "      <td>na</td>\n",
       "      <td>na</td>\n",
       "      <td>3.732</td>\n",
       "      <td>na</td>\n",
       "      <td>mp-752423</td>\n",
       "      <td>-Na-O-Ti</td>\n",
       "      <td>-2.621071</td>\n",
       "      <td>-0.012149</td>\n",
       "      <td>0.012149</td>\n",
       "      <td>0.147263</td>\n",
       "    </tr>\n",
       "    <tr>\n",
       "      <th>184</th>\n",
       "      <td>JVASP-15431</td>\n",
       "      <td>71</td>\n",
       "      <td>Immm</td>\n",
       "      <td>Li2CuO2</td>\n",
       "      <td>-1.55369</td>\n",
       "      <td>OptB88vdW</td>\n",
       "      <td>0.000</td>\n",
       "      <td>{'lattice_mat': [[2.790143252692178, -2.680152...</td>\n",
       "      <td>18.01</td>\n",
       "      <td>0.936</td>\n",
       "      <td>...</td>\n",
       "      <td>98.96</td>\n",
       "      <td>49.29</td>\n",
       "      <td>0.563</td>\n",
       "      <td>na</td>\n",
       "      <td>mp-4711</td>\n",
       "      <td>-Cu-Li-O</td>\n",
       "      <td>-1.554141</td>\n",
       "      <td>0.000451</td>\n",
       "      <td>0.000451</td>\n",
       "      <td>-0.288463</td>\n",
       "    </tr>\n",
       "    <tr>\n",
       "      <th>185</th>\n",
       "      <td>JVASP-48462</td>\n",
       "      <td>123</td>\n",
       "      <td>P4/mmm</td>\n",
       "      <td>Li3CoOF3</td>\n",
       "      <td>-2.49145</td>\n",
       "      <td>OptB88vdW</td>\n",
       "      <td>0.000</td>\n",
       "      <td>{'lattice_mat': [[2.851156779425013, 0.0, -0.0...</td>\n",
       "      <td>na</td>\n",
       "      <td>2.591</td>\n",
       "      <td>...</td>\n",
       "      <td>na</td>\n",
       "      <td>na</td>\n",
       "      <td>na</td>\n",
       "      <td>na</td>\n",
       "      <td>mp-764050</td>\n",
       "      <td>-Co-F-Li-O</td>\n",
       "      <td>-2.496467</td>\n",
       "      <td>0.005017</td>\n",
       "      <td>0.005017</td>\n",
       "      <td>-0.118389</td>\n",
       "    </tr>\n",
       "  </tbody>\n",
       "</table>\n",
       "<p>186 rows × 68 columns</p>\n",
       "</div>"
      ],
      "text/plain": [
       "             jid spg_number spg_symbol   formula  formation_energy_peratom  \\\n",
       "0    JVASP-90856        129     P4/nmm  TiCuSiAs                  -0.42762   \n",
       "1    JVASP-86097        221      Pm-3m      DyB6                  -0.41596   \n",
       "2    JVASP-64906        119      I-4m2   Be2OsRu                   0.04847   \n",
       "3    JVASP-98225         14     P2_1/c       KBi                  -0.44140   \n",
       "4       JVASP-10        164      P-3m1      VSe2                  -0.71026   \n",
       "..           ...        ...        ...       ...                       ...   \n",
       "181  JVASP-86845          6         Pm   NaLi5N2                  -0.39393   \n",
       "182  JVASP-97500         62       Pnma   CoIN2O2                  -0.19644   \n",
       "183  JVASP-52477         15       C2/c   Na2TiO3                  -2.63322   \n",
       "184  JVASP-15431         71       Immm   Li2CuO2                  -1.55369   \n",
       "185  JVASP-48462        123     P4/mmm  Li3CoOF3                  -2.49145   \n",
       "\n",
       "          func  optb88vdw_bandgap  \\\n",
       "0    OptB88vdW              0.000   \n",
       "1    OptB88vdW              0.000   \n",
       "2    OptB88vdW              0.000   \n",
       "3    OptB88vdW              0.472   \n",
       "4    OptB88vdW              0.000   \n",
       "..         ...                ...   \n",
       "181  OptB88vdW              0.683   \n",
       "182  OptB88vdW              1.275   \n",
       "183  OptB88vdW              3.235   \n",
       "184  OptB88vdW              0.000   \n",
       "185  OptB88vdW              0.000   \n",
       "\n",
       "                                                 atoms   slme magmom_oszicar  \\\n",
       "0    {'lattice_mat': [[3.566933224304235, 0.0, -0.0...     na            0.0   \n",
       "1    {'lattice_mat': [[4.089078911208881, 0.0, 0.0]...     na            0.0   \n",
       "2    {'lattice_mat': [[-1.833590720595598, 1.833590...     na            0.0   \n",
       "3    {'lattice_mat': [[7.2963518353359165, 0.0, 0.0...     na            0.0   \n",
       "4    {'lattice_mat': [[1.6777483798834445, -2.90594...     na            0.0   \n",
       "..                                                 ...    ...            ...   \n",
       "181  {'lattice_mat': [[3.5901111032581614, 0.0, 0.0...     na            0.0   \n",
       "182  {'lattice_mat': [[3.8231338005011324, 0.0, 0.0...     na            0.0   \n",
       "183  {'lattice_mat': [[5.343771579767017, 3.1726511...   0.46            0.0   \n",
       "184  {'lattice_mat': [[2.790143252692178, -2.680152...  18.01          0.936   \n",
       "185  {'lattice_mat': [[2.851156779425013, 0.0, -0.0...     na          2.591   \n",
       "\n",
       "     ... bulk_modulus_kv shear_modulus_gv mbj_bandgap  hse_gap  \\\n",
       "0    ...              na               na          na       na   \n",
       "1    ...              na               na          na       na   \n",
       "2    ...              na               na          na       na   \n",
       "3    ...              na               na          na       na   \n",
       "4    ...           48.79            33.05         0.0       na   \n",
       "..   ...             ...              ...         ...      ...   \n",
       "181  ...              na               na          na       na   \n",
       "182  ...              na               na          na       na   \n",
       "183  ...              na               na       3.732       na   \n",
       "184  ...           98.96            49.29       0.563       na   \n",
       "185  ...              na               na          na       na   \n",
       "\n",
       "                 reference        search  pred_val       err   abs_err  \\\n",
       "0               mp-1080455  -As-Cu-Si-Ti -0.429359  0.001739  0.001739   \n",
       "1                mp-568319         -B-Dy -0.417615  0.001655  0.001655   \n",
       "2    auid-3eaf68dd483bf4f4     -Be-Os-Ru  0.046013  0.002457  0.002457   \n",
       "3                 mp-31104         -Bi-K -0.444024  0.002624  0.002624   \n",
       "4                   mp-694         -Se-V -0.713197  0.002937  0.002937   \n",
       "..                     ...           ...       ...       ...       ...   \n",
       "181              mp-569525      -Li-N-Na -0.393834 -0.000096  0.000096   \n",
       "182              mp-617167     -Co-I-N-O -0.195089 -0.001351  0.001351   \n",
       "183              mp-752423      -Na-O-Ti -2.621071 -0.012149  0.012149   \n",
       "184                mp-4711      -Cu-Li-O -1.554141  0.000451  0.000451   \n",
       "185              mp-764050    -Co-F-Li-O -2.496467  0.005017  0.005017   \n",
       "\n",
       "    z_score_err  \n",
       "0     -0.240511  \n",
       "1     -0.243626  \n",
       "2     -0.213745  \n",
       "3     -0.207543  \n",
       "4     -0.195889  \n",
       "..          ...  \n",
       "181   -0.301687  \n",
       "182   -0.254941  \n",
       "183    0.147263  \n",
       "184   -0.288463  \n",
       "185   -0.118389  \n",
       "\n",
       "[186 rows x 68 columns]"
      ]
     },
     "execution_count": 16,
     "metadata": {},
     "output_type": "execute_result"
    }
   ],
   "source": [
    "train_df"
   ]
  },
  {
   "cell_type": "code",
   "execution_count": 17,
   "metadata": {},
   "outputs": [
    {
     "data": {
      "image/png": "[encoded data removed]",
      "text/plain": [
       "<Figure size 640x480 with 1 Axes>"
      ]
     },
     "metadata": {},
     "output_type": "display_data"
    }
   ],
   "source": [
    "ax = plt.hist(train_df['z_score_err'].values, bins=100)\n",
    "plt.title('Train Set Predictions (Omitting '+element_to_omit_from_training_data+')')\n",
    "plt.xlabel('Value')\n",
    "plt.ylabel('Count')\n",
    "plt.show()"
   ]
  },
  {
   "cell_type": "code",
   "execution_count": 18,
   "metadata": {},
   "outputs": [
    {
     "name": "stdout",
     "output_type": "stream",
     "text": [
      "data range -0.39393 -3.08933\n",
      "Converting to graphs!\n"
     ]
    },
    {
     "name": "stderr",
     "output_type": "stream",
     "text": [
      "100%|██████████| 3/3 [00:00<00:00, 91.45it/s]\n"
     ]
    },
    {
     "name": "stdout",
     "output_type": "stream",
     "text": [
      "df                                                atoms     prop jid\n",
      "0  {'lattice_mat': [[4.328319117003372, 1.032103e... -1.67055   0\n",
      "1  {'lattice_mat': [[4.9619896140897275, -8.59441... -3.08933   1\n",
      "2  {'lattice_mat': [[3.5901111032581614, 0.0, 0.0... -0.39393   2\n",
      "building line graphs\n"
     ]
    },
    {
     "name": "stderr",
     "output_type": "stream",
     "text": [
      "100%|██████████| 3/3 [00:00<?, ?it/s]\n"
     ]
    }
   ],
   "source": [
    "train_subset_df = train_df.nsmallest(3, 'z_score_err')\n",
    "train_subset_df_idx = train_subset_df.index.values.tolist()\n",
    "train_subset_list = [train_data[i] for i in train_subset_df_idx]\n",
    "train_subset_dataloader = get_data_loader(train_subset_list, target, workers=4)"
   ]
  },
  {
   "cell_type": "code",
   "execution_count": 19,
   "metadata": {},
   "outputs": [],
   "source": [
    "subset_train_x = []\n",
    "subset_train_y = []\n",
    "\n",
    "for i in train_subset_dataloader:\n",
    "    subset_train_x.append((i[0], i[1]))\n",
    "    subset_train_y.append(i[2])"
   ]
  },
  {
   "cell_type": "code",
   "execution_count": 20,
   "metadata": {},
   "outputs": [],
   "source": [
    "test_df = pd.DataFrame(test_data)\n",
    "test_df['pred_val'] = model_test_predictions\n",
    "test_df['err'] = (test_df[target] - test_df['pred_val'])\n",
    "test_df['abs_err'] = np.abs(test_df[target] - test_df['pred_val'])\n",
    "test_df['z_score_err'] = (test_df['abs_err'] - np.mean(train_df['abs_err']))/np.std(train_df['abs_err'])"
   ]
  },
  {
   "cell_type": "markdown",
   "metadata": {},
   "source": [
    "## Subselect Test Samples - Most OOD (Maximum Error)"
   ]
  },
  {
   "cell_type": "code",
   "execution_count": 21,
   "metadata": {},
   "outputs": [
    {
     "name": "stdout",
     "output_type": "stream",
     "text": [
      "data range 0.07844 -2.07159\n",
      "Converting to graphs!\n"
     ]
    },
    {
     "name": "stderr",
     "output_type": "stream",
     "text": [
      "100%|██████████| 3/3 [00:00<00:00, 101.04it/s]\n"
     ]
    },
    {
     "name": "stdout",
     "output_type": "stream",
     "text": [
      "df                                                atoms     prop jid\n",
      "0  {'lattice_mat': [[3.790914410660539, -0.0, 0.0... -2.07159   0\n",
      "1  {'lattice_mat': [[4.110215016104089, 0.0, 0.0]... -0.04638   1\n",
      "2  {'lattice_mat': [[4.078736102710052, 0.3455178...  0.07844   2\n",
      "building line graphs\n"
     ]
    },
    {
     "name": "stderr",
     "output_type": "stream",
     "text": [
      "100%|██████████| 3/3 [00:00<?, ?it/s]\n"
     ]
    }
   ],
   "source": [
    "test_subset_df = test_df.nlargest(3, 'z_score_err')\n",
    "test_subset_df_idx = test_subset_df.index.values.tolist()\n",
    "test_subset_list = [test_data[i] for i in test_subset_df_idx]\n",
    "test_subset_dataloader = get_data_loader(test_subset_list, target, workers=4)"
   ]
  },
  {
   "cell_type": "code",
   "execution_count": 22,
   "metadata": {},
   "outputs": [
    {
     "data": {
      "image/png": "[encoded data removed]",
      "text/plain": [
       "<Figure size 640x480 with 1 Axes>"
      ]
     },
     "metadata": {},
     "output_type": "display_data"
    }
   ],
   "source": [
    "ax = plt.hist(test_df['z_score_err'].values, bins=100,)\n",
    "plt.title('Test Set Predictions (Exclusively '+element_to_omit_from_training_data+')')\n",
    "plt.xlabel('Value')\n",
    "plt.ylabel('Count')\n",
    "plt.show()"
   ]
  },
  {
   "cell_type": "markdown",
   "metadata": {},
   "source": [
    "# Getting the Hessian Eigenvectors"
   ]
  },
  {
   "cell_type": "code",
   "execution_count": 23,
   "metadata": {},
   "outputs": [],
   "source": [
    "from src import botcher_hessian as hess\n",
    "from src import botcher_utilities as util"
   ]
  },
  {
   "cell_type": "markdown",
   "metadata": {},
   "source": [
    "The following functions are copy-pasted from Botcher implementation.  I put them here so that I could debug more easily."
   ]
  },
  {
   "cell_type": "code",
   "execution_count": 24,
   "metadata": {},
   "outputs": [],
   "source": [
    "def npvec_to_tensorlist(vec, params):\n",
    "    \"\"\" Convert a numpy vector to a list of tensor with the same dimensions as params\n",
    "\n",
    "        Args:\n",
    "            vec: a 1D numpy vector\n",
    "            params: a list of parameters from net\n",
    "\n",
    "        Returns:\n",
    "            rval: a list of tensors with the same shape as params\n",
    "    \"\"\"\n",
    "    loc = 0\n",
    "    rval = []\n",
    "    for p in params:\n",
    "        numel = p.data.numel()\n",
    "        rval.append(torch.from_numpy(vec[loc:loc+numel]).view(p.data.shape).float())\n",
    "        loc += numel\n",
    "    assert loc == vec.size, 'The vector has more elements than the net has parameters'\n",
    "    return rval\n",
    "\n",
    "\n",
    "def gradtensor_to_npvec(net, all_params=True):\n",
    "    \"\"\" Extract gradients from net, and return a concatenated numpy vector.\n",
    "\n",
    "        Args:\n",
    "            net: trained model\n",
    "            all_params: If all_params, then gradients w.r.t. BN parameters and bias\n",
    "            values are also included. Otherwise only gradients with dim > 1 are considered.\n",
    "\n",
    "        Returns:\n",
    "            a concatenated numpy vector containing all gradients\n",
    "    \"\"\"\n",
    "    filter = lambda p: all_params or len(p.data.size()) > 1\n",
    "    return np.concatenate([p.grad.data.cpu().numpy().ravel() for p in net.parameters() if filter(p)])\n",
    "\n",
    "\n",
    "def eval_hess_vec_prod(vec, params, net, loss_func, inputs_dataloader, outputs, use_cuda=False):\n",
    "    from torch.autograd import Variable\n",
    "    \"\"\"\n",
    "    Evaluate product of the Hessian of the loss function with a direction vector \"vec\".\n",
    "    The product result is saved in the grad of net.\n",
    "\n",
    "    Args:\n",
    "        vec: a list of tensor with the same dimensions as \"params\".\n",
    "        params: the parameter list of the net (ignoring biases and BN parameters).\n",
    "        net: model with trained parameters.\n",
    "        criterion: loss function.\n",
    "        inputs: nn inputs.\n",
    "        outputs: desired nn outputs.\n",
    "        use_cuda: use GPU.\n",
    "    \"\"\"\n",
    "\n",
    "    if use_cuda:\n",
    "        net.cuda()\n",
    "        vec = [v.cuda() for v in vec]\n",
    "\n",
    "    net.eval()\n",
    "    net.zero_grad() # clears grad for every parameter in the net\n",
    "    \n",
    "    ### OG IMPLEMENTATION\n",
    "    # pred_outputs = net(inputs.unsqueeze(-1)).flatten()\n",
    "    # pred_outputs = net(inputs_dataloader)\n",
    "    loss = torch.tensor(0.0).to(device)\n",
    "    for _, i in tqdm(enumerate(inputs_dataloader), total=len(inputs_dataloader)):\n",
    "        pred_outputs = net((i[0].to(device), i[1].to(device)))\n",
    "        # pred_outputs = np.expand_dims(pred_outputs.cpu().detach().numpy(), axis=0)[0]\n",
    "        outputs = i[2].to(device)\n",
    "        loss = torch.add(loss, loss_func(pred_outputs,outputs))\n",
    "    \n",
    "    loss = loss/len(inputs_dataloader)\n",
    "    grad_f = torch.autograd.grad(loss, inputs=params, create_graph=True, allow_unused=True)\n",
    "\n",
    "    # Compute inner product of gradient with the direction vector\n",
    "    prod = Variable(torch.zeros(1)).type(type(grad_f[0].data))\n",
    "\n",
    "    #for i in range(len(vec)):\n",
    "    tmp = []\n",
    "    for i in range(len(vec)):\n",
    "        if (grad_f[i] is not None) and (vec[i] is not None):\n",
    "            tmp.append((grad_f[i].to(device) * vec[i].to(device)).cpu().sum())\n",
    "    prod =+ sum(tmp)\n",
    "    # prod += sum([(grad_f[i] * vec[i]).cpu().sum() for i in range(len(vec))])\n",
    "\n",
    "    # Compute the Hessian-vector product, H*v\n",
    "    # prod.backward() computes dprod/dparams for every parameter in params and\n",
    "    # accumulate the gradients into the params.grad attributes\n",
    "    prod.backward()\n",
    "    "
   ]
  },
  {
   "cell_type": "code",
   "execution_count": 25,
   "metadata": {},
   "outputs": [],
   "source": [
    "def min_max_hessian_eigs(net, inputs, outputs, criterion, rank=0, use_cuda=False, verbose=False, all_params=True):\n",
    "    from scipy.sparse.linalg import LinearOperator, eigsh\n",
    "    import time\n",
    "    \"\"\"\n",
    "        Compute the largest and the smallest eigenvalues of the Hessian marix.\n",
    "\n",
    "        Args:\n",
    "            net: the trained model.\n",
    "            inputs: nn inputs.\n",
    "            outputs: desired nn outputs.\n",
    "            criterion: loss function.\n",
    "            rank: rank of the working node.\n",
    "            use_cuda: use GPU\n",
    "            verbose: print more information\n",
    "            all_params: use all nn parameters\n",
    "\n",
    "        Returns:\n",
    "            maxeig: max eigenvalue\n",
    "            mineig: min eigenvalue\n",
    "            hess_vec_prod.count: number of iterations for calculating max and min eigenvalues\n",
    "    \"\"\"\n",
    "    \n",
    "    if all_params:\n",
    "        params = [p for p in net.parameters()]\n",
    "    else:\n",
    "        params = [p for p in net.parameters() if len(p.size()) > 1]\n",
    "        \n",
    "    N = sum(p.numel() for p in params)\n",
    "\n",
    "    def hess_vec_prod(vec):\n",
    "        hess_vec_prod.count += 1  # simulates a static variable\n",
    "        vec = npvec_to_tensorlist(vec, params)\n",
    "        start_time = time.time()\n",
    "        eval_hess_vec_prod(vec, params, net, criterion, inputs, outputs, use_cuda)\n",
    "        prod_time = time.time() - start_time\n",
    "        if verbose and rank == 0: print(\"Iter: %d  time: %f\" % (hess_vec_prod.count, prod_time))\n",
    "        return gradtensor_to_npvec(net,all_params)\n",
    "        \n",
    "    hess_vec_prod.count = 0\n",
    "    if verbose and rank == 0: print(\"Rank %d: computing max eigenvalue\" % rank)\n",
    "\n",
    "    A = LinearOperator((N, N), matvec=hess_vec_prod)\n",
    "  \n",
    "    eigvals, eigvecs = eigsh(A, k=1, which='LM', tol=1e-2)\n",
    "    maxeig = eigvals[0]\n",
    "    maxeigvec = eigvecs\n",
    "    if verbose and rank == 0: print('max eigenvalue = %f' % maxeig)\n",
    "\n",
    "    # If the largest eigenvalue is positive, shift matrix so that any negative eigenvalue is now the largest\n",
    "    # We assume the smallest eigenvalue is zero or less, and so this shift is more than what we need\n",
    "    shift = maxeig*1.0\n",
    "    def shifted_hess_vec_prod(vec):\n",
    "        return hess_vec_prod(vec) - shift*vec\n",
    "\n",
    "    if verbose and rank == 0: print(\"Rank %d: Computing shifted eigenvalue\" % rank)\n",
    "\n",
    "    A = LinearOperator((N, N), matvec=shifted_hess_vec_prod)\n",
    "    eigvals, eigvecs = eigsh(A, k=1, which='LM', tol=1e-2)\n",
    "    eigvals = eigvals + shift\n",
    "    mineig = eigvals[0]\n",
    "    mineigvec = eigvecs\n",
    "    if verbose and rank == 0: print('min eigenvalue = ' + str(mineig))\n",
    "\n",
    "    if maxeig <= 0 and mineig > 0:\n",
    "        maxeig, mineig = mineig, maxeig\n",
    "        maxeig, mineig = mineigvec, maxeigvec\n",
    "\n",
    "    return maxeig, mineig, maxeigvec, mineigvec, hess_vec_prod.count"
   ]
  },
  {
   "cell_type": "code",
   "execution_count": 26,
   "metadata": {},
   "outputs": [],
   "source": [
    "### Defaults from OG implementation\n",
    "loss_func = torch.nn.MSELoss()\n",
    "func = copy.deepcopy(model)\n",
    "og_params = [i[1] for i in func.named_parameters() if len(i[1].size()) > 1]\n",
    "og_layer_names = [i[0] for i in func.named_parameters() if len(i[1].size())>1]"
   ]
  },
  {
   "cell_type": "markdown",
   "metadata": {},
   "source": [
    "## Loading and Formatting Eigenvectors"
   ]
  },
  {
   "cell_type": "code",
   "execution_count": 27,
   "metadata": {},
   "outputs": [
    {
     "data": {
      "text/plain": [
       "<All keys matched successfully>"
      ]
     },
     "execution_count": 27,
     "metadata": {},
     "output_type": "execute_result"
    }
   ],
   "source": [
    "model_eig_max = copy.deepcopy(func)\n",
    "model_eig_max.load_state_dict(torch.load('model_eig_max.pt', weights_only=True))\n",
    "model_eig_min = copy.deepcopy(func)\n",
    "model_eig_min.load_state_dict(torch.load('model_eig_min.pt', weights_only=True))"
   ]
  },
  {
   "cell_type": "markdown",
   "metadata": {},
   "source": [
    "# Create 2D Directed Loss Surface"
   ]
  },
  {
   "cell_type": "code",
   "execution_count": 28,
   "metadata": {},
   "outputs": [],
   "source": [
    "import loss_landscapes\n",
    "import loss_landscapes.metrics\n",
    "\n",
    "from loss_landscapes.model_interface.model_wrapper import ModelWrapper\n",
    "from abc import ABC, abstractmethod\n"
   ]
  },
  {
   "cell_type": "markdown",
   "metadata": {},
   "source": [
    "what is steps doing? \n",
    "\n",
    "what is distance doing? the distance is not referenced at all, seems like it is useless"
   ]
  },
  {
   "cell_type": "code",
   "execution_count": 29,
   "metadata": {},
   "outputs": [],
   "source": [
    "#DISTANCE = 0.7\n",
    "STEPS = 4"
   ]
  },
  {
   "cell_type": "code",
   "execution_count": 30,
   "metadata": {},
   "outputs": [],
   "source": [
    "# This is the custom model wrapper for the loss landscapes calculation\n",
    "class Metric(ABC):\n",
    "    \"\"\" A quantity that can be computed given a model or an agent. \"\"\"\n",
    "\n",
    "    def __init__(self):\n",
    "        super().__init__()\n",
    "\n",
    "    @abstractmethod\n",
    "    def __call__(self, model_wrapper: ModelWrapper):\n",
    "        pass\n",
    "\n",
    "class Loss(Metric):\n",
    "    \"\"\" Computes a specified loss function over specified input-output pairs. \"\"\"\n",
    "    def __init__(self, loss_fn, model, inputs: torch.Tensor, target: torch.Tensor):\n",
    "        super().__init__()\n",
    "        self.loss_fn = loss_fn\n",
    "        self.inputs = inputs\n",
    "        self.model = model\n",
    "        self.target = target\n",
    "\n",
    "    def __call__(self, model_wrapper: ModelWrapper) -> float:\n",
    "        outputs = model_wrapper.forward(self.inputs)\n",
    "        err = self.loss_fn(self.target[0], outputs)\n",
    "        return err"
   ]
  },
  {
   "cell_type": "markdown",
   "metadata": {},
   "source": [
    "for each sample in dataloader, compute losslandscape, and saves to a list\n",
    "\n",
    "the loss landscapes are computed by interpolating between original model and model_eig_max? \n",
    "\n",
    "then the loss landscapes end points are determined by how far the model was perturbed (the eigenvalue of eigenvector?)? \n",
    "\n",
    "essentially, the eigenvectors just show the direction of largest and smallest curvature, the magnitude of perturbation remains unknown right?"
   ]
  },
  {
   "cell_type": "code",
   "execution_count": 31,
   "metadata": {},
   "outputs": [
    {
     "name": "stderr",
     "output_type": "stream",
     "text": [
      "  0%|          | 0/3 [00:00<?, ?it/s]"
     ]
    },
    {
     "name": "stdout",
     "output_type": "stream",
     "text": [
      "True -1.670549988746643\n",
      "Predicted -1.6705148220062256\n",
      "MSE 1.2366996315904544e-09\n",
      "metric tensor(1.2367e-09, grad_fn=<MseLossBackward0>)\n"
     ]
    },
    {
     "name": "stderr",
     "output_type": "stream",
     "text": [
      " 33%|███▎      | 1/3 [00:05<00:11,  5.71s/it]"
     ]
    },
    {
     "name": "stdout",
     "output_type": "stream",
     "text": [
      "[[tensor(0.8022), tensor(1.8182), tensor(0.5814), tensor(0.1435)], [tensor(0.5055), tensor(2.5144), tensor(1.7775), tensor(0.2606)], [tensor(3.5973), tensor(1.9449), tensor(0.3497), tensor(0.2874)], [tensor(6.0164), tensor(5.1683), tensor(1.1671), tensor(31.1932)]]\n",
      "True -3.089329957962036\n",
      "Predicted -3.0892539024353027\n",
      "MSE 5.784443146694684e-09\n",
      "metric tensor(5.7844e-09, grad_fn=<MseLossBackward0>)\n"
     ]
    },
    {
     "name": "stderr",
     "output_type": "stream",
     "text": [
      " 67%|██████▋   | 2/3 [00:08<00:03,  3.91s/it]"
     ]
    },
    {
     "name": "stdout",
     "output_type": "stream",
     "text": [
      "[[tensor(3.1188), tensor(7.3875), tensor(4.7977), tensor(1.0401)], [tensor(2.2868), tensor(8.7435), tensor(7.7318), tensor(3.6870)], [tensor(11.2916), tensor(7.9008), tensor(3.3852), tensor(0.0004)], [tensor(15.4407), tensor(13.6260), tensor(5.2334), tensor(61.2820)]]\n",
      "True -0.39392998814582825\n",
      "Predicted -0.39383360743522644\n",
      "MSE 9.289241376109203e-09\n",
      "metric tensor(9.2892e-09, grad_fn=<MseLossBackward0>)\n"
     ]
    },
    {
     "name": "stderr",
     "output_type": "stream",
     "text": [
      "100%|██████████| 3/3 [00:10<00:00,  2.92s/it]"
     ]
    },
    {
     "name": "stdout",
     "output_type": "stream",
     "text": [
      "[[tensor(0.0380), tensor(0.0220), tensor(0.2538), tensor(2.8012)], [tensor(0.0976), tensor(0.2643), tensor(0.0130), tensor(0.6028)], [tensor(0.5198), tensor(0.0129), tensor(0.5145), tensor(3.6194)], [tensor(1.7335), tensor(0.9912), tensor(0.0220), tensor(40.1316)]]\n"
     ]
    },
    {
     "name": "stderr",
     "output_type": "stream",
     "text": [
      "100%|██████████| 3/3 [00:10<00:00,  3.56s/it]\n"
     ]
    }
   ],
   "source": [
    "loss_landscapes_list = []\n",
    "for i, batch in tqdm(enumerate(train_subset_dataloader), total=len(train_subset_dataloader)):\n",
    "    x_train = (batch[0].to(device), batch[1].to(device))\n",
    "    y_train = (batch[2].to(device))\n",
    "    metric = Loss(loss_func, func.eval(), x_train, y_train)\n",
    "\n",
    "    print('True', float(y_train))\n",
    "    print('Predicted',float(model(x_train)))\n",
    "    print('MSE',np.abs((float(y_train)-float(model(x_train))))**2)\n",
    "    print('metric', metric(func.eval()))\n",
    "\n",
    "\n",
    "    try:\n",
    "        loss_data_fin = loss_landscapes.planar_interpolation(\n",
    "            model_start=func.eval(), \n",
    "            model_end_one=model_eig_max.eval(),\n",
    "            model_end_two=model_eig_min.eval(),\n",
    "            metric=metric, steps=STEPS, deepcopy_model=True\n",
    "            )\n",
    "        ## TODO: ugly patch to convert array from torch.tensors to np.array\n",
    "        tmp_ll = []\n",
    "        for row in loss_data_fin:\n",
    "            tmp_row = []\n",
    "            for itm in row:\n",
    "                tmp_row.append(itm.detach().cpu().numpy())\n",
    "            tmp_ll.append(tmp_row)\n",
    "    except Exception as e:\n",
    "        print(e+'batch id: '+str(i))\n",
    "        # continue\n",
    "    loss_landscapes_list.append(np.expand_dims(np.array(tmp_ll), axis=2))\n",
    "\n",
    "\n",
    "\n",
    "    print(loss_data_fin)"
   ]
  },
  {
   "cell_type": "markdown",
   "metadata": {},
   "source": [
    "the loss landscape calculated is essentially a 2d square matrix, where entries are loss when the model is evaluated against one sample."
   ]
  },
  {
   "cell_type": "code",
   "execution_count": 32,
   "metadata": {},
   "outputs": [
    {
     "name": "stdout",
     "output_type": "stream",
     "text": [
      "(4, 4)\n"
     ]
    }
   ],
   "source": [
    "tmp = np.concatenate(loss_landscapes_list, axis=2) \n",
    "avg_loss_landscape = np.mean(tmp, axis=2) #averaging the loss landscape for all samples\n",
    "std_loss_landscape = np.std(tmp, axis=2)\n",
    "print(std_loss_landscape.shape)"
   ]
  },
  {
   "cell_type": "code",
   "execution_count": 33,
   "metadata": {},
   "outputs": [
    {
     "data": {
      "image/png": "[encoded data removed]",
      "text/plain": [
       "<Figure size 640x480 with 2 Axes>"
      ]
     },
     "metadata": {},
     "output_type": "display_data"
    }
   ],
   "source": [
    "save_fig_name = os.path.join('loss_contours.png')\n",
    "fig, ax = plt.subplots(1, 1)\n",
    "plt.contourf(np.log10(avg_loss_landscape), levels=50, cmap='jet')\n",
    "ax.set_title('Loss Contours in log scale \\n'+ r'$L(\\theta + \\alpha i + \\beta j$)')\n",
    "ax.axis('square')\n",
    "ax.set_xlabel(r'$\\alpha$')\n",
    "ax.set_ylabel(r'$\\beta$')\n",
    "plt.colorbar()\n",
    "fig.savefig(save_fig_name, transparent=True, dpi=300)\n",
    "plt.show()"
   ]
  },
  {
   "cell_type": "code",
   "execution_count": 34,
   "metadata": {},
   "outputs": [
    {
     "name": "stderr",
     "output_type": "stream",
     "text": [
      "100%|██████████| 3/3 [00:08<00:00,  2.99s/it]\n"
     ]
    }
   ],
   "source": [
    "test_loss_landscapes_list = []\n",
    "for i, batch in tqdm(enumerate(test_subset_dataloader), total=len(test_subset_dataloader)):\n",
    "    x_train = (batch[0].to(device), batch[1].to(device))\n",
    "    y_train = (batch[2].to(device))\n",
    "    metric = Loss(loss_func, func.eval(), x_train, y_train) #actually x_test,y_test but named differently\n",
    "    try:\n",
    "        loss_data_fin = loss_landscapes.planar_interpolation(\n",
    "            model_start=func.eval(), \n",
    "            model_end_one=model_eig_max.eval(),\n",
    "            model_end_two=model_eig_min.eval(),\n",
    "            metric=metric, steps=STEPS, deepcopy_model=True\n",
    "            )\n",
    "        ## TODO: ugly patch to convert array from torch.tensors to np.array\n",
    "        tmp_ll = []\n",
    "        for row in loss_data_fin:\n",
    "            tmp_row = []\n",
    "            for itm in row:\n",
    "                tmp_row.append(itm.detach().cpu().numpy())\n",
    "            tmp_ll.append(tmp_row)\n",
    "\n",
    "    except Exception as e:\n",
    "        print(e+'batch id: '+str(i))\n",
    "        # continue\n",
    "    test_loss_landscapes_list.append(np.expand_dims(np.array(tmp_ll), axis=2))"
   ]
  },
  {
   "cell_type": "code",
   "execution_count": 35,
   "metadata": {},
   "outputs": [],
   "source": [
    "tmp = np.concatenate(test_loss_landscapes_list, axis=2)\n",
    "test_avg_loss_landscape = np.mean(tmp, axis=2)\n",
    "test_std_loss_landscape = np.std(tmp, axis=2)"
   ]
  },
  {
   "cell_type": "code",
   "execution_count": 36,
   "metadata": {},
   "outputs": [
    {
     "data": {
      "image/png": "[encoded data removed]",
      "text/plain": [
       "<Figure size 640x480 with 2 Axes>"
      ]
     },
     "metadata": {},
     "output_type": "display_data"
    }
   ],
   "source": [
    "save_fig_name = os.path.join('loss_contours_test.png')\n",
    "fig, ax = plt.subplots(1, 1)\n",
    "plt.imshow(np.log10(test_avg_loss_landscape), cmap='jet', origin='lower')\n",
    "ax.set_title('Loss Contours \\n'+ r'$L(\\theta + \\alpha i + \\beta j$)')\n",
    "ax.set_xlabel(r'$\\alpha$')\n",
    "ax.set_ylabel(r'$\\beta$')\n",
    "plt.colorbar()\n",
    "fig.savefig(save_fig_name, transparent=True, dpi=300)\n",
    "plt.show()"
   ]
  },
  {
   "cell_type": "code",
   "execution_count": 37,
   "metadata": {},
   "outputs": [
    {
     "data": {
      "image/png": "[encoded data removed]",
      "text/plain": [
       "<Figure size 640x480 with 2 Axes>"
      ]
     },
     "metadata": {},
     "output_type": "display_data"
    }
   ],
   "source": [
    "fig, ax = plt.subplots(1, 1)\n",
    "plt.contourf(np.log10(test_avg_loss_landscape), levels=50, cmap='jet')\n",
    "ax.set_title('Loss Contours \\n'+ r'$L(\\theta + \\alpha i + \\beta j$)')\n",
    "ax.axis('square')\n",
    "ax.set_xlabel(r'$\\alpha$')\n",
    "ax.set_ylabel(r'$\\beta$')\n",
    "plt.colorbar()\n",
    "fig.savefig(save_fig_name, transparent=True, dpi=300)\n",
    "plt.show()"
   ]
  },
  {
   "cell_type": "code",
   "execution_count": 38,
   "metadata": {},
   "outputs": [
    {
     "name": "stdout",
     "output_type": "stream",
     "text": [
      "0 1\n",
      "0 2\n",
      "0 3\n",
      "0 4\n",
      "1 4\n",
      "1 3\n",
      "1 2\n",
      "1 1\n",
      "1 0\n",
      "2 0\n",
      "2 1\n",
      "2 2\n",
      "2 3\n",
      "2 4\n",
      "3 4\n",
      "3 3\n",
      "3 2\n",
      "3 1\n",
      "3 0\n",
      "4 0\n"
     ]
    }
   ],
   "source": [
    "x=0\n",
    "y=0\n",
    "\n",
    "for i in range(4):\n",
    "        data_column = []\n",
    "\n",
    "        for j in range(4):\n",
    "            # for every other column, reverse the order in which the column is generated\n",
    "            # so you can easily use in-place operations to move along dir_two\n",
    "\n",
    "            if i % 2 == 0:\n",
    "                y+= 1\n",
    "\n",
    "                #start_point.add_(dir_two)\n",
    "                print(x,y)\n",
    "                #data_column.append(metric(model_start_wrapper))\n",
    "            else:\n",
    "                #start_point.sub_(dir_two)\n",
    "                #data_column.insert(0, metric(model_start_wrapper))\n",
    "                y-=1\n",
    "                print(x,y)\n",
    "\n",
    "        #data_matrix.append(data_column)\n",
    "        #start_point.add_(dir_one)\n",
    "        x+= 1\n",
    "        print(x,y)"
   ]
  }
 ],
 "metadata": {
  "kernelspec": {
   "display_name": "Python 3",
   "language": "python",
   "name": "python3"
  },
  "language_info": {
   "codemirror_mode": {
    "name": "ipython",
    "version": 3
   },
   "file_extension": ".py",
   "mimetype": "text/x-python",
   "name": "python",
   "nbconvert_exporter": "python",
   "pygments_lexer": "ipython3",
   "version": "3.10.0"
  }
 },
 "nbformat": 4,
 "nbformat_minor": 2
}
