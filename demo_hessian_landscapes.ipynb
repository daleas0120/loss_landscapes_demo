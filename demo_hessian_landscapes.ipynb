{
 "cells": [
  {
   "cell_type": "markdown",
   "metadata": {},
   "source": [
    "# Implement Hessian Loss Landscapes\n",
    "\n",
    "Ashley S. Dale\n",
    "\n",
    "Notebook loads a pretrained ALIGNN model, and calculates the loss landscape using Hessian directions\n",
    "\n",
    "\n",
    "- Relevant paper: [*Visualizing high-dimensional loss landscapes with Hessian directions* by Bottcher and Wheeler](https://iopscience.iop.org/article/10.1088/1742-5468/ad13fc/meta)\n",
    "\n",
    "---\n",
    "Notebook Outline:\n",
    "\n",
    "0. Select and load trained model and data\n",
    "\n",
    "0. Generate a set of predictions for the data\n",
    "\n",
    "0. Select a subset of well predicted instances to be \"In Distribution\" (ID) based on the z-score of the prediction error, where low z-score represents well predicted and therefore in-distribution\n",
    "\n",
    "0. Select a subset of poorly predicted instances to be \"Out of Distribution\" (OOD) based on the z-score of the prediction error, where a high z-score represents poorly predicted and therefore out-of-distribution\n",
    "\n",
    "0. Calculate the eigenvectors of the model's Hessian using the Hessian Vector Product\n",
    "\n",
    "0. Format two of the Hessians as two new models. These models will define the coordinate axes of the loss landscape\n",
    "\n",
    "0. Calculate the loss landscape using the original model as the origin, and the models generated from the eigenvectors of the Hessian as the two directions in which the original model is perturbed. Repeat this twice for the ID and OOD datasets.\n"
   ]
  },
  {
   "cell_type": "code",
   "execution_count": 37,
   "metadata": {},
   "outputs": [
    {
     "name": "stdout",
     "output_type": "stream",
     "text": [
      "Requirement already satisfied: torchdiffeq in /Users/ashley/miniconda/envs/loss_landscapes_demo/lib/python3.10/site-packages (0.2.5)\n",
      "Requirement already satisfied: torch>=1.5.0 in /Users/ashley/miniconda/envs/loss_landscapes_demo/lib/python3.10/site-packages (from torchdiffeq) (2.3.1.post101)\n",
      "Requirement already satisfied: scipy>=1.4.0 in /Users/ashley/miniconda/envs/loss_landscapes_demo/lib/python3.10/site-packages (from torchdiffeq) (1.14.1)\n",
      "Requirement already satisfied: numpy<2.3,>=1.23.5 in /Users/ashley/miniconda/envs/loss_landscapes_demo/lib/python3.10/site-packages (from scipy>=1.4.0->torchdiffeq) (1.26.4)\n",
      "Requirement already satisfied: filelock in /Users/ashley/miniconda/envs/loss_landscapes_demo/lib/python3.10/site-packages (from torch>=1.5.0->torchdiffeq) (3.16.1)\n",
      "Requirement already satisfied: typing-extensions>=4.8.0 in /Users/ashley/miniconda/envs/loss_landscapes_demo/lib/python3.10/site-packages (from torch>=1.5.0->torchdiffeq) (4.12.2)\n",
      "Requirement already satisfied: sympy in /Users/ashley/miniconda/envs/loss_landscapes_demo/lib/python3.10/site-packages (from torch>=1.5.0->torchdiffeq) (1.13.3)\n",
      "Requirement already satisfied: networkx in /Users/ashley/miniconda/envs/loss_landscapes_demo/lib/python3.10/site-packages (from torch>=1.5.0->torchdiffeq) (3.3)\n",
      "Requirement already satisfied: jinja2 in /Users/ashley/miniconda/envs/loss_landscapes_demo/lib/python3.10/site-packages (from torch>=1.5.0->torchdiffeq) (3.1.4)\n",
      "Requirement already satisfied: fsspec in /Users/ashley/miniconda/envs/loss_landscapes_demo/lib/python3.10/site-packages (from torch>=1.5.0->torchdiffeq) (2024.9.0)\n",
      "Requirement already satisfied: MarkupSafe>=2.0 in /Users/ashley/miniconda/envs/loss_landscapes_demo/lib/python3.10/site-packages (from jinja2->torch>=1.5.0->torchdiffeq) (3.0.1)\n",
      "Requirement already satisfied: mpmath<1.4,>=1.1.0 in /Users/ashley/miniconda/envs/loss_landscapes_demo/lib/python3.10/site-packages (from sympy->torch>=1.5.0->torchdiffeq) (1.3.0)\n"
     ]
    }
   ],
   "source": [
    "## For the hessian calculation, these additional packages should be installed\n",
    "!pip install torchdiffeq"
   ]
  },
  {
   "cell_type": "code",
   "execution_count": 38,
   "metadata": {},
   "outputs": [],
   "source": [
    "import copy\n",
    "import torch\n",
    "import glob\n",
    "import json\n",
    "\n",
    "import numpy as np\n",
    "from tqdm import tqdm\n",
    "# import seaborn as sns\n",
    "import matplotlib.pyplot as plt\n",
    "from pandas import DataFrame\n",
    "\n",
    "import ipywidgets as widgets\n",
    "from torchinfo import summary\n",
    "from pymatgen.core.periodic_table import Element\n",
    "from collections import OrderedDict\n",
    "\n",
    "import alignn\n",
    "from alignn.pretrained import *\n",
    "from jarvis.db.figshare import data\n",
    "from jarvis.db.figshare import data\n",
    "from jarvis.db.jsonutils import loadjson\n",
    "\n",
    "import loss_landscapes\n",
    "import loss_landscapes.metrics\n",
    "from loss_landscapes.model_interface.model_wrapper import ModelWrapper\n",
    "from abc import ABC, abstractmethod\n",
    "\n",
    "from src.utils import *"
   ]
  },
  {
   "cell_type": "code",
   "execution_count": 39,
   "metadata": {},
   "outputs": [],
   "source": [
    "device = 'cpu'"
   ]
  },
  {
   "cell_type": "markdown",
   "metadata": {},
   "source": [
    "# Load Model"
   ]
  },
  {
   "cell_type": "code",
   "execution_count": 4,
   "metadata": {},
   "outputs": [],
   "source": [
    "list_of_pretrained_models = list(get_all_models().keys())"
   ]
  },
  {
   "cell_type": "markdown",
   "metadata": {},
   "source": [
    "-> Select the `jv_formation_energy_peratom_alignn` model for the demo"
   ]
  },
  {
   "cell_type": "code",
   "execution_count": 5,
   "metadata": {},
   "outputs": [
    {
     "data": {
      "application/vnd.jupyter.widget-view+json": {
       "model_id": "47b97cd38d994b50aedc010f4c5ed2da",
       "version_major": 2,
       "version_minor": 0
      },
      "text/plain": [
       "Dropdown(description='Select Model', options=('jv_formation_energy_peratom_alignn', 'jv_optb88vdw_total_energy…"
      ]
     },
     "metadata": {},
     "output_type": "display_data"
    }
   ],
   "source": [
    "style = {'description_width': 'initial'}\n",
    "\n",
    "config_selector = widgets.Dropdown(\n",
    "    options=list_of_pretrained_models,\n",
    "    value=None,\n",
    "    description='Select Model',\n",
    "    style=style,\n",
    "    disabled=False,\n",
    ")\n",
    "\n",
    "display(config_selector)"
   ]
  },
  {
   "cell_type": "code",
   "execution_count": 6,
   "metadata": {},
   "outputs": [
    {
     "name": "stdout",
     "output_type": "stream",
     "text": [
      "Selected:  jv_formation_energy_peratom_alignn\n"
     ]
    }
   ],
   "source": [
    "# This is the model we will load\n",
    "model_name = config_selector.value\n",
    "print(\"Selected: \", model_name)"
   ]
  },
  {
   "cell_type": "code",
   "execution_count": 7,
   "metadata": {},
   "outputs": [
    {
     "name": "stdout",
     "output_type": "stream",
     "text": [
      "Using chk file jv_formation_energy_peratom_alignn/checkpoint_300.pt from  ['jv_formation_energy_peratom_alignn/checkpoint_300.pt']\n",
      "Path /Users/ashley/miniconda/envs/loss_landscapes_demo/lib/python3.10/site-packages/alignn/jv_formation_energy_peratom_alignn.zip\n",
      "Config /Users/ashley/AUTODIAL/loss_landscapes_demo/jv_formation_energy_peratom_alignn/config.json\n"
     ]
    }
   ],
   "source": [
    "model = get_figshare_model(model_name)\n",
    "model.to(device)\n",
    "_ = model.eval()"
   ]
  },
  {
   "cell_type": "code",
   "execution_count": 9,
   "metadata": {},
   "outputs": [],
   "source": [
    "model_wt_dict = OrderedDict([i for i in model.named_parameters()])"
   ]
  },
  {
   "cell_type": "code",
   "execution_count": 10,
   "metadata": {},
   "outputs": [
    {
     "data": {
      "text/plain": [
       "=================================================================\n",
       "Layer (type:depth-idx)                   Param #\n",
       "=================================================================\n",
       "ALIGNN                                   --\n",
       "├─MLPLayer: 1-1                          --\n",
       "│    └─Sequential: 2-1                   --\n",
       "│    │    └─Linear: 3-1                  23,808\n",
       "│    │    └─BatchNorm1d: 3-2             512\n",
       "│    │    └─SiLU: 3-3                    --\n",
       "├─Sequential: 1-2                        --\n",
       "│    └─RBFExpansion: 2-2                 --\n",
       "│    └─MLPLayer: 2-3                     --\n",
       "│    │    └─Sequential: 3-4              5,312\n",
       "│    └─MLPLayer: 2-4                     --\n",
       "│    │    └─Sequential: 3-5              17,152\n",
       "├─Sequential: 1-3                        --\n",
       "│    └─RBFExpansion: 2-5                 --\n",
       "│    └─MLPLayer: 2-6                     --\n",
       "│    │    └─Sequential: 3-6              2,752\n",
       "│    └─MLPLayer: 2-7                     --\n",
       "│    │    └─Sequential: 3-7              17,152\n",
       "├─ModuleList: 1-4                        --\n",
       "│    └─ALIGNNConv: 2-8                   --\n",
       "│    │    └─EdgeGatedGraphConv: 3-8      329,984\n",
       "│    │    └─EdgeGatedGraphConv: 3-9      329,984\n",
       "│    └─ALIGNNConv: 2-9                   --\n",
       "│    │    └─EdgeGatedGraphConv: 3-10     329,984\n",
       "│    │    └─EdgeGatedGraphConv: 3-11     329,984\n",
       "│    └─ALIGNNConv: 2-10                  --\n",
       "│    │    └─EdgeGatedGraphConv: 3-12     329,984\n",
       "│    │    └─EdgeGatedGraphConv: 3-13     329,984\n",
       "│    └─ALIGNNConv: 2-11                  --\n",
       "│    │    └─EdgeGatedGraphConv: 3-14     329,984\n",
       "│    │    └─EdgeGatedGraphConv: 3-15     329,984\n",
       "├─ModuleList: 1-5                        --\n",
       "│    └─EdgeGatedGraphConv: 2-12          --\n",
       "│    │    └─Linear: 3-16                 65,792\n",
       "│    │    └─Linear: 3-17                 65,792\n",
       "│    │    └─Linear: 3-18                 65,792\n",
       "│    │    └─BatchNorm1d: 3-19            512\n",
       "│    │    └─Linear: 3-20                 65,792\n",
       "│    │    └─Linear: 3-21                 65,792\n",
       "│    │    └─BatchNorm1d: 3-22            512\n",
       "│    └─EdgeGatedGraphConv: 2-13          --\n",
       "│    │    └─Linear: 3-23                 65,792\n",
       "│    │    └─Linear: 3-24                 65,792\n",
       "│    │    └─Linear: 3-25                 65,792\n",
       "│    │    └─BatchNorm1d: 3-26            512\n",
       "│    │    └─Linear: 3-27                 65,792\n",
       "│    │    └─Linear: 3-28                 65,792\n",
       "│    │    └─BatchNorm1d: 3-29            512\n",
       "│    └─EdgeGatedGraphConv: 2-14          --\n",
       "│    │    └─Linear: 3-30                 65,792\n",
       "│    │    └─Linear: 3-31                 65,792\n",
       "│    │    └─Linear: 3-32                 65,792\n",
       "│    │    └─BatchNorm1d: 3-33            512\n",
       "│    │    └─Linear: 3-34                 65,792\n",
       "│    │    └─Linear: 3-35                 65,792\n",
       "│    │    └─BatchNorm1d: 3-36            512\n",
       "│    └─EdgeGatedGraphConv: 2-15          --\n",
       "│    │    └─Linear: 3-37                 65,792\n",
       "│    │    └─Linear: 3-38                 65,792\n",
       "│    │    └─Linear: 3-39                 65,792\n",
       "│    │    └─BatchNorm1d: 3-40            512\n",
       "│    │    └─Linear: 3-41                 65,792\n",
       "│    │    └─Linear: 3-42                 65,792\n",
       "│    │    └─BatchNorm1d: 3-43            512\n",
       "├─AvgPooling: 1-6                        --\n",
       "├─AvgPooling: 1-7                        --\n",
       "├─Linear: 1-8                            257\n",
       "=================================================================\n",
       "Total params: 4,026,753\n",
       "Trainable params: 4,026,753\n",
       "Non-trainable params: 0\n",
       "================================================================="
      ]
     },
     "execution_count": 10,
     "metadata": {},
     "output_type": "execute_result"
    }
   ],
   "source": [
    "summary(model)"
   ]
  },
  {
   "cell_type": "markdown",
   "metadata": {},
   "source": [
    "# Load Data"
   ]
  },
  {
   "cell_type": "code",
   "execution_count": 11,
   "metadata": {},
   "outputs": [],
   "source": [
    "# target = 'optb88vdw_bandgap'\n",
    "target = 'formation_energy_peratom'\n",
    "n_samples = 200\n",
    "element_to_omit_from_training_data = 'Fe'"
   ]
  },
  {
   "cell_type": "code",
   "execution_count": 12,
   "metadata": {},
   "outputs": [
    {
     "name": "stdout",
     "output_type": "stream",
     "text": [
      "Obtaining 3D dataset 76k ...\n",
      "Reference:https://www.nature.com/articles/s41524-020-00440-1\n",
      "Other versions:https://doi.org/10.6084/m9.figshare.6815699\n",
      "Loading the zipfile...\n",
      "Loading completed.\n",
      "num train samples: 186\n",
      "num test samples: 14\n"
     ]
    }
   ],
   "source": [
    "d = data(\"dft_3d\")\n",
    "d = d[:n_samples]\n",
    "dataset = DataFrame(copy.deepcopy(d))\n",
    "atoms_df = DataFrame(list(DataFrame(d)['atoms']))\n",
    "dataset = pd.concat([dataset, atoms_df], axis=1)\n",
    "train_idx, test_idx = get_split(dataset, 'elements', element_to_omit_from_training_data)\n",
    "print('num train samples: '+ str(len(train_idx)))\n",
    "print('num test samples: '+ str(len(test_idx)))"
   ]
  },
  {
   "cell_type": "code",
   "execution_count": 13,
   "metadata": {},
   "outputs": [
    {
     "name": "stdout",
     "output_type": "stream",
     "text": [
      "data range 2.71694 -3.53591\n",
      "Converting to graphs!\n"
     ]
    },
    {
     "name": "stderr",
     "output_type": "stream",
     "text": [
      "100%|██████████| 186/186 [00:03<00:00, 47.75it/s]\n"
     ]
    },
    {
     "name": "stdout",
     "output_type": "stream",
     "text": [
      "df                                                  atoms     prop  jid\n",
      "0    {'lattice_mat': [[3.566933224304235, 0.0, -0.0... -0.42762    0\n",
      "1    {'lattice_mat': [[4.089078911208881, 0.0, 0.0]... -0.41596    1\n",
      "2    {'lattice_mat': [[-1.833590720595598, 1.833590...  0.04847    2\n",
      "3    {'lattice_mat': [[7.2963518353359165, 0.0, 0.0... -0.44140    3\n",
      "4    {'lattice_mat': [[1.6777483798834445, -2.90594... -0.71026    4\n",
      "..                                                 ...      ...  ...\n",
      "181  {'lattice_mat': [[3.5901111032581614, 0.0, 0.0... -0.39393  181\n",
      "182  {'lattice_mat': [[3.8231338005011324, 0.0, 0.0... -0.19644  182\n",
      "183  {'lattice_mat': [[5.343771579767017, 3.1726511... -2.63322  183\n",
      "184  {'lattice_mat': [[2.790143252692178, -2.680152... -1.55369  184\n",
      "185  {'lattice_mat': [[2.851156779425013, 0.0, -0.0... -2.49145  185\n",
      "\n",
      "[186 rows x 3 columns]\n",
      "warning: could not load CGCNN features for 103\n",
      "Setting it to max atomic number available here, 103\n",
      "warning: could not load CGCNN features for 101\n",
      "Setting it to max atomic number available here, 103\n",
      "warning: could not load CGCNN features for 102\n",
      "Setting it to max atomic number available here, 103\n",
      "building line graphs\n"
     ]
    },
    {
     "name": "stderr",
     "output_type": "stream",
     "text": [
      "100%|██████████| 186/186 [00:00<00:00, 1295.82it/s]\n"
     ]
    }
   ],
   "source": [
    "train_data = [d[idx] for idx in train_idx.to_list()]\n",
    "train_dataloader = get_data_loader(train_data, target, workers=0)"
   ]
  },
  {
   "cell_type": "markdown",
   "metadata": {},
   "source": [
    "# Predicting on Test and Train Data"
   ]
  },
  {
   "cell_type": "code",
   "execution_count": 14,
   "metadata": {},
   "outputs": [
    {
     "name": "stderr",
     "output_type": "stream",
     "text": [
      "100%|██████████| 186/186 [00:16<00:00, 11.13it/s]\n"
     ]
    }
   ],
   "source": [
    "model_train_predictions = []\n",
    "original_train_targets = []\n",
    "for s in tqdm(train_dataloader):\n",
    "    original_train_targets.append(s[2].detach().numpy()[0])\n",
    "    y_pred = np.expand_dims(model([s[0].to(device), s[1].to(device)]).detach().numpy(), axis=0)[0]\n",
    "    model_train_predictions.append(y_pred)"
   ]
  },
  {
   "cell_type": "code",
   "execution_count": 15,
   "metadata": {},
   "outputs": [
    {
     "name": "stdout",
     "output_type": "stream",
     "text": [
      "data range 0.12011 -2.4143\n",
      "Converting to graphs!\n"
     ]
    },
    {
     "name": "stderr",
     "output_type": "stream",
     "text": [
      "100%|██████████| 14/14 [00:00<00:00, 42.55it/s]\n"
     ]
    },
    {
     "name": "stdout",
     "output_type": "stream",
     "text": [
      "df                                                 atoms     prop jid\n",
      "0   {'lattice_mat': [[3.790914410660539, -0.0, 0.0... -2.07159   0\n",
      "1   {'lattice_mat': [[4.927781968323723, -0.0, 0.0... -1.78124   1\n",
      "2   {'lattice_mat': [[4.839493559425439, 9.7116505... -1.66274   2\n",
      "3   {'lattice_mat': [[5.464512229851642, 0.0, -2.0... -0.93989   3\n",
      "4   {'lattice_mat': [[4.078736102710052, 0.3455178...  0.07844   4\n",
      "5   {'lattice_mat': [[2.80754625599962, 0.0, 0.0],... -2.41430   5\n",
      "6   {'lattice_mat': [[2.719421627743509, 4.2176232... -1.99266   6\n",
      "7   {'lattice_mat': [[4.857428829340624, 0.0, 0.0]... -2.22845   7\n",
      "8   {'lattice_mat': [[1.413929176152854, -2.448997... -2.23094   8\n",
      "9   {'lattice_mat': [[6.082481136762242, -0.039688...  0.12011   9\n",
      "10  {'lattice_mat': [[4.935947268149975, 0.0075616... -0.21301  10\n",
      "11  {'lattice_mat': [[4.293802725718504, 0.0, 0.0]... -1.39242  11\n",
      "12  {'lattice_mat': [[4.110215016104089, 0.0, 0.0]... -0.04638  12\n",
      "13  {'lattice_mat': [[6.93041047578813, 0.11598035... -1.97129  13\n",
      "building line graphs\n"
     ]
    },
    {
     "name": "stderr",
     "output_type": "stream",
     "text": [
      "100%|██████████| 14/14 [00:00<00:00, 1355.12it/s]\n",
      "100%|██████████| 14/14 [00:01<00:00, 10.99it/s]\n"
     ]
    }
   ],
   "source": [
    "test_data = [d[idx] for idx in test_idx.to_list()]\n",
    "test_dataloader = get_data_loader(test_data, target, workers=0)\n",
    "\n",
    "model_test_predictions = []\n",
    "original_test_targets = []\n",
    "for s in tqdm(test_dataloader):\n",
    "    original_test_targets.append(s[2].detach().numpy()[0])\n",
    "    y_pred = np.expand_dims(model([s[0].to(device), s[1].to(device)]).detach().numpy(), axis=0)[0]\n",
    "    model_test_predictions.append(y_pred)\n"
   ]
  },
  {
   "cell_type": "markdown",
   "metadata": {},
   "source": [
    "## Subselect Train Data Samples: Most ID (Minimum Error)"
   ]
  },
  {
   "cell_type": "code",
   "execution_count": 24,
   "metadata": {},
   "outputs": [],
   "source": [
    "train_df = pd.DataFrame(train_data)\n",
    "train_df['pred_val'] = model_train_predictions\n",
    "train_df['err'] = (train_df[target] - train_df['pred_val'])\n",
    "train_df['abs_err'] = np.abs(train_df[target] - train_df['pred_val'])\n",
    "train_df['z_score_err'] = (train_df['abs_err'] - np.mean(train_df['abs_err']))/np.std(train_df['abs_err'])"
   ]
  },
  {
   "cell_type": "code",
   "execution_count": 25,
   "metadata": {},
   "outputs": [
    {
     "data": {
      "text/html": [
       "<div>\n",
       "<style scoped>\n",
       "    .dataframe tbody tr th:only-of-type {\n",
       "        vertical-align: middle;\n",
       "    }\n",
       "\n",
       "    .dataframe tbody tr th {\n",
       "        vertical-align: top;\n",
       "    }\n",
       "\n",
       "    .dataframe thead th {\n",
       "        text-align: right;\n",
       "    }\n",
       "</style>\n",
       "<table border=\"1\" class=\"dataframe\">\n",
       "  <thead>\n",
       "    <tr style=\"text-align: right;\">\n",
       "      <th></th>\n",
       "      <th>jid</th>\n",
       "      <th>spg_number</th>\n",
       "      <th>spg_symbol</th>\n",
       "      <th>formula</th>\n",
       "      <th>formation_energy_peratom</th>\n",
       "      <th>func</th>\n",
       "      <th>optb88vdw_bandgap</th>\n",
       "      <th>atoms</th>\n",
       "      <th>slme</th>\n",
       "      <th>magmom_oszicar</th>\n",
       "      <th>...</th>\n",
       "      <th>bulk_modulus_kv</th>\n",
       "      <th>shear_modulus_gv</th>\n",
       "      <th>mbj_bandgap</th>\n",
       "      <th>hse_gap</th>\n",
       "      <th>reference</th>\n",
       "      <th>search</th>\n",
       "      <th>pred_val</th>\n",
       "      <th>err</th>\n",
       "      <th>abs_err</th>\n",
       "      <th>z_score_err</th>\n",
       "    </tr>\n",
       "  </thead>\n",
       "  <tbody>\n",
       "    <tr>\n",
       "      <th>0</th>\n",
       "      <td>JVASP-90856</td>\n",
       "      <td>129</td>\n",
       "      <td>P4/nmm</td>\n",
       "      <td>TiCuSiAs</td>\n",
       "      <td>-0.42762</td>\n",
       "      <td>OptB88vdW</td>\n",
       "      <td>0.000</td>\n",
       "      <td>{'lattice_mat': [[3.566933224304235, 0.0, -0.0...</td>\n",
       "      <td>na</td>\n",
       "      <td>0.0</td>\n",
       "      <td>...</td>\n",
       "      <td>na</td>\n",
       "      <td>na</td>\n",
       "      <td>na</td>\n",
       "      <td>na</td>\n",
       "      <td>mp-1080455</td>\n",
       "      <td>-As-Cu-Si-Ti</td>\n",
       "      <td>-0.429359</td>\n",
       "      <td>0.001739</td>\n",
       "      <td>0.001739</td>\n",
       "      <td>-0.240510</td>\n",
       "    </tr>\n",
       "    <tr>\n",
       "      <th>1</th>\n",
       "      <td>JVASP-86097</td>\n",
       "      <td>221</td>\n",
       "      <td>Pm-3m</td>\n",
       "      <td>DyB6</td>\n",
       "      <td>-0.41596</td>\n",
       "      <td>OptB88vdW</td>\n",
       "      <td>0.000</td>\n",
       "      <td>{'lattice_mat': [[4.089078911208881, 0.0, 0.0]...</td>\n",
       "      <td>na</td>\n",
       "      <td>0.0</td>\n",
       "      <td>...</td>\n",
       "      <td>na</td>\n",
       "      <td>na</td>\n",
       "      <td>na</td>\n",
       "      <td>na</td>\n",
       "      <td>mp-568319</td>\n",
       "      <td>-B-Dy</td>\n",
       "      <td>-0.417615</td>\n",
       "      <td>0.001655</td>\n",
       "      <td>0.001655</td>\n",
       "      <td>-0.243629</td>\n",
       "    </tr>\n",
       "    <tr>\n",
       "      <th>2</th>\n",
       "      <td>JVASP-64906</td>\n",
       "      <td>119</td>\n",
       "      <td>I-4m2</td>\n",
       "      <td>Be2OsRu</td>\n",
       "      <td>0.04847</td>\n",
       "      <td>OptB88vdW</td>\n",
       "      <td>0.000</td>\n",
       "      <td>{'lattice_mat': [[-1.833590720595598, 1.833590...</td>\n",
       "      <td>na</td>\n",
       "      <td>0.0</td>\n",
       "      <td>...</td>\n",
       "      <td>na</td>\n",
       "      <td>na</td>\n",
       "      <td>na</td>\n",
       "      <td>na</td>\n",
       "      <td>auid-3eaf68dd483bf4f4</td>\n",
       "      <td>-Be-Os-Ru</td>\n",
       "      <td>0.046013</td>\n",
       "      <td>0.002457</td>\n",
       "      <td>0.002457</td>\n",
       "      <td>-0.213743</td>\n",
       "    </tr>\n",
       "    <tr>\n",
       "      <th>3</th>\n",
       "      <td>JVASP-98225</td>\n",
       "      <td>14</td>\n",
       "      <td>P2_1/c</td>\n",
       "      <td>KBi</td>\n",
       "      <td>-0.44140</td>\n",
       "      <td>OptB88vdW</td>\n",
       "      <td>0.472</td>\n",
       "      <td>{'lattice_mat': [[7.2963518353359165, 0.0, 0.0...</td>\n",
       "      <td>na</td>\n",
       "      <td>0.0</td>\n",
       "      <td>...</td>\n",
       "      <td>na</td>\n",
       "      <td>na</td>\n",
       "      <td>na</td>\n",
       "      <td>na</td>\n",
       "      <td>mp-31104</td>\n",
       "      <td>-Bi-K</td>\n",
       "      <td>-0.444024</td>\n",
       "      <td>0.002624</td>\n",
       "      <td>0.002624</td>\n",
       "      <td>-0.207545</td>\n",
       "    </tr>\n",
       "    <tr>\n",
       "      <th>4</th>\n",
       "      <td>JVASP-10</td>\n",
       "      <td>164</td>\n",
       "      <td>P-3m1</td>\n",
       "      <td>VSe2</td>\n",
       "      <td>-0.71026</td>\n",
       "      <td>OptB88vdW</td>\n",
       "      <td>0.000</td>\n",
       "      <td>{'lattice_mat': [[1.6777483798834445, -2.90594...</td>\n",
       "      <td>na</td>\n",
       "      <td>0.0</td>\n",
       "      <td>...</td>\n",
       "      <td>48.79</td>\n",
       "      <td>33.05</td>\n",
       "      <td>0.0</td>\n",
       "      <td>na</td>\n",
       "      <td>mp-694</td>\n",
       "      <td>-Se-V</td>\n",
       "      <td>-0.713197</td>\n",
       "      <td>0.002937</td>\n",
       "      <td>0.002937</td>\n",
       "      <td>-0.195889</td>\n",
       "    </tr>\n",
       "    <tr>\n",
       "      <th>...</th>\n",
       "      <td>...</td>\n",
       "      <td>...</td>\n",
       "      <td>...</td>\n",
       "      <td>...</td>\n",
       "      <td>...</td>\n",
       "      <td>...</td>\n",
       "      <td>...</td>\n",
       "      <td>...</td>\n",
       "      <td>...</td>\n",
       "      <td>...</td>\n",
       "      <td>...</td>\n",
       "      <td>...</td>\n",
       "      <td>...</td>\n",
       "      <td>...</td>\n",
       "      <td>...</td>\n",
       "      <td>...</td>\n",
       "      <td>...</td>\n",
       "      <td>...</td>\n",
       "      <td>...</td>\n",
       "      <td>...</td>\n",
       "      <td>...</td>\n",
       "    </tr>\n",
       "    <tr>\n",
       "      <th>181</th>\n",
       "      <td>JVASP-86845</td>\n",
       "      <td>6</td>\n",
       "      <td>Pm</td>\n",
       "      <td>NaLi5N2</td>\n",
       "      <td>-0.39393</td>\n",
       "      <td>OptB88vdW</td>\n",
       "      <td>0.683</td>\n",
       "      <td>{'lattice_mat': [[3.5901111032581614, 0.0, 0.0...</td>\n",
       "      <td>na</td>\n",
       "      <td>0.0</td>\n",
       "      <td>...</td>\n",
       "      <td>na</td>\n",
       "      <td>na</td>\n",
       "      <td>na</td>\n",
       "      <td>na</td>\n",
       "      <td>mp-569525</td>\n",
       "      <td>-Li-N-Na</td>\n",
       "      <td>-0.393834</td>\n",
       "      <td>-0.000096</td>\n",
       "      <td>0.000096</td>\n",
       "      <td>-0.301687</td>\n",
       "    </tr>\n",
       "    <tr>\n",
       "      <th>182</th>\n",
       "      <td>JVASP-97500</td>\n",
       "      <td>62</td>\n",
       "      <td>Pnma</td>\n",
       "      <td>CoIN2O2</td>\n",
       "      <td>-0.19644</td>\n",
       "      <td>OptB88vdW</td>\n",
       "      <td>1.275</td>\n",
       "      <td>{'lattice_mat': [[3.8231338005011324, 0.0, 0.0...</td>\n",
       "      <td>na</td>\n",
       "      <td>0.0</td>\n",
       "      <td>...</td>\n",
       "      <td>na</td>\n",
       "      <td>na</td>\n",
       "      <td>na</td>\n",
       "      <td>na</td>\n",
       "      <td>mp-617167</td>\n",
       "      <td>-Co-I-N-O</td>\n",
       "      <td>-0.195089</td>\n",
       "      <td>-0.001351</td>\n",
       "      <td>0.001351</td>\n",
       "      <td>-0.254941</td>\n",
       "    </tr>\n",
       "    <tr>\n",
       "      <th>183</th>\n",
       "      <td>JVASP-52477</td>\n",
       "      <td>15</td>\n",
       "      <td>C2/c</td>\n",
       "      <td>Na2TiO3</td>\n",
       "      <td>-2.63322</td>\n",
       "      <td>OptB88vdW</td>\n",
       "      <td>3.235</td>\n",
       "      <td>{'lattice_mat': [[5.343771579767017, 3.1726511...</td>\n",
       "      <td>0.46</td>\n",
       "      <td>0.0</td>\n",
       "      <td>...</td>\n",
       "      <td>na</td>\n",
       "      <td>na</td>\n",
       "      <td>3.732</td>\n",
       "      <td>na</td>\n",
       "      <td>mp-752423</td>\n",
       "      <td>-Na-O-Ti</td>\n",
       "      <td>-2.621071</td>\n",
       "      <td>-0.012149</td>\n",
       "      <td>0.012149</td>\n",
       "      <td>0.147263</td>\n",
       "    </tr>\n",
       "    <tr>\n",
       "      <th>184</th>\n",
       "      <td>JVASP-15431</td>\n",
       "      <td>71</td>\n",
       "      <td>Immm</td>\n",
       "      <td>Li2CuO2</td>\n",
       "      <td>-1.55369</td>\n",
       "      <td>OptB88vdW</td>\n",
       "      <td>0.000</td>\n",
       "      <td>{'lattice_mat': [[2.790143252692178, -2.680152...</td>\n",
       "      <td>18.01</td>\n",
       "      <td>0.936</td>\n",
       "      <td>...</td>\n",
       "      <td>98.96</td>\n",
       "      <td>49.29</td>\n",
       "      <td>0.563</td>\n",
       "      <td>na</td>\n",
       "      <td>mp-4711</td>\n",
       "      <td>-Cu-Li-O</td>\n",
       "      <td>-1.554141</td>\n",
       "      <td>0.000451</td>\n",
       "      <td>0.000451</td>\n",
       "      <td>-0.288467</td>\n",
       "    </tr>\n",
       "    <tr>\n",
       "      <th>185</th>\n",
       "      <td>JVASP-48462</td>\n",
       "      <td>123</td>\n",
       "      <td>P4/mmm</td>\n",
       "      <td>Li3CoOF3</td>\n",
       "      <td>-2.49145</td>\n",
       "      <td>OptB88vdW</td>\n",
       "      <td>0.000</td>\n",
       "      <td>{'lattice_mat': [[2.851156779425013, 0.0, -0.0...</td>\n",
       "      <td>na</td>\n",
       "      <td>2.591</td>\n",
       "      <td>...</td>\n",
       "      <td>na</td>\n",
       "      <td>na</td>\n",
       "      <td>na</td>\n",
       "      <td>na</td>\n",
       "      <td>mp-764050</td>\n",
       "      <td>-Co-F-Li-O</td>\n",
       "      <td>-2.496467</td>\n",
       "      <td>0.005017</td>\n",
       "      <td>0.005017</td>\n",
       "      <td>-0.118398</td>\n",
       "    </tr>\n",
       "  </tbody>\n",
       "</table>\n",
       "<p>186 rows × 68 columns</p>\n",
       "</div>"
      ],
      "text/plain": [
       "             jid spg_number spg_symbol   formula  formation_energy_peratom  \\\n",
       "0    JVASP-90856        129     P4/nmm  TiCuSiAs                  -0.42762   \n",
       "1    JVASP-86097        221      Pm-3m      DyB6                  -0.41596   \n",
       "2    JVASP-64906        119      I-4m2   Be2OsRu                   0.04847   \n",
       "3    JVASP-98225         14     P2_1/c       KBi                  -0.44140   \n",
       "4       JVASP-10        164      P-3m1      VSe2                  -0.71026   \n",
       "..           ...        ...        ...       ...                       ...   \n",
       "181  JVASP-86845          6         Pm   NaLi5N2                  -0.39393   \n",
       "182  JVASP-97500         62       Pnma   CoIN2O2                  -0.19644   \n",
       "183  JVASP-52477         15       C2/c   Na2TiO3                  -2.63322   \n",
       "184  JVASP-15431         71       Immm   Li2CuO2                  -1.55369   \n",
       "185  JVASP-48462        123     P4/mmm  Li3CoOF3                  -2.49145   \n",
       "\n",
       "          func  optb88vdw_bandgap  \\\n",
       "0    OptB88vdW              0.000   \n",
       "1    OptB88vdW              0.000   \n",
       "2    OptB88vdW              0.000   \n",
       "3    OptB88vdW              0.472   \n",
       "4    OptB88vdW              0.000   \n",
       "..         ...                ...   \n",
       "181  OptB88vdW              0.683   \n",
       "182  OptB88vdW              1.275   \n",
       "183  OptB88vdW              3.235   \n",
       "184  OptB88vdW              0.000   \n",
       "185  OptB88vdW              0.000   \n",
       "\n",
       "                                                 atoms   slme magmom_oszicar  \\\n",
       "0    {'lattice_mat': [[3.566933224304235, 0.0, -0.0...     na            0.0   \n",
       "1    {'lattice_mat': [[4.089078911208881, 0.0, 0.0]...     na            0.0   \n",
       "2    {'lattice_mat': [[-1.833590720595598, 1.833590...     na            0.0   \n",
       "3    {'lattice_mat': [[7.2963518353359165, 0.0, 0.0...     na            0.0   \n",
       "4    {'lattice_mat': [[1.6777483798834445, -2.90594...     na            0.0   \n",
       "..                                                 ...    ...            ...   \n",
       "181  {'lattice_mat': [[3.5901111032581614, 0.0, 0.0...     na            0.0   \n",
       "182  {'lattice_mat': [[3.8231338005011324, 0.0, 0.0...     na            0.0   \n",
       "183  {'lattice_mat': [[5.343771579767017, 3.1726511...   0.46            0.0   \n",
       "184  {'lattice_mat': [[2.790143252692178, -2.680152...  18.01          0.936   \n",
       "185  {'lattice_mat': [[2.851156779425013, 0.0, -0.0...     na          2.591   \n",
       "\n",
       "     ... bulk_modulus_kv shear_modulus_gv mbj_bandgap  hse_gap  \\\n",
       "0    ...              na               na          na       na   \n",
       "1    ...              na               na          na       na   \n",
       "2    ...              na               na          na       na   \n",
       "3    ...              na               na          na       na   \n",
       "4    ...           48.79            33.05         0.0       na   \n",
       "..   ...             ...              ...         ...      ...   \n",
       "181  ...              na               na          na       na   \n",
       "182  ...              na               na          na       na   \n",
       "183  ...              na               na       3.732       na   \n",
       "184  ...           98.96            49.29       0.563       na   \n",
       "185  ...              na               na          na       na   \n",
       "\n",
       "                 reference        search  pred_val       err   abs_err  \\\n",
       "0               mp-1080455  -As-Cu-Si-Ti -0.429359  0.001739  0.001739   \n",
       "1                mp-568319         -B-Dy -0.417615  0.001655  0.001655   \n",
       "2    auid-3eaf68dd483bf4f4     -Be-Os-Ru  0.046013  0.002457  0.002457   \n",
       "3                 mp-31104         -Bi-K -0.444024  0.002624  0.002624   \n",
       "4                   mp-694         -Se-V -0.713197  0.002937  0.002937   \n",
       "..                     ...           ...       ...       ...       ...   \n",
       "181              mp-569525      -Li-N-Na -0.393834 -0.000096  0.000096   \n",
       "182              mp-617167     -Co-I-N-O -0.195089 -0.001351  0.001351   \n",
       "183              mp-752423      -Na-O-Ti -2.621071 -0.012149  0.012149   \n",
       "184                mp-4711      -Cu-Li-O -1.554141  0.000451  0.000451   \n",
       "185              mp-764050    -Co-F-Li-O -2.496467  0.005017  0.005017   \n",
       "\n",
       "    z_score_err  \n",
       "0     -0.240510  \n",
       "1     -0.243629  \n",
       "2     -0.213743  \n",
       "3     -0.207545  \n",
       "4     -0.195889  \n",
       "..          ...  \n",
       "181   -0.301687  \n",
       "182   -0.254941  \n",
       "183    0.147263  \n",
       "184   -0.288467  \n",
       "185   -0.118398  \n",
       "\n",
       "[186 rows x 68 columns]"
      ]
     },
     "execution_count": 25,
     "metadata": {},
     "output_type": "execute_result"
    }
   ],
   "source": [
    "train_df"
   ]
  },
  {
   "cell_type": "code",
   "execution_count": 33,
   "metadata": {},
   "outputs": [
    {
     "data": {
      "image/png": "[encoded data removed]",
      "text/plain": [
       "<Figure size 640x480 with 1 Axes>"
      ]
     },
     "metadata": {},
     "output_type": "display_data"
    }
   ],
   "source": [
    "ax = plt.hist(train_df['z_score_err'].values, bins=100)\n",
    "plt.title('Train Set Predictions (Omitting '+element_to_omit_from_training_data+')')\n",
    "plt.xlabel('Value')\n",
    "plt.ylabel('Count')\n",
    "plt.show()"
   ]
  },
  {
   "cell_type": "code",
   "execution_count": 27,
   "metadata": {},
   "outputs": [
    {
     "name": "stdout",
     "output_type": "stream",
     "text": [
      "data range 2.71694 -3.24073\n",
      "Converting to graphs!\n"
     ]
    },
    {
     "name": "stderr",
     "output_type": "stream",
     "text": [
      "100%|██████████| 50/50 [00:01<00:00, 44.42it/s]\n"
     ]
    },
    {
     "name": "stdout",
     "output_type": "stream",
     "text": [
      "df                                                 atoms     prop jid\n",
      "0   {'lattice_mat': [[4.328319117003372, 1.032103e... -1.67055   0\n",
      "1   {'lattice_mat': [[4.9619896140897275, -8.59441... -3.08933   1\n",
      "2   {'lattice_mat': [[3.5901111032581614, 0.0, 0.0... -0.39393   2\n",
      "3   {'lattice_mat': [[7.394501076210965, -1.65096e... -3.24073   3\n",
      "4   {'lattice_mat': [[-1.3980352047238305, 1.39803... -0.38954   4\n",
      "5   {'lattice_mat': [[10.725911963093319, 1.159968... -0.34176   5\n",
      "6   {'lattice_mat': [[-0.0, 4.981020994615496, 4.9...  0.65832   6\n",
      "7   {'lattice_mat': [[2.406036572951789, -4.167378... -0.32266   7\n",
      "8   {'lattice_mat': [[0.0, 5.104615296684174, 5.10...  0.35284   8\n",
      "9   {'lattice_mat': [[2.790143252692178, -2.680152... -1.55369   9\n",
      "10  {'lattice_mat': [[4.927229198330356, -0.0, -0.... -1.32124  10\n",
      "11  {'lattice_mat': [[-3.8661597507471313, -3.8661...  2.71694  11\n",
      "12  {'lattice_mat': [[4.376835486482439, 0.0086562... -0.00064  12\n",
      "13  {'lattice_mat': [[0.0, 4.93462224483416, 4.934...  0.72948  13\n",
      "14  {'lattice_mat': [[4.284492173131309, 1.636192e... -0.42539  14\n",
      "15  {'lattice_mat': [[4.441434772806991, 0.0, -0.0... -0.69108  15\n",
      "16  {'lattice_mat': [[1.6712283e-08, -2.5080296697...  0.00009  16\n",
      "17  {'lattice_mat': [[3.0485469223300163, -5.28023... -2.35056  17\n",
      "18  {'lattice_mat': [[5.194393535053021, 0.0345773... -2.05294  18\n",
      "19  {'lattice_mat': [[4.969881155398143, 0.0194294... -1.77785  19\n",
      "20  {'lattice_mat': [[6.616031795004235, -0.325058... -0.94178  20\n",
      "21  {'lattice_mat': [[-0.0, 4.968882560851638, 4.9...  0.89619  21\n",
      "22  {'lattice_mat': [[0.0, 4.870624015604939, 4.87...  1.08591  22\n",
      "23  {'lattice_mat': [[0.0, 4.203504163421703, 4.20...  1.56875  23\n",
      "24  {'lattice_mat': [[0.0, 5.160847896472875, 5.16...  0.16814  24\n",
      "25  {'lattice_mat': [[0.0, 4.997938104698138, 4.99...  0.06680  25\n",
      "26  {'lattice_mat': [[4.135686016799326, 0.0, -0.0... -2.55295  26\n",
      "27  {'lattice_mat': [[0.0, 5.073173447558598, 5.07...  0.34567  27\n",
      "28  {'lattice_mat': [[0.0, 4.932147596295076, 4.93...  1.14031  28\n",
      "29  {'lattice_mat': [[0.0, 4.938310978448495, 4.93...  0.81326  29\n",
      "30  {'lattice_mat': [[-0.0, 5.009648635443636, 5.0...  1.11213  30\n",
      "31  {'lattice_mat': [[3.2758766287144128, 2.332629... -2.48756  31\n",
      "32  {'lattice_mat': [[4.706274547749194, -2.102454... -0.43786  32\n",
      "33  {'lattice_mat': [[8.849291481858714, -0.0, 0.0... -0.65847  33\n",
      "34  {'lattice_mat': [[3.8231338005011324, 0.0, 0.0... -0.19644  34\n",
      "35  {'lattice_mat': [[0.0, 4.901572410735, 4.90157... -0.37497  35\n",
      "36  {'lattice_mat': [[7.122315103973059, -0.003460... -2.12573  36\n",
      "37  {'lattice_mat': [[0.0, 4.917242744246381, 4.91...  1.34150  37\n",
      "38  {'lattice_mat': [[4.089078911208881, 0.0, 0.0]... -0.41596  38\n",
      "39  {'lattice_mat': [[3.3918696020221466, 0.0, 9.7... -0.59624  39\n",
      "40  {'lattice_mat': [[0.0, 5.0107419999750915, 5.0...  0.55506  40\n",
      "41  {'lattice_mat': [[3.566933224304235, 0.0, -0.0... -0.42762  41\n",
      "42  {'lattice_mat': [[3.5689612560188775, 2.521885... -0.11943  42\n",
      "43  {'lattice_mat': [[4.086274992215878, 0.0, -0.6... -0.56642  43\n",
      "44  {'lattice_mat': [[3.6350229717557463, -0.0, 0....  0.35286  44\n",
      "45  {'lattice_mat': [[5.988612030541013, -0.257543... -1.94364  45\n",
      "46  {'lattice_mat': [[3.5058938597621094, -3.08124... -0.57639  46\n",
      "47  {'lattice_mat': [[-0.0, 4.964711491802463, 4.9...  0.53175  47\n",
      "48  {'lattice_mat': [[3.93712543178282, 0.0, 2.273... -1.35798  48\n",
      "49  {'lattice_mat': [[6.803084585982991, -0.212750... -0.76411  49\n",
      "building line graphs\n"
     ]
    },
    {
     "name": "stderr",
     "output_type": "stream",
     "text": [
      "100%|██████████| 50/50 [00:00<00:00, 1605.81it/s]\n"
     ]
    }
   ],
   "source": [
    "train_subset_df = train_df.nsmallest(50, 'z_score_err')\n",
    "train_subset_df_idx = train_subset_df.index.values.tolist()\n",
    "train_subset_list = [train_data[i] for i in train_subset_df_idx]\n",
    "train_subset_dataloader = get_data_loader(train_subset_list, target, workers=4)"
   ]
  },
  {
   "cell_type": "code",
   "execution_count": 23,
   "metadata": {},
   "outputs": [],
   "source": [
    "subset_train_x = []\n",
    "subset_train_y = []\n",
    "\n",
    "for i in train_subset_dataloader:\n",
    "    subset_train_x.append((i[0], i[1]))\n",
    "    subset_train_y.append(i[2])"
   ]
  },
  {
   "cell_type": "code",
   "execution_count": 28,
   "metadata": {},
   "outputs": [],
   "source": [
    "test_df = pd.DataFrame(test_data)\n",
    "test_df['pred_val'] = model_test_predictions\n",
    "test_df['err'] = (test_df[target] - test_df['pred_val'])\n",
    "test_df['abs_err'] = np.abs(test_df[target] - test_df['pred_val'])\n",
    "test_df['z_score_err'] = (test_df['abs_err'] - np.mean(train_df['abs_err']))/np.std(train_df['abs_err'])"
   ]
  },
  {
   "cell_type": "markdown",
   "metadata": {},
   "source": [
    "## Subselect Test Samples - Most OOD (Maximum Error)"
   ]
  },
  {
   "cell_type": "code",
   "execution_count": 29,
   "metadata": {},
   "outputs": [
    {
     "name": "stdout",
     "output_type": "stream",
     "text": [
      "data range 0.12011 -2.4143\n",
      "Converting to graphs!\n"
     ]
    },
    {
     "name": "stderr",
     "output_type": "stream",
     "text": [
      "100%|██████████| 14/14 [00:00<00:00, 36.51it/s]\n"
     ]
    },
    {
     "name": "stdout",
     "output_type": "stream",
     "text": [
      "df                                                 atoms     prop jid\n",
      "0   {'lattice_mat': [[3.790914410660539, -0.0, 0.0... -2.07159   0\n",
      "1   {'lattice_mat': [[4.110215016104089, 0.0, 0.0]... -0.04638   1\n",
      "2   {'lattice_mat': [[4.078736102710052, 0.3455178...  0.07844   2\n",
      "3   {'lattice_mat': [[6.082481136762242, -0.039688...  0.12011   3\n",
      "4   {'lattice_mat': [[4.293802725718504, 0.0, 0.0]... -1.39242   4\n",
      "5   {'lattice_mat': [[1.413929176152854, -2.448997... -2.23094   5\n",
      "6   {'lattice_mat': [[4.839493559425439, 9.7116505... -1.66274   6\n",
      "7   {'lattice_mat': [[4.927781968323723, -0.0, 0.0... -1.78124   7\n",
      "8   {'lattice_mat': [[2.80754625599962, 0.0, 0.0],... -2.41430   8\n",
      "9   {'lattice_mat': [[4.935947268149975, 0.0075616... -0.21301   9\n",
      "10  {'lattice_mat': [[5.464512229851642, 0.0, -2.0... -0.93989  10\n",
      "11  {'lattice_mat': [[4.857428829340624, 0.0, 0.0]... -2.22845  11\n",
      "12  {'lattice_mat': [[6.93041047578813, 0.11598035... -1.97129  12\n",
      "13  {'lattice_mat': [[2.719421627743509, 4.2176232... -1.99266  13\n",
      "building line graphs\n"
     ]
    },
    {
     "name": "stderr",
     "output_type": "stream",
     "text": [
      "100%|██████████| 14/14 [00:00<00:00, 1400.27it/s]\n"
     ]
    }
   ],
   "source": [
    "test_subset_df = test_df.nlargest(50, 'z_score_err')\n",
    "test_subset_df_idx = test_subset_df.index.values.tolist()\n",
    "test_subset_list = [test_data[i] for i in test_subset_df_idx]\n",
    "test_subset_dataloader = get_data_loader(test_subset_list, target, workers=4)"
   ]
  },
  {
   "cell_type": "code",
   "execution_count": 34,
   "metadata": {},
   "outputs": [
    {
     "data": {
      "image/png": "[encoded data removed]",
      "text/plain": [
       "<Figure size 640x480 with 1 Axes>"
      ]
     },
     "metadata": {},
     "output_type": "display_data"
    }
   ],
   "source": [
    "ax = plt.hist(test_df['z_score_err'].values, bins=100,)\n",
    "plt.title('Test Set Predictions (Exclusively '+element_to_omit_from_training_data+')')\n",
    "plt.xlabel('Value')\n",
    "plt.ylabel('Count')\n",
    "plt.show()"
   ]
  },
  {
   "cell_type": "markdown",
   "metadata": {},
   "source": [
    "# Getting the Hessian Eigenvectors"
   ]
  },
  {
   "cell_type": "code",
   "execution_count": 40,
   "metadata": {},
   "outputs": [],
   "source": [
    "from src import botcher_hessian as hess\n",
    "from src import botcher_utilities as util"
   ]
  },
  {
   "cell_type": "markdown",
   "metadata": {},
   "source": [
    "The following functions are copy-pasted from Botcher implementation.  I put them here so that I could debug more easily."
   ]
  },
  {
   "cell_type": "code",
   "execution_count": 41,
   "metadata": {},
   "outputs": [],
   "source": [
    "def npvec_to_tensorlist(vec, params):\n",
    "    \"\"\" Convert a numpy vector to a list of tensor with the same dimensions as params\n",
    "\n",
    "        Args:\n",
    "            vec: a 1D numpy vector\n",
    "            params: a list of parameters from net\n",
    "\n",
    "        Returns:\n",
    "            rval: a list of tensors with the same shape as params\n",
    "    \"\"\"\n",
    "    loc = 0\n",
    "    rval = []\n",
    "    for p in params:\n",
    "        numel = p.data.numel()\n",
    "        rval.append(torch.from_numpy(vec[loc:loc+numel]).view(p.data.shape).float())\n",
    "        loc += numel\n",
    "    assert loc == vec.size, 'The vector has more elements than the net has parameters'\n",
    "    return rval\n",
    "\n",
    "\n",
    "def gradtensor_to_npvec(net, all_params=True):\n",
    "    \"\"\" Extract gradients from net, and return a concatenated numpy vector.\n",
    "\n",
    "        Args:\n",
    "            net: trained model\n",
    "            all_params: If all_params, then gradients w.r.t. BN parameters and bias\n",
    "            values are also included. Otherwise only gradients with dim > 1 are considered.\n",
    "\n",
    "        Returns:\n",
    "            a concatenated numpy vector containing all gradients\n",
    "    \"\"\"\n",
    "    filter = lambda p: all_params or len(p.data.size()) > 1\n",
    "    return np.concatenate([p.grad.data.cpu().numpy().ravel() for p in net.parameters() if filter(p)])\n",
    "\n",
    "\n",
    "def eval_hess_vec_prod(vec, params, net, loss_func, inputs_dataloader, outputs, use_cuda=False):\n",
    "    from torch.autograd import Variable\n",
    "    \"\"\"\n",
    "    Evaluate product of the Hessian of the loss function with a direction vector \"vec\".\n",
    "    The product result is saved in the grad of net.\n",
    "\n",
    "    Args:\n",
    "        vec: a list of tensor with the same dimensions as \"params\".\n",
    "        params: the parameter list of the net (ignoring biases and BN parameters).\n",
    "        net: model with trained parameters.\n",
    "        criterion: loss function.\n",
    "        inputs: nn inputs.\n",
    "        outputs: desired nn outputs.\n",
    "        use_cuda: use GPU.\n",
    "    \"\"\"\n",
    "\n",
    "    if use_cuda:\n",
    "        net.cuda()\n",
    "        vec = [v.cuda() for v in vec]\n",
    "\n",
    "    net.eval()\n",
    "    net.zero_grad() # clears grad for every parameter in the net\n",
    "    \n",
    "    ### OG IMPLEMENTATION\n",
    "    # pred_outputs = net(inputs.unsqueeze(-1)).flatten()\n",
    "    # pred_outputs = net(inputs_dataloader)\n",
    "    loss = 0\n",
    "    for _, i in tqdm(enumerate(inputs_dataloader), total=len(inputs_dataloader)):\n",
    "        pred_outputs = net((i[0], i[1]))\n",
    "        outputs = i[2]\n",
    "        loss += loss_func(pred_outputs,outputs)\n",
    "    \n",
    "    loss = loss/len(inputs_dataloader)\n",
    "    grad_f = torch.autograd.grad(loss, inputs=params, create_graph=True, allow_unused=True)\n",
    "\n",
    "    # Compute inner product of gradient with the direction vector\n",
    "    prod = Variable(torch.zeros(1)).type(type(grad_f[0].data))\n",
    "\n",
    "    #for i in range(len(vec)):\n",
    "    tmp = []\n",
    "    for i in range(len(vec)):\n",
    "        if (grad_f[i] is not None) and (vec[i] is not None):\n",
    "            tmp.append((grad_f[i] * vec[i]).cpu().sum())\n",
    "    prod =+ sum(tmp)\n",
    "    # prod += sum([(grad_f[i] * vec[i]).cpu().sum() for i in range(len(vec))])\n",
    "\n",
    "    # Compute the Hessian-vector product, H*v\n",
    "    # prod.backward() computes dprod/dparams for every parameter in params and\n",
    "    # accumulate the gradients into the params.grad attributes\n",
    "    prod.backward()\n",
    "    "
   ]
  },
  {
   "cell_type": "code",
   "execution_count": 42,
   "metadata": {},
   "outputs": [],
   "source": [
    "def min_max_hessian_eigs(net, inputs, outputs, criterion, rank=0, use_cuda=False, verbose=False, all_params=True):\n",
    "    from scipy.sparse.linalg import LinearOperator, eigsh\n",
    "    import time\n",
    "    \"\"\"\n",
    "        Compute the largest and the smallest eigenvalues of the Hessian marix.\n",
    "\n",
    "        Args:\n",
    "            net: the trained model.\n",
    "            inputs: nn inputs.\n",
    "            outputs: desired nn outputs.\n",
    "            criterion: loss function.\n",
    "            rank: rank of the working node.\n",
    "            use_cuda: use GPU\n",
    "            verbose: print more information\n",
    "            all_params: use all nn parameters\n",
    "\n",
    "        Returns:\n",
    "            maxeig: max eigenvalue\n",
    "            mineig: min eigenvalue\n",
    "            hess_vec_prod.count: number of iterations for calculating max and min eigenvalues\n",
    "    \"\"\"\n",
    "    \n",
    "    if all_params:\n",
    "        params = [p for p in net.parameters()]\n",
    "    else:\n",
    "        params = [p for p in net.parameters() if len(p.size()) > 1]\n",
    "        \n",
    "    N = sum(p.numel() for p in params)\n",
    "\n",
    "    def hess_vec_prod(vec):\n",
    "        hess_vec_prod.count += 1  # simulates a static variable\n",
    "        vec = npvec_to_tensorlist(vec, params)\n",
    "        start_time = time.time()\n",
    "        eval_hess_vec_prod(vec, params, net, criterion, inputs, outputs, use_cuda)\n",
    "        prod_time = time.time() - start_time\n",
    "        if verbose and rank == 0: print(\"Iter: %d  time: %f\" % (hess_vec_prod.count, prod_time))\n",
    "        return gradtensor_to_npvec(net,all_params)\n",
    "        \n",
    "    hess_vec_prod.count = 0\n",
    "    if verbose and rank == 0: print(\"Rank %d: computing max eigenvalue\" % rank)\n",
    "\n",
    "    A = LinearOperator((N, N), matvec=hess_vec_prod)\n",
    "  \n",
    "    eigvals, eigvecs = eigsh(A, k=1, which='LM', tol=1e-2)\n",
    "    maxeig = eigvals[0]\n",
    "    maxeigvec = eigvecs\n",
    "    if verbose and rank == 0: print('max eigenvalue = %f' % maxeig)\n",
    "\n",
    "    # If the largest eigenvalue is positive, shift matrix so that any negative eigenvalue is now the largest\n",
    "    # We assume the smallest eigenvalue is zero or less, and so this shift is more than what we need\n",
    "    shift = maxeig*1.0\n",
    "    def shifted_hess_vec_prod(vec):\n",
    "        return hess_vec_prod(vec) - shift*vec\n",
    "\n",
    "    if verbose and rank == 0: print(\"Rank %d: Computing shifted eigenvalue\" % rank)\n",
    "\n",
    "    A = LinearOperator((N, N), matvec=shifted_hess_vec_prod)\n",
    "    eigvals, eigvecs = eigsh(A, k=1, which='LM', tol=1e-2)\n",
    "    eigvals = eigvals + shift\n",
    "    mineig = eigvals[0]\n",
    "    mineigvec = eigvecs\n",
    "    if verbose and rank == 0: print('min eigenvalue = ' + str(mineig))\n",
    "\n",
    "    if maxeig <= 0 and mineig > 0:\n",
    "        maxeig, mineig = mineig, maxeig\n",
    "        maxeig, mineig = mineigvec, maxeigvec\n",
    "\n",
    "    return maxeig, mineig, maxeigvec, mineigvec, hess_vec_prod.count"
   ]
  },
  {
   "cell_type": "code",
   "execution_count": 43,
   "metadata": {},
   "outputs": [],
   "source": [
    "### Defaults from OG implementation\n",
    "loss_func = torch.nn.MSELoss()\n",
    "func = copy.deepcopy(model)\n",
    "og_params = [i[1] for i in func.named_parameters() if len(i[1].size()) > 1]\n",
    "og_layer_names = [i[0] for i in func.named_parameters() if len(i[1].size())>1]"
   ]
  },
  {
   "cell_type": "markdown",
   "metadata": {},
   "source": [
    "This next cell calculates the eigenvectors, and can take considerable time (upwards of 40 minutes)"
   ]
  },
  {
   "cell_type": "code",
   "execution_count": 44,
   "metadata": {},
   "outputs": [
    {
     "name": "stderr",
     "output_type": "stream",
     "text": [
      "  0%|          | 0/50 [00:00<?, ?it/s]/Users/ashley/miniconda/envs/loss_landscapes_demo/lib/python3.10/site-packages/torch/nn/modules/loss.py:535: UserWarning: Using a target size (torch.Size([1])) that is different to the input size (torch.Size([])). This will likely lead to incorrect results due to broadcasting. Please ensure they have the same size.\n",
      "  return F.mse_loss(input, target, reduction=self.reduction)\n",
      "100%|██████████| 50/50 [00:06<00:00,  8.12it/s]\n",
      "100%|██████████| 50/50 [00:05<00:00,  8.69it/s]\n",
      "100%|██████████| 50/50 [00:06<00:00,  8.10it/s]\n",
      "100%|██████████| 50/50 [00:05<00:00,  8.61it/s]\n",
      "100%|██████████| 50/50 [00:05<00:00,  8.53it/s]\n",
      "100%|██████████| 50/50 [00:06<00:00,  8.25it/s]\n",
      "100%|██████████| 50/50 [00:06<00:00,  8.11it/s]\n",
      "100%|██████████| 50/50 [00:06<00:00,  8.01it/s]\n",
      "100%|██████████| 50/50 [00:05<00:00,  8.83it/s]\n",
      "100%|██████████| 50/50 [00:06<00:00,  7.32it/s]\n",
      "100%|██████████| 50/50 [00:05<00:00,  8.42it/s]\n",
      "100%|██████████| 50/50 [00:06<00:00,  8.31it/s]\n",
      "100%|██████████| 50/50 [00:05<00:00,  8.84it/s]\n",
      "100%|██████████| 50/50 [00:05<00:00,  8.55it/s]\n",
      "100%|██████████| 50/50 [00:11<00:00,  4.54it/s]\n",
      "100%|██████████| 50/50 [00:06<00:00,  7.63it/s]\n",
      "100%|██████████| 50/50 [00:05<00:00,  8.81it/s]\n",
      "100%|██████████| 50/50 [00:10<00:00,  4.95it/s]\n",
      "100%|██████████| 50/50 [00:06<00:00,  7.88it/s]\n",
      "100%|██████████| 50/50 [00:08<00:00,  5.88it/s]\n",
      "100%|██████████| 50/50 [00:06<00:00,  7.65it/s]\n",
      "100%|██████████| 50/50 [00:06<00:00,  7.27it/s]\n",
      "100%|██████████| 50/50 [00:06<00:00,  8.18it/s]\n",
      "100%|██████████| 50/50 [00:06<00:00,  7.47it/s]\n",
      "100%|██████████| 50/50 [00:07<00:00,  6.62it/s]\n",
      "100%|██████████| 50/50 [00:05<00:00,  8.35it/s]\n",
      "100%|██████████| 50/50 [00:09<00:00,  5.38it/s]\n",
      "100%|██████████| 50/50 [00:09<00:00,  5.45it/s]\n",
      "100%|██████████| 50/50 [00:09<00:00,  5.38it/s]\n",
      "100%|██████████| 50/50 [00:17<00:00,  2.88it/s]\n",
      "100%|██████████| 50/50 [00:11<00:00,  4.22it/s]\n",
      "100%|██████████| 50/50 [00:10<00:00,  4.65it/s]\n",
      "100%|██████████| 50/50 [00:13<00:00,  3.82it/s]\n",
      "100%|██████████| 50/50 [00:10<00:00,  4.98it/s]\n",
      "100%|██████████| 50/50 [00:06<00:00,  8.23it/s]\n",
      "100%|██████████| 50/50 [00:06<00:00,  8.32it/s]\n",
      "100%|██████████| 50/50 [00:05<00:00,  8.40it/s]\n",
      "100%|██████████| 50/50 [00:05<00:00,  8.39it/s]\n",
      "100%|██████████| 50/50 [00:05<00:00,  8.47it/s]\n",
      "100%|██████████| 50/50 [00:06<00:00,  8.15it/s]\n",
      "100%|██████████| 50/50 [00:06<00:00,  8.27it/s]\n",
      "100%|██████████| 50/50 [00:05<00:00,  8.43it/s]\n"
     ]
    }
   ],
   "source": [
    "maxeig, mineig, maxeigvec, mineigvec, num_iter = min_max_hessian_eigs(\n",
    "    func, train_subset_dataloader, subset_train_y, loss_func, all_params=False\n",
    "    )"
   ]
  },
  {
   "cell_type": "code",
   "execution_count": 45,
   "metadata": {},
   "outputs": [
    {
     "name": "stdout",
     "output_type": "stream",
     "text": [
      "26.774305 -1.4309676998891518e-08\n"
     ]
    }
   ],
   "source": [
    "print(maxeig, mineig)"
   ]
  },
  {
   "cell_type": "markdown",
   "metadata": {},
   "source": [
    "# Formatting as Two New Models"
   ]
  },
  {
   "cell_type": "code",
   "execution_count": 46,
   "metadata": {},
   "outputs": [],
   "source": [
    "max_model_wts = hess.npvec_to_tensorlist(maxeigvec, og_params)\n",
    "min_model_wts = hess.npvec_to_tensorlist(mineigvec, og_params)"
   ]
  },
  {
   "cell_type": "code",
   "execution_count": 47,
   "metadata": {},
   "outputs": [],
   "source": [
    "model_eig_max = copy.deepcopy(func)\n",
    "model_eig_min = copy.deepcopy(func)"
   ]
  },
  {
   "cell_type": "code",
   "execution_count": 49,
   "metadata": {},
   "outputs": [
    {
     "name": "stdout",
     "output_type": "stream",
     "text": [
      "_IncompatibleKeys(missing_keys=['atom_embedding.layer.1.running_mean', 'atom_embedding.layer.1.running_var', 'edge_embedding.0.centers', 'edge_embedding.1.layer.1.running_mean', 'edge_embedding.1.layer.1.running_var', 'edge_embedding.2.layer.1.running_mean', 'edge_embedding.2.layer.1.running_var', 'angle_embedding.0.centers', 'angle_embedding.1.layer.1.running_mean', 'angle_embedding.1.layer.1.running_var', 'angle_embedding.2.layer.1.running_mean', 'angle_embedding.2.layer.1.running_var', 'alignn_layers.0.node_update.bn_edges.running_mean', 'alignn_layers.0.node_update.bn_edges.running_var', 'alignn_layers.0.node_update.bn_nodes.running_mean', 'alignn_layers.0.node_update.bn_nodes.running_var', 'alignn_layers.0.edge_update.bn_edges.running_mean', 'alignn_layers.0.edge_update.bn_edges.running_var', 'alignn_layers.0.edge_update.bn_nodes.running_mean', 'alignn_layers.0.edge_update.bn_nodes.running_var', 'alignn_layers.1.node_update.bn_edges.running_mean', 'alignn_layers.1.node_update.bn_edges.running_var', 'alignn_layers.1.node_update.bn_nodes.running_mean', 'alignn_layers.1.node_update.bn_nodes.running_var', 'alignn_layers.1.edge_update.bn_edges.running_mean', 'alignn_layers.1.edge_update.bn_edges.running_var', 'alignn_layers.1.edge_update.bn_nodes.running_mean', 'alignn_layers.1.edge_update.bn_nodes.running_var', 'alignn_layers.2.node_update.bn_edges.running_mean', 'alignn_layers.2.node_update.bn_edges.running_var', 'alignn_layers.2.node_update.bn_nodes.running_mean', 'alignn_layers.2.node_update.bn_nodes.running_var', 'alignn_layers.2.edge_update.bn_edges.running_mean', 'alignn_layers.2.edge_update.bn_edges.running_var', 'alignn_layers.2.edge_update.bn_nodes.running_mean', 'alignn_layers.2.edge_update.bn_nodes.running_var', 'alignn_layers.3.node_update.bn_edges.running_mean', 'alignn_layers.3.node_update.bn_edges.running_var', 'alignn_layers.3.node_update.bn_nodes.running_mean', 'alignn_layers.3.node_update.bn_nodes.running_var', 'alignn_layers.3.edge_update.bn_edges.running_mean', 'alignn_layers.3.edge_update.bn_edges.running_var', 'alignn_layers.3.edge_update.bn_nodes.running_mean', 'alignn_layers.3.edge_update.bn_nodes.running_var', 'gcn_layers.0.bn_edges.running_mean', 'gcn_layers.0.bn_edges.running_var', 'gcn_layers.0.bn_nodes.running_mean', 'gcn_layers.0.bn_nodes.running_var', 'gcn_layers.1.bn_edges.running_mean', 'gcn_layers.1.bn_edges.running_var', 'gcn_layers.1.bn_nodes.running_mean', 'gcn_layers.1.bn_nodes.running_var', 'gcn_layers.2.bn_edges.running_mean', 'gcn_layers.2.bn_edges.running_var', 'gcn_layers.2.bn_nodes.running_mean', 'gcn_layers.2.bn_nodes.running_var', 'gcn_layers.3.bn_edges.running_mean', 'gcn_layers.3.bn_edges.running_var', 'gcn_layers.3.bn_nodes.running_mean', 'gcn_layers.3.bn_nodes.running_var'], unexpected_keys=[])\n",
      "_IncompatibleKeys(missing_keys=['atom_embedding.layer.1.running_mean', 'atom_embedding.layer.1.running_var', 'edge_embedding.0.centers', 'edge_embedding.1.layer.1.running_mean', 'edge_embedding.1.layer.1.running_var', 'edge_embedding.2.layer.1.running_mean', 'edge_embedding.2.layer.1.running_var', 'angle_embedding.0.centers', 'angle_embedding.1.layer.1.running_mean', 'angle_embedding.1.layer.1.running_var', 'angle_embedding.2.layer.1.running_mean', 'angle_embedding.2.layer.1.running_var', 'alignn_layers.0.node_update.bn_edges.running_mean', 'alignn_layers.0.node_update.bn_edges.running_var', 'alignn_layers.0.node_update.bn_nodes.running_mean', 'alignn_layers.0.node_update.bn_nodes.running_var', 'alignn_layers.0.edge_update.bn_edges.running_mean', 'alignn_layers.0.edge_update.bn_edges.running_var', 'alignn_layers.0.edge_update.bn_nodes.running_mean', 'alignn_layers.0.edge_update.bn_nodes.running_var', 'alignn_layers.1.node_update.bn_edges.running_mean', 'alignn_layers.1.node_update.bn_edges.running_var', 'alignn_layers.1.node_update.bn_nodes.running_mean', 'alignn_layers.1.node_update.bn_nodes.running_var', 'alignn_layers.1.edge_update.bn_edges.running_mean', 'alignn_layers.1.edge_update.bn_edges.running_var', 'alignn_layers.1.edge_update.bn_nodes.running_mean', 'alignn_layers.1.edge_update.bn_nodes.running_var', 'alignn_layers.2.node_update.bn_edges.running_mean', 'alignn_layers.2.node_update.bn_edges.running_var', 'alignn_layers.2.node_update.bn_nodes.running_mean', 'alignn_layers.2.node_update.bn_nodes.running_var', 'alignn_layers.2.edge_update.bn_edges.running_mean', 'alignn_layers.2.edge_update.bn_edges.running_var', 'alignn_layers.2.edge_update.bn_nodes.running_mean', 'alignn_layers.2.edge_update.bn_nodes.running_var', 'alignn_layers.3.node_update.bn_edges.running_mean', 'alignn_layers.3.node_update.bn_edges.running_var', 'alignn_layers.3.node_update.bn_nodes.running_mean', 'alignn_layers.3.node_update.bn_nodes.running_var', 'alignn_layers.3.edge_update.bn_edges.running_mean', 'alignn_layers.3.edge_update.bn_edges.running_var', 'alignn_layers.3.edge_update.bn_nodes.running_mean', 'alignn_layers.3.edge_update.bn_nodes.running_var', 'gcn_layers.0.bn_edges.running_mean', 'gcn_layers.0.bn_edges.running_var', 'gcn_layers.0.bn_nodes.running_mean', 'gcn_layers.0.bn_nodes.running_var', 'gcn_layers.1.bn_edges.running_mean', 'gcn_layers.1.bn_edges.running_var', 'gcn_layers.1.bn_nodes.running_mean', 'gcn_layers.1.bn_nodes.running_var', 'gcn_layers.2.bn_edges.running_mean', 'gcn_layers.2.bn_edges.running_var', 'gcn_layers.2.bn_nodes.running_mean', 'gcn_layers.2.bn_nodes.running_var', 'gcn_layers.3.bn_edges.running_mean', 'gcn_layers.3.bn_edges.running_var', 'gcn_layers.3.bn_nodes.running_mean', 'gcn_layers.3.bn_nodes.running_var'], unexpected_keys=[])\n"
     ]
    }
   ],
   "source": [
    "# There will be some incompatible keys due to the batch norm values\n",
    "# the original batch norm values will be retained\n",
    "model_eig_max = force_wts_into_model(og_layer_names, max_model_wts, model_eig_max,  model_wt_dict)\n",
    "model_eig_min = force_wts_into_model(og_layer_names, min_model_wts, model_eig_min,  model_wt_dict)"
   ]
  },
  {
   "cell_type": "markdown",
   "metadata": {},
   "source": [
    "# Create 2D Directed Loss Surface"
   ]
  },
  {
   "cell_type": "code",
   "execution_count": 50,
   "metadata": {},
   "outputs": [],
   "source": [
    "import loss_landscapes\n",
    "import loss_landscapes.metrics\n",
    "\n",
    "from loss_landscapes.model_interface.model_wrapper import ModelWrapper\n",
    "from abc import ABC, abstractmethod"
   ]
  },
  {
   "cell_type": "code",
   "execution_count": 51,
   "metadata": {},
   "outputs": [],
   "source": [
    "DISTANCE = 0.3\n",
    "STEPS = 40"
   ]
  },
  {
   "cell_type": "code",
   "execution_count": 52,
   "metadata": {},
   "outputs": [],
   "source": [
    "# This is the custom model wrapper for the loss landscapes calculation\n",
    "class Metric(ABC):\n",
    "    \"\"\" A quantity that can be computed given a model or an agent. \"\"\"\n",
    "\n",
    "    def __init__(self):\n",
    "        super().__init__()\n",
    "\n",
    "    @abstractmethod\n",
    "    def __call__(self, model_wrapper: ModelWrapper):\n",
    "        pass\n",
    "\n",
    "class Loss(Metric):\n",
    "    \"\"\" Computes a specified loss function over specified input-output pairs. \"\"\"\n",
    "    def __init__(self, loss_fn, model, inputs: torch.Tensor, target: torch.Tensor):\n",
    "        super().__init__()\n",
    "        self.loss_fn = loss_fn\n",
    "        self.inputs = inputs\n",
    "        self.model = model\n",
    "        self.target = target\n",
    "\n",
    "    def __call__(self, model_wrapper: ModelWrapper) -> float:\n",
    "        outputs = model_wrapper.forward(self.inputs)\n",
    "        err = self.loss_fn(self.target[0], outputs)\n",
    "        return err"
   ]
  },
  {
   "cell_type": "code",
   "execution_count": 54,
   "metadata": {},
   "outputs": [
    {
     "name": "stderr",
     "output_type": "stream",
     "text": [
      "100%|██████████| 50/50 [1:56:44<00:00, 140.09s/it]\n"
     ]
    }
   ],
   "source": [
    "loss_landscapes_list = []\n",
    "for i, batch in tqdm(enumerate(train_subset_dataloader), total=len(train_subset_dataloader)):\n",
    "    x_train = (batch[0], batch[1])\n",
    "    y_train = (batch[2])\n",
    "    metric = Loss(loss_func, func.eval(), x_train, y_train)\n",
    "    try:\n",
    "        loss_data_fin = loss_landscapes.planar_interpolation(\n",
    "            model_start=func.eval(), \n",
    "            model_end_one=model_eig_max.eval(),\n",
    "            model_end_two=model_eig_min.eval(),\n",
    "            metric=metric, steps=STEPS, deepcopy_model=True\n",
    "            )\n",
    "    except Exception as e:\n",
    "        print(e+'batch id: '+str(i))\n",
    "        # continue\n",
    "    loss_landscapes_list.append(np.expand_dims(loss_data_fin, axis=2))"
   ]
  },
  {
   "cell_type": "code",
   "execution_count": 55,
   "metadata": {},
   "outputs": [
    {
     "name": "stdout",
     "output_type": "stream",
     "text": [
      "(40, 40)\n"
     ]
    }
   ],
   "source": [
    "tmp = np.concatenate(loss_landscapes_list, axis=2)\n",
    "avg_loss_landscape = np.mean(tmp, axis=2)\n",
    "std_loss_landscape = np.std(tmp, axis=2)\n",
    "print(std_loss_landscape.shape)"
   ]
  },
  {
   "cell_type": "code",
   "execution_count": 62,
   "metadata": {},
   "outputs": [
    {
     "data": {
      "image/png": "[encoded data removed]",
      "text/plain": [
       "<Figure size 640x480 with 2 Axes>"
      ]
     },
     "metadata": {},
     "output_type": "display_data"
    }
   ],
   "source": [
    "save_fig_name = os.path.join('loss_contours.png')\n",
    "fig, ax = plt.subplots(1, 1)\n",
    "plt.contourf(np.log10(avg_loss_landscape), levels=50, cmap='jet')\n",
    "ax.set_title('Loss Contours \\n'+ r'$L(\\theta + \\alpha i + \\beta j$)')\n",
    "ax.axis('square')\n",
    "ax.set_xlabel(r'$\\alpha$')\n",
    "ax.set_ylabel(r'$\\beta$')\n",
    "plt.colorbar()\n",
    "fig.savefig(save_fig_name, transparent=True, dpi=300)\n",
    "plt.show()"
   ]
  },
  {
   "cell_type": "code",
   "execution_count": 58,
   "metadata": {},
   "outputs": [
    {
     "name": "stderr",
     "output_type": "stream",
     "text": [
      "100%|██████████| 14/14 [37:09<00:00, 159.28s/it]\n"
     ]
    }
   ],
   "source": [
    "test_loss_landscapes_list = []\n",
    "for i, batch in tqdm(enumerate(test_subset_dataloader), total=len(test_subset_dataloader)):\n",
    "    x_train = (batch[0], batch[1])\n",
    "    y_train = (batch[2])\n",
    "    metric = Loss(loss_func, func.eval(), x_train, y_train)\n",
    "    try:\n",
    "        loss_data_fin = loss_landscapes.planar_interpolation(\n",
    "            model_start=func.eval(), \n",
    "            model_end_one=model_eig_max.eval(),\n",
    "            model_end_two=model_eig_min.eval(),\n",
    "            metric=metric, steps=STEPS, deepcopy_model=True\n",
    "            )\n",
    "    except Exception as e:\n",
    "        print(e+'batch id: '+str(i))\n",
    "        # continue\n",
    "    test_loss_landscapes_list.append(np.expand_dims(loss_data_fin, axis=2))"
   ]
  },
  {
   "cell_type": "code",
   "execution_count": 59,
   "metadata": {},
   "outputs": [],
   "source": [
    "tmp = np.concatenate(test_loss_landscapes_list, axis=2)\n",
    "test_avg_loss_landscape = np.mean(tmp, axis=2)\n",
    "test_std_loss_landscape = np.std(tmp, axis=2)"
   ]
  },
  {
   "cell_type": "code",
   "execution_count": 61,
   "metadata": {},
   "outputs": [
    {
     "data": {
      "image/png": "[encoded data removed]",
      "text/plain": [
       "<Figure size 640x480 with 2 Axes>"
      ]
     },
     "metadata": {},
     "output_type": "display_data"
    }
   ],
   "source": [
    "save_fig_name = os.path.join('loss_contours_test.png')\n",
    "fig, ax = plt.subplots(1, 1)\n",
    "plt.contourf(np.log10(test_avg_loss_landscape), levels=50, cmap='jet')\n",
    "ax.set_title('Loss Contours \\n'+ r'$L(\\theta + \\alpha i + \\beta j$)')\n",
    "ax.axis('square')\n",
    "ax.set_xlabel(r'$\\alpha$')\n",
    "ax.set_ylabel(r'$\\beta$')\n",
    "plt.colorbar()\n",
    "fig.savefig(save_fig_name, transparent=True, dpi=300)\n",
    "plt.show()"
   ]
  },
  {
   "cell_type": "code",
   "execution_count": null,
   "metadata": {},
   "outputs": [],
   "source": []
  }
 ],
 "metadata": {
  "kernelspec": {
   "display_name": "loss_landscapes_demo",
   "language": "python",
   "name": "python3"
  },
  "language_info": {
   "codemirror_mode": {
    "name": "ipython",
    "version": 3
   },
   "file_extension": ".py",
   "mimetype": "text/x-python",
   "name": "python",
   "nbconvert_exporter": "python",
   "pygments_lexer": "ipython3",
   "version": "3.10.0"
  }
 },
 "nbformat": 4,
 "nbformat_minor": 2
}
