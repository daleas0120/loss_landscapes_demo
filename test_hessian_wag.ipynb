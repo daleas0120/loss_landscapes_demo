{
 "cells": [
  {
   "cell_type": "code",
   "execution_count": null,
   "metadata": {},
   "outputs": [],
   "source": [
    "import copy\n",
    "import torch\n",
    "import glob\n",
    "import json\n",
    "\n",
    "import numpy as np\n",
    "from tqdm import tqdm\n",
    "import seaborn as sns\n",
    "import matplotlib.pyplot as plt\n",
    "from pandas import DataFrame\n",
    "import ipywidgets as widgets\n",
    "\n",
    "from alignn.pretrained import *\n",
    "\n",
    "from src.utils import *\n",
    "from src import botcher_hessian_alignn as hess\n",
    "from src import botcher_utilities as util\n",
    "from src.hessian_wag import get_hessian_wag\n",
    "from src.hessian_wag import get_sample_from_normal_dist_of_models, square_model_wts, sqrt_model_wts, get_normed_model,get_stddev_model\n",
    "\n",
    "from tests.test_hessian_wag import *"
   ]
  },
  {
   "cell_type": "code",
   "execution_count": null,
   "metadata": {},
   "outputs": [],
   "source": [
    "device = 'cpu'"
   ]
  },
  {
   "cell_type": "markdown",
   "metadata": {},
   "source": [
    "# Load Model"
   ]
  },
  {
   "cell_type": "code",
   "execution_count": null,
   "metadata": {},
   "outputs": [],
   "source": [
    "style = {'description_width': 'initial'}\n",
    "\n",
    "config_selector = widgets.Dropdown(\n",
    "    options=list(get_all_models().keys()),\n",
    "    value=list(get_all_models().keys())[0],\n",
    "    description='Select Model',\n",
    "    style=style,\n",
    "    disabled=False,\n",
    ")\n",
    "\n",
    "display(config_selector)"
   ]
  },
  {
   "cell_type": "code",
   "execution_count": null,
   "metadata": {},
   "outputs": [],
   "source": [
    "model_name = config_selector.value\n",
    "print(\"Selected: \", model_name)\n",
    "model, model_wt_dict = load_pretrained_model(model_name, print_summary=True)\n",
    "plot_model_wt_dist(model)"
   ]
  },
  {
   "cell_type": "code",
   "execution_count": null,
   "metadata": {},
   "outputs": [],
   "source": [
    "zeroed_model = zero_out_model(model)\n",
    "plot_model_wt_dist(zeroed_model)"
   ]
  },
  {
   "cell_type": "code",
   "execution_count": null,
   "metadata": {},
   "outputs": [],
   "source": [
    "ones_model = make_constant_model(model, 1.0)\n",
    "plot_model_wt_dist(ones_model)"
   ]
  },
  {
   "cell_type": "code",
   "execution_count": null,
   "metadata": {},
   "outputs": [],
   "source": [
    "neg_ones_model = make_constant_model(model, -1.0)\n",
    "plot_model_wt_dist(neg_ones_model)"
   ]
  },
  {
   "cell_type": "markdown",
   "metadata": {},
   "source": [
    "# Tests"
   ]
  },
  {
   "cell_type": "code",
   "execution_count": null,
   "metadata": {},
   "outputs": [],
   "source": [
    "# Test square_model_wts with ones model.  The distribution should be the same\n",
    "test_square_model_wts_w_ones = square_model_wts(ones_model)\n",
    "plot_model_wt_dist(test_square_model_wts_w_ones)"
   ]
  },
  {
   "cell_type": "code",
   "execution_count": null,
   "metadata": {},
   "outputs": [],
   "source": [
    "# Test square_model_wts with neg_ones model.  The distribution should now be all ones\n",
    "test_square_model_wts_w_neg_ones = square_model_wts(neg_ones_model)\n",
    "plot_model_wt_dist(test_square_model_wts_w_neg_ones)"
   ]
  },
  {
   "cell_type": "code",
   "execution_count": null,
   "metadata": {},
   "outputs": [],
   "source": [
    "# Test sqrt_model_wts with ones model.  The distribution should now be all ones\n",
    "test_sqrt_model_wts_w_ones = sqrt_model_wts(ones_model)\n",
    "plot_model_wt_dist(test_sqrt_model_wts_w_ones)"
   ]
  },
  {
   "cell_type": "code",
   "execution_count": null,
   "metadata": {},
   "outputs": [],
   "source": [
    "# Test sqrt_model_wts with neg_ones model.  This should break with nan\n",
    "test_sqrt_model_wts_w_neg_ones = sqrt_model_wts(neg_ones_model)\n",
    "# plot_model_wt_dist(test_sqrt_model_wts_w_neg_ones) # can't plot a hist of nan values\n",
    "print(next(iter(test_sqrt_model_wts_w_neg_ones.named_parameters())))"
   ]
  },
  {
   "cell_type": "code",
   "execution_count": null,
   "metadata": {},
   "outputs": [],
   "source": [
    "# Test get_normed_model with ones_model, which should return a value of 0.5 because every value gets divided by 2\n",
    "scaled_model = get_normed_model(ones_model, 2)\n",
    "plot_model_wt_dist(scaled_model)"
   ]
  },
  {
   "cell_type": "markdown",
   "metadata": {},
   "source": [
    "To test whether the `get_sample_from_normal_dist_of_models()` function is working we need several things:\n",
    "\n",
    "1. A model where every weight in the model represents the mean value of that model parameter in the normal distribution\n",
    "2. A model where every weight in the model represents the standard deviation of that model parameter in the normal distribution\n",
    "\n",
    "---\n",
    "\n",
    "Choose a zeros model for the first and a ones model for the second\n",
    "\n",
    "---\n",
    "\n",
    "Then every model drawn from this distribution should have a weight and bias distribution which is zero mean gaussian with a standard deviation of one."
   ]
  },
  {
   "cell_type": "code",
   "execution_count": null,
   "metadata": {},
   "outputs": [],
   "source": [
    "model_mu = make_constant_model(model, 0.0)\n",
    "model_std = make_constant_model(model, 1.0)"
   ]
  },
  {
   "cell_type": "code",
   "execution_count": null,
   "metadata": {},
   "outputs": [],
   "source": [
    "norm_dist_model = get_sample_from_normal_dist_of_models(model_mu, model_std, model_mu)\n",
    "plot_model_wt_dist(norm_dist_model)"
   ]
  },
  {
   "cell_type": "markdown",
   "metadata": {},
   "source": [
    "Finally, we need to test that we can create a model where every weight in the model represents the standard deviation of that weight in the normal distribution using the `get_stddev_model()` function.  The standard deviation is calculated using the expression $\\sigma = \\sqrt{E[X^2] - E[X]^2}$. We need\n",
    "\n",
    "1. A model where every weight in the model represents the mean value of the original model parameter in the to-be-created normal distribution: $E[X]$\n",
    "2. A model where every weight in the model represents $\\sum{X^2}$, so that I can divide by the total number of models $N$ and have the term $E[X^2]$\n",
    "---\n",
    "\n",
    "Choose zeros for the first model, and ones for the second model\n",
    "\n",
    "---\n",
    "Then every weight and bias in this model should have a value of one, because we are trying to get the standard deviation of the system."
   ]
  },
  {
   "cell_type": "code",
   "execution_count": null,
   "metadata": {},
   "outputs": [],
   "source": [
    "stddev_model = get_stddev_model(zeroed_model, ones_model, 2.0)\n",
    "plot_model_wt_dist(stddev_model)"
   ]
  },
  {
   "cell_type": "markdown",
   "metadata": {},
   "source": [
    "Good!"
   ]
  },
  {
   "cell_type": "markdown",
   "metadata": {},
   "source": [
    "## Test loss landscapes"
   ]
  },
  {
   "cell_type": "code",
   "execution_count": null,
   "metadata": {},
   "outputs": [],
   "source": [
    "from src.hessian_wag import Metric\n",
    "from torch.nn import CosineSimilarity, L1Loss"
   ]
  },
  {
   "cell_type": "code",
   "execution_count": null,
   "metadata": {},
   "outputs": [],
   "source": [
    "def get_avg_distances(model_A, model_B):\n",
    "    uv_distances = []\n",
    "    cos_metric = CosineSimilarity(dim=0, eps=1e-6)\n",
    "    l1_metric = L1Loss()\n",
    "\n",
    "    for layer_name, layer_param in model_A.named_parameters():\n",
    "        try:\n",
    "            u = model_A.get_parameter(layer_name).flatten()\n",
    "        except:\n",
    "            continue\n",
    "\n",
    "        v = model_B.get_parameter(layer_name).flatten()\n",
    "\n",
    "        # dist = cos_metric(u, v)\n",
    "        dist = l1_metric(u, v)\n",
    "        uv_distances.append(dist.cpu().detach().numpy())\n",
    "\n",
    "    return np.mean(uv_distances)"
   ]
  },
  {
   "cell_type": "code",
   "execution_count": null,
   "metadata": {},
   "outputs": [],
   "source": [
    "get_avg_distances(ones_model, ones_model)"
   ]
  },
  {
   "cell_type": "code",
   "execution_count": null,
   "metadata": {},
   "outputs": [],
   "source": [
    "class Loss(Metric):\n",
    "    \"\"\" Computes a specified loss function over specified input-output pairs. \"\"\"\n",
    "    def __init__(self,):\n",
    "        super().__init__()\n",
    "\n",
    "    def __call__(self, model_wrapper: ModelWrapper, og_model: ModelWrapper) -> float:\n",
    "        return get_avg_distances(model_wrapper.modules[0], og_model.modules[0])"
   ]
  },
  {
   "cell_type": "code",
   "execution_count": null,
   "metadata": {},
   "outputs": [],
   "source": [
    "from loss_landscapes.main import planar_interpolation"
   ]
  },
  {
   "cell_type": "code",
   "execution_count": null,
   "metadata": {},
   "outputs": [],
   "source": [
    "metric = Loss()"
   ]
  },
  {
   "cell_type": "code",
   "execution_count": null,
   "metadata": {},
   "outputs": [],
   "source": [
    "tmp = planar_interpolation(zeroed_model, neg_ones_model, ones_model, metric, deepcopy_model=True,steps=40)"
   ]
  },
  {
   "cell_type": "code",
   "execution_count": null,
   "metadata": {},
   "outputs": [],
   "source": [
    "plt.imshow(tmp, cmap='jet', origin='lower')\n",
    "plt.colorbar()"
   ]
  },
  {
   "cell_type": "code",
   "execution_count": null,
   "metadata": {},
   "outputs": [],
   "source": [
    "tmp2 = planar_interpolation(zeroed_model, ones_model, neg_ones_model, metric, deepcopy_model=True,steps=40)"
   ]
  },
  {
   "cell_type": "code",
   "execution_count": null,
   "metadata": {},
   "outputs": [],
   "source": [
    "plt.imshow(tmp2, cmap='jet', origin='lower')\n",
    "plt.colorbar()"
   ]
  },
  {
   "cell_type": "code",
   "execution_count": null,
   "metadata": {},
   "outputs": [],
   "source": [
    "tmp3 = planar_interpolation(ones_model, neg_ones_model, neg_ones_model, metric, deepcopy_model=True,steps=40)"
   ]
  },
  {
   "cell_type": "code",
   "execution_count": null,
   "metadata": {},
   "outputs": [],
   "source": [
    "plt.imshow(tmp3, cmap='jet', origin='lower')\n",
    "plt.colorbar()"
   ]
  },
  {
   "cell_type": "code",
   "execution_count": null,
   "metadata": {},
   "outputs": [],
   "source": [
    "np.amax(tmp3)"
   ]
  }
 ],
 "metadata": {
  "kernelspec": {
   "display_name": "loss_landscapes",
   "language": "python",
   "name": "python3"
  },
  "language_info": {
   "codemirror_mode": {
    "name": "ipython",
    "version": 3
   },
   "file_extension": ".py",
   "mimetype": "text/x-python",
   "name": "python",
   "nbconvert_exporter": "python",
   "pygments_lexer": "ipython3",
   "version": "3.10.0"
  }
 },
 "nbformat": 4,
 "nbformat_minor": 2
}
