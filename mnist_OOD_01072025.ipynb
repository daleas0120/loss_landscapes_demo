{
 "cells": [
  {
   "cell_type": "code",
   "execution_count": 1,
   "metadata": {},
   "outputs": [],
   "source": [
    "import torch\n",
    "import torch.nn as nn\n",
    "import torch.nn.functional as F\n",
    "import torch.optim as optim\n",
    "from torchvision import datasets, transforms\n",
    "from torch.optim.lr_scheduler import StepLR\n",
    "\n",
    "import loss_landscapes\n",
    "import loss_landscapes.metrics\n",
    "\n",
    "import utils\n",
    "import numpy as np"
   ]
  },
  {
   "cell_type": "code",
   "execution_count": 2,
   "metadata": {},
   "outputs": [],
   "source": [
    "# training hyperparameters\n",
    "BATCH_SIZE = 64\n",
    "TEST_BATCH_SIZE = 1000\n",
    "EPOCHS = 5\n",
    "LR = 10 ** -2\n",
    "GAMMA = 0.7 #learning rate step gamma\n",
    "LOG_INTERVAL = 1000\n",
    "\n",
    "# contour plot resolution\n",
    "STEPS = 40\n",
    "\n",
    "use_cuda = True\n",
    "if use_cuda:\n",
    "    device = torch.device(\"cuda\")\n",
    "else:\n",
    "    device = torch.device(\"cpu\")"
   ]
  },
  {
   "cell_type": "code",
   "execution_count": 3,
   "metadata": {},
   "outputs": [],
   "source": [
    "class Net(nn.Module):\n",
    "    def __init__(self):\n",
    "        super(Net, self).__init__()\n",
    "        self.conv1 = nn.Conv2d(1, 32, 3, 1)\n",
    "        self.conv2 = nn.Conv2d(32, 64, 3, 1)\n",
    "        self.dropout1 = nn.Dropout(0.25)\n",
    "        self.dropout2 = nn.Dropout(0.5)\n",
    "        self.fc1 = nn.Linear(9216, 128)\n",
    "        self.fc2 = nn.Linear(128, 10)\n",
    "\n",
    "    def forward(self, x):\n",
    "        x = self.conv1(x)\n",
    "        x = F.relu(x)\n",
    "        x = self.conv2(x)\n",
    "        x = F.relu(x)\n",
    "        x = F.max_pool2d(x, 2)\n",
    "        x = self.dropout1(x)\n",
    "        x = torch.flatten(x, 1)\n",
    "        x = self.fc1(x)\n",
    "        x = F.relu(x)\n",
    "        x = self.dropout2(x)\n",
    "        x = self.fc2(x)\n",
    "        output = F.log_softmax(x, dim=1)\n",
    "        return output\n",
    "\n",
    "\n",
    "def train(model, criterion, device, train_loader, optimizer, epoch):\n",
    "    model.train()\n",
    "    for batch_idx, (data, target) in enumerate(train_loader):\n",
    "        data, target = data.to(device), target.to(device)\n",
    "        optimizer.zero_grad()\n",
    "        output = model(data)\n",
    "        loss = criterion(output, target)\n",
    "        loss.backward()\n",
    "        optimizer.step()\n",
    "        if batch_idx % LOG_INTERVAL == 0:\n",
    "            print('Train Epoch: {} [{}/{} ({:.0f}%)]\\tLoss: {:.6f}'.format(\n",
    "                epoch, batch_idx * len(data), len(train_loader.dataset),\n",
    "                100. * batch_idx / len(train_loader), loss.item()))\n",
    "\n",
    "\n",
    "def test(model, device, test_loader):\n",
    "    model.eval()\n",
    "    test_loss = 0\n",
    "    correct = 0\n",
    "    with torch.no_grad():\n",
    "        for data, target in test_loader:\n",
    "            data, target = data.to(device), target.to(device)\n",
    "            output = model(data)\n",
    "            test_loss += F.nll_loss(output, target, reduction='sum').item()  # sum up batch loss\n",
    "            pred = output.argmax(dim=1, keepdim=True)  # get the index of the max log-probability\n",
    "            correct += pred.eq(target.view_as(pred)).sum().item()\n",
    "\n",
    "    test_loss /= len(test_loader.dataset)\n",
    "\n",
    "    print('\\nTest set: Average loss: {:.4f}, Accuracy: {}/{} ({:.0f}%)\\n'.format(\n",
    "        test_loss, correct, len(test_loader.dataset),\n",
    "        100. * correct / len(test_loader.dataset)))"
   ]
  },
  {
   "cell_type": "code",
   "execution_count": 4,
   "metadata": {},
   "outputs": [],
   "source": [
    "train_kwargs = {'batch_size': BATCH_SIZE}\n",
    "test_kwargs = {'batch_size': TEST_BATCH_SIZE}"
   ]
  },
  {
   "cell_type": "code",
   "execution_count": 5,
   "metadata": {},
   "outputs": [],
   "source": [
    "transform=transforms.Compose([\n",
    "        transforms.ToTensor(),\n",
    "        transforms.Normalize((0.1307,), (0.3081,))\n",
    "        ])\n",
    "dataset1 = datasets.MNIST('./data', train=True, download=True,\n",
    "                    transform=transform)\n",
    "dataset2 = datasets.MNIST('./data', train=False,\n",
    "                    transform=transform)\n",
    "\n",
    "# Filtered train_loader and test_loader\n",
    "# For labels 0-4\n",
    "labels = [0,1,2,3,4]\n",
    "indices = [idx for idx, target in enumerate(dataset1.targets) if target in labels]\n",
    "train_loader = torch.utils.data.DataLoader(torch.utils.data.Subset(dataset1, indices),**train_kwargs)\n",
    "\n",
    "# For labels 0-4\n",
    "labels = [5,6,7,8,9]\n",
    "#labels = [0,1,2,3,4]\n",
    "indices = [idx for idx, target in enumerate(dataset2.targets) if target in labels]\n",
    "test_loader = torch.utils.data.DataLoader(torch.utils.data.Subset(dataset2, indices),**train_kwargs)\n",
    "\n",
    "# Default train_loader and test_loader\n",
    "#train_loader = torch.utils.data.DataLoader(dataset1,**train_kwargs)\n",
    "#test_loader = torch.utils.data.DataLoader(dataset2, **test_kwargs)"
   ]
  },
  {
   "cell_type": "code",
   "execution_count": 6,
   "metadata": {},
   "outputs": [
    {
     "name": "stdout",
     "output_type": "stream",
     "text": [
      "Train Epoch: 1 [0/30596 (0%)]\tLoss: 2.324065\n",
      "\n",
      "Test set: Average loss: 8.3940, Accuracy: 0/4861 (0%)\n",
      "\n",
      "Train Epoch: 2 [0/30596 (0%)]\tLoss: 0.186675\n",
      "\n",
      "Test set: Average loss: 8.7727, Accuracy: 0/4861 (0%)\n",
      "\n",
      "Train Epoch: 3 [0/30596 (0%)]\tLoss: 0.093487\n",
      "\n",
      "Test set: Average loss: 8.9531, Accuracy: 0/4861 (0%)\n",
      "\n",
      "Train Epoch: 4 [0/30596 (0%)]\tLoss: 0.079973\n",
      "\n",
      "Test set: Average loss: 9.1572, Accuracy: 0/4861 (0%)\n",
      "\n",
      "Train Epoch: 5 [0/30596 (0%)]\tLoss: 0.090948\n",
      "\n",
      "Test set: Average loss: 9.1152, Accuracy: 0/4861 (0%)\n",
      "\n"
     ]
    }
   ],
   "source": [
    "model = Net().to(device)\n",
    "optimizer = optim.Adadelta(model.parameters(), lr=LR)\n",
    "criterion = torch.nn.CrossEntropyLoss()\n",
    "\n",
    "scheduler = StepLR(optimizer, step_size=1, gamma=GAMMA)\n",
    "for epoch in range(1, EPOCHS + 1):\n",
    "    train(model, criterion, device, train_loader, optimizer, epoch)\n",
    "    test(model, device, test_loader)\n",
    "    scheduler.step()"
   ]
  },
  {
   "cell_type": "code",
   "execution_count": 7,
   "metadata": {},
   "outputs": [
    {
     "name": "stdout",
     "output_type": "stream",
     "text": [
      "0.08318091742694378\n"
     ]
    }
   ],
   "source": [
    "# Get all the model parameters\n",
    "params = [p for p in model.parameters()]\n",
    "\n",
    "# Calculate the standard deviation of all parameters\n",
    "wt_std = torch.std(torch.cat([p.view(-1) for p in params]))\n",
    "\n",
    "DISTANCE=10*wt_std.cpu().detach().numpy()\n",
    "\n",
    "print(DISTANCE)"
   ]
  },
  {
   "cell_type": "code",
   "execution_count": 8,
   "metadata": {},
   "outputs": [],
   "source": [
    "perturbation_range = np.round(np.linspace(-0.5*DISTANCE, 0.5*DISTANCE, 8), 3)"
   ]
  },
  {
   "cell_type": "code",
   "execution_count": 9,
   "metadata": {},
   "outputs": [
    {
     "data": {
      "image/png": "[encoded data removed]",
      "text/plain": [
       "<Figure size 640x480 with 2 Axes>"
      ]
     },
     "metadata": {},
     "output_type": "display_data"
    }
   ],
   "source": [
    "x, y = iter(test_loader).__next__()\n",
    "\n",
    "metric = loss_landscapes.metrics.Loss(criterion, x, y)\n",
    "\n",
    "loss_data_fin = loss_landscapes.random_plane(model.cpu(), metric, distance=DISTANCE*5, steps=STEPS, normalization='filter', deepcopy_model=True)\n",
    "\n",
    "utils.plot_loss_contours(loss_data=loss_data_fin, steps=STEPS, distance=DISTANCE*5, save_fig=True)"
   ]
  },
  {
   "cell_type": "code",
   "execution_count": null,
   "metadata": {},
   "outputs": [],
   "source": []
  }
 ],
 "metadata": {
  "kernelspec": {
   "display_name": "loss_landscape",
   "language": "python",
   "name": "python3"
  },
  "language_info": {
   "codemirror_mode": {
    "name": "ipython",
    "version": 3
   },
   "file_extension": ".py",
   "mimetype": "text/x-python",
   "name": "python",
   "nbconvert_exporter": "python",
   "pygments_lexer": "ipython3",
   "version": "3.10.15"
  }
 },
 "nbformat": 4,
 "nbformat_minor": 2
}
