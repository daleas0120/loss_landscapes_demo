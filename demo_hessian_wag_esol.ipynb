{
 "cells": [
  {
   "cell_type": "markdown",
   "metadata": {},
   "source": [
    "# Hessian Weight Averaged Gaussian Calculation of Prediction Uncertainty\n",
    "\n",
    "See [1](https://proceedings.neurips.cc/paper_files/paper/2019/hash/118921efba23fc329e6560b27861f0c2-Abstract.html), [2](https://link.springer.com/chapter/10.1007/978-3-031-16749-2_8). \n",
    "\n",
    "Instead of using SGD to obtain an ensemble of models from which to calculate a distribution $\\mathcal{N}(\\mu_{\\theta}, \\sigma_{\\theta})$, where $\\theta$ represents the set of all parameters in the ensemble, this code uses the loss landscape to identify which models have similar performance."
   ]
  },
  {
   "cell_type": "code",
   "execution_count": 21,
   "metadata": {},
   "outputs": [],
   "source": [
    "import os\n",
    "import copy\n",
    "import torch\n",
    "import pandas as pd\n",
    "import numpy as np\n",
    "from tqdm import tqdm\n",
    "import matplotlib.pyplot as plt\n",
    "import ipywidgets as widgets\n",
    "import ast\n",
    "\n",
    "#from alignn.pretrained import *\n",
    "\n",
    "from src.utils import load_zscore_sample\n",
    "from src import botcher_hessian_alignn as hess\n",
    "from src import botcher_utilities as util\n",
    "#from src.hessian_wag import get_hessian_wag\n",
    "#from src.hessian_wag import get_sample_from_normal_dist_of_models\n",
    "\n",
    "import torch.nn as nn\n",
    "import torch.optim as optim\n",
    "from torch.utils.data import Dataset, DataLoader\n",
    "from torch.optim.lr_scheduler import ReduceLROnPlateau\n",
    "from torch_geometric.datasets import MoleculeNet\n",
    "import numpy as np\n",
    "from sklearn.model_selection import train_test_split\n",
    "from sklearn.metrics import mean_squared_error, r2_score\n",
    "import matplotlib.pyplot as plt\n",
    "\n",
    "import pandas as pd\n",
    "import ast\n",
    "\n",
    "import copy\n",
    "import glob\n",
    "import json\n",
    "\n",
    "from tqdm import tqdm\n",
    "\n",
    "import ipywidgets as widgets\n",
    "from torchinfo import summary\n",
    "from pymatgen.core.periodic_table import Element\n",
    "from collections import OrderedDict\n",
    "\n",
    "import loss_landscapes\n",
    "import loss_landscapes.metrics\n",
    "from loss_landscapes.model_interface.model_wrapper import ModelWrapper\n",
    "from abc import ABC, abstractmethod\n",
    "\n",
    "from src import botcher_hessian as hess\n",
    "from src import botcher_utilities\n",
    "from src import utils"
   ]
  },
  {
   "cell_type": "code",
   "execution_count": 2,
   "metadata": {},
   "outputs": [],
   "source": [
    "device = 'cuda'"
   ]
  },
  {
   "cell_type": "markdown",
   "metadata": {},
   "source": [
    "### Load Data"
   ]
  },
  {
   "cell_type": "code",
   "execution_count": 3,
   "metadata": {},
   "outputs": [
    {
     "data": {
      "text/html": [
       "<div>\n",
       "<style scoped>\n",
       "    .dataframe tbody tr th:only-of-type {\n",
       "        vertical-align: middle;\n",
       "    }\n",
       "\n",
       "    .dataframe tbody tr th {\n",
       "        vertical-align: top;\n",
       "    }\n",
       "\n",
       "    .dataframe thead th {\n",
       "        text-align: right;\n",
       "    }\n",
       "</style>\n",
       "<table border=\"1\" class=\"dataframe\">\n",
       "  <thead>\n",
       "    <tr style=\"text-align: right;\">\n",
       "      <th></th>\n",
       "      <th>Unnamed: 0</th>\n",
       "      <th>smiles</th>\n",
       "      <th>fingerprints</th>\n",
       "      <th>targets</th>\n",
       "      <th>clusters</th>\n",
       "    </tr>\n",
       "  </thead>\n",
       "  <tbody>\n",
       "    <tr>\n",
       "      <th>0</th>\n",
       "      <td>0</td>\n",
       "      <td>OCC3OC(OCC2OC(OC(C#N)c1ccccc1)C(O)C(O)C2O)C(O)...</td>\n",
       "      <td>[0.0, 1.0, 0.0, 0.0, 0.0, 0.0, 0.0, 0.0, 0.0, ...</td>\n",
       "      <td>-0.770</td>\n",
       "      <td>0</td>\n",
       "    </tr>\n",
       "    <tr>\n",
       "      <th>1</th>\n",
       "      <td>1</td>\n",
       "      <td>Cc1occc1C(=O)Nc2ccccc2</td>\n",
       "      <td>[0.0, 0.0, 0.0, 0.0, 0.0, 0.0, 0.0, 0.0, 0.0, ...</td>\n",
       "      <td>-3.300</td>\n",
       "      <td>0</td>\n",
       "    </tr>\n",
       "    <tr>\n",
       "      <th>2</th>\n",
       "      <td>2</td>\n",
       "      <td>CC(C)=CCCC(C)=CC(=O)</td>\n",
       "      <td>[0.0, 0.0, 0.0, 0.0, 0.0, 0.0, 0.0, 0.0, 0.0, ...</td>\n",
       "      <td>-2.060</td>\n",
       "      <td>0</td>\n",
       "    </tr>\n",
       "    <tr>\n",
       "      <th>3</th>\n",
       "      <td>3</td>\n",
       "      <td>c1ccc2c(c1)ccc3c2ccc4c5ccccc5ccc43</td>\n",
       "      <td>[0.0, 0.0, 0.0, 0.0, 0.0, 0.0, 0.0, 0.0, 0.0, ...</td>\n",
       "      <td>-7.870</td>\n",
       "      <td>0</td>\n",
       "    </tr>\n",
       "    <tr>\n",
       "      <th>4</th>\n",
       "      <td>4</td>\n",
       "      <td>c1ccsc1</td>\n",
       "      <td>[0.0, 0.0, 0.0, 0.0, 0.0, 0.0, 0.0, 0.0, 0.0, ...</td>\n",
       "      <td>-1.330</td>\n",
       "      <td>0</td>\n",
       "    </tr>\n",
       "    <tr>\n",
       "      <th>...</th>\n",
       "      <td>...</td>\n",
       "      <td>...</td>\n",
       "      <td>...</td>\n",
       "      <td>...</td>\n",
       "      <td>...</td>\n",
       "    </tr>\n",
       "    <tr>\n",
       "      <th>1123</th>\n",
       "      <td>1123</td>\n",
       "      <td>FC(F)(F)C(Cl)Br</td>\n",
       "      <td>[0.0, 1.0, 0.0, 0.0, 0.0, 0.0, 0.0, 0.0, 0.0, ...</td>\n",
       "      <td>-1.710</td>\n",
       "      <td>0</td>\n",
       "    </tr>\n",
       "    <tr>\n",
       "      <th>1124</th>\n",
       "      <td>1124</td>\n",
       "      <td>CNC(=O)ON=C(SC)C(=O)N(C)C</td>\n",
       "      <td>[0.0, 0.0, 0.0, 0.0, 0.0, 0.0, 0.0, 0.0, 0.0, ...</td>\n",
       "      <td>0.106</td>\n",
       "      <td>0</td>\n",
       "    </tr>\n",
       "    <tr>\n",
       "      <th>1125</th>\n",
       "      <td>1125</td>\n",
       "      <td>CCSCCSP(=S)(OC)OC</td>\n",
       "      <td>[0.0, 0.0, 0.0, 0.0, 0.0, 0.0, 0.0, 0.0, 0.0, ...</td>\n",
       "      <td>-3.091</td>\n",
       "      <td>0</td>\n",
       "    </tr>\n",
       "    <tr>\n",
       "      <th>1126</th>\n",
       "      <td>1126</td>\n",
       "      <td>CCC(C)C</td>\n",
       "      <td>[0.0, 1.0, 0.0, 0.0, 0.0, 0.0, 0.0, 0.0, 0.0, ...</td>\n",
       "      <td>-3.180</td>\n",
       "      <td>0</td>\n",
       "    </tr>\n",
       "    <tr>\n",
       "      <th>1127</th>\n",
       "      <td>1127</td>\n",
       "      <td>COP(=O)(OC)OC(=CCl)c1cc(Cl)c(Cl)cc1Cl</td>\n",
       "      <td>[0.0, 0.0, 0.0, 0.0, 0.0, 0.0, 0.0, 0.0, 0.0, ...</td>\n",
       "      <td>-4.522</td>\n",
       "      <td>0</td>\n",
       "    </tr>\n",
       "  </tbody>\n",
       "</table>\n",
       "<p>1128 rows × 5 columns</p>\n",
       "</div>"
      ],
      "text/plain": [
       "      Unnamed: 0                                             smiles  \\\n",
       "0              0  OCC3OC(OCC2OC(OC(C#N)c1ccccc1)C(O)C(O)C2O)C(O)...   \n",
       "1              1                             Cc1occc1C(=O)Nc2ccccc2   \n",
       "2              2                               CC(C)=CCCC(C)=CC(=O)   \n",
       "3              3                 c1ccc2c(c1)ccc3c2ccc4c5ccccc5ccc43   \n",
       "4              4                                            c1ccsc1   \n",
       "...          ...                                                ...   \n",
       "1123        1123                                   FC(F)(F)C(Cl)Br    \n",
       "1124        1124                          CNC(=O)ON=C(SC)C(=O)N(C)C   \n",
       "1125        1125                                  CCSCCSP(=S)(OC)OC   \n",
       "1126        1126                                            CCC(C)C   \n",
       "1127        1127              COP(=O)(OC)OC(=CCl)c1cc(Cl)c(Cl)cc1Cl   \n",
       "\n",
       "                                           fingerprints  targets  clusters  \n",
       "0     [0.0, 1.0, 0.0, 0.0, 0.0, 0.0, 0.0, 0.0, 0.0, ...   -0.770         0  \n",
       "1     [0.0, 0.0, 0.0, 0.0, 0.0, 0.0, 0.0, 0.0, 0.0, ...   -3.300         0  \n",
       "2     [0.0, 0.0, 0.0, 0.0, 0.0, 0.0, 0.0, 0.0, 0.0, ...   -2.060         0  \n",
       "3     [0.0, 0.0, 0.0, 0.0, 0.0, 0.0, 0.0, 0.0, 0.0, ...   -7.870         0  \n",
       "4     [0.0, 0.0, 0.0, 0.0, 0.0, 0.0, 0.0, 0.0, 0.0, ...   -1.330         0  \n",
       "...                                                 ...      ...       ...  \n",
       "1123  [0.0, 1.0, 0.0, 0.0, 0.0, 0.0, 0.0, 0.0, 0.0, ...   -1.710         0  \n",
       "1124  [0.0, 0.0, 0.0, 0.0, 0.0, 0.0, 0.0, 0.0, 0.0, ...    0.106         0  \n",
       "1125  [0.0, 0.0, 0.0, 0.0, 0.0, 0.0, 0.0, 0.0, 0.0, ...   -3.091         0  \n",
       "1126  [0.0, 1.0, 0.0, 0.0, 0.0, 0.0, 0.0, 0.0, 0.0, ...   -3.180         0  \n",
       "1127  [0.0, 0.0, 0.0, 0.0, 0.0, 0.0, 0.0, 0.0, 0.0, ...   -4.522         0  \n",
       "\n",
       "[1128 rows x 5 columns]"
      ]
     },
     "execution_count": 3,
     "metadata": {},
     "output_type": "execute_result"
    }
   ],
   "source": [
    "variable = \"esol_morgan\"\n",
    "\n",
    "clustered_data_file = \"/home/substrate/projects/molmim_embedding_predictions/data/clustered_%s.csv\"%variable\n",
    "best_model_file = \"/home/substrate/projects/molmim_embedding_predictions/data/models/best_model_%s.pth\"%variable\n",
    "\n",
    "df = pd.read_csv(clustered_data_file)\n",
    "df"
   ]
  },
  {
   "cell_type": "code",
   "execution_count": 4,
   "metadata": {},
   "outputs": [],
   "source": [
    "# Extract features and targets\n",
    "temp_ID_X = [ast.literal_eval(a) for a in df[df['clusters']==0]['fingerprints']]\n",
    "fingerprints = np.array([a for a in temp_ID_X])\n",
    "\n",
    "targets = np.asarray(df[df['clusters']==0]['targets'], dtype=np.float32)\n",
    "\n",
    "X_train, X_test_ID, y_train, y_test_ID  = train_test_split(fingerprints, targets, train_size=0.9, random_state=42)\n",
    "\n",
    "# Split the training set into training and validation sets\n",
    "X_train, X_val, y_train, y_val = train_test_split(X_train, y_train, test_size=0.1, random_state=42) "
   ]
  },
  {
   "cell_type": "code",
   "execution_count": 5,
   "metadata": {},
   "outputs": [
    {
     "data": {
      "text/plain": [
       "((867,), (97,), (108,))"
      ]
     },
     "execution_count": 5,
     "metadata": {},
     "output_type": "execute_result"
    }
   ],
   "source": [
    "y_train.shape, y_val.shape, y_test_ID.shape"
   ]
  },
  {
   "cell_type": "code",
   "execution_count": 6,
   "metadata": {},
   "outputs": [],
   "source": [
    "# Create a PyTorch Dataset class\n",
    "class ESOLDataset(Dataset):\n",
    "    def __init__(self, X, y):\n",
    "        self.X = torch.tensor(X, dtype=torch.float32).to(device)\n",
    "        self.y = torch.tensor(y, dtype=torch.float32).view(-1, 1).to(device)\n",
    "    \n",
    "    def __len__(self):\n",
    "        return len(self.X)\n",
    "    \n",
    "    def __getitem__(self, idx):\n",
    "        return self.X[idx], self.y[idx]\n",
    "\n",
    "# Create DataLoader instances\n",
    "batch_size = 32\n",
    "train_dataset = ESOLDataset(X_train, y_train)\n",
    "validation_dataset = ESOLDataset(X_val, y_val)\n",
    "test_dataset = ESOLDataset(X_test_ID, y_test_ID)\n",
    "\n",
    "train_loader = DataLoader(train_dataset, batch_size=batch_size, shuffle=True)\n",
    "validation_loader = DataLoader(validation_dataset, batch_size=batch_size, shuffle=False)\n",
    "test_loader = DataLoader(test_dataset, batch_size=batch_size, shuffle=False)"
   ]
  },
  {
   "cell_type": "code",
   "execution_count": 9,
   "metadata": {},
   "outputs": [
    {
     "data": {
      "text/plain": [
       "2048"
      ]
     },
     "execution_count": 9,
     "metadata": {},
     "output_type": "execute_result"
    }
   ],
   "source": [
    "X_test_ID.shape[1]"
   ]
  },
  {
   "cell_type": "markdown",
   "metadata": {},
   "source": [
    "### Load Model"
   ]
  },
  {
   "cell_type": "code",
   "execution_count": 10,
   "metadata": {},
   "outputs": [
    {
     "name": "stdout",
     "output_type": "stream",
     "text": [
      "Model loaded successfully.\n"
     ]
    },
    {
     "name": "stderr",
     "output_type": "stream",
     "text": [
      "/tmp/ipykernel_20067/1893877513.py:31: FutureWarning: You are using `torch.load` with `weights_only=False` (the current default value), which uses the default pickle module implicitly. It is possible to construct malicious pickle data which will execute arbitrary code during unpickling (See https://github.com/pytorch/pytorch/blob/main/SECURITY.md#untrusted-models for more details). In a future release, the default value for `weights_only` will be flipped to `True`. This limits the functions that could be executed during unpickling. Arbitrary objects will no longer be allowed to be loaded via this mode unless they are explicitly allowlisted by the user via `torch.serialization.add_safe_globals`. We recommend you start setting `weights_only=True` for any use case where you don't have full control of the loaded file. Please open an issue on GitHub for any issues related to this experimental feature.\n",
      "  loaded_model.load_state_dict(torch.load(best_model_file))\n"
     ]
    }
   ],
   "source": [
    "# Define a PyTorch-based Gradient Boosting Model\n",
    "class BoostingRegressor(nn.Module):\n",
    "    def __init__(self, input_dim, hidden_dim, num_layers, dropout_rate):\n",
    "        super(BoostingRegressor, self).__init__()\n",
    "        layers = []\n",
    "        layers.append(nn.Linear(input_dim, hidden_dim))\n",
    "        layers.append(nn.ReLU())\n",
    "        layers.append(nn.Dropout(dropout_rate))\n",
    "        for _ in range(num_layers - 2):\n",
    "            layers.append(nn.Linear(hidden_dim, hidden_dim))\n",
    "            layers.append(nn.ReLU())\n",
    "            layers.append(nn.Dropout(dropout_rate))\n",
    "        layers.append(nn.Linear(hidden_dim, 1))\n",
    "        self.model = nn.Sequential(*layers)\n",
    "    \n",
    "    def forward(self, x):\n",
    "        return self.model(x)\n",
    "\n",
    "\n",
    "# Best parameters\n",
    "best_params = {'dropout_rate': np.float64(0.20156072200248576),\n",
    "                'hidden_dim': np.float64(94.14292768628857),\n",
    "                'lr': np.float64(0.0012538116753185251),\n",
    "                'num_layers': np.float64(4.636937552021378)}\n",
    "\n",
    "# Load model\n",
    "loaded_model = BoostingRegressor(input_dim=X_test_ID.shape[1], \n",
    "                                 hidden_dim=int(best_params['hidden_dim']), \n",
    "                                 num_layers=int(best_params['num_layers']), \n",
    "                                 dropout_rate=best_params['dropout_rate']).to(device)\n",
    "loaded_model.load_state_dict(torch.load(best_model_file))\n",
    "loaded_model.eval()\n",
    "print(\"Model loaded successfully.\")"
   ]
  },
  {
   "cell_type": "code",
   "execution_count": 11,
   "metadata": {},
   "outputs": [
    {
     "data": {
      "text/plain": [
       "=================================================================\n",
       "Layer (type:depth-idx)                   Param #\n",
       "=================================================================\n",
       "BoostingRegressor                        --\n",
       "├─Sequential: 1-1                        --\n",
       "│    └─Linear: 2-1                       192,606\n",
       "│    └─ReLU: 2-2                         --\n",
       "│    └─Dropout: 2-3                      --\n",
       "│    └─Linear: 2-4                       8,930\n",
       "│    └─ReLU: 2-5                         --\n",
       "│    └─Dropout: 2-6                      --\n",
       "│    └─Linear: 2-7                       8,930\n",
       "│    └─ReLU: 2-8                         --\n",
       "│    └─Dropout: 2-9                      --\n",
       "│    └─Linear: 2-10                      95\n",
       "=================================================================\n",
       "Total params: 210,561\n",
       "Trainable params: 210,561\n",
       "Non-trainable params: 0\n",
       "================================================================="
      ]
     },
     "execution_count": 11,
     "metadata": {},
     "output_type": "execute_result"
    }
   ],
   "source": [
    "summary(loaded_model)"
   ]
  },
  {
   "cell_type": "markdown",
   "metadata": {},
   "source": [
    "### Getting the Hessian Eigenvectors"
   ]
  },
  {
   "cell_type": "code",
   "execution_count": 16,
   "metadata": {},
   "outputs": [],
   "source": [
    "### Defaults from OG implementation\n",
    "loss_func = torch.nn.MSELoss()\n",
    "func = copy.deepcopy(loaded_model)"
   ]
  },
  {
   "cell_type": "markdown",
   "metadata": {},
   "source": [
    "### Load and format eigenvectors"
   ]
  },
  {
   "cell_type": "code",
   "execution_count": 14,
   "metadata": {},
   "outputs": [
    {
     "data": {
      "text/plain": [
       "<All keys matched successfully>"
      ]
     },
     "execution_count": 14,
     "metadata": {},
     "output_type": "execute_result"
    }
   ],
   "source": [
    "func = copy.deepcopy(loaded_model)\n",
    "model_eig_max = copy.deepcopy(func)\n",
    "model_eig_max.load_state_dict(torch.load('data/models/model_eig_max.pt', weights_only=True))\n",
    "model_eig_min = copy.deepcopy(func)\n",
    "model_eig_min.load_state_dict(torch.load('data/models/model_eig_min.pt', weights_only=True))"
   ]
  },
  {
   "cell_type": "markdown",
   "metadata": {},
   "source": [
    "### Calculate Hessian WAG"
   ]
  },
  {
   "cell_type": "markdown",
   "metadata": {},
   "source": [
    "The `loss_threshold` parameter controls which models from the loss landscape will be included in \n",
    "the average and standard deviation calculations.  Any model with average loss $\\mathcal{L} > $`loss_threshold` will not\n",
    "be included in the average or the standard deviation."
   ]
  },
  {
   "cell_type": "code",
   "execution_count": 17,
   "metadata": {},
   "outputs": [],
   "source": [
    "STEPS = 10\n",
    "loss_func = torch.nn.MSELoss()\n",
    "loss_threshold = 3 #<--- this is an absolute upper bound."
   ]
  },
  {
   "cell_type": "code",
   "execution_count": 44,
   "metadata": {},
   "outputs": [],
   "source": [
    "# This is the custom model wrapper for the loss landscapes calculation\n",
    "class Metric(ABC):\n",
    "    \"\"\" A quantity that can be computed given a model or an agent. \"\"\"\n",
    "\n",
    "    def __init__(self):\n",
    "        super().__init__()\n",
    "\n",
    "    @abstractmethod\n",
    "    def __call__(self, model_wrapper: ModelWrapper):\n",
    "        pass\n",
    "\n",
    "class Loss(Metric):\n",
    "    \"\"\" Computes a specified loss function over specified input-output pairs. \"\"\"\n",
    "    def __init__(self, loss_fn, model, inputs: torch.Tensor, target: torch.Tensor):\n",
    "        super().__init__()\n",
    "        self.loss_fn = loss_fn\n",
    "        self.inputs = inputs\n",
    "        self.model = model\n",
    "        self.target = target\n",
    "\n",
    "    def __call__(self, model_wrapper: ModelWrapper) -> float:\n",
    "        outputs = model_wrapper.forward(self.inputs)\n",
    "        #err = self.loss_fn(self.target[0], outputs) # This is code from Ashley which may cause a bug in my code\n",
    "        err = self.loss_fn(self.target, outputs)\n",
    "        return err\n",
    "    \n",
    "def get_hessian_wag(data_loader, loss_func, func, STEPS, model_end_one=None, model_end_two=None, loss_threshold=1.0):\n",
    "    loss_landscapes_list = []\n",
    "    mu_model_list = []\n",
    "    stddev_model_list = []\n",
    "    model_ll_coords_list = []\n",
    "    \n",
    "    for batch_X, batch_y in data_loader:\n",
    "        metric = Loss(loss_func, func.eval(), batch_X, batch_y)\n",
    "        try:\n",
    "            loss_data_fin, mu_model, stddev_model, model_ll_coords = utils.hessian_wag(\n",
    "            model_start=func.eval(), \n",
    "            model_end_one=model_end_one.eval(),\n",
    "            model_end_two=model_end_two.eval(),\n",
    "            metric=metric, steps=STEPS, deepcopy_model=True,\n",
    "            loss_threshold = loss_threshold\n",
    "            )\n",
    "            \n",
    "            loss_landscapes_list.append(loss_data_fin)\n",
    "            mu_model_list.append(mu_model)\n",
    "            stddev_model_list.append(stddev_model)\n",
    "            model_ll_coords_list.append(model_ll_coords)\n",
    "            \n",
    "        except Exception as e:\n",
    "            print(e)\n",
    "            \n",
    "    # Convert list to a NumPy array (3D array)\n",
    "    stacked_arrays_loss_landscapes = np.stack(loss_landscapes_list)  # Shape: (num_arrays, rows, cols)\n",
    "    stacked_arrays_mu_models = np.stack(mu_model_list)\n",
    "    stacked_arrays_stddev_model = np.stack(stddev_model_list)\n",
    "    stacked_arrays_model_ll_coords = np.stack(model_ll_coords_list)\n",
    "\n",
    "    # Compute the average across the first axis (axis=0)\n",
    "    average_array_loss_landscapes = np.mean(stacked_arrays_loss_landscapes, axis=0)\n",
    "    average_array_mu_models = np.mean(stacked_arrays_mu_models, axis=0)\n",
    "    average_array_stddev_model = np.mean(stacked_arrays_stddev_model, axis=0)\n",
    "    average_array_model_ll_coords = np.mean(stacked_arrays_model_ll_coords, axis=0)\n",
    "\n",
    "    return average_array_loss_landscapes, average_array_mu_models, average_array_stddev_model, average_array_model_ll_coords\n",
    "        \n"
   ]
  },
  {
   "cell_type": "code",
   "execution_count": 45,
   "metadata": {},
   "outputs": [
    {
     "name": "stdout",
     "output_type": "stream",
     "text": [
      "BoostingRegressor(\n",
      "  (model): Sequential(\n",
      "    (0): Linear(in_features=2048, out_features=94, bias=True)\n",
      "    (1): ReLU()\n",
      "    (2): Dropout(p=0.20156072200248576, inplace=False)\n",
      "    (3): Linear(in_features=94, out_features=94, bias=True)\n",
      "    (4): ReLU()\n",
      "    (5): Dropout(p=0.20156072200248576, inplace=False)\n",
      "    (6): Linear(in_features=94, out_features=94, bias=True)\n",
      "    (7): ReLU()\n",
      "    (8): Dropout(p=0.20156072200248576, inplace=False)\n",
      "    (9): Linear(in_features=94, out_features=1, bias=True)\n",
      "  )\n",
      ")\n",
      "module 'src.utils' has no attribute 'hessian_wag'\n",
      "module 'src.utils' has no attribute 'hessian_wag'\n",
      "module 'src.utils' has no attribute 'hessian_wag'\n",
      "module 'src.utils' has no attribute 'hessian_wag'\n",
      "module 'src.utils' has no attribute 'hessian_wag'\n",
      "module 'src.utils' has no attribute 'hessian_wag'\n",
      "module 'src.utils' has no attribute 'hessian_wag'\n",
      "module 'src.utils' has no attribute 'hessian_wag'\n",
      "module 'src.utils' has no attribute 'hessian_wag'\n",
      "module 'src.utils' has no attribute 'hessian_wag'\n",
      "module 'src.utils' has no attribute 'hessian_wag'\n",
      "module 'src.utils' has no attribute 'hessian_wag'\n",
      "module 'src.utils' has no attribute 'hessian_wag'\n",
      "module 'src.utils' has no attribute 'hessian_wag'\n",
      "module 'src.utils' has no attribute 'hessian_wag'\n",
      "module 'src.utils' has no attribute 'hessian_wag'\n",
      "module 'src.utils' has no attribute 'hessian_wag'\n",
      "module 'src.utils' has no attribute 'hessian_wag'\n",
      "module 'src.utils' has no attribute 'hessian_wag'\n",
      "module 'src.utils' has no attribute 'hessian_wag'\n",
      "module 'src.utils' has no attribute 'hessian_wag'\n",
      "module 'src.utils' has no attribute 'hessian_wag'\n",
      "module 'src.utils' has no attribute 'hessian_wag'\n",
      "module 'src.utils' has no attribute 'hessian_wag'\n",
      "module 'src.utils' has no attribute 'hessian_wag'\n",
      "module 'src.utils' has no attribute 'hessian_wag'\n",
      "module 'src.utils' has no attribute 'hessian_wag'\n",
      "module 'src.utils' has no attribute 'hessian_wag'\n"
     ]
    },
    {
     "ename": "ValueError",
     "evalue": "need at least one array to stack",
     "output_type": "error",
     "traceback": [
      "\u001b[0;31m---------------------------------------------------------------------------\u001b[0m",
      "\u001b[0;31mValueError\u001b[0m                                Traceback (most recent call last)",
      "Cell \u001b[0;32mIn[45], line 4\u001b[0m\n\u001b[1;32m      1\u001b[0m X_train_tensor \u001b[38;5;241m=\u001b[39m torch\u001b[38;5;241m.\u001b[39mtensor(X_train, dtype\u001b[38;5;241m=\u001b[39mtorch\u001b[38;5;241m.\u001b[39mfloat32)\n\u001b[1;32m      2\u001b[0m y_train_tensor \u001b[38;5;241m=\u001b[39m torch\u001b[38;5;241m.\u001b[39mtensor(y_train, dtype\u001b[38;5;241m=\u001b[39mtorch\u001b[38;5;241m.\u001b[39mfloat32)\u001b[38;5;241m.\u001b[39mview(\u001b[38;5;241m-\u001b[39m\u001b[38;5;241m1\u001b[39m, \u001b[38;5;241m1\u001b[39m)\n\u001b[0;32m----> 4\u001b[0m loss_landscape, mu_model, stddev_model, model_loci \u001b[38;5;241m=\u001b[39m \u001b[43mget_hessian_wag\u001b[49m\u001b[43m(\u001b[49m\n\u001b[1;32m      5\u001b[0m \u001b[43m    \u001b[49m\u001b[43mtrain_loader\u001b[49m\u001b[43m,\u001b[49m\u001b[43m \u001b[49m\u001b[43mloss_func\u001b[49m\u001b[43m,\u001b[49m\u001b[43m \u001b[49m\u001b[43mfunc\u001b[49m\u001b[43m,\u001b[49m\u001b[43m \u001b[49m\u001b[43mSTEPS\u001b[49m\u001b[43m,\u001b[49m\u001b[43m \u001b[49m\n\u001b[1;32m      6\u001b[0m \u001b[43m    \u001b[49m\u001b[43mmodel_eig_max\u001b[49m\u001b[43m,\u001b[49m\u001b[43m \u001b[49m\u001b[43mmodel_eig_min\u001b[49m\u001b[43m,\u001b[49m\u001b[43m \u001b[49m\u001b[43mloss_threshold\u001b[49m\u001b[38;5;241;43m=\u001b[39;49m\u001b[43mloss_threshold\u001b[49m\n\u001b[1;32m      7\u001b[0m \u001b[43m    \u001b[49m\u001b[43m)\u001b[49m\n",
      "Cell \u001b[0;32mIn[44], line 52\u001b[0m, in \u001b[0;36mget_hessian_wag\u001b[0;34m(data_loader, loss_func, func, STEPS, model_end_one, model_end_two, loss_threshold)\u001b[0m\n\u001b[1;32m     49\u001b[0m         \u001b[38;5;28mprint\u001b[39m(e)\n\u001b[1;32m     51\u001b[0m \u001b[38;5;66;03m# Convert list to a NumPy array (3D array)\u001b[39;00m\n\u001b[0;32m---> 52\u001b[0m stacked_arrays_loss_landscapes \u001b[38;5;241m=\u001b[39m \u001b[43mnp\u001b[49m\u001b[38;5;241;43m.\u001b[39;49m\u001b[43mstack\u001b[49m\u001b[43m(\u001b[49m\u001b[43mloss_landscapes_list\u001b[49m\u001b[43m)\u001b[49m  \u001b[38;5;66;03m# Shape: (num_arrays, rows, cols)\u001b[39;00m\n\u001b[1;32m     53\u001b[0m stacked_arrays_mu_models \u001b[38;5;241m=\u001b[39m np\u001b[38;5;241m.\u001b[39mstack(mu_model_list)\n\u001b[1;32m     54\u001b[0m stacked_arrays_stddev_model \u001b[38;5;241m=\u001b[39m np\u001b[38;5;241m.\u001b[39mstack(stddev_model_list)\n",
      "File \u001b[0;32m~/.conda/envs/loss_landscapes_demo/lib/python3.10/site-packages/numpy/core/shape_base.py:445\u001b[0m, in \u001b[0;36mstack\u001b[0;34m(arrays, axis, out, dtype, casting)\u001b[0m\n\u001b[1;32m    443\u001b[0m arrays \u001b[38;5;241m=\u001b[39m [asanyarray(arr) \u001b[38;5;28;01mfor\u001b[39;00m arr \u001b[38;5;129;01min\u001b[39;00m arrays]\n\u001b[1;32m    444\u001b[0m \u001b[38;5;28;01mif\u001b[39;00m \u001b[38;5;129;01mnot\u001b[39;00m arrays:\n\u001b[0;32m--> 445\u001b[0m     \u001b[38;5;28;01mraise\u001b[39;00m \u001b[38;5;167;01mValueError\u001b[39;00m(\u001b[38;5;124m'\u001b[39m\u001b[38;5;124mneed at least one array to stack\u001b[39m\u001b[38;5;124m'\u001b[39m)\n\u001b[1;32m    447\u001b[0m shapes \u001b[38;5;241m=\u001b[39m {arr\u001b[38;5;241m.\u001b[39mshape \u001b[38;5;28;01mfor\u001b[39;00m arr \u001b[38;5;129;01min\u001b[39;00m arrays}\n\u001b[1;32m    448\u001b[0m \u001b[38;5;28;01mif\u001b[39;00m \u001b[38;5;28mlen\u001b[39m(shapes) \u001b[38;5;241m!=\u001b[39m \u001b[38;5;241m1\u001b[39m:\n",
      "\u001b[0;31mValueError\u001b[0m: need at least one array to stack"
     ]
    }
   ],
   "source": [
    "X_train_tensor = torch.tensor(X_train, dtype=torch.float32)\n",
    "y_train_tensor = torch.tensor(y_train, dtype=torch.float32).view(-1, 1)\n",
    "\n",
    "loss_landscape, mu_model, stddev_model, model_loci = get_hessian_wag(\n",
    "    train_loader, loss_func, func, STEPS, \n",
    "    model_eig_max, model_eig_min, loss_threshold=loss_threshold\n",
    "    )"
   ]
  },
  {
   "cell_type": "code",
   "execution_count": 41,
   "metadata": {},
   "outputs": [],
   "source": [
    "# move loss_landscapes to cpu\n",
    "loss_landscape_off_gpu = []\n",
    "\n",
    "for row in loss_landscape:\n",
    "    tmp_row = []\n",
    "    for itm in row:\n",
    "        tmp_row.append(itm.detach().cpu().numpy())\n",
    "    loss_landscape_off_gpu.append(tmp_row)"
   ]
  },
  {
   "cell_type": "code",
   "execution_count": 42,
   "metadata": {},
   "outputs": [
    {
     "data": {
      "image/png": "[encoded data removed]",
      "text/plain": [
       "<Figure size 640x480 with 2 Axes>"
      ]
     },
     "metadata": {},
     "output_type": "display_data"
    }
   ],
   "source": [
    "save_fig_name = os.path.join('loss_contours.png')\n",
    "fig, ax = plt.subplots(1, 1)\n",
    "plt.imshow(np.log10(loss_landscape_off_gpu), origin='lower', cmap='jet')\n",
    "ax.set_title('Loss Contours \\n'+ r'$L(\\theta + \\alpha i + \\beta j$)')\n",
    "ax.axis('square')\n",
    "ax.set_xlabel(r'$\\alpha$')\n",
    "ax.set_ylabel(r'$\\beta$')\n",
    "plt.colorbar()\n",
    "fig.savefig(save_fig_name, transparent=True, dpi=300)\n",
    "plt.show()"
   ]
  },
  {
   "cell_type": "code",
   "execution_count": 43,
   "metadata": {},
   "outputs": [
    {
     "data": {
      "image/png": "[encoded data removed]",
      "text/plain": [
       "<Figure size 800x400 with 2 Axes>"
      ]
     },
     "metadata": {},
     "output_type": "display_data"
    },
    {
     "name": "stdout",
     "output_type": "stream",
     "text": [
      "avg wt val:  1.7287125096372333\n",
      "std wt val:  559.4174772002824\n"
     ]
    }
   ],
   "source": [
    "plot_model_wt_dist(model.to('cpu'))"
   ]
  },
  {
   "cell_type": "code",
   "execution_count": 44,
   "metadata": {},
   "outputs": [
    {
     "data": {
      "image/png": "[encoded data removed]",
      "text/plain": [
       "<Figure size 800x400 with 2 Axes>"
      ]
     },
     "metadata": {},
     "output_type": "display_data"
    },
    {
     "name": "stdout",
     "output_type": "stream",
     "text": [
      "avg wt val:  0.017353193322972867\n",
      "std wt val:  5.7069229799568735\n"
     ]
    }
   ],
   "source": [
    "plot_model_wt_dist(mu_model.to('cpu'))"
   ]
  },
  {
   "cell_type": "code",
   "execution_count": null,
   "metadata": {},
   "outputs": [],
   "source": [
    "# This cell will fail if there is an issue calculating the standard deviation\n",
    "## Typically occurs due to NaN values in the standard deviation\n",
    "plot_model_wt_dist(stddev_model.to('cpu'))"
   ]
  },
  {
   "cell_type": "code",
   "execution_count": 46,
   "metadata": {},
   "outputs": [
    {
     "data": {
      "image/png": "[encoded data removed]",
      "text/plain": [
       "<Figure size 800x400 with 2 Axes>"
      ]
     },
     "metadata": {},
     "output_type": "display_data"
    },
    {
     "name": "stdout",
     "output_type": "stream",
     "text": [
      "avg wt val:  1.4821763145277376\n",
      "std wt val:  559.3512725331905\n"
     ]
    }
   ],
   "source": [
    "# This is how to generate and view the distribution of a single model generated from the distribution\n",
    "sampled_model = get_sample_from_normal_dist_of_models(mu_model, stddev_model, model)\n",
    "plot_model_wt_dist(sampled_model)"
   ]
  },
  {
   "cell_type": "code",
   "execution_count": 50,
   "metadata": {},
   "outputs": [],
   "source": [
    "def get_prediction_var(data_loader, mu_model, stddev_model, model):\n",
    "    sampled_model = get_sample_from_normal_dist_of_models(mu_model, stddev_model, model)\n",
    "    sampled_model.to(device)\n",
    "    model_new_train_predictions = []\n",
    "    original_train_targets = []\n",
    "    for s in tqdm(data_loader):\n",
    "        original_train_targets.append(s[2].detach().numpy()[0])\n",
    "        y_pred = np.expand_dims(sampled_model([s[0].to(device), s[1].to(device)]).cpu().detach().numpy(), axis=0)[0]\n",
    "        model_new_train_predictions.append(y_pred)\n",
    "\n",
    "    return model_new_train_predictions    "
   ]
  },
  {
   "cell_type": "code",
   "execution_count": null,
   "metadata": {},
   "outputs": [],
   "source": [
    "pred_set = []\n",
    "for _ in range(30):\n",
    "    new_pred = get_prediction_var(train_dataloader, mu_model, stddev_model, model)\n",
    "    pred_set.append(new_pred)\n"
   ]
  },
  {
   "cell_type": "code",
   "execution_count": null,
   "metadata": {},
   "outputs": [],
   "source": [
    "test_pred_set = []\n",
    "for _ in range(30):\n",
    "    new_pred = get_prediction_var(test_dataloader, mu_model, stddev_model, model)\n",
    "    test_pred_set.append(new_pred)"
   ]
  },
  {
   "cell_type": "code",
   "execution_count": null,
   "metadata": {},
   "outputs": [],
   "source": [
    "fig, ax = plt.subplot(1, 1)\n",
    "ax.hist(np.var(np.array(pred_set), axis=0), bins=25, alpha=0.5)\n",
    "ax.hist(np.var(np.array(test_pred_set), axis=0), bins=25, alpha=0.5)\n",
    "plt.show()"
   ]
  }
 ],
 "metadata": {
  "kernelspec": {
   "display_name": "loss_landscapes_demo",
   "language": "python",
   "name": "python3"
  },
  "language_info": {
   "codemirror_mode": {
    "name": "ipython",
    "version": 3
   },
   "file_extension": ".py",
   "mimetype": "text/x-python",
   "name": "python",
   "nbconvert_exporter": "python",
   "pygments_lexer": "ipython3",
   "version": "3.10.0"
  }
 },
 "nbformat": 4,
 "nbformat_minor": 2
}
