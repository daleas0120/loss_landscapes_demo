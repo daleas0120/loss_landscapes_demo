{
 "cells": [
  {
   "cell_type": "markdown",
   "metadata": {},
   "source": [
    "# Hessian Weight Averaged Gaussian Calculation of Prediction Uncertainty\n",
    "\n",
    "Ashley S. Dale\n",
    "\n",
    "Notebook loads a pretrained ALIGNN model, and calculates the uncertainty in model predictions using Hessian Loss Landscapes.\n",
    "\n",
    "- Relevant Paper: [*A Simple Baseline for Bayesian Uncertainty in Deep Learning* by Maddox et al.](https://proceedings.neurips.cc/paper_files/paper/2019/hash/118921efba23fc329e6560b27861f0c2-Abstract.html)\n",
    "- Relevant Paper: [*Stochastic Weight Perturbations Along the Hessian: A Plug-and-Play Method to Compute Uncertainty* by Ravishankar et al.](https://link.springer.com/chapter/10.1007/978-3-031-16749-2_8). \n",
    "\n",
    "Instead of using SGD to obtain an ensemble of models from which to calculate a distribution $\\mathcal{N}(\\mu_{\\theta}, \\sigma_{\\theta})$, where $\\theta$ represents the set of all parameters in the ensemble, this code uses the loss landscape to identify which models have similar performance.\n",
    "\n",
    "---\n",
    "\n",
    "Notebook Outline:\n",
    "\n",
    "0. Select and load trained model and data\n",
    "\n",
    "0. Generate a set of predictions for the data\n",
    "\n",
    "0. Select a subset of well predicted instances to be \"In Distribution\" (ID) based on the z-score of the prediction error, where low z-score represents well predicted and therefore in-distribution\n",
    "\n",
    "0. Select a subset of poorly predicted instances to be \"Out of Distribution\" (OOD) based on the z-score of the prediction error, where a high z-score represents poorly predicted samples that are therefore out-of-distribution\n",
    "\n",
    "0. Calculate two eigenvectors of the Hessian for the model weights\n",
    "\n",
    "0. Calculate the loss landscape, an average model from the loss landscape, and a standard deviation of the models used for the average\n",
    "\n",
    "0. Use the average model and the standard deviation model to create an distribution of models \n",
    "\n",
    "0. Sample the distribution of models to generate new models with similar performance as the original model\n",
    "\n",
    "0. Use the sampled model to generate new sets of predictions for each sample in the dataset\n",
    "\n",
    "0. Find the standard deviation of the set of predictions for each sample in the dataset"
   ]
  },
  {
   "cell_type": "code",
   "execution_count": 1,
   "metadata": {},
   "outputs": [],
   "source": [
    "import copy\n",
    "import torch\n",
    "import glob\n",
    "import json\n",
    "\n",
    "import numpy as np\n",
    "from tqdm import tqdm\n",
    "import matplotlib.pyplot as plt\n",
    "from pandas import DataFrame\n",
    "import ipywidgets as widgets\n",
    "\n",
    "from alignn.pretrained import *\n",
    "\n",
    "from src.utils import *\n",
    "from src import botcher_hessian_alignn as hess\n",
    "from src import botcher_utilities as util\n",
    "from src.hessian_wag import get_hessian_wag\n",
    "from src.hessian_wag import get_sample_from_normal_dist_of_models"
   ]
  },
  {
   "cell_type": "code",
   "execution_count": 2,
   "metadata": {},
   "outputs": [],
   "source": [
    "device = 'cpu'"
   ]
  },
  {
   "cell_type": "markdown",
   "metadata": {},
   "source": [
    "# Load Model"
   ]
  },
  {
   "cell_type": "markdown",
   "metadata": {},
   "source": [
    "-> Select the `jv_formation_energy_peratom_alignn` model for the demo"
   ]
  },
  {
   "cell_type": "code",
   "execution_count": 3,
   "metadata": {},
   "outputs": [
    {
     "data": {
      "application/vnd.jupyter.widget-view+json": {
       "model_id": "d787c51a1de746d487dbac8d7ac9641e",
       "version_major": 2,
       "version_minor": 0
      },
      "text/plain": [
       "Dropdown(description='Select Model', options=('jv_formation_energy_peratom_alignn', 'jv_optb88vdw_total_energy…"
      ]
     },
     "metadata": {},
     "output_type": "display_data"
    }
   ],
   "source": [
    "style = {'description_width': 'initial'}\n",
    "\n",
    "config_selector = widgets.Dropdown(\n",
    "    options=list(get_all_models().keys()),\n",
    "    value=list(get_all_models().keys())[0],\n",
    "    description='Select Model',\n",
    "    style=style,\n",
    "    disabled=False,\n",
    ")\n",
    "\n",
    "display(config_selector)"
   ]
  },
  {
   "cell_type": "code",
   "execution_count": 4,
   "metadata": {},
   "outputs": [
    {
     "name": "stdout",
     "output_type": "stream",
     "text": [
      "Selected:  jv_formation_energy_peratom_alignn\n"
     ]
    }
   ],
   "source": [
    "# This is the model we will load\n",
    "model_name = config_selector.value\n",
    "print(\"Selected: \", model_name)"
   ]
  },
  {
   "cell_type": "code",
   "execution_count": 5,
   "metadata": {},
   "outputs": [
    {
     "name": "stdout",
     "output_type": "stream",
     "text": [
      "Using chk file jv_formation_energy_peratom_alignn/checkpoint_300.pt from  ['jv_formation_energy_peratom_alignn/checkpoint_300.pt']\n",
      "Path /Users/ashley/miniconda/envs/loss_landscapes_demo/lib/python3.10/site-packages/alignn/jv_formation_energy_peratom_alignn.zip\n",
      "Config /Users/ashley/AUTODIAL/loss_landscapes_demo/jv_formation_energy_peratom_alignn/config.json\n"
     ]
    }
   ],
   "source": [
    "model, model_wt_dict = load_pretrained_model(model_name)"
   ]
  },
  {
   "cell_type": "markdown",
   "metadata": {},
   "source": [
    "# Load Data"
   ]
  },
  {
   "cell_type": "code",
   "execution_count": 6,
   "metadata": {},
   "outputs": [],
   "source": [
    "# target = 'optb88vdw_bandgap'\n",
    "target = 'formation_energy_peratom'\n",
    "n_samples = 100 # for all samples, pass -1\n",
    "element_to_omit_from_training_data = 'Fe'"
   ]
  },
  {
   "cell_type": "code",
   "execution_count": 7,
   "metadata": {},
   "outputs": [
    {
     "name": "stdout",
     "output_type": "stream",
     "text": [
      "Obtaining 3D dataset 76k ...\n",
      "Reference:https://www.nature.com/articles/s41524-020-00440-1\n",
      "Other versions:https://doi.org/10.6084/m9.figshare.6815699\n",
      "Loading the zipfile...\n",
      "Loading completed.\n",
      "num train samples: 94\n",
      "num test samples: 6\n"
     ]
    }
   ],
   "source": [
    "train_data_list, test_data_list = load_data(\n",
    "    element_to_omit_from_training_data, n_samples\n",
    ")"
   ]
  },
  {
   "cell_type": "code",
   "execution_count": 8,
   "metadata": {},
   "outputs": [
    {
     "name": "stdout",
     "output_type": "stream",
     "text": [
      "data range 2.71694 -3.52032\n",
      "Converting to graphs!\n"
     ]
    },
    {
     "name": "stderr",
     "output_type": "stream",
     "text": [
      "100%|██████████| 94/94 [00:01<00:00, 87.34it/s]\n"
     ]
    },
    {
     "name": "stdout",
     "output_type": "stream",
     "text": [
      "df                                                 atoms     prop jid\n",
      "0   {'lattice_mat': [[3.566933224304235, 0.0, -0.0... -0.42762   0\n",
      "1   {'lattice_mat': [[4.089078911208881, 0.0, 0.0]... -0.41596   1\n",
      "2   {'lattice_mat': [[-1.833590720595598, 1.833590...  0.04847   2\n",
      "3   {'lattice_mat': [[7.2963518353359165, 0.0, 0.0... -0.44140   3\n",
      "4   {'lattice_mat': [[1.6777483798834445, -2.90594... -0.71026   4\n",
      "..                                                ...      ...  ..\n",
      "89  {'lattice_mat': [[3.4588203388948178, -5.99085... -1.05977  89\n",
      "90  {'lattice_mat': [[4.551532451660252, -1.523515... -0.45383  90\n",
      "91  {'lattice_mat': [[5.9690622474184964, -1.10662... -1.41944  91\n",
      "92  {'lattice_mat': [[4.441434772806991, 0.0, -0.0... -0.69108  92\n",
      "93  {'lattice_mat': [[4.2978053886009535, -1.21972... -0.59934  93\n",
      "\n",
      "[94 rows x 3 columns]\n",
      "warning: could not load CGCNN features for 103\n",
      "Setting it to max atomic number available here, 103\n",
      "warning: could not load CGCNN features for 101\n",
      "Setting it to max atomic number available here, 103\n",
      "warning: could not load CGCNN features for 102\n",
      "Setting it to max atomic number available here, 103\n",
      "building line graphs\n"
     ]
    },
    {
     "name": "stderr",
     "output_type": "stream",
     "text": [
      "100%|██████████| 94/94 [00:00<00:00, 2169.01it/s]\n"
     ]
    }
   ],
   "source": [
    "train_dataloader = get_data_loader(train_data_list, target)"
   ]
  },
  {
   "cell_type": "markdown",
   "metadata": {},
   "source": [
    "# Predicting on Test and Train Data"
   ]
  },
  {
   "cell_type": "code",
   "execution_count": 9,
   "metadata": {},
   "outputs": [
    {
     "name": "stderr",
     "output_type": "stream",
     "text": [
      "100%|██████████| 94/94 [00:04<00:00, 19.67it/s]\n"
     ]
    }
   ],
   "source": [
    "model_train_predictions = []\n",
    "original_train_targets = []\n",
    "for s in tqdm(train_dataloader):\n",
    "    original_train_targets.append(s[2].detach().numpy()[0])\n",
    "    y_pred = np.expand_dims(model([s[0].to(device), s[1].to(device)]).detach().numpy(), axis=0)[0]\n",
    "    model_train_predictions.append(y_pred)"
   ]
  },
  {
   "cell_type": "code",
   "execution_count": 10,
   "metadata": {},
   "outputs": [
    {
     "name": "stdout",
     "output_type": "stream",
     "text": [
      "data range 0.07844 -2.4143\n",
      "Converting to graphs!\n"
     ]
    },
    {
     "name": "stderr",
     "output_type": "stream",
     "text": [
      "100%|██████████| 6/6 [00:00<00:00, 42.51it/s]\n"
     ]
    },
    {
     "name": "stdout",
     "output_type": "stream",
     "text": [
      "df                                                atoms     prop jid\n",
      "0  {'lattice_mat': [[3.790914410660539, -0.0, 0.0... -2.07159   0\n",
      "1  {'lattice_mat': [[4.927781968323723, -0.0, 0.0... -1.78124   1\n",
      "2  {'lattice_mat': [[4.839493559425439, 9.7116505... -1.66274   2\n",
      "3  {'lattice_mat': [[5.464512229851642, 0.0, -2.0... -0.93989   3\n",
      "4  {'lattice_mat': [[4.078736102710052, 0.3455178...  0.07844   4\n",
      "5  {'lattice_mat': [[2.80754625599962, 0.0, 0.0],... -2.41430   5\n",
      "building line graphs\n"
     ]
    },
    {
     "name": "stderr",
     "output_type": "stream",
     "text": [
      "100%|██████████| 6/6 [00:00<00:00, 1333.08it/s]\n",
      "100%|██████████| 6/6 [00:00<00:00, 13.71it/s]\n"
     ]
    }
   ],
   "source": [
    "test_dataloader = get_data_loader(test_data_list, target)\n",
    "\n",
    "model_test_predictions = []\n",
    "original_test_targets = []\n",
    "for s in tqdm(test_dataloader):\n",
    "    original_test_targets.append(s[2].detach().numpy()[0])\n",
    "    y_pred = np.expand_dims(model([s[0].to(device), s[1].to(device)]).detach().numpy(), axis=0)[0]\n",
    "    model_test_predictions.append(y_pred)\n"
   ]
  },
  {
   "cell_type": "markdown",
   "metadata": {},
   "source": [
    "## Subselect Train Data Samples: Most ID (Minimum Error)"
   ]
  },
  {
   "cell_type": "code",
   "execution_count": 11,
   "metadata": {},
   "outputs": [],
   "source": [
    "train_df = pd.DataFrame(train_data_list)\n",
    "train_df['pred_val'] = model_train_predictions\n",
    "train_df['err'] = (train_df[target] - train_df['pred_val'])\n",
    "train_df['abs_err'] = np.abs(train_df[target] - train_df['pred_val'])\n",
    "train_df['z_score_err'] = (train_df['abs_err'] - np.mean(train_df['abs_err']))/np.std(train_df['abs_err'])"
   ]
  },
  {
   "cell_type": "code",
   "execution_count": 12,
   "metadata": {},
   "outputs": [
    {
     "name": "stdout",
     "output_type": "stream",
     "text": [
      "data range 2.71694 -2.05294\n",
      "Converting to graphs!\n"
     ]
    },
    {
     "name": "stderr",
     "output_type": "stream",
     "text": [
      "100%|██████████| 10/10 [00:00<00:00, 88.55it/s]\n"
     ]
    },
    {
     "name": "stdout",
     "output_type": "stream",
     "text": [
      "df                                                atoms     prop jid\n",
      "0  {'lattice_mat': [[10.725911963093319, 1.159968... -0.34176   0\n",
      "1  {'lattice_mat': [[-0.0, 4.981020994615496, 4.9...  0.65832   1\n",
      "2  {'lattice_mat': [[0.0, 5.104615296684174, 5.10...  0.35284   2\n",
      "3  {'lattice_mat': [[4.927229198330356, -0.0, -0.... -1.32124   3\n",
      "4  {'lattice_mat': [[-3.8661597507471313, -3.8661...  2.71694   4\n",
      "5  {'lattice_mat': [[4.376835486482439, 0.0086562... -0.00064   5\n",
      "6  {'lattice_mat': [[4.284492173131309, 1.636192e... -0.42539   6\n",
      "7  {'lattice_mat': [[4.441434772806991, 0.0, -0.0... -0.69108   7\n",
      "8  {'lattice_mat': [[1.6712283e-08, -2.5080296697...  0.00009   8\n",
      "9  {'lattice_mat': [[5.194393535053021, 0.0345773... -2.05294   9\n",
      "building line graphs\n"
     ]
    },
    {
     "name": "stderr",
     "output_type": "stream",
     "text": [
      "100%|██████████| 10/10 [00:00<00:00, 2084.23it/s]\n"
     ]
    }
   ],
   "source": [
    "train_subset_dataloader = load_zscore_sample(train_df, train_data_list, 10, target, 'low')"
   ]
  },
  {
   "cell_type": "code",
   "execution_count": 13,
   "metadata": {},
   "outputs": [
    {
     "data": {
      "image/png": "[encoded data removed]",
      "text/plain": [
       "<Figure size 640x480 with 1 Axes>"
      ]
     },
     "metadata": {},
     "output_type": "display_data"
    }
   ],
   "source": [
    "plt.hist(train_df['z_score_err'].values, bins=100)\n",
    "plt.title('Train Set Predictions (Omitting '+element_to_omit_from_training_data+')')\n",
    "plt.xlabel('Value')\n",
    "plt.ylabel('Count')\n",
    "plt.show()"
   ]
  },
  {
   "cell_type": "code",
   "execution_count": 14,
   "metadata": {},
   "outputs": [],
   "source": [
    "subset_train_x = []\n",
    "subset_train_y = []\n",
    "\n",
    "for i in train_subset_dataloader:\n",
    "    subset_train_x.append((i[0], i[1]))\n",
    "    subset_train_y.append(i[2])"
   ]
  },
  {
   "cell_type": "markdown",
   "metadata": {},
   "source": [
    "## Subselect Test Samples - Most OOD (Maximum Error)"
   ]
  },
  {
   "cell_type": "code",
   "execution_count": 15,
   "metadata": {},
   "outputs": [],
   "source": [
    "test_df = pd.DataFrame(test_data_list)\n",
    "test_df['pred_val'] = model_test_predictions\n",
    "test_df['err'] = (test_df[target] - test_df['pred_val'])\n",
    "test_df['abs_err'] = np.abs(test_df[target] - test_df['pred_val'])\n",
    "test_df['z_score_err'] = (test_df['abs_err'] - np.mean(train_df['abs_err']))/np.std(train_df['abs_err'])"
   ]
  },
  {
   "cell_type": "code",
   "execution_count": 16,
   "metadata": {},
   "outputs": [
    {
     "name": "stdout",
     "output_type": "stream",
     "text": [
      "data range 0.07844 -2.4143\n",
      "Converting to graphs!\n"
     ]
    },
    {
     "name": "stderr",
     "output_type": "stream",
     "text": [
      "100%|██████████| 6/6 [00:00<00:00, 57.99it/s]\n"
     ]
    },
    {
     "name": "stdout",
     "output_type": "stream",
     "text": [
      "df                                                atoms     prop jid\n",
      "0  {'lattice_mat': [[3.790914410660539, -0.0, 0.0... -2.07159   0\n",
      "1  {'lattice_mat': [[4.078736102710052, 0.3455178...  0.07844   1\n",
      "2  {'lattice_mat': [[4.839493559425439, 9.7116505... -1.66274   2\n",
      "3  {'lattice_mat': [[4.927781968323723, -0.0, 0.0... -1.78124   3\n",
      "4  {'lattice_mat': [[2.80754625599962, 0.0, 0.0],... -2.41430   4\n",
      "5  {'lattice_mat': [[5.464512229851642, 0.0, -2.0... -0.93989   5\n",
      "building line graphs\n"
     ]
    },
    {
     "name": "stderr",
     "output_type": "stream",
     "text": [
      "100%|██████████| 6/6 [00:00<00:00, 1341.10it/s]\n"
     ]
    }
   ],
   "source": [
    "test_subset_dataloader = load_zscore_sample(test_df, test_data_list, 10, target, 'high')"
   ]
  },
  {
   "cell_type": "code",
   "execution_count": 17,
   "metadata": {},
   "outputs": [
    {
     "data": {
      "image/png": "[encoded data removed]",
      "text/plain": [
       "<Figure size 640x480 with 1 Axes>"
      ]
     },
     "metadata": {},
     "output_type": "display_data"
    }
   ],
   "source": [
    "plt.hist(test_df['z_score_err'].values, bins=100)\n",
    "plt.title('Test Set Predictions (Exclusively '+element_to_omit_from_training_data+')')\n",
    "plt.xlabel('Value')\n",
    "plt.ylabel('Count')\n",
    "plt.show()"
   ]
  },
  {
   "cell_type": "markdown",
   "metadata": {},
   "source": [
    "# Getting the Hessian Eigenvectors"
   ]
  },
  {
   "cell_type": "code",
   "execution_count": 18,
   "metadata": {},
   "outputs": [],
   "source": [
    "### Defaults from OG implementation\n",
    "loss_func = torch.nn.MSELoss()\n",
    "func = copy.deepcopy(model)"
   ]
  },
  {
   "cell_type": "markdown",
   "metadata": {},
   "source": [
    "This next cell calculates the eigenvectors, and can take considerable time (upwards of 40 minutes)"
   ]
  },
  {
   "cell_type": "code",
   "execution_count": 19,
   "metadata": {},
   "outputs": [
    {
     "name": "stdout",
     "output_type": "stream",
     "text": [
      "3996416\n",
      "<All keys matched successfully>\n",
      "<All keys matched successfully>\n"
     ]
    }
   ],
   "source": [
    "train_hess_1, train_hess_2 = get_hessians(func, train_subset_dataloader, model_wt_dict, loss_func)"
   ]
  },
  {
   "cell_type": "markdown",
   "metadata": {},
   "source": [
    "# Create 2D Directed Loss Surface"
   ]
  },
  {
   "cell_type": "code",
   "execution_count": 20,
   "metadata": {},
   "outputs": [],
   "source": [
    "STEPS = 10"
   ]
  },
  {
   "cell_type": "code",
   "execution_count": 21,
   "metadata": {},
   "outputs": [
    {
     "name": "stderr",
     "output_type": "stream",
     "text": [
      "Getting Averaged Model: 100%|██████████| 10/10 [01:52<00:00, 11.24s/it]\n"
     ]
    },
    {
     "name": "stdout",
     "output_type": "stream",
     "text": [
      "get normed model issue\n",
      "get normed model issue\n",
      "get normed model issue\n",
      "get normed model issue\n",
      "get normed model issue\n",
      "get normed model issue\n",
      "get normed model issue\n",
      "get normed model issue\n",
      "get normed model issue\n",
      "get normed model issue\n",
      "get normed model issue\n",
      "get normed model issue\n",
      "get normed model issue\n",
      "get normed model issue\n",
      "get normed model issue\n",
      "get normed model issue\n",
      "get normed model issue\n",
      "get normed model issue\n",
      "get normed model issue\n",
      "get normed model issue\n",
      "get normed model issue\n",
      "get normed model issue\n",
      "get normed model issue\n",
      "get normed model issue\n",
      "get normed model issue\n",
      "get normed model issue\n",
      "get normed model issue\n",
      "get normed model issue\n",
      "get normed model issue\n",
      "get normed model issue\n",
      "get normed model issue\n",
      "get normed model issue\n",
      "get normed model issue\n",
      "get normed model issue\n",
      "get normed model issue\n",
      "get normed model issue\n",
      "get normed model issue\n",
      "get normed model issue\n",
      "get normed model issue\n",
      "get normed model issue\n",
      "get normed model issue\n",
      "get normed model issue\n",
      "get normed model issue\n",
      "get normed model issue\n",
      "get normed model issue\n",
      "get normed model issue\n",
      "get normed model issue\n",
      "get normed model issue\n",
      "get normed model issue\n",
      "get normed model issue\n",
      "get normed model issue\n",
      "get normed model issue\n",
      "get normed model issue\n",
      "get normed model issue\n",
      "get normed model issue\n",
      "get normed model issue\n",
      "get normed model issue\n",
      "get normed model issue\n",
      "get normed model issue\n",
      "get normed model issue\n",
      "get normed model issue\n",
      "get normed model issue\n",
      "get normed model issue\n",
      "get normed model issue\n",
      "get normed model issue\n",
      "get normed model issue\n",
      "get normed model issue\n",
      "get normed model issue\n",
      "get normed model issue\n",
      "get normed model issue\n",
      "get normed model issue\n",
      "get normed model issue\n",
      "get normed model issue\n",
      "get normed model issue\n",
      "get normed model issue\n",
      "get normed model issue\n",
      "get normed model issue\n",
      "get normed model issue\n",
      "get normed model issue\n",
      "get normed model issue\n",
      "get normed model issue\n",
      "get normed model issue\n",
      "get normed model issue\n",
      "get normed model issue\n",
      "get normed model issue\n",
      "get normed model issue\n",
      "get normed model issue\n",
      "get normed model issue\n",
      "get normed model issue\n",
      "get normed model issue\n",
      "get normed model issue\n",
      "get normed model issue\n",
      "get normed model issue\n",
      "get normed model issue\n",
      "get normed model issue\n",
      "get normed model issue\n",
      "get normed model issue\n",
      "get normed model issue\n",
      "get normed model issue\n",
      "get normed model issue\n",
      "get normed model issue\n",
      "get normed model issue\n",
      "get normed model issue\n",
      "get normed model issue\n",
      "get normed model issue\n",
      "get normed model issue\n",
      "get normed model issue\n",
      "get normed model issue\n",
      "get normed model issue\n",
      "get normed model issue\n",
      "get normed model issue\n",
      "get normed model issue\n",
      "get normed model issue\n",
      "get normed model issue\n",
      "get normed model issue\n",
      "get normed model issue\n",
      "get normed model issue\n",
      "get normed model issue\n",
      "get normed model issue\n",
      "get normed model issue\n",
      "get normed model issue\n",
      "get normed model issue\n",
      "get normed model issue\n",
      "get normed model issue\n",
      "get normed model issue\n",
      "get normed model issue\n",
      "get normed model issue\n",
      "get normed model issue\n",
      "get normed model issue\n",
      "get normed model issue\n",
      "get normed model issue\n",
      "get normed model issue\n",
      "get normed model issue\n",
      "get normed model issue\n",
      "get normed model issue\n",
      "get normed model issue\n",
      "get normed model issue\n",
      "get normed model issue\n",
      "get normed model issue\n",
      "get normed model issue\n",
      "get normed model issue\n",
      "get normed model issue\n",
      "get normed model issue\n",
      "get normed model issue\n",
      "get normed model issue\n",
      "get normed model issue\n",
      "get normed model issue\n",
      "get normed model issue\n",
      "get normed model issue\n",
      "get normed model issue\n",
      "get normed model issue\n",
      "get normed model issue\n",
      "get normed model issue\n",
      "get normed model issue\n",
      "get normed model issue\n",
      "get normed model issue\n",
      "get normed model issue\n",
      "get normed model issue\n",
      "get normed model issue\n",
      "get normed model issue\n",
      "get normed model issue\n",
      "get normed model issue\n",
      "get normed model issue\n",
      "get normed model issue\n",
      "get normed model issue\n",
      "get normed model issue\n",
      "get normed model issue\n",
      "get normed model issue\n",
      "get normed model issue\n",
      "get normed model issue\n",
      "get normed model issue\n",
      "get normed model issue\n",
      "get normed model issue\n",
      "get normed model issue\n",
      "get normed model issue\n",
      "get normed model issue\n",
      "get normed model issue\n",
      "get normed model issue\n",
      "get normed model issue\n",
      "get normed model issue\n",
      "get normed model issue\n",
      "get normed model issue\n",
      "get normed model issue\n",
      "get normed model issue\n",
      "get normed model issue\n",
      "get normed model issue\n",
      "get normed model issue\n",
      "get normed model issue\n",
      "get normed model issue\n",
      "get normed model issue\n",
      "get normed model issue\n",
      "scalar for scaled model:  88\n",
      "layer_name  atom_embedding.layer.0.weight has negative value\n",
      "layer_name  atom_embedding.layer.0.bias has negative value\n",
      "layer_name  atom_embedding.layer.1.bias has negative value\n",
      "layer_name  atom_embedding.layer.1.running_mean has negative value\n",
      "layer_name  edge_embedding.0.centers has negative value\n",
      "layer_name  edge_embedding.1.layer.0.weight has negative value\n",
      "layer_name  edge_embedding.1.layer.0.bias has negative value\n",
      "layer_name  edge_embedding.1.layer.1.bias has negative value\n",
      "layer_name  edge_embedding.1.layer.1.running_mean has negative value\n",
      "layer_name  edge_embedding.2.layer.0.weight has negative value\n",
      "layer_name  edge_embedding.2.layer.0.bias has negative value\n",
      "layer_name  edge_embedding.2.layer.1.bias has negative value\n",
      "layer_name  angle_embedding.1.layer.0.weight has negative value\n",
      "layer_name  angle_embedding.1.layer.0.bias has negative value\n",
      "layer_name  angle_embedding.2.layer.0.weight has negative value\n",
      "layer_name  angle_embedding.2.layer.0.bias has negative value\n",
      "layer_name  angle_embedding.2.layer.1.bias has negative value\n",
      "layer_name  angle_embedding.2.layer.1.running_mean has negative value\n",
      "layer_name  alignn_layers.0.node_update.src_gate.weight has negative value\n",
      "layer_name  alignn_layers.0.node_update.src_gate.bias has negative value\n",
      "layer_name  alignn_layers.0.node_update.dst_gate.weight has negative value\n",
      "layer_name  alignn_layers.0.node_update.dst_gate.bias has negative value\n",
      "layer_name  alignn_layers.0.node_update.edge_gate.weight has negative value\n",
      "layer_name  alignn_layers.0.node_update.edge_gate.bias has negative value\n",
      "layer_name  alignn_layers.0.node_update.bn_edges.running_mean has negative value\n",
      "layer_name  alignn_layers.0.node_update.src_update.weight has negative value\n",
      "layer_name  alignn_layers.0.node_update.src_update.bias has negative value\n",
      "layer_name  alignn_layers.0.node_update.dst_update.weight has negative value\n",
      "layer_name  alignn_layers.0.node_update.dst_update.bias has negative value\n",
      "layer_name  alignn_layers.0.node_update.bn_nodes.running_mean has negative value\n",
      "layer_name  alignn_layers.0.edge_update.src_gate.weight has negative value\n",
      "layer_name  alignn_layers.0.edge_update.src_gate.bias has negative value\n",
      "layer_name  alignn_layers.0.edge_update.dst_gate.weight has negative value\n",
      "layer_name  alignn_layers.0.edge_update.dst_gate.bias has negative value\n",
      "layer_name  alignn_layers.0.edge_update.edge_gate.weight has negative value\n",
      "layer_name  alignn_layers.0.edge_update.edge_gate.bias has negative value\n",
      "layer_name  alignn_layers.0.edge_update.bn_edges.bias has negative value\n",
      "layer_name  alignn_layers.0.edge_update.src_update.weight has negative value\n",
      "layer_name  alignn_layers.0.edge_update.src_update.bias has negative value\n",
      "layer_name  alignn_layers.0.edge_update.dst_update.weight has negative value\n",
      "layer_name  alignn_layers.0.edge_update.dst_update.bias has negative value\n",
      "layer_name  alignn_layers.1.node_update.src_gate.weight has negative value\n",
      "layer_name  alignn_layers.1.node_update.src_gate.bias has negative value\n",
      "layer_name  alignn_layers.1.node_update.dst_gate.weight has negative value\n",
      "layer_name  alignn_layers.1.node_update.dst_gate.bias has negative value\n",
      "layer_name  alignn_layers.1.node_update.edge_gate.weight has negative value\n",
      "layer_name  alignn_layers.1.node_update.edge_gate.bias has negative value\n",
      "layer_name  alignn_layers.1.node_update.bn_edges.running_mean has negative value\n",
      "layer_name  alignn_layers.1.node_update.src_update.weight has negative value\n",
      "layer_name  alignn_layers.1.node_update.src_update.bias has negative value\n",
      "layer_name  alignn_layers.1.node_update.dst_update.weight has negative value\n",
      "layer_name  alignn_layers.1.node_update.dst_update.bias has negative value\n",
      "layer_name  alignn_layers.1.node_update.bn_nodes.running_mean has negative value\n",
      "layer_name  alignn_layers.1.edge_update.src_gate.weight has negative value\n",
      "layer_name  alignn_layers.1.edge_update.src_gate.bias has negative value\n",
      "layer_name  alignn_layers.1.edge_update.dst_gate.weight has negative value\n",
      "layer_name  alignn_layers.1.edge_update.dst_gate.bias has negative value\n",
      "layer_name  alignn_layers.1.edge_update.edge_gate.weight has negative value\n",
      "layer_name  alignn_layers.1.edge_update.edge_gate.bias has negative value\n",
      "layer_name  alignn_layers.1.edge_update.bn_edges.bias has negative value\n",
      "layer_name  alignn_layers.1.edge_update.src_update.weight has negative value\n",
      "layer_name  alignn_layers.1.edge_update.src_update.bias has negative value\n",
      "layer_name  alignn_layers.1.edge_update.dst_update.weight has negative value\n",
      "layer_name  alignn_layers.1.edge_update.dst_update.bias has negative value\n",
      "layer_name  alignn_layers.1.edge_update.bn_nodes.bias has negative value\n",
      "layer_name  alignn_layers.2.node_update.src_gate.weight has negative value\n",
      "layer_name  alignn_layers.2.node_update.src_gate.bias has negative value\n",
      "layer_name  alignn_layers.2.node_update.dst_gate.weight has negative value\n",
      "layer_name  alignn_layers.2.node_update.dst_gate.bias has negative value\n",
      "layer_name  alignn_layers.2.node_update.edge_gate.weight has negative value\n",
      "layer_name  alignn_layers.2.node_update.edge_gate.bias has negative value\n",
      "layer_name  alignn_layers.2.node_update.src_update.weight has negative value\n",
      "layer_name  alignn_layers.2.node_update.src_update.bias has negative value\n",
      "layer_name  alignn_layers.2.node_update.dst_update.weight has negative value\n",
      "layer_name  alignn_layers.2.node_update.dst_update.bias has negative value\n",
      "layer_name  alignn_layers.2.node_update.bn_nodes.running_mean has negative value\n",
      "layer_name  alignn_layers.2.edge_update.src_gate.weight has negative value\n",
      "layer_name  alignn_layers.2.edge_update.src_gate.bias has negative value\n",
      "layer_name  alignn_layers.2.edge_update.dst_gate.weight has negative value\n",
      "layer_name  alignn_layers.2.edge_update.dst_gate.bias has negative value\n",
      "layer_name  alignn_layers.2.edge_update.edge_gate.weight has negative value\n",
      "layer_name  alignn_layers.2.edge_update.edge_gate.bias has negative value\n",
      "layer_name  alignn_layers.2.edge_update.bn_edges.bias has negative value\n",
      "layer_name  alignn_layers.2.edge_update.src_update.weight has negative value\n",
      "layer_name  alignn_layers.2.edge_update.src_update.bias has negative value\n",
      "layer_name  alignn_layers.2.edge_update.dst_update.weight has negative value\n",
      "layer_name  alignn_layers.2.edge_update.dst_update.bias has negative value\n",
      "layer_name  alignn_layers.3.node_update.src_gate.weight has negative value\n",
      "layer_name  alignn_layers.3.node_update.src_gate.bias has negative value\n",
      "layer_name  alignn_layers.3.node_update.dst_gate.weight has negative value\n",
      "layer_name  alignn_layers.3.node_update.dst_gate.bias has negative value\n",
      "layer_name  alignn_layers.3.node_update.edge_gate.weight has negative value\n",
      "layer_name  alignn_layers.3.node_update.edge_gate.bias has negative value\n",
      "layer_name  alignn_layers.3.node_update.src_update.weight has negative value\n",
      "layer_name  alignn_layers.3.node_update.src_update.bias has negative value\n",
      "layer_name  alignn_layers.3.node_update.dst_update.weight has negative value\n",
      "layer_name  alignn_layers.3.node_update.dst_update.bias has negative value\n",
      "layer_name  alignn_layers.3.node_update.bn_nodes.running_mean has negative value\n",
      "layer_name  alignn_layers.3.edge_update.src_gate.weight has negative value\n",
      "layer_name  alignn_layers.3.edge_update.src_gate.bias has negative value\n",
      "layer_name  alignn_layers.3.edge_update.dst_gate.weight has negative value\n",
      "layer_name  alignn_layers.3.edge_update.dst_gate.bias has negative value\n",
      "layer_name  alignn_layers.3.edge_update.edge_gate.weight has negative value\n",
      "layer_name  alignn_layers.3.edge_update.edge_gate.bias has negative value\n",
      "layer_name  alignn_layers.3.edge_update.bn_edges.bias has negative value\n",
      "layer_name  alignn_layers.3.edge_update.src_update.weight has negative value\n",
      "layer_name  alignn_layers.3.edge_update.src_update.bias has negative value\n",
      "layer_name  alignn_layers.3.edge_update.dst_update.weight has negative value\n",
      "layer_name  alignn_layers.3.edge_update.dst_update.bias has negative value\n",
      "layer_name  alignn_layers.3.edge_update.bn_nodes.bias has negative value\n",
      "layer_name  gcn_layers.0.src_gate.weight has negative value\n",
      "layer_name  gcn_layers.0.src_gate.bias has negative value\n",
      "layer_name  gcn_layers.0.dst_gate.weight has negative value\n",
      "layer_name  gcn_layers.0.dst_gate.bias has negative value\n",
      "layer_name  gcn_layers.0.edge_gate.weight has negative value\n",
      "layer_name  gcn_layers.0.edge_gate.bias has negative value\n",
      "layer_name  gcn_layers.0.bn_edges.bias has negative value\n",
      "layer_name  gcn_layers.0.src_update.weight has negative value\n",
      "layer_name  gcn_layers.0.src_update.bias has negative value\n",
      "layer_name  gcn_layers.0.dst_update.weight has negative value\n",
      "layer_name  gcn_layers.0.dst_update.bias has negative value\n",
      "layer_name  gcn_layers.1.src_gate.weight has negative value\n",
      "layer_name  gcn_layers.1.src_gate.bias has negative value\n",
      "layer_name  gcn_layers.1.dst_gate.weight has negative value\n",
      "layer_name  gcn_layers.1.dst_gate.bias has negative value\n",
      "layer_name  gcn_layers.1.edge_gate.weight has negative value\n",
      "layer_name  gcn_layers.1.edge_gate.bias has negative value\n",
      "layer_name  gcn_layers.1.bn_edges.bias has negative value\n",
      "layer_name  gcn_layers.1.src_update.weight has negative value\n",
      "layer_name  gcn_layers.1.src_update.bias has negative value\n",
      "layer_name  gcn_layers.1.dst_update.weight has negative value\n",
      "layer_name  gcn_layers.1.dst_update.bias has negative value\n",
      "layer_name  gcn_layers.1.bn_nodes.running_mean has negative value\n",
      "layer_name  gcn_layers.2.src_gate.weight has negative value\n",
      "layer_name  gcn_layers.2.src_gate.bias has negative value\n",
      "layer_name  gcn_layers.2.dst_gate.weight has negative value\n",
      "layer_name  gcn_layers.2.dst_gate.bias has negative value\n",
      "layer_name  gcn_layers.2.edge_gate.weight has negative value\n",
      "layer_name  gcn_layers.2.edge_gate.bias has negative value\n",
      "layer_name  gcn_layers.2.bn_edges.bias has negative value\n",
      "layer_name  gcn_layers.2.src_update.weight has negative value\n",
      "layer_name  gcn_layers.2.src_update.bias has negative value\n",
      "layer_name  gcn_layers.2.dst_update.weight has negative value\n",
      "layer_name  gcn_layers.2.dst_update.bias has negative value\n",
      "layer_name  gcn_layers.2.bn_nodes.bias has negative value\n",
      "layer_name  gcn_layers.2.bn_nodes.running_mean has negative value\n",
      "layer_name  gcn_layers.3.src_gate.weight has negative value\n",
      "layer_name  gcn_layers.3.src_gate.bias has negative value\n",
      "layer_name  gcn_layers.3.dst_gate.weight has negative value\n",
      "layer_name  gcn_layers.3.dst_gate.bias has negative value\n",
      "layer_name  gcn_layers.3.edge_gate.weight has negative value\n",
      "layer_name  gcn_layers.3.edge_gate.bias has negative value\n",
      "layer_name  gcn_layers.3.bn_edges.bias has negative value\n",
      "layer_name  gcn_layers.3.bn_edges.running_mean has negative value\n",
      "layer_name  gcn_layers.3.src_update.weight has negative value\n",
      "layer_name  gcn_layers.3.src_update.bias has negative value\n",
      "layer_name  gcn_layers.3.dst_update.weight has negative value\n",
      "layer_name  gcn_layers.3.dst_update.bias has negative value\n",
      "layer_name  gcn_layers.3.bn_nodes.bias has negative value\n",
      "layer_name  fc.weight has negative value\n"
     ]
    }
   ],
   "source": [
    "loss_landscape, mu_model, stddev_model, model_loci = get_hessian_wag(\n",
    "    train_subset_dataloader, loss_func, func, STEPS, train_hess_1, train_hess_2, loss_threshold=10\n",
    ")"
   ]
  },
  {
   "cell_type": "code",
   "execution_count": 22,
   "metadata": {},
   "outputs": [
    {
     "data": {
      "image/png": "[encoded data removed]",
      "text/plain": [
       "<Figure size 640x480 with 2 Axes>"
      ]
     },
     "metadata": {},
     "output_type": "display_data"
    }
   ],
   "source": [
    "save_fig_name = os.path.join('loss_contours.png')\n",
    "fig, ax = plt.subplots(1, 1)\n",
    "plt.imshow(np.log10(loss_landscape), origin='lower', cmap='jet')\n",
    "ax.set_title('Loss Contours \\n'+ r'$L(\\theta + \\alpha i + \\beta j$)')\n",
    "ax.axis('square')\n",
    "ax.set_xlabel(r'$\\alpha$')\n",
    "ax.set_ylabel(r'$\\beta$')\n",
    "plt.colorbar()\n",
    "fig.savefig(save_fig_name, transparent=True, dpi=300)\n",
    "plt.show()"
   ]
  },
  {
   "cell_type": "markdown",
   "metadata": {},
   "source": [
    "# Generate Distribution of Models & Predictions"
   ]
  },
  {
   "cell_type": "code",
   "execution_count": 23,
   "metadata": {},
   "outputs": [
    {
     "ename": "ValueError",
     "evalue": "autodetected range of [nan, nan] is not finite",
     "output_type": "error",
     "traceback": [
      "\u001b[0;31m---------------------------------------------------------------------------\u001b[0m",
      "\u001b[0;31mValueError\u001b[0m                                Traceback (most recent call last)",
      "Cell \u001b[0;32mIn[23], line 1\u001b[0m\n\u001b[0;32m----> 1\u001b[0m \u001b[43mplot_model_wt_dist\u001b[49m\u001b[43m(\u001b[49m\u001b[43mstddev_model\u001b[49m\u001b[43m)\u001b[49m\n",
      "File \u001b[0;32m~/AUTODIAL/loss_landscapes_demo/src/utils.py:91\u001b[0m, in \u001b[0;36mplot_model_wt_dist\u001b[0;34m(model)\u001b[0m\n\u001b[1;32m     86\u001b[0m     \u001b[38;5;28;01melse\u001b[39;00m:\n\u001b[1;32m     87\u001b[0m         model_biases\u001b[38;5;241m.\u001b[39mextend(\u001b[38;5;28mlist\u001b[39m(values))\n\u001b[0;32m---> 91\u001b[0m wt_ct, wt_bins \u001b[38;5;241m=\u001b[39m \u001b[43mnp\u001b[49m\u001b[38;5;241;43m.\u001b[39;49m\u001b[43mhistogram\u001b[49m\u001b[43m(\u001b[49m\u001b[43m[\u001b[49m\u001b[43mmodel_wts\u001b[49m\u001b[43m]\u001b[49m\u001b[43m,\u001b[49m\u001b[43m \u001b[49m\u001b[43mbins\u001b[49m\u001b[38;5;241;43m=\u001b[39;49m\u001b[38;5;241;43m25\u001b[39;49m\u001b[43m)\u001b[49m\n\u001b[1;32m     92\u001b[0m b_ct, b_bins \u001b[38;5;241m=\u001b[39m np\u001b[38;5;241m.\u001b[39mhistogram([model_biases], bins\u001b[38;5;241m=\u001b[39m\u001b[38;5;241m25\u001b[39m)\n\u001b[1;32m     94\u001b[0m fig, ax \u001b[38;5;241m=\u001b[39m plt\u001b[38;5;241m.\u001b[39msubplots(\u001b[38;5;241m1\u001b[39m, \u001b[38;5;241m2\u001b[39m, figsize\u001b[38;5;241m=\u001b[39m(\u001b[38;5;241m8\u001b[39m,\u001b[38;5;241m4\u001b[39m))\n",
      "File \u001b[0;32m~/miniconda/envs/loss_landscapes_demo/lib/python3.10/site-packages/numpy/lib/histograms.py:780\u001b[0m, in \u001b[0;36mhistogram\u001b[0;34m(a, bins, range, density, weights)\u001b[0m\n\u001b[1;32m    680\u001b[0m \u001b[38;5;250m\u001b[39m\u001b[38;5;124mr\u001b[39m\u001b[38;5;124;03m\"\"\"\u001b[39;00m\n\u001b[1;32m    681\u001b[0m \u001b[38;5;124;03mCompute the histogram of a dataset.\u001b[39;00m\n\u001b[1;32m    682\u001b[0m \n\u001b[0;32m   (...)\u001b[0m\n\u001b[1;32m    776\u001b[0m \n\u001b[1;32m    777\u001b[0m \u001b[38;5;124;03m\"\"\"\u001b[39;00m\n\u001b[1;32m    778\u001b[0m a, weights \u001b[38;5;241m=\u001b[39m _ravel_and_check_weights(a, weights)\n\u001b[0;32m--> 780\u001b[0m bin_edges, uniform_bins \u001b[38;5;241m=\u001b[39m _get_bin_edges(a, bins, \u001b[38;5;28mrange\u001b[39m, weights)\n\u001b[1;32m    782\u001b[0m \u001b[38;5;66;03m# Histogram is an integer or a float array depending on the weights.\u001b[39;00m\n\u001b[1;32m    783\u001b[0m \u001b[38;5;28;01mif\u001b[39;00m weights \u001b[38;5;129;01mis\u001b[39;00m \u001b[38;5;28;01mNone\u001b[39;00m:\n",
      "File \u001b[0;32m~/miniconda/envs/loss_landscapes_demo/lib/python3.10/site-packages/numpy/lib/histograms.py:426\u001b[0m, in \u001b[0;36m_get_bin_edges\u001b[0;34m(a, bins, range, weights)\u001b[0m\n\u001b[1;32m    423\u001b[0m     \u001b[38;5;28;01mif\u001b[39;00m n_equal_bins \u001b[38;5;241m<\u001b[39m \u001b[38;5;241m1\u001b[39m:\n\u001b[1;32m    424\u001b[0m         \u001b[38;5;28;01mraise\u001b[39;00m \u001b[38;5;167;01mValueError\u001b[39;00m(\u001b[38;5;124m'\u001b[39m\u001b[38;5;124m`bins` must be positive, when an integer\u001b[39m\u001b[38;5;124m'\u001b[39m)\n\u001b[0;32m--> 426\u001b[0m     first_edge, last_edge \u001b[38;5;241m=\u001b[39m \u001b[43m_get_outer_edges\u001b[49m\u001b[43m(\u001b[49m\u001b[43ma\u001b[49m\u001b[43m,\u001b[49m\u001b[43m \u001b[49m\u001b[38;5;28;43mrange\u001b[39;49m\u001b[43m)\u001b[49m\n\u001b[1;32m    428\u001b[0m \u001b[38;5;28;01melif\u001b[39;00m np\u001b[38;5;241m.\u001b[39mndim(bins) \u001b[38;5;241m==\u001b[39m \u001b[38;5;241m1\u001b[39m:\n\u001b[1;32m    429\u001b[0m     bin_edges \u001b[38;5;241m=\u001b[39m np\u001b[38;5;241m.\u001b[39masarray(bins)\n",
      "File \u001b[0;32m~/miniconda/envs/loss_landscapes_demo/lib/python3.10/site-packages/numpy/lib/histograms.py:323\u001b[0m, in \u001b[0;36m_get_outer_edges\u001b[0;34m(a, range)\u001b[0m\n\u001b[1;32m    321\u001b[0m     first_edge, last_edge \u001b[38;5;241m=\u001b[39m a\u001b[38;5;241m.\u001b[39mmin(), a\u001b[38;5;241m.\u001b[39mmax()\n\u001b[1;32m    322\u001b[0m     \u001b[38;5;28;01mif\u001b[39;00m \u001b[38;5;129;01mnot\u001b[39;00m (np\u001b[38;5;241m.\u001b[39misfinite(first_edge) \u001b[38;5;129;01mand\u001b[39;00m np\u001b[38;5;241m.\u001b[39misfinite(last_edge)):\n\u001b[0;32m--> 323\u001b[0m         \u001b[38;5;28;01mraise\u001b[39;00m \u001b[38;5;167;01mValueError\u001b[39;00m(\n\u001b[1;32m    324\u001b[0m             \u001b[38;5;124m\"\u001b[39m\u001b[38;5;124mautodetected range of [\u001b[39m\u001b[38;5;132;01m{}\u001b[39;00m\u001b[38;5;124m, \u001b[39m\u001b[38;5;132;01m{}\u001b[39;00m\u001b[38;5;124m] is not finite\u001b[39m\u001b[38;5;124m\"\u001b[39m\u001b[38;5;241m.\u001b[39mformat(first_edge, last_edge))\n\u001b[1;32m    326\u001b[0m \u001b[38;5;66;03m# expand empty range to avoid divide by zero\u001b[39;00m\n\u001b[1;32m    327\u001b[0m \u001b[38;5;28;01mif\u001b[39;00m first_edge \u001b[38;5;241m==\u001b[39m last_edge:\n",
      "\u001b[0;31mValueError\u001b[0m: autodetected range of [nan, nan] is not finite"
     ]
    }
   ],
   "source": [
    "plot_model_wt_dist(stddev_model)"
   ]
  },
  {
   "cell_type": "code",
   "execution_count": 24,
   "metadata": {},
   "outputs": [
    {
     "data": {
      "image/png": "[encoded data removed]",
      "text/plain": [
       "<Figure size 800x400 with 2 Axes>"
      ]
     },
     "metadata": {},
     "output_type": "display_data"
    },
    {
     "name": "stdout",
     "output_type": "stream",
     "text": [
      "avg wt val:  0.018074161271373398\n",
      "std wt val:  6.355362099541208\n"
     ]
    }
   ],
   "source": [
    "plot_model_wt_dist(mu_model)"
   ]
  },
  {
   "cell_type": "code",
   "execution_count": 25,
   "metadata": {},
   "outputs": [
    {
     "data": {
      "image/png": "[encoded data removed]",
      "text/plain": [
       "<Figure size 800x400 with 2 Axes>"
      ]
     },
     "metadata": {},
     "output_type": "display_data"
    },
    {
     "name": "stdout",
     "output_type": "stream",
     "text": [
      "avg wt val:  1.7287125096372333\n",
      "std wt val:  559.4174772002824\n"
     ]
    }
   ],
   "source": [
    "plot_model_wt_dist(model)"
   ]
  },
  {
   "cell_type": "code",
   "execution_count": 26,
   "metadata": {},
   "outputs": [],
   "source": [
    "torch.save(mu_model.state_dict(), 'mu_model.pt')"
   ]
  },
  {
   "cell_type": "code",
   "execution_count": null,
   "metadata": {},
   "outputs": [],
   "source": [
    "# torch.save(stddev_model.state_dict(), 'stddev_model.pt')"
   ]
  },
  {
   "cell_type": "code",
   "execution_count": null,
   "metadata": {},
   "outputs": [],
   "source": [
    "norm_dist_model = get_sample_from_normal_dist_of_models(mu_model, stddev_model, model)\n",
    "plot_model_wt_dist(norm_dist_model)"
   ]
  },
  {
   "cell_type": "code",
   "execution_count": null,
   "metadata": {},
   "outputs": [],
   "source": [
    "def get_prediction_stddev(data_loader, mu_model, stddev_model, model):\n",
    "    sampled_model = get_sample_from_normal_dist_of_models(mu_model, stddev_model, model)\n",
    "    plot_model_wt_dist(sampled_model)\n",
    "\n",
    "    model_new_train_predictions = []\n",
    "    original_train_targets = []\n",
    "    for s in tqdm(train_dataloader):\n",
    "        original_train_targets.append(s[2].detach().numpy()[0])\n",
    "        y_pred = np.expand_dims(sampled_model([s[0].to(device), s[1].to(device)]).detach().numpy(), axis=0)[0]\n",
    "        model_new_train_predictions.append(y_pred)\n",
    "\n",
    "    return model_new_train_predictions    "
   ]
  },
  {
   "cell_type": "code",
   "execution_count": null,
   "metadata": {},
   "outputs": [],
   "source": [
    "pred_set = []\n",
    "for _ in range(10):\n",
    "    new_pred = get_prediction_stddev(train_dataloader, mu_model, stddev_model, model)\n",
    "    pred_set.append(new_pred)\n",
    "    break\n"
   ]
  },
  {
   "cell_type": "code",
   "execution_count": null,
   "metadata": {},
   "outputs": [],
   "source": [
    "pred_set"
   ]
  },
  {
   "cell_type": "code",
   "execution_count": null,
   "metadata": {},
   "outputs": [],
   "source": [
    "plt.hist(np.std(np.array(pred_set), axis=0), bins=25)"
   ]
  },
  {
   "cell_type": "code",
   "execution_count": null,
   "metadata": {},
   "outputs": [],
   "source": []
  }
 ],
 "metadata": {
  "kernelspec": {
   "display_name": "loss_landscapes_demo",
   "language": "python",
   "name": "python3"
  },
  "language_info": {
   "codemirror_mode": {
    "name": "ipython",
    "version": 3
   },
   "file_extension": ".py",
   "mimetype": "text/x-python",
   "name": "python",
   "nbconvert_exporter": "python",
   "pygments_lexer": "ipython3",
   "version": "3.10.0"
  }
 },
 "nbformat": 4,
 "nbformat_minor": 2
}
