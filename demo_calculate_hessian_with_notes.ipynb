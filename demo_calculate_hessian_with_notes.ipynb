{
 "cells": [
  {
   "cell_type": "markdown",
   "metadata": {},
   "source": [
    "# Implement Hessian Loss Landscapes\n",
    "\n",
    "Ashley S. Dale\n",
    "\n",
    "Notebook loads a pretrained ALIGNN model, and calculates the loss landscape using Hessian directions\n",
    "\n",
    "\n",
    "- Relevant paper: [*Visualizing high-dimensional loss landscapes with Hessian directions* by Bottcher and Wheeler](https://iopscience.iop.org/article/10.1088/1742-5468/ad13fc/meta)\n",
    "\n",
    "---\n",
    "Notebook Outline:\n",
    "\n",
    "0. Select and load trained model and data\n",
    "\n",
    "0. Generate a set of predictions for the data\n",
    "\n",
    "0. Select a subset of well predicted instances to be \"In Distribution\" (ID) based on the z-score of the prediction error, where low z-score represents well predicted and therefore in-distribution\n",
    "\n",
    "0. Select a subset of poorly predicted instances to be \"Out of Distribution\" (OOD) based on the z-score of the prediction error, where a high z-score represents poorly predicted and therefore out-of-distribution\n",
    "\n",
    "0. Calculate the eigenvectors of the model's Hessian using the Hessian Vector Product\n",
    "\n",
    "0. Format two of the Hessians as two new models. These models will define the coordinate axes of the loss landscape\n",
    "\n",
    "0. Calculate the loss landscape using the original model as the origin, and the models generated from the eigenvectors of the Hessian as the two directions in which the original model is perturbed. Repeat this twice for the ID and OOD datasets.\n"
   ]
  },
  {
   "cell_type": "code",
   "execution_count": 1,
   "metadata": {},
   "outputs": [],
   "source": [
    "import copy\n",
    "import torch\n",
    "import glob\n",
    "import json\n",
    "\n",
    "import numpy as np\n",
    "from tqdm import tqdm\n",
    "# import seaborn as sns\n",
    "import matplotlib.pyplot as plt\n",
    "from pandas import DataFrame\n",
    "\n",
    "import ipywidgets as widgets\n",
    "from torchinfo import summary\n",
    "from pymatgen.core.periodic_table import Element\n",
    "from collections import OrderedDict\n",
    "\n",
    "import alignn\n",
    "from alignn.pretrained import *\n",
    "from jarvis.db.figshare import data\n",
    "from jarvis.db.figshare import data\n",
    "from jarvis.db.jsonutils import loadjson\n",
    "\n",
    "import loss_landscapes\n",
    "import loss_landscapes.metrics\n",
    "from loss_landscapes.model_interface.model_wrapper import ModelWrapper\n",
    "from abc import ABC, abstractmethod\n",
    "\n",
    "from src.utils import *"
   ]
  },
  {
   "cell_type": "code",
   "execution_count": 2,
   "metadata": {},
   "outputs": [],
   "source": [
    "if torch. cuda. is_available():\n",
    "    print(\"Using GPU ...\")\n",
    "    device = 'cuda'\n",
    "else:\n",
    "    device = 'cpu'"
   ]
  },
  {
   "cell_type": "markdown",
   "metadata": {},
   "source": [
    "# Load Model"
   ]
  },
  {
   "cell_type": "code",
   "execution_count": 3,
   "metadata": {},
   "outputs": [],
   "source": [
    "list_of_pretrained_models = list(get_all_models().keys())"
   ]
  },
  {
   "cell_type": "markdown",
   "metadata": {},
   "source": [
    "-> Select the `jv_formation_energy_peratom_alignn` model for the demo"
   ]
  },
  {
   "cell_type": "code",
   "execution_count": 4,
   "metadata": {},
   "outputs": [
    {
     "data": {
      "application/vnd.jupyter.widget-view+json": {
       "model_id": "26053e0a540b49c48047b7614d192bca",
       "version_major": 2,
       "version_minor": 0
      },
      "text/plain": [
       "Dropdown(description='Select Model', options=('jv_formation_energy_peratom_alignn', 'jv_optb88vdw_total_energy…"
      ]
     },
     "metadata": {},
     "output_type": "display_data"
    }
   ],
   "source": [
    "style = {'description_width': 'initial'}\n",
    "\n",
    "config_selector = widgets.Dropdown(\n",
    "    options=list_of_pretrained_models,\n",
    "    value=list_of_pretrained_models[0],\n",
    "    description='Select Model',\n",
    "    style=style,\n",
    "    disabled=False,\n",
    ")\n",
    "\n",
    "display(config_selector)"
   ]
  },
  {
   "cell_type": "code",
   "execution_count": 5,
   "metadata": {},
   "outputs": [
    {
     "name": "stdout",
     "output_type": "stream",
     "text": [
      "Selected:  jv_formation_energy_peratom_alignn\n"
     ]
    }
   ],
   "source": [
    "# This is the model we will load\n",
    "model_name = config_selector.value\n",
    "print(\"Selected: \", model_name)"
   ]
  },
  {
   "cell_type": "code",
   "execution_count": 6,
   "metadata": {},
   "outputs": [
    {
     "name": "stdout",
     "output_type": "stream",
     "text": [
      "Using chk file jv_formation_energy_peratom_alignn/checkpoint_300.pt from  ['jv_formation_energy_peratom_alignn/checkpoint_300.pt']\n",
      "Path c:\\Users\\hanyu\\anaconda3_2\\envs\\losslandscapeEnv\\lib\\site-packages\\alignn\\jv_formation_energy_peratom_alignn.zip\n",
      "Config c:\\EH\\UT\\ML research\\loss_landscapes_demo\\jv_formation_energy_peratom_alignn\\config.json\n"
     ]
    },
    {
     "name": "stderr",
     "output_type": "stream",
     "text": [
      "c:\\Users\\hanyu\\anaconda3_2\\envs\\losslandscapeEnv\\lib\\site-packages\\alignn\\pretrained.py:292: FutureWarning: You are using `torch.load` with `weights_only=False` (the current default value), which uses the default pickle module implicitly. It is possible to construct malicious pickle data which will execute arbitrary code during unpickling (See https://github.com/pytorch/pytorch/blob/main/SECURITY.md#untrusted-models for more details). In a future release, the default value for `weights_only` will be flipped to `True`. This limits the functions that could be executed during unpickling. Arbitrary objects will no longer be allowed to be loaded via this mode unless they are explicitly allowlisted by the user via `torch.serialization.add_safe_globals`. We recommend you start setting `weights_only=True` for any use case where you don't have full control of the loaded file. Please open an issue on GitHub for any issues related to this experimental feature.\n",
      "  model.load_state_dict(torch.load(filename, map_location=device)[\"model\"])\n"
     ]
    }
   ],
   "source": [
    "model = get_figshare_model(model_name)\n",
    "model.to(device)\n",
    "_ = model.eval()"
   ]
  },
  {
   "cell_type": "code",
   "execution_count": 7,
   "metadata": {},
   "outputs": [],
   "source": [
    "model_wt_dict = OrderedDict([i for i in model.named_parameters()])"
   ]
  },
  {
   "cell_type": "code",
   "execution_count": 8,
   "metadata": {},
   "outputs": [
    {
     "data": {
      "text/plain": [
       "=================================================================\n",
       "Layer (type:depth-idx)                   Param #\n",
       "=================================================================\n",
       "ALIGNN                                   --\n",
       "├─MLPLayer: 1-1                          --\n",
       "│    └─Sequential: 2-1                   --\n",
       "│    │    └─Linear: 3-1                  23,808\n",
       "│    │    └─BatchNorm1d: 3-2             512\n",
       "│    │    └─SiLU: 3-3                    --\n",
       "├─Sequential: 1-2                        --\n",
       "│    └─RBFExpansion: 2-2                 --\n",
       "│    └─MLPLayer: 2-3                     --\n",
       "│    │    └─Sequential: 3-4              5,312\n",
       "│    └─MLPLayer: 2-4                     --\n",
       "│    │    └─Sequential: 3-5              17,152\n",
       "├─Sequential: 1-3                        --\n",
       "│    └─RBFExpansion: 2-5                 --\n",
       "│    └─MLPLayer: 2-6                     --\n",
       "│    │    └─Sequential: 3-6              2,752\n",
       "│    └─MLPLayer: 2-7                     --\n",
       "│    │    └─Sequential: 3-7              17,152\n",
       "├─ModuleList: 1-4                        --\n",
       "│    └─ALIGNNConv: 2-8                   --\n",
       "│    │    └─EdgeGatedGraphConv: 3-8      329,984\n",
       "│    │    └─EdgeGatedGraphConv: 3-9      329,984\n",
       "│    └─ALIGNNConv: 2-9                   --\n",
       "│    │    └─EdgeGatedGraphConv: 3-10     329,984\n",
       "│    │    └─EdgeGatedGraphConv: 3-11     329,984\n",
       "│    └─ALIGNNConv: 2-10                  --\n",
       "│    │    └─EdgeGatedGraphConv: 3-12     329,984\n",
       "│    │    └─EdgeGatedGraphConv: 3-13     329,984\n",
       "│    └─ALIGNNConv: 2-11                  --\n",
       "│    │    └─EdgeGatedGraphConv: 3-14     329,984\n",
       "│    │    └─EdgeGatedGraphConv: 3-15     329,984\n",
       "├─ModuleList: 1-5                        --\n",
       "│    └─EdgeGatedGraphConv: 2-12          --\n",
       "│    │    └─Linear: 3-16                 65,792\n",
       "│    │    └─Linear: 3-17                 65,792\n",
       "│    │    └─Linear: 3-18                 65,792\n",
       "│    │    └─BatchNorm1d: 3-19            512\n",
       "│    │    └─Linear: 3-20                 65,792\n",
       "│    │    └─Linear: 3-21                 65,792\n",
       "│    │    └─BatchNorm1d: 3-22            512\n",
       "│    └─EdgeGatedGraphConv: 2-13          --\n",
       "│    │    └─Linear: 3-23                 65,792\n",
       "│    │    └─Linear: 3-24                 65,792\n",
       "│    │    └─Linear: 3-25                 65,792\n",
       "│    │    └─BatchNorm1d: 3-26            512\n",
       "│    │    └─Linear: 3-27                 65,792\n",
       "│    │    └─Linear: 3-28                 65,792\n",
       "│    │    └─BatchNorm1d: 3-29            512\n",
       "│    └─EdgeGatedGraphConv: 2-14          --\n",
       "│    │    └─Linear: 3-30                 65,792\n",
       "│    │    └─Linear: 3-31                 65,792\n",
       "│    │    └─Linear: 3-32                 65,792\n",
       "│    │    └─BatchNorm1d: 3-33            512\n",
       "│    │    └─Linear: 3-34                 65,792\n",
       "│    │    └─Linear: 3-35                 65,792\n",
       "│    │    └─BatchNorm1d: 3-36            512\n",
       "│    └─EdgeGatedGraphConv: 2-15          --\n",
       "│    │    └─Linear: 3-37                 65,792\n",
       "│    │    └─Linear: 3-38                 65,792\n",
       "│    │    └─Linear: 3-39                 65,792\n",
       "│    │    └─BatchNorm1d: 3-40            512\n",
       "│    │    └─Linear: 3-41                 65,792\n",
       "│    │    └─Linear: 3-42                 65,792\n",
       "│    │    └─BatchNorm1d: 3-43            512\n",
       "├─AvgPooling: 1-6                        --\n",
       "├─AvgPooling: 1-7                        --\n",
       "├─Linear: 1-8                            257\n",
       "=================================================================\n",
       "Total params: 4,026,753\n",
       "Trainable params: 4,026,753\n",
       "Non-trainable params: 0\n",
       "================================================================="
      ]
     },
     "execution_count": 8,
     "metadata": {},
     "output_type": "execute_result"
    }
   ],
   "source": [
    "summary(model)"
   ]
  },
  {
   "cell_type": "markdown",
   "metadata": {},
   "source": [
    "# Load Data"
   ]
  },
  {
   "cell_type": "code",
   "execution_count": 9,
   "metadata": {},
   "outputs": [],
   "source": [
    "# target = 'optb88vdw_bandgap'\n",
    "target = 'formation_energy_peratom'\n",
    "n_samples = 200\n",
    "element_to_omit_from_training_data = 'Fe'"
   ]
  },
  {
   "cell_type": "code",
   "execution_count": 10,
   "metadata": {},
   "outputs": [
    {
     "name": "stdout",
     "output_type": "stream",
     "text": [
      "Obtaining 3D dataset 76k ...\n",
      "Reference:https://www.nature.com/articles/s41524-020-00440-1\n",
      "Other versions:https://doi.org/10.6084/m9.figshare.6815699\n",
      "Loading the zipfile...\n",
      "Loading completed.\n",
      "num train samples: 186\n",
      "num test samples: 14\n"
     ]
    }
   ],
   "source": [
    "d = data(\"dft_3d\")\n",
    "d = d[:n_samples]\n",
    "dataset = DataFrame(copy.deepcopy(d))\n",
    "atoms_df = DataFrame(list(DataFrame(d)['atoms']))\n",
    "dataset = pd.concat([dataset, atoms_df], axis=1)\n",
    "train_idx, test_idx = get_split(dataset, 'elements', element_to_omit_from_training_data)\n",
    "print('num train samples: '+ str(len(train_idx)))\n",
    "print('num test samples: '+ str(len(test_idx)))"
   ]
  },
  {
   "cell_type": "code",
   "execution_count": 11,
   "metadata": {},
   "outputs": [
    {
     "name": "stdout",
     "output_type": "stream",
     "text": [
      "data range 2.71694 -3.53591\n",
      "Converting to graphs!\n"
     ]
    },
    {
     "name": "stderr",
     "output_type": "stream",
     "text": [
      "100%|██████████| 186/186 [00:01<00:00, 105.81it/s]\n"
     ]
    },
    {
     "name": "stdout",
     "output_type": "stream",
     "text": [
      "df                                                  atoms     prop  jid\n",
      "0    {'lattice_mat': [[3.566933224304235, 0.0, -0.0... -0.42762    0\n",
      "1    {'lattice_mat': [[4.089078911208881, 0.0, 0.0]... -0.41596    1\n",
      "2    {'lattice_mat': [[-1.833590720595598, 1.833590...  0.04847    2\n",
      "3    {'lattice_mat': [[7.2963518353359165, 0.0, 0.0... -0.44140    3\n",
      "4    {'lattice_mat': [[1.6777483798834445, -2.90594... -0.71026    4\n",
      "..                                                 ...      ...  ...\n",
      "181  {'lattice_mat': [[3.5901111032581614, 0.0, 0.0... -0.39393  181\n",
      "182  {'lattice_mat': [[3.8231338005011324, 0.0, 0.0... -0.19644  182\n",
      "183  {'lattice_mat': [[5.343771579767017, 3.1726511... -2.63322  183\n",
      "184  {'lattice_mat': [[2.790143252692178, -2.680152... -1.55369  184\n",
      "185  {'lattice_mat': [[2.851156779425013, 0.0, -0.0... -2.49145  185\n",
      "\n",
      "[186 rows x 3 columns]\n",
      "warning: could not load CGCNN features for 103\n",
      "Setting it to max atomic number available here, 103\n",
      "warning: could not load CGCNN features for 101\n",
      "Setting it to max atomic number available here, 103\n",
      "warning: could not load CGCNN features for 102\n",
      "Setting it to max atomic number available here, 103\n",
      "building line graphs\n"
     ]
    },
    {
     "name": "stderr",
     "output_type": "stream",
     "text": [
      "100%|██████████| 186/186 [00:00<00:00, 1715.45it/s]\n"
     ]
    }
   ],
   "source": [
    "train_data = [d[idx] for idx in train_idx.to_list()]\n",
    "train_dataloader = get_data_loader(train_data, target, workers=0)"
   ]
  },
  {
   "cell_type": "markdown",
   "metadata": {},
   "source": [
    "# Predicting on Test and Train Data"
   ]
  },
  {
   "cell_type": "code",
   "execution_count": 12,
   "metadata": {},
   "outputs": [
    {
     "name": "stderr",
     "output_type": "stream",
     "text": [
      "100%|██████████| 186/186 [00:18<00:00,  9.90it/s]\n"
     ]
    }
   ],
   "source": [
    "model_train_predictions = []\n",
    "original_train_targets = []\n",
    "for s in tqdm(train_dataloader):\n",
    "    original_train_targets.append(s[2].detach().numpy()[0])\n",
    "    y_pred = model([s[0].to(device), s[1].to(device)])\n",
    "    y_pred = np.expand_dims(y_pred.cpu().detach().numpy(), axis=0)[0]\n",
    "    model_train_predictions.append(y_pred)"
   ]
  },
  {
   "cell_type": "code",
   "execution_count": 13,
   "metadata": {},
   "outputs": [
    {
     "name": "stdout",
     "output_type": "stream",
     "text": [
      "data range 0.12011 -2.4143\n",
      "Converting to graphs!\n"
     ]
    },
    {
     "name": "stderr",
     "output_type": "stream",
     "text": [
      "100%|██████████| 14/14 [00:00<00:00, 56.63it/s]\n"
     ]
    },
    {
     "name": "stdout",
     "output_type": "stream",
     "text": [
      "df                                                 atoms     prop jid\n",
      "0   {'lattice_mat': [[3.790914410660539, -0.0, 0.0... -2.07159   0\n",
      "1   {'lattice_mat': [[4.927781968323723, -0.0, 0.0... -1.78124   1\n",
      "2   {'lattice_mat': [[4.839493559425439, 9.7116505... -1.66274   2\n",
      "3   {'lattice_mat': [[5.464512229851642, 0.0, -2.0... -0.93989   3\n",
      "4   {'lattice_mat': [[4.078736102710052, 0.3455178...  0.07844   4\n",
      "5   {'lattice_mat': [[2.80754625599962, 0.0, 0.0],... -2.41430   5\n",
      "6   {'lattice_mat': [[2.719421627743509, 4.2176232... -1.99266   6\n",
      "7   {'lattice_mat': [[4.857428829340624, 0.0, 0.0]... -2.22845   7\n",
      "8   {'lattice_mat': [[1.413929176152854, -2.448997... -2.23094   8\n",
      "9   {'lattice_mat': [[6.082481136762242, -0.039688...  0.12011   9\n",
      "10  {'lattice_mat': [[4.935947268149975, 0.0075616... -0.21301  10\n",
      "11  {'lattice_mat': [[4.293802725718504, 0.0, 0.0]... -1.39242  11\n",
      "12  {'lattice_mat': [[4.110215016104089, 0.0, 0.0]... -0.04638  12\n",
      "13  {'lattice_mat': [[6.93041047578813, 0.11598035... -1.97129  13\n",
      "building line graphs\n"
     ]
    },
    {
     "name": "stderr",
     "output_type": "stream",
     "text": [
      "100%|██████████| 14/14 [00:00<00:00, 2160.26it/s]\n",
      "100%|██████████| 14/14 [00:01<00:00,  9.79it/s]\n"
     ]
    }
   ],
   "source": [
    "test_data = [d[idx] for idx in test_idx.to_list()]\n",
    "test_dataloader = get_data_loader(test_data, target, workers=0)\n",
    "\n",
    "model_test_predictions = []\n",
    "original_test_targets = []\n",
    "for s in tqdm(test_dataloader):\n",
    "    original_test_targets.append(s[2].detach().numpy()[0])\n",
    "    y_pred = model([s[0].to(device), s[1].to(device)])\n",
    "    y_pred = np.expand_dims(y_pred.cpu().detach().numpy(), axis=0)[0]\n",
    "    model_test_predictions.append(y_pred)\n"
   ]
  },
  {
   "cell_type": "markdown",
   "metadata": {},
   "source": [
    "## Subselect Train Data Samples: Most ID (Minimum Error)"
   ]
  },
  {
   "cell_type": "code",
   "execution_count": 14,
   "metadata": {},
   "outputs": [],
   "source": [
    "train_df = pd.DataFrame(train_data)\n",
    "train_df['pred_val'] = model_train_predictions\n",
    "train_df['err'] = (train_df[target] - train_df['pred_val'])\n",
    "train_df['abs_err'] = np.abs(train_df[target] - train_df['pred_val'])\n",
    "train_df['z_score_err'] = (train_df['abs_err'] - np.mean(train_df['abs_err']))/np.std(train_df['abs_err'])"
   ]
  },
  {
   "cell_type": "code",
   "execution_count": 64,
   "metadata": {},
   "outputs": [
    {
     "data": {
      "text/html": [
       "<div>\n",
       "<style scoped>\n",
       "    .dataframe tbody tr th:only-of-type {\n",
       "        vertical-align: middle;\n",
       "    }\n",
       "\n",
       "    .dataframe tbody tr th {\n",
       "        vertical-align: top;\n",
       "    }\n",
       "\n",
       "    .dataframe thead th {\n",
       "        text-align: right;\n",
       "    }\n",
       "</style>\n",
       "<table border=\"1\" class=\"dataframe\">\n",
       "  <thead>\n",
       "    <tr style=\"text-align: right;\">\n",
       "      <th></th>\n",
       "      <th>jid</th>\n",
       "      <th>spg_number</th>\n",
       "      <th>spg_symbol</th>\n",
       "      <th>formula</th>\n",
       "      <th>formation_energy_peratom</th>\n",
       "      <th>func</th>\n",
       "      <th>optb88vdw_bandgap</th>\n",
       "      <th>atoms</th>\n",
       "      <th>slme</th>\n",
       "      <th>magmom_oszicar</th>\n",
       "      <th>...</th>\n",
       "      <th>bulk_modulus_kv</th>\n",
       "      <th>shear_modulus_gv</th>\n",
       "      <th>mbj_bandgap</th>\n",
       "      <th>hse_gap</th>\n",
       "      <th>reference</th>\n",
       "      <th>search</th>\n",
       "      <th>pred_val</th>\n",
       "      <th>err</th>\n",
       "      <th>abs_err</th>\n",
       "      <th>z_score_err</th>\n",
       "    </tr>\n",
       "  </thead>\n",
       "  <tbody>\n",
       "    <tr>\n",
       "      <th>0</th>\n",
       "      <td>JVASP-90856</td>\n",
       "      <td>129</td>\n",
       "      <td>P4/nmm</td>\n",
       "      <td>TiCuSiAs</td>\n",
       "      <td>-0.42762</td>\n",
       "      <td>OptB88vdW</td>\n",
       "      <td>0.000</td>\n",
       "      <td>{'lattice_mat': [[3.566933224304235, 0.0, -0.0...</td>\n",
       "      <td>na</td>\n",
       "      <td>0.0</td>\n",
       "      <td>...</td>\n",
       "      <td>na</td>\n",
       "      <td>na</td>\n",
       "      <td>na</td>\n",
       "      <td>na</td>\n",
       "      <td>mp-1080455</td>\n",
       "      <td>-As-Cu-Si-Ti</td>\n",
       "      <td>-0.429359</td>\n",
       "      <td>0.001739</td>\n",
       "      <td>0.001739</td>\n",
       "      <td>-0.240511</td>\n",
       "    </tr>\n",
       "    <tr>\n",
       "      <th>1</th>\n",
       "      <td>JVASP-86097</td>\n",
       "      <td>221</td>\n",
       "      <td>Pm-3m</td>\n",
       "      <td>DyB6</td>\n",
       "      <td>-0.41596</td>\n",
       "      <td>OptB88vdW</td>\n",
       "      <td>0.000</td>\n",
       "      <td>{'lattice_mat': [[4.089078911208881, 0.0, 0.0]...</td>\n",
       "      <td>na</td>\n",
       "      <td>0.0</td>\n",
       "      <td>...</td>\n",
       "      <td>na</td>\n",
       "      <td>na</td>\n",
       "      <td>na</td>\n",
       "      <td>na</td>\n",
       "      <td>mp-568319</td>\n",
       "      <td>-B-Dy</td>\n",
       "      <td>-0.417615</td>\n",
       "      <td>0.001655</td>\n",
       "      <td>0.001655</td>\n",
       "      <td>-0.243626</td>\n",
       "    </tr>\n",
       "    <tr>\n",
       "      <th>2</th>\n",
       "      <td>JVASP-64906</td>\n",
       "      <td>119</td>\n",
       "      <td>I-4m2</td>\n",
       "      <td>Be2OsRu</td>\n",
       "      <td>0.04847</td>\n",
       "      <td>OptB88vdW</td>\n",
       "      <td>0.000</td>\n",
       "      <td>{'lattice_mat': [[-1.833590720595598, 1.833590...</td>\n",
       "      <td>na</td>\n",
       "      <td>0.0</td>\n",
       "      <td>...</td>\n",
       "      <td>na</td>\n",
       "      <td>na</td>\n",
       "      <td>na</td>\n",
       "      <td>na</td>\n",
       "      <td>auid-3eaf68dd483bf4f4</td>\n",
       "      <td>-Be-Os-Ru</td>\n",
       "      <td>0.046013</td>\n",
       "      <td>0.002457</td>\n",
       "      <td>0.002457</td>\n",
       "      <td>-0.213745</td>\n",
       "    </tr>\n",
       "    <tr>\n",
       "      <th>3</th>\n",
       "      <td>JVASP-98225</td>\n",
       "      <td>14</td>\n",
       "      <td>P2_1/c</td>\n",
       "      <td>KBi</td>\n",
       "      <td>-0.44140</td>\n",
       "      <td>OptB88vdW</td>\n",
       "      <td>0.472</td>\n",
       "      <td>{'lattice_mat': [[7.2963518353359165, 0.0, 0.0...</td>\n",
       "      <td>na</td>\n",
       "      <td>0.0</td>\n",
       "      <td>...</td>\n",
       "      <td>na</td>\n",
       "      <td>na</td>\n",
       "      <td>na</td>\n",
       "      <td>na</td>\n",
       "      <td>mp-31104</td>\n",
       "      <td>-Bi-K</td>\n",
       "      <td>-0.444024</td>\n",
       "      <td>0.002624</td>\n",
       "      <td>0.002624</td>\n",
       "      <td>-0.207543</td>\n",
       "    </tr>\n",
       "    <tr>\n",
       "      <th>4</th>\n",
       "      <td>JVASP-10</td>\n",
       "      <td>164</td>\n",
       "      <td>P-3m1</td>\n",
       "      <td>VSe2</td>\n",
       "      <td>-0.71026</td>\n",
       "      <td>OptB88vdW</td>\n",
       "      <td>0.000</td>\n",
       "      <td>{'lattice_mat': [[1.6777483798834445, -2.90594...</td>\n",
       "      <td>na</td>\n",
       "      <td>0.0</td>\n",
       "      <td>...</td>\n",
       "      <td>48.79</td>\n",
       "      <td>33.05</td>\n",
       "      <td>0.0</td>\n",
       "      <td>na</td>\n",
       "      <td>mp-694</td>\n",
       "      <td>-Se-V</td>\n",
       "      <td>-0.713197</td>\n",
       "      <td>0.002937</td>\n",
       "      <td>0.002937</td>\n",
       "      <td>-0.195889</td>\n",
       "    </tr>\n",
       "  </tbody>\n",
       "</table>\n",
       "<p>5 rows × 68 columns</p>\n",
       "</div>"
      ],
      "text/plain": [
       "           jid spg_number spg_symbol   formula  formation_energy_peratom  \\\n",
       "0  JVASP-90856        129     P4/nmm  TiCuSiAs                  -0.42762   \n",
       "1  JVASP-86097        221      Pm-3m      DyB6                  -0.41596   \n",
       "2  JVASP-64906        119      I-4m2   Be2OsRu                   0.04847   \n",
       "3  JVASP-98225         14     P2_1/c       KBi                  -0.44140   \n",
       "4     JVASP-10        164      P-3m1      VSe2                  -0.71026   \n",
       "\n",
       "        func  optb88vdw_bandgap  \\\n",
       "0  OptB88vdW              0.000   \n",
       "1  OptB88vdW              0.000   \n",
       "2  OptB88vdW              0.000   \n",
       "3  OptB88vdW              0.472   \n",
       "4  OptB88vdW              0.000   \n",
       "\n",
       "                                               atoms slme magmom_oszicar  ...  \\\n",
       "0  {'lattice_mat': [[3.566933224304235, 0.0, -0.0...   na            0.0  ...   \n",
       "1  {'lattice_mat': [[4.089078911208881, 0.0, 0.0]...   na            0.0  ...   \n",
       "2  {'lattice_mat': [[-1.833590720595598, 1.833590...   na            0.0  ...   \n",
       "3  {'lattice_mat': [[7.2963518353359165, 0.0, 0.0...   na            0.0  ...   \n",
       "4  {'lattice_mat': [[1.6777483798834445, -2.90594...   na            0.0  ...   \n",
       "\n",
       "  bulk_modulus_kv shear_modulus_gv mbj_bandgap  hse_gap  \\\n",
       "0              na               na          na       na   \n",
       "1              na               na          na       na   \n",
       "2              na               na          na       na   \n",
       "3              na               na          na       na   \n",
       "4           48.79            33.05         0.0       na   \n",
       "\n",
       "               reference        search  pred_val       err   abs_err  \\\n",
       "0             mp-1080455  -As-Cu-Si-Ti -0.429359  0.001739  0.001739   \n",
       "1              mp-568319         -B-Dy -0.417615  0.001655  0.001655   \n",
       "2  auid-3eaf68dd483bf4f4     -Be-Os-Ru  0.046013  0.002457  0.002457   \n",
       "3               mp-31104         -Bi-K -0.444024  0.002624  0.002624   \n",
       "4                 mp-694         -Se-V -0.713197  0.002937  0.002937   \n",
       "\n",
       "  z_score_err  \n",
       "0   -0.240511  \n",
       "1   -0.243626  \n",
       "2   -0.213745  \n",
       "3   -0.207543  \n",
       "4   -0.195889  \n",
       "\n",
       "[5 rows x 68 columns]"
      ]
     },
     "execution_count": 64,
     "metadata": {},
     "output_type": "execute_result"
    }
   ],
   "source": [
    "train_df.head()"
   ]
  },
  {
   "cell_type": "code",
   "execution_count": 16,
   "metadata": {},
   "outputs": [
    {
     "data": {
      "image/png": "[encoded data removed]",
      "text/plain": [
       "<Figure size 640x480 with 1 Axes>"
      ]
     },
     "metadata": {},
     "output_type": "display_data"
    }
   ],
   "source": [
    "ax = plt.hist(train_df['z_score_err'].values, bins=100)\n",
    "plt.title('Train Set Predictions (Omitting '+element_to_omit_from_training_data+')')\n",
    "plt.xlabel('Value')\n",
    "plt.ylabel('Count')\n",
    "plt.show()"
   ]
  },
  {
   "cell_type": "code",
   "execution_count": 17,
   "metadata": {},
   "outputs": [
    {
     "name": "stdout",
     "output_type": "stream",
     "text": [
      "data range -0.39393 -3.08933\n",
      "Converting to graphs!\n"
     ]
    },
    {
     "name": "stderr",
     "output_type": "stream",
     "text": [
      "100%|██████████| 3/3 [00:00<00:00, 67.27it/s]\n"
     ]
    },
    {
     "name": "stdout",
     "output_type": "stream",
     "text": [
      "df                                                atoms     prop jid\n",
      "0  {'lattice_mat': [[4.328319117003372, 1.032103e... -1.67055   0\n",
      "1  {'lattice_mat': [[4.9619896140897275, -8.59441... -3.08933   1\n",
      "2  {'lattice_mat': [[3.5901111032581614, 0.0, 0.0... -0.39393   2\n",
      "building line graphs\n"
     ]
    },
    {
     "name": "stderr",
     "output_type": "stream",
     "text": [
      "100%|██████████| 3/3 [00:00<?, ?it/s]\n"
     ]
    }
   ],
   "source": [
    "train_subset_df = train_df.nsmallest(3, 'z_score_err')\n",
    "train_subset_df_idx = train_subset_df.index.values.tolist()\n",
    "train_subset_list = [train_data[i] for i in train_subset_df_idx]\n",
    "train_subset_dataloader = get_data_loader(train_subset_list, target, workers=4)"
   ]
  },
  {
   "cell_type": "code",
   "execution_count": 62,
   "metadata": {},
   "outputs": [
    {
     "data": {
      "text/html": [
       "<div>\n",
       "<style scoped>\n",
       "    .dataframe tbody tr th:only-of-type {\n",
       "        vertical-align: middle;\n",
       "    }\n",
       "\n",
       "    .dataframe tbody tr th {\n",
       "        vertical-align: top;\n",
       "    }\n",
       "\n",
       "    .dataframe thead th {\n",
       "        text-align: right;\n",
       "    }\n",
       "</style>\n",
       "<table border=\"1\" class=\"dataframe\">\n",
       "  <thead>\n",
       "    <tr style=\"text-align: right;\">\n",
       "      <th></th>\n",
       "      <th>jid</th>\n",
       "      <th>spg_number</th>\n",
       "      <th>spg_symbol</th>\n",
       "      <th>formula</th>\n",
       "      <th>formation_energy_peratom</th>\n",
       "      <th>func</th>\n",
       "      <th>optb88vdw_bandgap</th>\n",
       "      <th>atoms</th>\n",
       "      <th>slme</th>\n",
       "      <th>magmom_oszicar</th>\n",
       "      <th>...</th>\n",
       "      <th>bulk_modulus_kv</th>\n",
       "      <th>shear_modulus_gv</th>\n",
       "      <th>mbj_bandgap</th>\n",
       "      <th>hse_gap</th>\n",
       "      <th>reference</th>\n",
       "      <th>search</th>\n",
       "      <th>pred_val</th>\n",
       "      <th>err</th>\n",
       "      <th>abs_err</th>\n",
       "      <th>z_score_err</th>\n",
       "    </tr>\n",
       "  </thead>\n",
       "  <tbody>\n",
       "    <tr>\n",
       "      <th>152</th>\n",
       "      <td>JVASP-85271</td>\n",
       "      <td>164</td>\n",
       "      <td>P-3m1</td>\n",
       "      <td>La2PI2</td>\n",
       "      <td>-1.67055</td>\n",
       "      <td>OptB88vdW</td>\n",
       "      <td>0.000</td>\n",
       "      <td>{'lattice_mat': [[4.328319117003372, 1.032103e...</td>\n",
       "      <td>na</td>\n",
       "      <td>0.0</td>\n",
       "      <td>...</td>\n",
       "      <td>na</td>\n",
       "      <td>na</td>\n",
       "      <td>na</td>\n",
       "      <td>na</td>\n",
       "      <td>mp-571647</td>\n",
       "      <td>-I-La-P</td>\n",
       "      <td>-1.670515</td>\n",
       "      <td>-0.000035</td>\n",
       "      <td>0.000035</td>\n",
       "      <td>-0.303967</td>\n",
       "    </tr>\n",
       "    <tr>\n",
       "      <th>164</th>\n",
       "      <td>JVASP-13907</td>\n",
       "      <td>176</td>\n",
       "      <td>P6_3/m</td>\n",
       "      <td>Sr5P3ClO12</td>\n",
       "      <td>-3.08933</td>\n",
       "      <td>OptB88vdW</td>\n",
       "      <td>5.505</td>\n",
       "      <td>{'lattice_mat': [[4.9619896140897275, -8.59441...</td>\n",
       "      <td>na</td>\n",
       "      <td>0.0</td>\n",
       "      <td>...</td>\n",
       "      <td>na</td>\n",
       "      <td>na</td>\n",
       "      <td>na</td>\n",
       "      <td>na</td>\n",
       "      <td>mp-23121</td>\n",
       "      <td>-Cl-O-P-Sr</td>\n",
       "      <td>-3.089254</td>\n",
       "      <td>-0.000076</td>\n",
       "      <td>0.000076</td>\n",
       "      <td>-0.302443</td>\n",
       "    </tr>\n",
       "    <tr>\n",
       "      <th>181</th>\n",
       "      <td>JVASP-86845</td>\n",
       "      <td>6</td>\n",
       "      <td>Pm</td>\n",
       "      <td>NaLi5N2</td>\n",
       "      <td>-0.39393</td>\n",
       "      <td>OptB88vdW</td>\n",
       "      <td>0.683</td>\n",
       "      <td>{'lattice_mat': [[3.5901111032581614, 0.0, 0.0...</td>\n",
       "      <td>na</td>\n",
       "      <td>0.0</td>\n",
       "      <td>...</td>\n",
       "      <td>na</td>\n",
       "      <td>na</td>\n",
       "      <td>na</td>\n",
       "      <td>na</td>\n",
       "      <td>mp-569525</td>\n",
       "      <td>-Li-N-Na</td>\n",
       "      <td>-0.393834</td>\n",
       "      <td>-0.000096</td>\n",
       "      <td>0.000096</td>\n",
       "      <td>-0.301687</td>\n",
       "    </tr>\n",
       "  </tbody>\n",
       "</table>\n",
       "<p>3 rows × 68 columns</p>\n",
       "</div>"
      ],
      "text/plain": [
       "             jid spg_number spg_symbol     formula  formation_energy_peratom  \\\n",
       "152  JVASP-85271        164      P-3m1      La2PI2                  -1.67055   \n",
       "164  JVASP-13907        176     P6_3/m  Sr5P3ClO12                  -3.08933   \n",
       "181  JVASP-86845          6         Pm     NaLi5N2                  -0.39393   \n",
       "\n",
       "          func  optb88vdw_bandgap  \\\n",
       "152  OptB88vdW              0.000   \n",
       "164  OptB88vdW              5.505   \n",
       "181  OptB88vdW              0.683   \n",
       "\n",
       "                                                 atoms slme magmom_oszicar  \\\n",
       "152  {'lattice_mat': [[4.328319117003372, 1.032103e...   na            0.0   \n",
       "164  {'lattice_mat': [[4.9619896140897275, -8.59441...   na            0.0   \n",
       "181  {'lattice_mat': [[3.5901111032581614, 0.0, 0.0...   na            0.0   \n",
       "\n",
       "     ... bulk_modulus_kv shear_modulus_gv mbj_bandgap  hse_gap  reference  \\\n",
       "152  ...              na               na          na       na  mp-571647   \n",
       "164  ...              na               na          na       na   mp-23121   \n",
       "181  ...              na               na          na       na  mp-569525   \n",
       "\n",
       "         search  pred_val       err   abs_err z_score_err  \n",
       "152     -I-La-P -1.670515 -0.000035  0.000035   -0.303967  \n",
       "164  -Cl-O-P-Sr -3.089254 -0.000076  0.000076   -0.302443  \n",
       "181    -Li-N-Na -0.393834 -0.000096  0.000096   -0.301687  \n",
       "\n",
       "[3 rows x 68 columns]"
      ]
     },
     "execution_count": 62,
     "metadata": {},
     "output_type": "execute_result"
    }
   ],
   "source": [
    "train_subset_df"
   ]
  },
  {
   "cell_type": "code",
   "execution_count": 18,
   "metadata": {},
   "outputs": [],
   "source": [
    "subset_train_x = []\n",
    "subset_train_y = []\n",
    "\n",
    "for i in train_subset_dataloader:\n",
    "    subset_train_x.append((i[0], i[1]))\n",
    "    subset_train_y.append(i[2])"
   ]
  },
  {
   "cell_type": "code",
   "execution_count": 19,
   "metadata": {},
   "outputs": [],
   "source": [
    "test_df = pd.DataFrame(test_data)\n",
    "test_df['pred_val'] = model_test_predictions\n",
    "test_df['err'] = (test_df[target] - test_df['pred_val'])\n",
    "test_df['abs_err'] = np.abs(test_df[target] - test_df['pred_val'])\n",
    "test_df['z_score_err'] = (test_df['abs_err'] - np.mean(train_df['abs_err']))/np.std(train_df['abs_err'])"
   ]
  },
  {
   "cell_type": "markdown",
   "metadata": {},
   "source": [
    "## Subselect Test Samples - Most OOD (Maximum Error)"
   ]
  },
  {
   "cell_type": "code",
   "execution_count": 20,
   "metadata": {},
   "outputs": [
    {
     "name": "stdout",
     "output_type": "stream",
     "text": [
      "data range 0.07844 -2.07159\n",
      "Converting to graphs!\n"
     ]
    },
    {
     "name": "stderr",
     "output_type": "stream",
     "text": [
      "100%|██████████| 3/3 [00:00<00:00, 82.08it/s]\n"
     ]
    },
    {
     "name": "stdout",
     "output_type": "stream",
     "text": [
      "df                                                atoms     prop jid\n",
      "0  {'lattice_mat': [[3.790914410660539, -0.0, 0.0... -2.07159   0\n",
      "1  {'lattice_mat': [[4.110215016104089, 0.0, 0.0]... -0.04638   1\n",
      "2  {'lattice_mat': [[4.078736102710052, 0.3455178...  0.07844   2\n",
      "building line graphs\n"
     ]
    },
    {
     "name": "stderr",
     "output_type": "stream",
     "text": [
      "100%|██████████| 3/3 [00:00<?, ?it/s]\n"
     ]
    }
   ],
   "source": [
    "test_subset_df = test_df.nlargest(3, 'z_score_err')\n",
    "test_subset_df_idx = test_subset_df.index.values.tolist()\n",
    "test_subset_list = [test_data[i] for i in test_subset_df_idx]\n",
    "test_subset_dataloader = get_data_loader(test_subset_list, target, workers=4)"
   ]
  },
  {
   "cell_type": "code",
   "execution_count": 21,
   "metadata": {},
   "outputs": [
    {
     "data": {
      "image/png": "[encoded data removed]",
      "text/plain": [
       "<Figure size 640x480 with 1 Axes>"
      ]
     },
     "metadata": {},
     "output_type": "display_data"
    }
   ],
   "source": [
    "ax = plt.hist(test_df['z_score_err'].values, bins=100,)\n",
    "plt.title('Test Set Predictions (Exclusively '+element_to_omit_from_training_data+')')\n",
    "plt.xlabel('Value')\n",
    "plt.ylabel('Count')\n",
    "plt.show()"
   ]
  },
  {
   "cell_type": "markdown",
   "metadata": {},
   "source": [
    "# Getting the Hessian Eigenvectors"
   ]
  },
  {
   "cell_type": "code",
   "execution_count": 22,
   "metadata": {},
   "outputs": [],
   "source": [
    "from src import botcher_hessian as hess\n",
    "from src import botcher_utilities as util"
   ]
  },
  {
   "cell_type": "markdown",
   "metadata": {},
   "source": [
    "The following functions are copy-pasted from Botcher implementation.  I put them here so that I could debug more easily."
   ]
  },
  {
   "cell_type": "code",
   "execution_count": 23,
   "metadata": {},
   "outputs": [],
   "source": [
    "def npvec_to_tensorlist(vec, params):\n",
    "    \"\"\" Convert a numpy vector to a list of tensor with the same dimensions as params\n",
    "\n",
    "        Args:\n",
    "            vec: a 1D numpy vector\n",
    "            params: a list of parameters from net\n",
    "\n",
    "        Returns:\n",
    "            rval: a list of tensors with the same shape as params\n",
    "    \"\"\"\n",
    "    loc = 0\n",
    "    rval = []\n",
    "    for p in params:\n",
    "        numel = p.data.numel()\n",
    "        rval.append(torch.from_numpy(vec[loc:loc+numel]).view(p.data.shape).float())\n",
    "        loc += numel\n",
    "    assert loc == vec.size, 'The vector has more elements than the net has parameters'\n",
    "    return rval\n",
    "\n",
    "\n",
    "def gradtensor_to_npvec(net, all_params=True):\n",
    "    \"\"\" Extract gradients from net, and return a concatenated numpy vector.\n",
    "\n",
    "        Args:\n",
    "            net: trained model\n",
    "            all_params: If all_params, then gradients w.r.t. BN parameters and bias\n",
    "            values are also included. Otherwise only gradients with dim > 1 are considered.\n",
    "\n",
    "        Returns:\n",
    "            a concatenated numpy vector containing all gradients\n",
    "    \"\"\"\n",
    "    filter = lambda p: all_params or len(p.data.size()) > 1\n",
    "    return np.concatenate([p.grad.data.cpu().numpy().ravel() for p in net.parameters() if filter(p)])\n",
    "\n",
    "\n",
    "def eval_hess_vec_prod(vec, params, net, loss_func, inputs_dataloader, outputs, use_cuda=False):\n",
    "    from torch.autograd import Variable\n",
    "    \"\"\"\n",
    "    Evaluate product of the Hessian of the loss function with a direction vector \"vec\".\n",
    "    The product result is saved in the grad of net.\n",
    "\n",
    "    Args:\n",
    "        vec: a list of tensor with the same dimensions as \"params\".\n",
    "        params: the parameter list of the net (ignoring biases and BN parameters).\n",
    "        net: model with trained parameters.\n",
    "        criterion: loss function.\n",
    "        inputs: nn inputs.\n",
    "        outputs: desired nn outputs.\n",
    "        use_cuda: use GPU.\n",
    "    \"\"\"\n",
    "\n",
    "    if use_cuda:\n",
    "        net.cuda()\n",
    "        vec = [v.cuda() for v in vec]\n",
    "\n",
    "    net.eval()\n",
    "    net.zero_grad() # clears grad for every parameter in the net\n",
    "    \n",
    "    ### OG IMPLEMENTATION\n",
    "    # pred_outputs = net(inputs.unsqueeze(-1)).flatten()\n",
    "    # pred_outputs = net(inputs_dataloader)\n",
    "    loss = torch.tensor(0.0).to(device)\n",
    "    for _, i in tqdm(enumerate(inputs_dataloader), total=len(inputs_dataloader)):\n",
    "        pred_outputs = net((i[0].to(device), i[1].to(device)))\n",
    "        # pred_outputs = np.expand_dims(pred_outputs.cpu().detach().numpy(), axis=0)[0]\n",
    "        outputs = i[2].to(device)\n",
    "        loss = torch.add(loss, loss_func(pred_outputs,outputs))\n",
    "    \n",
    "    loss = loss/len(inputs_dataloader)\n",
    "    grad_f = torch.autograd.grad(loss, inputs=params, create_graph=True, allow_unused=True)\n",
    "\n",
    "    # Compute inner product of gradient with the direction vector\n",
    "    prod = Variable(torch.zeros(1)).type(type(grad_f[0].data))\n",
    "\n",
    "    #for i in range(len(vec)):\n",
    "    tmp = []\n",
    "    for i in range(len(vec)):\n",
    "        if (grad_f[i] is not None) and (vec[i] is not None):\n",
    "            tmp.append((grad_f[i].to(device) * vec[i].to(device)).cpu().sum())\n",
    "    prod =+ sum(tmp)\n",
    "    # prod += sum([(grad_f[i] * vec[i]).cpu().sum() for i in range(len(vec))])\n",
    "\n",
    "    # Compute the Hessian-vector product, H*v\n",
    "    # prod.backward() computes dprod/dparams for every parameter in params and\n",
    "    # accumulate the gradients into the params.grad attributes\n",
    "    prod.backward()\n",
    "    "
   ]
  },
  {
   "cell_type": "code",
   "execution_count": 24,
   "metadata": {},
   "outputs": [],
   "source": [
    "def min_max_hessian_eigs(net, inputs, outputs, criterion, rank=0, use_cuda=False, verbose=False, all_params=True):\n",
    "    from scipy.sparse.linalg import LinearOperator, eigsh\n",
    "    import time\n",
    "    \"\"\"\n",
    "        Compute the largest and the smallest eigenvalues of the Hessian marix.\n",
    "\n",
    "        Args:\n",
    "            net: the trained model.\n",
    "            inputs: nn inputs.\n",
    "            outputs: desired nn outputs.\n",
    "            criterion: loss function.\n",
    "            rank: rank of the working node.\n",
    "            use_cuda: use GPU\n",
    "            verbose: print more information\n",
    "            all_params: use all nn parameters\n",
    "\n",
    "        Returns:\n",
    "            maxeig: max eigenvalue\n",
    "            mineig: min eigenvalue\n",
    "            hess_vec_prod.count: number of iterations for calculating max and min eigenvalues\n",
    "    \"\"\"\n",
    "    \n",
    "    if all_params:\n",
    "        params = [p for p in net.parameters()]\n",
    "    else:\n",
    "        params = [p for p in net.parameters() if len(p.size()) > 1]\n",
    "        \n",
    "    N = sum(p.numel() for p in params)\n",
    "\n",
    "    def hess_vec_prod(vec):\n",
    "        hess_vec_prod.count += 1  # simulates a static variable\n",
    "        vec = npvec_to_tensorlist(vec, params)\n",
    "        start_time = time.time()\n",
    "        eval_hess_vec_prod(vec, params, net, criterion, inputs, outputs, use_cuda)\n",
    "        prod_time = time.time() - start_time\n",
    "        if verbose and rank == 0: print(\"Iter: %d  time: %f\" % (hess_vec_prod.count, prod_time))\n",
    "        return gradtensor_to_npvec(net,all_params)\n",
    "        \n",
    "    hess_vec_prod.count = 0\n",
    "    if verbose and rank == 0: print(\"Rank %d: computing max eigenvalue\" % rank)\n",
    "\n",
    "    A = LinearOperator((N, N), matvec=hess_vec_prod)\n",
    "  \n",
    "    eigvals, eigvecs = eigsh(A, k=1, which='LM', tol=1e-2)\n",
    "    maxeig = eigvals[0]\n",
    "    maxeigvec = eigvecs\n",
    "    if verbose and rank == 0: print('max eigenvalue = %f' % maxeig)\n",
    "\n",
    "    # If the largest eigenvalue is positive, shift matrix so that any negative eigenvalue is now the largest\n",
    "    # We assume the smallest eigenvalue is zero or less, and so this shift is more than what we need\n",
    "    shift = maxeig*1.0\n",
    "    def shifted_hess_vec_prod(vec):\n",
    "        return hess_vec_prod(vec) - shift*vec\n",
    "\n",
    "    if verbose and rank == 0: print(\"Rank %d: Computing shifted eigenvalue\" % rank)\n",
    "\n",
    "    A = LinearOperator((N, N), matvec=shifted_hess_vec_prod)\n",
    "    eigvals, eigvecs = eigsh(A, k=1, which='LM', tol=1e-2)\n",
    "    eigvals = eigvals + shift\n",
    "    mineig = eigvals[0]\n",
    "    mineigvec = eigvecs\n",
    "    if verbose and rank == 0: print('min eigenvalue = ' + str(mineig))\n",
    "\n",
    "    if maxeig <= 0 and mineig > 0:\n",
    "        maxeig, mineig = mineig, maxeig\n",
    "        maxeig, mineig = mineigvec, maxeigvec\n",
    "\n",
    "    return maxeig, mineig, maxeigvec, mineigvec, hess_vec_prod.count"
   ]
  },
  {
   "cell_type": "code",
   "execution_count": 25,
   "metadata": {},
   "outputs": [],
   "source": [
    "### Defaults from OG implementation\n",
    "loss_func = torch.nn.MSELoss()\n",
    "func = copy.deepcopy(model)\n",
    "og_params = [i[1] for i in func.named_parameters() if len(i[1].size()) > 1]\n",
    "og_layer_names = [i[0] for i in func.named_parameters() if len(i[1].size())>1]"
   ]
  },
  {
   "cell_type": "markdown",
   "metadata": {},
   "source": [
    "This next cell calculates the eigenvectors, and can take considerable time (upwards of 40 minutes)"
   ]
  },
  {
   "cell_type": "markdown",
   "metadata": {},
   "source": [
    "here, we are computing the hessian eigenvectors using 3(or more) samples that 1. do not contain Fe, 2. is well predicted by the model (defined by existing model weights)\n",
    "\n",
    "then, we perturb the model such that the rate of loss increase would increase or we perturb the model such that the rate of loss increase would be constant\n",
    "\n",
    "we then test these perturbed model's performance on the same 3 samples that it had been predicting well to construct the loss land scape.\n",
    "\n",
    "- on the other hand, we will be picking samples that do not contain Fe and was not well predicted by the original model. they will not be involved in the hessian computation, so the perturbation has nothing to do with them. we will then test the perturbed model's performance on these samples\n",
    "\n",
    "hypothesis (need to be validated):\n",
    "\n",
    "perturbing in the direction of max eigenvector should increase/decress the loss by a lot (but that would be true for first derivative??? ask)\n",
    "\n",
    "perturbing in the direction of min eigenvector should not increase/decress the loss by a lot since it is the flattest direction\n",
    "\n",
    "\n",
    "\n",
    "\n",
    "- also, the choice of loss function is involved twice, 1. when we are choosing the samples; 2. when we are computing the hessian; 3. when we are visualizing the loss landscape"
   ]
  },
  {
   "cell_type": "code",
   "execution_count": 26,
   "metadata": {},
   "outputs": [
    {
     "name": "stderr",
     "output_type": "stream",
     "text": [
      "  0%|          | 0/3 [00:00<?, ?it/s]c:\\Users\\hanyu\\anaconda3_2\\envs\\losslandscapeEnv\\lib\\site-packages\\torch\\nn\\modules\\loss.py:608: UserWarning: Using a target size (torch.Size([1])) that is different to the input size (torch.Size([])). This will likely lead to incorrect results due to broadcasting. Please ensure they have the same size.\n",
      "  return F.mse_loss(input, target, reduction=self.reduction)\n",
      "100%|██████████| 3/3 [00:05<00:00,  1.75s/it]\n",
      "100%|██████████| 3/3 [00:05<00:00,  1.71s/it]\n",
      "100%|██████████| 3/3 [00:05<00:00,  1.70s/it]\n",
      "100%|██████████| 3/3 [00:05<00:00,  1.69s/it]\n",
      "100%|██████████| 3/3 [00:05<00:00,  1.83s/it]\n",
      "100%|██████████| 3/3 [00:05<00:00,  1.93s/it]\n",
      "100%|██████████| 3/3 [00:05<00:00,  1.83s/it]\n",
      "100%|██████████| 3/3 [00:05<00:00,  1.76s/it]\n",
      "100%|██████████| 3/3 [00:05<00:00,  1.77s/it]\n",
      "100%|██████████| 3/3 [00:05<00:00,  1.77s/it]\n",
      "100%|██████████| 3/3 [00:05<00:00,  1.77s/it]\n",
      "100%|██████████| 3/3 [00:05<00:00,  1.82s/it]\n",
      "100%|██████████| 3/3 [00:05<00:00,  1.81s/it]\n",
      "100%|██████████| 3/3 [00:05<00:00,  1.78s/it]\n",
      "100%|██████████| 3/3 [00:05<00:00,  1.77s/it]\n",
      "100%|██████████| 3/3 [00:05<00:00,  1.78s/it]\n",
      "100%|██████████| 3/3 [00:05<00:00,  1.83s/it]\n",
      "100%|██████████| 3/3 [00:05<00:00,  1.81s/it]\n",
      "100%|██████████| 3/3 [00:05<00:00,  1.80s/it]\n",
      "100%|██████████| 3/3 [00:05<00:00,  1.83s/it]\n",
      "100%|██████████| 3/3 [00:05<00:00,  1.82s/it]\n",
      "100%|██████████| 3/3 [00:05<00:00,  1.80s/it]\n",
      "100%|██████████| 3/3 [00:05<00:00,  1.80s/it]\n",
      "100%|██████████| 3/3 [00:05<00:00,  1.80s/it]\n",
      "100%|██████████| 3/3 [00:05<00:00,  1.80s/it]\n",
      "100%|██████████| 3/3 [00:05<00:00,  1.79s/it]\n",
      "100%|██████████| 3/3 [00:05<00:00,  1.83s/it]\n",
      "100%|██████████| 3/3 [00:05<00:00,  1.79s/it]\n",
      "100%|██████████| 3/3 [00:05<00:00,  1.80s/it]\n",
      "100%|██████████| 3/3 [00:05<00:00,  1.77s/it]\n",
      "100%|██████████| 3/3 [00:05<00:00,  1.76s/it]\n",
      "100%|██████████| 3/3 [00:05<00:00,  1.79s/it]\n",
      "100%|██████████| 3/3 [00:05<00:00,  1.80s/it]\n",
      "100%|██████████| 3/3 [00:05<00:00,  1.77s/it]\n",
      "100%|██████████| 3/3 [00:05<00:00,  1.80s/it]\n",
      "100%|██████████| 3/3 [00:05<00:00,  1.80s/it]\n",
      "100%|██████████| 3/3 [00:05<00:00,  1.79s/it]\n",
      "100%|██████████| 3/3 [00:05<00:00,  1.79s/it]\n",
      "100%|██████████| 3/3 [00:05<00:00,  1.82s/it]\n",
      "100%|██████████| 3/3 [00:05<00:00,  1.79s/it]\n",
      "100%|██████████| 3/3 [00:05<00:00,  1.77s/it]\n",
      "100%|██████████| 3/3 [00:05<00:00,  1.80s/it]\n",
      "100%|██████████| 3/3 [00:05<00:00,  1.75s/it]\n",
      "100%|██████████| 3/3 [00:05<00:00,  1.76s/it]\n"
     ]
    }
   ],
   "source": [
    "maxeig, mineig, maxeigvec, mineigvec, num_iter = min_max_hessian_eigs(\n",
    "    func, train_subset_dataloader, subset_train_y, loss_func, all_params=False\n",
    "    )"
   ]
  },
  {
   "cell_type": "markdown",
   "metadata": {},
   "source": [
    "we found two directions of steepest and flattest curvature, the eigenvectors have unit length"
   ]
  },
  {
   "cell_type": "code",
   "execution_count": 27,
   "metadata": {},
   "outputs": [
    {
     "name": "stdout",
     "output_type": "stream",
     "text": [
      "91.73587 -0.0003969979402569379\n"
     ]
    }
   ],
   "source": [
    "print(maxeig, mineig)"
   ]
  },
  {
   "cell_type": "code",
   "execution_count": null,
   "metadata": {},
   "outputs": [
    {
     "name": "stdout",
     "output_type": "stream",
     "text": [
      "The Euclidean norm of the eigenvector is: 0.9999987483024597\n"
     ]
    }
   ],
   "source": [
    "norm = np.linalg.norm(maxeigvec)\n",
    "print(f\"The Euclidean norm of the eigenvector is: {norm}\")"
   ]
  },
  {
   "cell_type": "code",
   "execution_count": 58,
   "metadata": {},
   "outputs": [
    {
     "name": "stdout",
     "output_type": "stream",
     "text": [
      "The Euclidean norm of the weights is: 520.2879638671875\n"
     ]
    }
   ],
   "source": [
    "def unpack_tensors_to_1d(tensor_list):\n",
    "    \"\"\"Unpack a list of 2D tensors into a 1D NumPy array.\n",
    "\n",
    "    Args:\n",
    "        tensor_list: A list of 2D PyTorch tensors.\n",
    "\n",
    "    Returns:\n",
    "        A 1D NumPy array containing all elements from the tensors.\n",
    "    \"\"\"\n",
    "    # Flatten each tensor, detach from the computation graph, and convert to a NumPy array\n",
    "    flattened_arrays = [tensor.detach().flatten().numpy() for tensor in tensor_list]\n",
    "    \n",
    "    # Concatenate all flattened arrays into a single 1D array\n",
    "    result = np.concatenate(flattened_arrays)\n",
    "    \n",
    "    return result\n",
    "\n",
    "unpacked_array = unpack_tensors_to_1d(og_params)\n",
    "norm = np.linalg.norm(unpacked_array)\n",
    "print(f\"The Euclidean norm of the weights is: {norm}\")\n"
   ]
  },
  {
   "cell_type": "markdown",
   "metadata": {},
   "source": [
    "# Formatting as Two New Models"
   ]
  },
  {
   "cell_type": "code",
   "execution_count": 28,
   "metadata": {},
   "outputs": [],
   "source": [
    "max_model_wts = hess.npvec_to_tensorlist(maxeigvec, og_params)\n",
    "min_model_wts = hess.npvec_to_tensorlist(mineigvec, og_params)"
   ]
  },
  {
   "cell_type": "code",
   "execution_count": 61,
   "metadata": {},
   "outputs": [
    {
     "data": {
      "text/plain": [
       "tensor([-0.0489, -0.0350,  0.1071, -0.1211], grad_fn=<SliceBackward0>)"
      ]
     },
     "execution_count": 61,
     "metadata": {},
     "output_type": "execute_result"
    }
   ],
   "source": [
    "og_params[0][0][:4]"
   ]
  },
  {
   "cell_type": "code",
   "execution_count": 60,
   "metadata": {},
   "outputs": [
    {
     "data": {
      "text/plain": [
       "array([ 1.4091845e-04, -5.8035071e-06,  3.1937804e-04,  0.0000000e+00],\n",
       "      dtype=float32)"
      ]
     },
     "execution_count": 60,
     "metadata": {},
     "output_type": "execute_result"
    }
   ],
   "source": [
    "maxeigvec[:4].flatten()"
   ]
  },
  {
   "cell_type": "code",
   "execution_count": 59,
   "metadata": {},
   "outputs": [
    {
     "data": {
      "text/plain": [
       "tensor([ 1.4092e-04, -5.8035e-06,  3.1938e-04,  0.0000e+00])"
      ]
     },
     "execution_count": 59,
     "metadata": {},
     "output_type": "execute_result"
    }
   ],
   "source": [
    "max_model_wts[0][0][:4]"
   ]
  },
  {
   "cell_type": "code",
   "execution_count": 65,
   "metadata": {},
   "outputs": [],
   "source": [
    "max_model_params = [i[1] for i in model_eig_max.named_parameters() if len(i[1].size()) > 1]"
   ]
  },
  {
   "cell_type": "code",
   "execution_count": 67,
   "metadata": {},
   "outputs": [
    {
     "data": {
      "text/plain": [
       "Parameter containing:\n",
       "tensor([[ 1.4092e-04, -5.8035e-06,  3.1938e-04,  ...,  3.1938e-04,\n",
       "          0.0000e+00,  0.0000e+00],\n",
       "        [-4.3239e-06,  2.0644e-06, -1.8419e-06,  ..., -1.8419e-06,\n",
       "          0.0000e+00,  0.0000e+00],\n",
       "        [-3.7588e-06, -1.5764e-08, -2.1325e-05,  ..., -2.1325e-05,\n",
       "          0.0000e+00,  0.0000e+00],\n",
       "        ...,\n",
       "        [ 7.0629e-06,  5.6602e-07,  2.1175e-05,  ...,  2.1175e-05,\n",
       "          0.0000e+00,  0.0000e+00],\n",
       "        [ 5.8127e-05, -6.4609e-08,  2.1141e-04,  ...,  2.1141e-04,\n",
       "          0.0000e+00,  0.0000e+00],\n",
       "        [ 2.4581e-06, -7.7974e-06, -2.2817e-05,  ..., -2.2817e-05,\n",
       "          0.0000e+00,  0.0000e+00]], requires_grad=True)"
      ]
     },
     "execution_count": 67,
     "metadata": {},
     "output_type": "execute_result"
    }
   ],
   "source": [
    "max_model_params[0]"
   ]
  },
  {
   "cell_type": "code",
   "execution_count": 29,
   "metadata": {},
   "outputs": [],
   "source": [
    "model_eig_max = copy.deepcopy(func)\n",
    "model_eig_min = copy.deepcopy(func)"
   ]
  },
  {
   "cell_type": "markdown",
   "metadata": {},
   "source": [
    "why are we using entries of our hessien eigenvector as parameters instead of adding the entries of eigenvector to our original weights? \n",
    "\n",
    "model_eig_max's weights are just eigenvector entries, it shouldnt have predictive power.\n",
    "\n",
    "we could be doing smth else when interpolating the model when constructing the losslandscape"
   ]
  },
  {
   "cell_type": "code",
   "execution_count": 30,
   "metadata": {},
   "outputs": [
    {
     "name": "stdout",
     "output_type": "stream",
     "text": [
      "_IncompatibleKeys(missing_keys=['atom_embedding.layer.1.running_mean', 'atom_embedding.layer.1.running_var', 'edge_embedding.0.centers', 'edge_embedding.1.layer.1.running_mean', 'edge_embedding.1.layer.1.running_var', 'edge_embedding.2.layer.1.running_mean', 'edge_embedding.2.layer.1.running_var', 'angle_embedding.0.centers', 'angle_embedding.1.layer.1.running_mean', 'angle_embedding.1.layer.1.running_var', 'angle_embedding.2.layer.1.running_mean', 'angle_embedding.2.layer.1.running_var', 'alignn_layers.0.node_update.bn_edges.running_mean', 'alignn_layers.0.node_update.bn_edges.running_var', 'alignn_layers.0.node_update.bn_nodes.running_mean', 'alignn_layers.0.node_update.bn_nodes.running_var', 'alignn_layers.0.edge_update.bn_edges.running_mean', 'alignn_layers.0.edge_update.bn_edges.running_var', 'alignn_layers.0.edge_update.bn_nodes.running_mean', 'alignn_layers.0.edge_update.bn_nodes.running_var', 'alignn_layers.1.node_update.bn_edges.running_mean', 'alignn_layers.1.node_update.bn_edges.running_var', 'alignn_layers.1.node_update.bn_nodes.running_mean', 'alignn_layers.1.node_update.bn_nodes.running_var', 'alignn_layers.1.edge_update.bn_edges.running_mean', 'alignn_layers.1.edge_update.bn_edges.running_var', 'alignn_layers.1.edge_update.bn_nodes.running_mean', 'alignn_layers.1.edge_update.bn_nodes.running_var', 'alignn_layers.2.node_update.bn_edges.running_mean', 'alignn_layers.2.node_update.bn_edges.running_var', 'alignn_layers.2.node_update.bn_nodes.running_mean', 'alignn_layers.2.node_update.bn_nodes.running_var', 'alignn_layers.2.edge_update.bn_edges.running_mean', 'alignn_layers.2.edge_update.bn_edges.running_var', 'alignn_layers.2.edge_update.bn_nodes.running_mean', 'alignn_layers.2.edge_update.bn_nodes.running_var', 'alignn_layers.3.node_update.bn_edges.running_mean', 'alignn_layers.3.node_update.bn_edges.running_var', 'alignn_layers.3.node_update.bn_nodes.running_mean', 'alignn_layers.3.node_update.bn_nodes.running_var', 'alignn_layers.3.edge_update.bn_edges.running_mean', 'alignn_layers.3.edge_update.bn_edges.running_var', 'alignn_layers.3.edge_update.bn_nodes.running_mean', 'alignn_layers.3.edge_update.bn_nodes.running_var', 'gcn_layers.0.bn_edges.running_mean', 'gcn_layers.0.bn_edges.running_var', 'gcn_layers.0.bn_nodes.running_mean', 'gcn_layers.0.bn_nodes.running_var', 'gcn_layers.1.bn_edges.running_mean', 'gcn_layers.1.bn_edges.running_var', 'gcn_layers.1.bn_nodes.running_mean', 'gcn_layers.1.bn_nodes.running_var', 'gcn_layers.2.bn_edges.running_mean', 'gcn_layers.2.bn_edges.running_var', 'gcn_layers.2.bn_nodes.running_mean', 'gcn_layers.2.bn_nodes.running_var', 'gcn_layers.3.bn_edges.running_mean', 'gcn_layers.3.bn_edges.running_var', 'gcn_layers.3.bn_nodes.running_mean', 'gcn_layers.3.bn_nodes.running_var'], unexpected_keys=[])\n",
      "_IncompatibleKeys(missing_keys=['atom_embedding.layer.1.running_mean', 'atom_embedding.layer.1.running_var', 'edge_embedding.0.centers', 'edge_embedding.1.layer.1.running_mean', 'edge_embedding.1.layer.1.running_var', 'edge_embedding.2.layer.1.running_mean', 'edge_embedding.2.layer.1.running_var', 'angle_embedding.0.centers', 'angle_embedding.1.layer.1.running_mean', 'angle_embedding.1.layer.1.running_var', 'angle_embedding.2.layer.1.running_mean', 'angle_embedding.2.layer.1.running_var', 'alignn_layers.0.node_update.bn_edges.running_mean', 'alignn_layers.0.node_update.bn_edges.running_var', 'alignn_layers.0.node_update.bn_nodes.running_mean', 'alignn_layers.0.node_update.bn_nodes.running_var', 'alignn_layers.0.edge_update.bn_edges.running_mean', 'alignn_layers.0.edge_update.bn_edges.running_var', 'alignn_layers.0.edge_update.bn_nodes.running_mean', 'alignn_layers.0.edge_update.bn_nodes.running_var', 'alignn_layers.1.node_update.bn_edges.running_mean', 'alignn_layers.1.node_update.bn_edges.running_var', 'alignn_layers.1.node_update.bn_nodes.running_mean', 'alignn_layers.1.node_update.bn_nodes.running_var', 'alignn_layers.1.edge_update.bn_edges.running_mean', 'alignn_layers.1.edge_update.bn_edges.running_var', 'alignn_layers.1.edge_update.bn_nodes.running_mean', 'alignn_layers.1.edge_update.bn_nodes.running_var', 'alignn_layers.2.node_update.bn_edges.running_mean', 'alignn_layers.2.node_update.bn_edges.running_var', 'alignn_layers.2.node_update.bn_nodes.running_mean', 'alignn_layers.2.node_update.bn_nodes.running_var', 'alignn_layers.2.edge_update.bn_edges.running_mean', 'alignn_layers.2.edge_update.bn_edges.running_var', 'alignn_layers.2.edge_update.bn_nodes.running_mean', 'alignn_layers.2.edge_update.bn_nodes.running_var', 'alignn_layers.3.node_update.bn_edges.running_mean', 'alignn_layers.3.node_update.bn_edges.running_var', 'alignn_layers.3.node_update.bn_nodes.running_mean', 'alignn_layers.3.node_update.bn_nodes.running_var', 'alignn_layers.3.edge_update.bn_edges.running_mean', 'alignn_layers.3.edge_update.bn_edges.running_var', 'alignn_layers.3.edge_update.bn_nodes.running_mean', 'alignn_layers.3.edge_update.bn_nodes.running_var', 'gcn_layers.0.bn_edges.running_mean', 'gcn_layers.0.bn_edges.running_var', 'gcn_layers.0.bn_nodes.running_mean', 'gcn_layers.0.bn_nodes.running_var', 'gcn_layers.1.bn_edges.running_mean', 'gcn_layers.1.bn_edges.running_var', 'gcn_layers.1.bn_nodes.running_mean', 'gcn_layers.1.bn_nodes.running_var', 'gcn_layers.2.bn_edges.running_mean', 'gcn_layers.2.bn_edges.running_var', 'gcn_layers.2.bn_nodes.running_mean', 'gcn_layers.2.bn_nodes.running_var', 'gcn_layers.3.bn_edges.running_mean', 'gcn_layers.3.bn_edges.running_var', 'gcn_layers.3.bn_nodes.running_mean', 'gcn_layers.3.bn_nodes.running_var'], unexpected_keys=[])\n"
     ]
    }
   ],
   "source": [
    "# There will be some incompatible keys due to the batch norm values\n",
    "# the original batch norm values will be retained\n",
    "model_eig_max = force_wts_into_model(og_layer_names, max_model_wts, model_eig_max,  model_wt_dict)\n",
    "model_eig_min = force_wts_into_model(og_layer_names, min_model_wts, model_eig_min,  model_wt_dict)"
   ]
  },
  {
   "cell_type": "code",
   "execution_count": 31,
   "metadata": {},
   "outputs": [],
   "source": [
    "torch.save(model_eig_max.state_dict(), 'model_eig_max.pt')\n",
    "torch.save(model_eig_min.state_dict(), 'model_eig_min.pt')"
   ]
  }
 ],
 "metadata": {
  "kernelspec": {
   "display_name": "Python 3",
   "language": "python",
   "name": "python3"
  },
  "language_info": {
   "codemirror_mode": {
    "name": "ipython",
    "version": 3
   },
   "file_extension": ".py",
   "mimetype": "text/x-python",
   "name": "python",
   "nbconvert_exporter": "python",
   "pygments_lexer": "ipython3",
   "version": "3.10.0"
  }
 },
 "nbformat": 4,
 "nbformat_minor": 2
}
