{
 "cells": [
  {
   "cell_type": "markdown",
   "metadata": {},
   "source": [
    "# Implement Hessian Loss Landscapes\n",
    "\n",
    "Ashley S. Dale\n",
    "\n",
    "Notebook loads a pretrained ALIGNN model, and calculates the loss landscape using Hessian directions\n",
    "\n",
    "\n",
    "- Relevant paper: [*Visualizing high-dimensional loss landscapes with Hessian directions* by Bottcher and Wheeler](https://iopscience.iop.org/article/10.1088/1742-5468/ad13fc/meta)\n",
    "\n",
    "---\n",
    "Notebook Outline:\n",
    "\n",
    "0. Select and load trained model and data\n",
    "\n",
    "0. Generate a set of predictions for the data\n",
    "\n",
    "0. Select a subset of well predicted instances to be \"In Distribution\" (ID) based on the z-score of the prediction error, where low z-score represents well predicted and therefore in-distribution\n",
    "\n",
    "0. Select a subset of poorly predicted instances to be \"Out of Distribution\" (OOD) based on the z-score of the prediction error, where a high z-score represents poorly predicted and therefore out-of-distribution\n",
    "\n",
    "0. Calculate the eigenvectors of the model's Hessian using the Hessian Vector Product\n",
    "\n",
    "0. Format two of the Hessians as two new models. These models will define the coordinate axes of the loss landscape\n",
    "\n",
    "0. Calculate the loss landscape using the original model as the origin, and the models generated from the eigenvectors of the Hessian as the two directions in which the original model is perturbed. Repeat this twice for the ID and OOD datasets.\n"
   ]
  },
  {
   "cell_type": "code",
   "execution_count": 1,
   "metadata": {},
   "outputs": [],
   "source": [
    "import copy\n",
    "import torch\n",
    "import glob\n",
    "import json\n",
    "\n",
    "import numpy as np\n",
    "from tqdm import tqdm\n",
    "# import seaborn as sns\n",
    "import matplotlib.pyplot as plt\n",
    "from pandas import DataFrame\n",
    "\n",
    "import ipywidgets as widgets\n",
    "from torchinfo import summary\n",
    "from pymatgen.core.periodic_table import Element\n",
    "from collections import OrderedDict\n",
    "\n",
    "import alignn\n",
    "from alignn.pretrained import *\n",
    "from jarvis.db.figshare import data\n",
    "from jarvis.db.figshare import data\n",
    "from jarvis.db.jsonutils import loadjson\n",
    "\n",
    "import loss_landscapes\n",
    "import loss_landscapes.metrics\n",
    "from loss_landscapes.model_interface.model_wrapper import ModelWrapper\n",
    "from abc import ABC, abstractmethod\n",
    "\n",
    "from src.utils import *"
   ]
  },
  {
   "cell_type": "code",
   "execution_count": 2,
   "metadata": {},
   "outputs": [
    {
     "name": "stdout",
     "output_type": "stream",
     "text": [
      "Using GPU ...\n"
     ]
    }
   ],
   "source": [
    "if torch. cuda. is_available():\n",
    "    print(\"Using GPU ...\")\n",
    "    device = 'cuda'\n",
    "else:\n",
    "    device = 'cpu'"
   ]
  },
  {
   "cell_type": "markdown",
   "metadata": {},
   "source": [
    "# Load Model"
   ]
  },
  {
   "cell_type": "code",
   "execution_count": 3,
   "metadata": {},
   "outputs": [],
   "source": [
    "list_of_pretrained_models = list(get_all_models().keys())"
   ]
  },
  {
   "cell_type": "markdown",
   "metadata": {},
   "source": [
    "-> Select the `jv_formation_energy_peratom_alignn` model for the demo"
   ]
  },
  {
   "cell_type": "code",
   "execution_count": 4,
   "metadata": {},
   "outputs": [
    {
     "data": {
      "application/vnd.jupyter.widget-view+json": {
       "model_id": "7bc301925b894a268837cf76939bec01",
       "version_major": 2,
       "version_minor": 0
      },
      "text/plain": [
       "Dropdown(description='Select Model', options=('jv_formation_energy_peratom_alignn', 'jv_optb88vdw_total_energy…"
      ]
     },
     "metadata": {},
     "output_type": "display_data"
    }
   ],
   "source": [
    "style = {'description_width': 'initial'}\n",
    "\n",
    "config_selector = widgets.Dropdown(\n",
    "    options=list_of_pretrained_models,\n",
    "    value=list_of_pretrained_models[0],\n",
    "    description='Select Model',\n",
    "    style=style,\n",
    "    disabled=False,\n",
    ")\n",
    "\n",
    "display(config_selector)"
   ]
  },
  {
   "cell_type": "code",
   "execution_count": 5,
   "metadata": {},
   "outputs": [
    {
     "name": "stdout",
     "output_type": "stream",
     "text": [
      "Selected:  jv_formation_energy_peratom_alignn\n"
     ]
    }
   ],
   "source": [
    "# This is the model we will load\n",
    "model_name = config_selector.value\n",
    "print(\"Selected: \", model_name)"
   ]
  },
  {
   "cell_type": "code",
   "execution_count": 6,
   "metadata": {},
   "outputs": [
    {
     "name": "stdout",
     "output_type": "stream",
     "text": [
      "Using chk file jv_formation_energy_peratom_alignn/checkpoint_300.pt from  ['jv_formation_energy_peratom_alignn/checkpoint_300.pt']\n",
      "Path c:\\Users\\EthanH24\\anaconda3\\envs\\losslandscapefeb8gpu4\\lib\\site-packages\\alignn\\jv_formation_energy_peratom_alignn.zip\n",
      "Config c:\\Users\\EthanH24\\Desktop\\ML research\\loss_landscapes_demo\\jv_formation_energy_peratom_alignn\\config.json\n"
     ]
    },
    {
     "name": "stderr",
     "output_type": "stream",
     "text": [
      "c:\\Users\\EthanH24\\anaconda3\\envs\\losslandscapefeb8gpu4\\lib\\site-packages\\alignn\\pretrained.py:292: FutureWarning: You are using `torch.load` with `weights_only=False` (the current default value), which uses the default pickle module implicitly. It is possible to construct malicious pickle data which will execute arbitrary code during unpickling (See https://github.com/pytorch/pytorch/blob/main/SECURITY.md#untrusted-models for more details). In a future release, the default value for `weights_only` will be flipped to `True`. This limits the functions that could be executed during unpickling. Arbitrary objects will no longer be allowed to be loaded via this mode unless they are explicitly allowlisted by the user via `torch.serialization.add_safe_globals`. We recommend you start setting `weights_only=True` for any use case where you don't have full control of the loaded file. Please open an issue on GitHub for any issues related to this experimental feature.\n",
      "  model.load_state_dict(torch.load(filename, map_location=device)[\"model\"])\n"
     ]
    }
   ],
   "source": [
    "model = get_figshare_model(model_name)\n",
    "model.to(device)\n",
    "_ = model.eval()"
   ]
  },
  {
   "cell_type": "code",
   "execution_count": 7,
   "metadata": {},
   "outputs": [],
   "source": [
    "model_wt_dict = OrderedDict([i for i in model.named_parameters()])"
   ]
  },
  {
   "cell_type": "code",
   "execution_count": 8,
   "metadata": {},
   "outputs": [
    {
     "data": {
      "text/plain": [
       "=================================================================\n",
       "Layer (type:depth-idx)                   Param #\n",
       "=================================================================\n",
       "ALIGNN                                   --\n",
       "├─MLPLayer: 1-1                          --\n",
       "│    └─Sequential: 2-1                   --\n",
       "│    │    └─Linear: 3-1                  23,808\n",
       "│    │    └─BatchNorm1d: 3-2             512\n",
       "│    │    └─SiLU: 3-3                    --\n",
       "├─Sequential: 1-2                        --\n",
       "│    └─RBFExpansion: 2-2                 --\n",
       "│    └─MLPLayer: 2-3                     --\n",
       "│    │    └─Sequential: 3-4              5,312\n",
       "│    └─MLPLayer: 2-4                     --\n",
       "│    │    └─Sequential: 3-5              17,152\n",
       "├─Sequential: 1-3                        --\n",
       "│    └─RBFExpansion: 2-5                 --\n",
       "│    └─MLPLayer: 2-6                     --\n",
       "│    │    └─Sequential: 3-6              2,752\n",
       "│    └─MLPLayer: 2-7                     --\n",
       "│    │    └─Sequential: 3-7              17,152\n",
       "├─ModuleList: 1-4                        --\n",
       "│    └─ALIGNNConv: 2-8                   --\n",
       "│    │    └─EdgeGatedGraphConv: 3-8      329,984\n",
       "│    │    └─EdgeGatedGraphConv: 3-9      329,984\n",
       "│    └─ALIGNNConv: 2-9                   --\n",
       "│    │    └─EdgeGatedGraphConv: 3-10     329,984\n",
       "│    │    └─EdgeGatedGraphConv: 3-11     329,984\n",
       "│    └─ALIGNNConv: 2-10                  --\n",
       "│    │    └─EdgeGatedGraphConv: 3-12     329,984\n",
       "│    │    └─EdgeGatedGraphConv: 3-13     329,984\n",
       "│    └─ALIGNNConv: 2-11                  --\n",
       "│    │    └─EdgeGatedGraphConv: 3-14     329,984\n",
       "│    │    └─EdgeGatedGraphConv: 3-15     329,984\n",
       "├─ModuleList: 1-5                        --\n",
       "│    └─EdgeGatedGraphConv: 2-12          --\n",
       "│    │    └─Linear: 3-16                 65,792\n",
       "│    │    └─Linear: 3-17                 65,792\n",
       "│    │    └─Linear: 3-18                 65,792\n",
       "│    │    └─BatchNorm1d: 3-19            512\n",
       "│    │    └─Linear: 3-20                 65,792\n",
       "│    │    └─Linear: 3-21                 65,792\n",
       "│    │    └─BatchNorm1d: 3-22            512\n",
       "│    └─EdgeGatedGraphConv: 2-13          --\n",
       "│    │    └─Linear: 3-23                 65,792\n",
       "│    │    └─Linear: 3-24                 65,792\n",
       "│    │    └─Linear: 3-25                 65,792\n",
       "│    │    └─BatchNorm1d: 3-26            512\n",
       "│    │    └─Linear: 3-27                 65,792\n",
       "│    │    └─Linear: 3-28                 65,792\n",
       "│    │    └─BatchNorm1d: 3-29            512\n",
       "│    └─EdgeGatedGraphConv: 2-14          --\n",
       "│    │    └─Linear: 3-30                 65,792\n",
       "│    │    └─Linear: 3-31                 65,792\n",
       "│    │    └─Linear: 3-32                 65,792\n",
       "│    │    └─BatchNorm1d: 3-33            512\n",
       "│    │    └─Linear: 3-34                 65,792\n",
       "│    │    └─Linear: 3-35                 65,792\n",
       "│    │    └─BatchNorm1d: 3-36            512\n",
       "│    └─EdgeGatedGraphConv: 2-15          --\n",
       "│    │    └─Linear: 3-37                 65,792\n",
       "│    │    └─Linear: 3-38                 65,792\n",
       "│    │    └─Linear: 3-39                 65,792\n",
       "│    │    └─BatchNorm1d: 3-40            512\n",
       "│    │    └─Linear: 3-41                 65,792\n",
       "│    │    └─Linear: 3-42                 65,792\n",
       "│    │    └─BatchNorm1d: 3-43            512\n",
       "├─AvgPooling: 1-6                        --\n",
       "├─AvgPooling: 1-7                        --\n",
       "├─Linear: 1-8                            257\n",
       "=================================================================\n",
       "Total params: 4,026,753\n",
       "Trainable params: 4,026,753\n",
       "Non-trainable params: 0\n",
       "================================================================="
      ]
     },
     "execution_count": 8,
     "metadata": {},
     "output_type": "execute_result"
    }
   ],
   "source": [
    "summary(model)"
   ]
  },
  {
   "cell_type": "markdown",
   "metadata": {},
   "source": [
    "# Load Data"
   ]
  },
  {
   "cell_type": "code",
   "execution_count": 9,
   "metadata": {},
   "outputs": [],
   "source": [
    "# target = 'optb88vdw_bandgap'\n",
    "target = 'formation_energy_peratom'\n",
    "n_samples = 1000\n",
    "element_to_omit_from_training_data = 'Fe'"
   ]
  },
  {
   "cell_type": "code",
   "execution_count": 10,
   "metadata": {},
   "outputs": [
    {
     "name": "stdout",
     "output_type": "stream",
     "text": [
      "Obtaining 3D dataset 76k ...\n",
      "Reference:https://www.nature.com/articles/s41524-020-00440-1\n",
      "Other versions:https://doi.org/10.6084/m9.figshare.6815699\n",
      "Loading the zipfile...\n",
      "Loading completed.\n",
      "num train samples: 927\n",
      "num test samples: 73\n"
     ]
    }
   ],
   "source": [
    "d = data(\"dft_3d\")\n",
    "d = d[:n_samples]\n",
    "dataset = DataFrame(copy.deepcopy(d))\n",
    "atoms_df = DataFrame(list(DataFrame(d)['atoms']))\n",
    "dataset = pd.concat([dataset, atoms_df], axis=1)\n",
    "train_idx, test_idx = get_split(dataset, 'elements', element_to_omit_from_training_data)\n",
    "print('num train samples: '+ str(len(train_idx)))\n",
    "print('num test samples: '+ str(len(test_idx)))"
   ]
  },
  {
   "cell_type": "markdown",
   "metadata": {},
   "source": [
    "# Predicting on Test and Train Data"
   ]
  },
  {
   "cell_type": "markdown",
   "metadata": {},
   "source": [
    "split all samples based having or not having Fe"
   ]
  },
  {
   "cell_type": "code",
   "execution_count": 52,
   "metadata": {},
   "outputs": [
    {
     "name": "stdout",
     "output_type": "stream",
     "text": [
      "data range 5.28308 -4.0858\n",
      "Converting to graphs!\n"
     ]
    },
    {
     "name": "stderr",
     "output_type": "stream",
     "text": [
      "100%|██████████| 927/927 [00:06<00:00, 137.01it/s]\n"
     ]
    },
    {
     "name": "stdout",
     "output_type": "stream",
     "text": [
      "df                                                  atoms     prop  jid\n",
      "0    {'lattice_mat': [[3.566933224304235, 0.0, -0.0... -0.42762    0\n",
      "1    {'lattice_mat': [[4.089078911208881, 0.0, 0.0]... -0.41596    1\n",
      "2    {'lattice_mat': [[-1.833590720595598, 1.833590...  0.04847    2\n",
      "3    {'lattice_mat': [[7.2963518353359165, 0.0, 0.0... -0.44140    3\n",
      "4    {'lattice_mat': [[1.6777483798834445, -2.90594... -0.71026    4\n",
      "..                                                 ...      ...  ...\n",
      "922  {'lattice_mat': [[0.0, 5.004301514431302, 5.00...  1.16087  922\n",
      "923  {'lattice_mat': [[4.496207811888019, 0.0, 0.0]... -1.90267  923\n",
      "924  {'lattice_mat': [[0.0, 3.852051785372815, 3.85...  0.41960  924\n",
      "925  {'lattice_mat': [[0.0, 4.9082744345175895, 4.9...  0.49906  925\n",
      "926  {'lattice_mat': [[0.0, 4.920264584239658, 4.92...  0.92931  926\n",
      "\n",
      "[927 rows x 3 columns]\n",
      "building line graphs\n"
     ]
    },
    {
     "name": "stderr",
     "output_type": "stream",
     "text": [
      "100%|██████████| 927/927 [00:00<00:00, 2420.16it/s]\n",
      "100%|██████████| 927/927 [00:22<00:00, 41.03it/s]\n"
     ]
    }
   ],
   "source": [
    "train_data = [d[idx] for idx in train_idx.to_list()]\n",
    "train_dataloader = get_data_loader(train_data, target, workers=0)\n",
    "\n",
    "model_train_predictions = []\n",
    "original_train_targets = []\n",
    "for s in tqdm(train_dataloader):\n",
    "    original_train_targets.append(s[2].detach().numpy()[0])\n",
    "    y_pred = model([s[0].to(device), s[1].to(device)])\n",
    "    y_pred = np.expand_dims(y_pred.cpu().detach().numpy(), axis=0)[0]\n",
    "    model_train_predictions.append(y_pred)"
   ]
  },
  {
   "cell_type": "code",
   "execution_count": 14,
   "metadata": {},
   "outputs": [
    {
     "name": "stdout",
     "output_type": "stream",
     "text": [
      "data range 1.56755 -2.65468\n",
      "Converting to graphs!\n"
     ]
    },
    {
     "name": "stderr",
     "output_type": "stream",
     "text": [
      "100%|██████████| 73/73 [00:00<00:00, 107.19it/s]\n"
     ]
    },
    {
     "name": "stdout",
     "output_type": "stream",
     "text": [
      "df                                                 atoms     prop jid\n",
      "0   {'lattice_mat': [[3.790914410660539, -0.0, 0.0... -2.07159   0\n",
      "1   {'lattice_mat': [[4.927781968323723, -0.0, 0.0... -1.78124   1\n",
      "2   {'lattice_mat': [[4.839493559425439, 9.7116505... -1.66274   2\n",
      "3   {'lattice_mat': [[5.464512229851642, 0.0, -2.0... -0.93989   3\n",
      "4   {'lattice_mat': [[4.078736102710052, 0.3455178...  0.07844   4\n",
      "..                                                ...      ...  ..\n",
      "68  {'lattice_mat': [[4.8166458682114435, -0.0, 0.... -1.28488  68\n",
      "69  {'lattice_mat': [[0.0, 4.589959301088131, 0.00... -1.70084  69\n",
      "70  {'lattice_mat': [[3.4709209595661688, -1.12804... -0.19524  70\n",
      "71  {'lattice_mat': [[-0.0, 3.24316049942265, 3.24...  0.14577  71\n",
      "72  {'lattice_mat': [[6.84938891863269, 1.15896e-1... -0.44277  72\n",
      "\n",
      "[73 rows x 3 columns]\n",
      "building line graphs\n"
     ]
    },
    {
     "name": "stderr",
     "output_type": "stream",
     "text": [
      "100%|██████████| 73/73 [00:00<00:00, 1921.02it/s]\n",
      "100%|██████████| 73/73 [00:01<00:00, 39.76it/s]\n"
     ]
    }
   ],
   "source": [
    "test_data = [d[idx] for idx in test_idx.to_list()]\n",
    "test_dataloader = get_data_loader(test_data, target, workers=0)\n",
    "\n",
    "model_test_predictions = []\n",
    "original_test_targets = []\n",
    "for s in tqdm(test_dataloader):\n",
    "    original_test_targets.append(s[2].detach().numpy()[0])\n",
    "    y_pred = model([s[0].to(device), s[1].to(device)])\n",
    "    y_pred = np.expand_dims(y_pred.cpu().detach().numpy(), axis=0)[0]\n",
    "    model_test_predictions.append(y_pred)\n"
   ]
  },
  {
   "cell_type": "markdown",
   "metadata": {},
   "source": [
    "## Subselect Train Data Samples: Most ID (Minimum Error)"
   ]
  },
  {
   "cell_type": "code",
   "execution_count": 54,
   "metadata": {},
   "outputs": [],
   "source": [
    "num_sample_in_loader = 50 #choose the number of samples involved in hessian computation and loss landscape visualization"
   ]
  },
  {
   "cell_type": "code",
   "execution_count": 15,
   "metadata": {},
   "outputs": [],
   "source": [
    "#compute error for all training sample\n",
    "train_df = pd.DataFrame(train_data)\n",
    "train_df['pred_val'] = model_train_predictions\n",
    "train_df['err'] = (train_df[target] - train_df['pred_val'])\n",
    "train_df['abs_err'] = np.abs(train_df[target] - train_df['pred_val'])\n",
    "train_df['z_score_err'] = (train_df['abs_err'] - np.mean(train_df['abs_err']))/np.std(train_df['abs_err'])\n",
    "train_df.head()"
   ]
  },
  {
   "cell_type": "code",
   "execution_count": 17,
   "metadata": {},
   "outputs": [
    {
     "data": {
      "image/png": "[encoded data removed]",
      "text/plain": [
       "<Figure size 640x480 with 1 Axes>"
      ]
     },
     "metadata": {},
     "output_type": "display_data"
    }
   ],
   "source": [
    "ax = plt.hist(train_df['z_score_err'].values, bins=100)\n",
    "plt.title('Train Set Predictions (Omitting '+element_to_omit_from_training_data+')')\n",
    "plt.xlabel('Value')\n",
    "plt.ylabel('Count')\n",
    "plt.show()"
   ]
  },
  {
   "cell_type": "code",
   "execution_count": 56,
   "metadata": {},
   "outputs": [
    {
     "name": "stdout",
     "output_type": "stream",
     "text": [
      "data range 1.31171 -3.24073\n",
      "Converting to graphs!\n"
     ]
    },
    {
     "name": "stderr",
     "output_type": "stream",
     "text": [
      "100%|██████████| 50/50 [00:00<00:00, 127.01it/s]\n"
     ]
    },
    {
     "name": "stdout",
     "output_type": "stream",
     "text": [
      "df                                                 atoms     prop jid\n",
      "0   {'lattice_mat': [[5.614561710069512, -0.008098... -3.04140   0\n",
      "1   {'lattice_mat': [[4.428712142345245, 0.0938283... -1.15984   1\n",
      "2   {'lattice_mat': [[6.077481786895317, 0.0, 0.0]... -0.84152   2\n",
      "3   {'lattice_mat': [[7.542839764249747, 0.1718970... -0.44498   3\n",
      "4   {'lattice_mat': [[5.382597739169287, 0.0, -0.0... -2.65345   4\n",
      "5   {'lattice_mat': [[5.341766494740965, 4.8168425... -0.56058   5\n",
      "6   {'lattice_mat': [[3.413342172498346, 0.0, 0.0]... -1.42034   6\n",
      "7   {'lattice_mat': [[4.328319117003372, 1.032103e... -1.67055   7\n",
      "8   {'lattice_mat': [[5.995433144500313, 0.0005096... -0.39732   8\n",
      "9   {'lattice_mat': [[4.452327579413091, -0.007614... -1.46129   9\n",
      "10  {'lattice_mat': [[3.8371322574431592, 0.0, 0.0...  0.04698  10\n",
      "11  {'lattice_mat': [[3.4021647857751227, -3.63769... -3.08561  11\n",
      "12  {'lattice_mat': [[0.0, 4.897127193355007, 4.89...  0.29936  12\n",
      "13  {'lattice_mat': [[3.751609782599518, -0.0, -0....  0.28546  13\n",
      "14  {'lattice_mat': [[-5.2983347995314904, 0.00012... -1.28752  14\n",
      "15  {'lattice_mat': [[7.176688315920869, 0.0177224... -2.12074  15\n",
      "16  {'lattice_mat': [[2.7742217680271413, 4.091990... -0.95343  16\n",
      "17  {'lattice_mat': [[-0.0, 4.814357606223846, 4.8...  1.31171  17\n",
      "18  {'lattice_mat': [[4.9619896140897275, -8.59441... -3.08933  18\n",
      "19  {'lattice_mat': [[-0.0, 4.338166672957347, 4.3...  0.40293  19\n",
      "20  {'lattice_mat': [[4.038898205988307, -4.65024e... -0.64739  20\n",
      "21  {'lattice_mat': [[4.699408089813071, 0.0, 0.0]... -1.66196  21\n",
      "22  {'lattice_mat': [[6.072599402107012, -0.036450... -2.04247  22\n",
      "23  {'lattice_mat': [[5.558521476909106, 0.0, 0.0]... -2.72413  23\n",
      "24  {'lattice_mat': [[3.5901111032581614, 0.0, 0.0... -0.39393  24\n",
      "25  {'lattice_mat': [[4.2458238828472865, -9.24655... -0.51564  25\n",
      "26  {'lattice_mat': [[5.773610482753772, 0.0, 0.0]... -0.75957  26\n",
      "27  {'lattice_mat': [[7.641597528586177, 0.0, -4.9... -2.16254  27\n",
      "28  {'lattice_mat': [[-2.957792787404249, -7.86090... -1.21096  28\n",
      "29  {'lattice_mat': [[7.139992754882152, 0.0627425... -2.51457  29\n",
      "30  {'lattice_mat': [[-0.0, 4.896339150327006, 4.8...  1.24720  30\n",
      "31  {'lattice_mat': [[4.189561544891597, -0.018769... -0.49153  31\n",
      "32  {'lattice_mat': [[0.0, 4.859331879422273, 4.85...  0.61219  32\n",
      "33  {'lattice_mat': [[0.0, 4.900914308261845, 4.90...  1.15842  33\n",
      "34  {'lattice_mat': [[0.0, 0.0, -3.878379352212096... -0.52033  34\n",
      "35  {'lattice_mat': [[-0.0, 4.089020974510768, 4.0...  1.19689  35\n",
      "36  {'lattice_mat': [[0.0, 4.939183293766963, 4.93...  0.12510  36\n",
      "37  {'lattice_mat': [[7.394501076210965, -1.65096e... -3.24073  37\n",
      "38  {'lattice_mat': [[4.755191613611486, 0.0409644... -2.05465  38\n",
      "39  {'lattice_mat': [[8.058036444905524, -0.0, -0.... -1.60264  39\n",
      "40  {'lattice_mat': [[3.9020001613090693, -0.00529... -0.38818  40\n",
      "41  {'lattice_mat': [[9.490795691456137, 0.0227322... -0.26827  41\n",
      "42  {'lattice_mat': [[5.691918346156999, -8.976846... -2.66891  42\n",
      "43  {'lattice_mat': [[4.74015426190946, 0.0, -0.05... -3.12111  43\n",
      "44  {'lattice_mat': [[5.454590982353622, 0.0, 0.0]... -2.55245  44\n",
      "45  {'lattice_mat': [[5.532928684449406, -1.573926... -0.07592  45\n",
      "46  {'lattice_mat': [[1.3e-15, 5.835276375487073, ... -1.45115  46\n",
      "47  {'lattice_mat': [[2.1426299016085606, -3.71114... -0.58149  47\n",
      "48  {'lattice_mat': [[-0.0, 4.995305749731112, 4.9...  1.05384  48\n",
      "49  {'lattice_mat': [[0.0, 5.149359721977099, 5.14...  0.41076  49\n",
      "building line graphs\n"
     ]
    },
    {
     "name": "stderr",
     "output_type": "stream",
     "text": [
      "100%|██████████| 50/50 [00:00<00:00, 2083.24it/s]\n"
     ]
    },
    {
     "data": {
      "text/html": [
       "<div>\n",
       "<style scoped>\n",
       "    .dataframe tbody tr th:only-of-type {\n",
       "        vertical-align: middle;\n",
       "    }\n",
       "\n",
       "    .dataframe tbody tr th {\n",
       "        vertical-align: top;\n",
       "    }\n",
       "\n",
       "    .dataframe thead th {\n",
       "        text-align: right;\n",
       "    }\n",
       "</style>\n",
       "<table border=\"1\" class=\"dataframe\">\n",
       "  <thead>\n",
       "    <tr style=\"text-align: right;\">\n",
       "      <th></th>\n",
       "      <th>jid</th>\n",
       "      <th>spg_number</th>\n",
       "      <th>spg_symbol</th>\n",
       "      <th>formula</th>\n",
       "      <th>formation_energy_peratom</th>\n",
       "      <th>func</th>\n",
       "      <th>optb88vdw_bandgap</th>\n",
       "      <th>atoms</th>\n",
       "      <th>slme</th>\n",
       "      <th>magmom_oszicar</th>\n",
       "      <th>...</th>\n",
       "      <th>bulk_modulus_kv</th>\n",
       "      <th>shear_modulus_gv</th>\n",
       "      <th>mbj_bandgap</th>\n",
       "      <th>hse_gap</th>\n",
       "      <th>reference</th>\n",
       "      <th>search</th>\n",
       "      <th>pred_val</th>\n",
       "      <th>err</th>\n",
       "      <th>abs_err</th>\n",
       "      <th>z_score_err</th>\n",
       "    </tr>\n",
       "  </thead>\n",
       "  <tbody>\n",
       "    <tr>\n",
       "      <th>716</th>\n",
       "      <td>JVASP-98452</td>\n",
       "      <td>2</td>\n",
       "      <td>P-1</td>\n",
       "      <td>K2Ca3Si3O10</td>\n",
       "      <td>-3.04140</td>\n",
       "      <td>OptB88vdW</td>\n",
       "      <td>4.228</td>\n",
       "      <td>{'lattice_mat': [[5.614561710069512, -0.008098...</td>\n",
       "      <td>na</td>\n",
       "      <td>0.0</td>\n",
       "      <td>...</td>\n",
       "      <td>na</td>\n",
       "      <td>na</td>\n",
       "      <td>na</td>\n",
       "      <td>na</td>\n",
       "      <td>mp-1019747</td>\n",
       "      <td>-Ca-K-O-Si</td>\n",
       "      <td>-3.041397</td>\n",
       "      <td>-0.000003</td>\n",
       "      <td>0.000003</td>\n",
       "      <td>-0.227288</td>\n",
       "    </tr>\n",
       "    <tr>\n",
       "      <th>906</th>\n",
       "      <td>JVASP-86159</td>\n",
       "      <td>8</td>\n",
       "      <td>Cm</td>\n",
       "      <td>Ca3SiBr2</td>\n",
       "      <td>-1.15984</td>\n",
       "      <td>OptB88vdW</td>\n",
       "      <td>0.000</td>\n",
       "      <td>{'lattice_mat': [[4.428712142345245, 0.0938283...</td>\n",
       "      <td>na</td>\n",
       "      <td>0.0</td>\n",
       "      <td>...</td>\n",
       "      <td>na</td>\n",
       "      <td>na</td>\n",
       "      <td>0.0</td>\n",
       "      <td>na</td>\n",
       "      <td>mp-568791</td>\n",
       "      <td>-Br-Ca-Si</td>\n",
       "      <td>-1.159848</td>\n",
       "      <td>0.000008</td>\n",
       "      <td>0.000008</td>\n",
       "      <td>-0.227182</td>\n",
       "    </tr>\n",
       "    <tr>\n",
       "      <th>219</th>\n",
       "      <td>JVASP-85713</td>\n",
       "      <td>26</td>\n",
       "      <td>Pmc2_1</td>\n",
       "      <td>LiHS</td>\n",
       "      <td>-0.84152</td>\n",
       "      <td>OptB88vdW</td>\n",
       "      <td>3.501</td>\n",
       "      <td>{'lattice_mat': [[6.077481786895317, 0.0, 0.0]...</td>\n",
       "      <td>na</td>\n",
       "      <td>0.0</td>\n",
       "      <td>...</td>\n",
       "      <td>23.69</td>\n",
       "      <td>5.55</td>\n",
       "      <td>na</td>\n",
       "      <td>na</td>\n",
       "      <td>mp-644419</td>\n",
       "      <td>-H-Li-S</td>\n",
       "      <td>-0.841544</td>\n",
       "      <td>0.000024</td>\n",
       "      <td>0.000024</td>\n",
       "      <td>-0.226805</td>\n",
       "    </tr>\n",
       "    <tr>\n",
       "      <th>475</th>\n",
       "      <td>JVASP-5503</td>\n",
       "      <td>2</td>\n",
       "      <td>P-1</td>\n",
       "      <td>TeAuCl7</td>\n",
       "      <td>-0.44498</td>\n",
       "      <td>OptB88vdW</td>\n",
       "      <td>1.466</td>\n",
       "      <td>{'lattice_mat': [[7.542839764249747, 0.1718970...</td>\n",
       "      <td>20.29</td>\n",
       "      <td>0.0</td>\n",
       "      <td>...</td>\n",
       "      <td>na</td>\n",
       "      <td>na</td>\n",
       "      <td>2.126</td>\n",
       "      <td>na</td>\n",
       "      <td>mp-28330</td>\n",
       "      <td>-Au-Cl-Te</td>\n",
       "      <td>-0.445009</td>\n",
       "      <td>0.000029</td>\n",
       "      <td>0.000029</td>\n",
       "      <td>-0.226706</td>\n",
       "    </tr>\n",
       "    <tr>\n",
       "      <th>696</th>\n",
       "      <td>JVASP-97814</td>\n",
       "      <td>62</td>\n",
       "      <td>Pnma</td>\n",
       "      <td>Sn2BF7</td>\n",
       "      <td>-2.65345</td>\n",
       "      <td>OptB88vdW</td>\n",
       "      <td>4.390</td>\n",
       "      <td>{'lattice_mat': [[5.382597739169287, 0.0, -0.0...</td>\n",
       "      <td>na</td>\n",
       "      <td>0.0</td>\n",
       "      <td>...</td>\n",
       "      <td>na</td>\n",
       "      <td>na</td>\n",
       "      <td>na</td>\n",
       "      <td>na</td>\n",
       "      <td>mp-27430</td>\n",
       "      <td>-B-F-Sn</td>\n",
       "      <td>-2.653481</td>\n",
       "      <td>0.000031</td>\n",
       "      <td>0.000031</td>\n",
       "      <td>-0.226656</td>\n",
       "    </tr>\n",
       "  </tbody>\n",
       "</table>\n",
       "<p>5 rows × 68 columns</p>\n",
       "</div>"
      ],
      "text/plain": [
       "             jid spg_number spg_symbol      formula  formation_energy_peratom  \\\n",
       "716  JVASP-98452          2        P-1  K2Ca3Si3O10                  -3.04140   \n",
       "906  JVASP-86159          8         Cm     Ca3SiBr2                  -1.15984   \n",
       "219  JVASP-85713         26     Pmc2_1         LiHS                  -0.84152   \n",
       "475   JVASP-5503          2        P-1      TeAuCl7                  -0.44498   \n",
       "696  JVASP-97814         62       Pnma       Sn2BF7                  -2.65345   \n",
       "\n",
       "          func  optb88vdw_bandgap  \\\n",
       "716  OptB88vdW              4.228   \n",
       "906  OptB88vdW              0.000   \n",
       "219  OptB88vdW              3.501   \n",
       "475  OptB88vdW              1.466   \n",
       "696  OptB88vdW              4.390   \n",
       "\n",
       "                                                 atoms   slme magmom_oszicar  \\\n",
       "716  {'lattice_mat': [[5.614561710069512, -0.008098...     na            0.0   \n",
       "906  {'lattice_mat': [[4.428712142345245, 0.0938283...     na            0.0   \n",
       "219  {'lattice_mat': [[6.077481786895317, 0.0, 0.0]...     na            0.0   \n",
       "475  {'lattice_mat': [[7.542839764249747, 0.1718970...  20.29            0.0   \n",
       "696  {'lattice_mat': [[5.382597739169287, 0.0, -0.0...     na            0.0   \n",
       "\n",
       "     ... bulk_modulus_kv shear_modulus_gv mbj_bandgap hse_gap   reference  \\\n",
       "716  ...              na               na          na      na  mp-1019747   \n",
       "906  ...              na               na         0.0      na   mp-568791   \n",
       "219  ...           23.69             5.55          na      na   mp-644419   \n",
       "475  ...              na               na       2.126      na    mp-28330   \n",
       "696  ...              na               na          na      na    mp-27430   \n",
       "\n",
       "         search  pred_val       err   abs_err z_score_err  \n",
       "716  -Ca-K-O-Si -3.041397 -0.000003  0.000003   -0.227288  \n",
       "906   -Br-Ca-Si -1.159848  0.000008  0.000008   -0.227182  \n",
       "219     -H-Li-S -0.841544  0.000024  0.000024   -0.226805  \n",
       "475   -Au-Cl-Te -0.445009  0.000029  0.000029   -0.226706  \n",
       "696     -B-F-Sn -2.653481  0.000031  0.000031   -0.226656  \n",
       "\n",
       "[5 rows x 68 columns]"
      ]
     },
     "execution_count": 56,
     "metadata": {},
     "output_type": "execute_result"
    }
   ],
   "source": [
    "#select samples with minimal error\n",
    "train_subset_df = train_df.nsmallest(num_sample_in_loader, 'z_score_err')\n",
    "train_subset_df_idx = train_subset_df.index.values.tolist()\n",
    "train_subset_list = [train_data[i] for i in train_subset_df_idx]\n",
    "train_subset_dataloader = get_data_loader(train_subset_list, target, workers=4)\n",
    "train_subset_df.head() #contains the ids of train sub-selected samples"
   ]
  },
  {
   "cell_type": "code",
   "execution_count": 22,
   "metadata": {},
   "outputs": [],
   "source": [
    "#load train subset to dataloader\n",
    "subset_train_x = []\n",
    "subset_train_y = []\n",
    "\n",
    "for i in train_subset_dataloader:\n",
    "    subset_train_x.append((i[0], i[1]))\n",
    "    subset_train_y.append(i[2])"
   ]
  },
  {
   "cell_type": "markdown",
   "metadata": {},
   "source": [
    "## Subselect Test Samples - Most OOD (Maximum Error)"
   ]
  },
  {
   "cell_type": "code",
   "execution_count": 23,
   "metadata": {},
   "outputs": [],
   "source": [
    "test_df = pd.DataFrame(test_data)\n",
    "test_df['pred_val'] = model_test_predictions\n",
    "test_df['err'] = (test_df[target] - test_df['pred_val'])\n",
    "test_df['abs_err'] = np.abs(test_df[target] - test_df['pred_val'])\n",
    "test_df['z_score_err'] = (test_df['abs_err'] - np.mean(train_df['abs_err']))/np.std(train_df['abs_err'])"
   ]
  },
  {
   "cell_type": "code",
   "execution_count": 25,
   "metadata": {},
   "outputs": [
    {
     "name": "stdout",
     "output_type": "stream",
     "text": [
      "data range 1.56755 -2.4227\n",
      "Converting to graphs!\n"
     ]
    },
    {
     "name": "stderr",
     "output_type": "stream",
     "text": [
      "100%|██████████| 50/50 [00:00<00:00, 125.31it/s]\n"
     ]
    },
    {
     "name": "stdout",
     "output_type": "stream",
     "text": [
      "df                                                 atoms     prop jid\n",
      "0   {'lattice_mat': [[3.790914410660539, -0.0, 0.0... -2.07159   0\n",
      "1   {'lattice_mat': [[0.0, 4.897056811995578, 4.89...  1.53929   1\n",
      "2   {'lattice_mat': [[4.110215016104089, 0.0, 0.0]... -0.04638   2\n",
      "3   {'lattice_mat': [[2.848077488322179, 2.8480774... -0.10758   3\n",
      "4   {'lattice_mat': [[4.1657904284125715, 4.165790... -0.04919   4\n",
      "5   {'lattice_mat': [[2.920865223038774, 2.9208652... -0.34463   5\n",
      "6   {'lattice_mat': [[-0.0, 5.137906744010782, 5.1...  1.00634   6\n",
      "7   {'lattice_mat': [[-0.0, 4.907221750514012, 4.9...  0.85838   7\n",
      "8   {'lattice_mat': [[3.903902177836003, 0.0, 0.0]... -1.20482   8\n",
      "9   {'lattice_mat': [[4.078736102710052, 0.3455178...  0.07844   9\n",
      "10  {'lattice_mat': [[3.0998966569685593, 0.0, 0.0... -1.88091  10\n",
      "11  {'lattice_mat': [[8.144256654569737, -0.0, 0.0... -1.34337  11\n",
      "12  {'lattice_mat': [[4.811567551604352, 0.0, 0.0]... -1.96675  12\n",
      "13  {'lattice_mat': [[-0.0, 3.24316049942265, 3.24...  0.14577  13\n",
      "14  {'lattice_mat': [[3.0379628097286413, 3.037962... -0.26977  14\n",
      "15  {'lattice_mat': [[3.760874688463202, 1.094495e... -2.42270  15\n",
      "16  {'lattice_mat': [[5.751930282761507, 0.0135341... -2.03054  16\n",
      "17  {'lattice_mat': [[5.708943922866028, 0.3141831... -2.05551  17\n",
      "18  {'lattice_mat': [[6.082481136762242, -0.039688...  0.12011  18\n",
      "19  {'lattice_mat': [[5.177548499152658, 0.1775863... -2.26851  19\n",
      "20  {'lattice_mat': [[0.0, 0.0, -3.359429146388041... -0.38932  20\n",
      "21  {'lattice_mat': [[9.508112707284857, 0.1240857... -0.30254  21\n",
      "22  {'lattice_mat': [[4.079373809661257, -9.149665... -0.11407  22\n",
      "23  {'lattice_mat': [[-1.968181375997621, 1.968181... -0.20004  23\n",
      "24  {'lattice_mat': [[4.293802725718504, 0.0, 0.0]... -1.39242  24\n",
      "25  {'lattice_mat': [[6.206290056784209, -7.174947...  0.13947  25\n",
      "26  {'lattice_mat': [[4.913303495033625, -0.021832... -1.68595  26\n",
      "27  {'lattice_mat': [[-0.0, 4.91851480463691, 4.91...  1.09065  27\n",
      "28  {'lattice_mat': [[0.0, 3.9554418923261747, 0.0... -2.39810  28\n",
      "29  {'lattice_mat': [[4.9351278097142295, 0.037722... -1.54760  29\n",
      "30  {'lattice_mat': [[2.7910974799010644, 0.0, 0.0... -1.72316  30\n",
      "31  {'lattice_mat': [[6.596915774534723, 0.0, -0.0... -0.38059  31\n",
      "32  {'lattice_mat': [[2.901284109905847, 2.9012841... -0.33344  32\n",
      "33  {'lattice_mat': [[4.86775759331703, 0.02098519... -1.58650  33\n",
      "34  {'lattice_mat': [[-0.0, 4.865908549426729, 4.8...  1.56755  34\n",
      "35  {'lattice_mat': [[3.4709209595661688, -1.12804... -0.19524  35\n",
      "36  {'lattice_mat': [[3.03948257088623, 3.03948257... -0.24587  36\n",
      "37  {'lattice_mat': [[1.964248824e-06, 2.988721859... -0.07385  37\n",
      "38  {'lattice_mat': [[5.072555347090974, 0.0195758... -1.01485  38\n",
      "39  {'lattice_mat': [[1.413929176152854, -2.448997... -2.23094  39\n",
      "40  {'lattice_mat': [[4.839493559425439, 9.7116505... -1.66274  40\n",
      "41  {'lattice_mat': [[4.8166458682114435, -0.0, 0.... -1.28488  41\n",
      "42  {'lattice_mat': [[4.927781968323723, -0.0, 0.0... -1.78124  42\n",
      "43  {'lattice_mat': [[3.0210603354185386, 3.021060... -0.23465  43\n",
      "44  {'lattice_mat': [[2.30686037078957, -2.9878659...  0.00854  44\n",
      "45  {'lattice_mat': [[5.68102309388067, -1.9677568... -0.02333  45\n",
      "46  {'lattice_mat': [[2.80754625599962, 0.0, 0.0],... -2.41430  46\n",
      "47  {'lattice_mat': [[6.84938891863269, 1.15896e-1... -0.44277  47\n",
      "48  {'lattice_mat': [[6.133066270847911, -0.153092... -0.06705  48\n",
      "49  {'lattice_mat': [[0.0, 5.343985475329381, -0.0... -1.20979  49\n",
      "building line graphs\n"
     ]
    },
    {
     "name": "stderr",
     "output_type": "stream",
     "text": [
      "100%|██████████| 50/50 [00:00<00:00, 2272.72it/s]\n"
     ]
    }
   ],
   "source": [
    "test_subset_df = test_df.nlargest(num_sample_in_loader, 'z_score_err')\n",
    "test_subset_df_idx = test_subset_df.index.values.tolist()\n",
    "test_subset_list = [test_data[i] for i in test_subset_df_idx]\n",
    "test_subset_dataloader = get_data_loader(test_subset_list, target, workers=4)"
   ]
  },
  {
   "cell_type": "code",
   "execution_count": 26,
   "metadata": {},
   "outputs": [
    {
     "data": {
      "image/png": "[encoded data removed]",
      "text/plain": [
       "<Figure size 640x480 with 1 Axes>"
      ]
     },
     "metadata": {},
     "output_type": "display_data"
    }
   ],
   "source": [
    "ax = plt.hist(test_df['z_score_err'].values, bins=100,)\n",
    "plt.title('Test Set Predictions (Exclusively '+element_to_omit_from_training_data+')')\n",
    "plt.xlabel('Value')\n",
    "plt.ylabel('Count')\n",
    "plt.show()"
   ]
  },
  {
   "cell_type": "markdown",
   "metadata": {},
   "source": [
    "# Getting the Hessian Eigenvectors"
   ]
  },
  {
   "cell_type": "code",
   "execution_count": 27,
   "metadata": {},
   "outputs": [],
   "source": [
    "from src import botcher_hessian as hess\n",
    "from src import botcher_utilities as util"
   ]
  },
  {
   "cell_type": "markdown",
   "metadata": {},
   "source": [
    "The following functions are copy-pasted from Botcher implementation.  I put them here so that I could debug more easily."
   ]
  },
  {
   "cell_type": "code",
   "execution_count": 28,
   "metadata": {},
   "outputs": [],
   "source": [
    "def npvec_to_tensorlist(vec, params):\n",
    "    \"\"\" Convert a numpy vector to a list of tensor with the same dimensions as params\n",
    "\n",
    "        Args:\n",
    "            vec: a 1D numpy vector\n",
    "            params: a list of parameters from net\n",
    "\n",
    "        Returns:\n",
    "            rval: a list of tensors with the same shape as params\n",
    "    \"\"\"\n",
    "    loc = 0\n",
    "    rval = []\n",
    "    for p in params:\n",
    "        numel = p.data.numel()\n",
    "        rval.append(torch.from_numpy(vec[loc:loc+numel]).view(p.data.shape).float())\n",
    "        loc += numel\n",
    "    assert loc == vec.size, 'The vector has more elements than the net has parameters'\n",
    "    return rval\n",
    "\n",
    "\n",
    "def gradtensor_to_npvec(net, all_params=True):\n",
    "    \"\"\" Extract gradients from net, and return a concatenated numpy vector.\n",
    "\n",
    "        Args:\n",
    "            net: trained model\n",
    "            all_params: If all_params, then gradients w.r.t. BN parameters and bias\n",
    "            values are also included. Otherwise only gradients with dim > 1 are considered.\n",
    "\n",
    "        Returns:\n",
    "            a concatenated numpy vector containing all gradients\n",
    "    \"\"\"\n",
    "    filter = lambda p: all_params or len(p.data.size()) > 1\n",
    "    return np.concatenate([p.grad.data.cpu().numpy().ravel() for p in net.parameters() if filter(p)])\n",
    "\n",
    "\n",
    "def eval_hess_vec_prod(vec, params, net, loss_func, inputs_dataloader, outputs, use_cuda=False):\n",
    "    from torch.autograd import Variable\n",
    "    \"\"\"\n",
    "    Evaluate product of the Hessian of the loss function with a direction vector \"vec\".\n",
    "    The product result is saved in the grad of net.\n",
    "\n",
    "    Args:\n",
    "        vec: a list of tensor with the same dimensions as \"params\".\n",
    "        params: the parameter list of the net (ignoring biases and BN parameters).\n",
    "        net: model with trained parameters.\n",
    "        criterion: loss function.\n",
    "        inputs: nn inputs.\n",
    "        outputs: desired nn outputs.\n",
    "        use_cuda: use GPU.\n",
    "    \"\"\"\n",
    "\n",
    "    if use_cuda:\n",
    "        net.cuda()\n",
    "        vec = [v.cuda() for v in vec]\n",
    "\n",
    "    net.eval()\n",
    "    net.zero_grad() # clears grad for every parameter in the net\n",
    "    \n",
    "    ### OG IMPLEMENTATION\n",
    "    # pred_outputs = net(inputs.unsqueeze(-1)).flatten()\n",
    "    # pred_outputs = net(inputs_dataloader)\n",
    "    loss = torch.tensor(0.0).to(device)\n",
    "    for _, i in tqdm(enumerate(inputs_dataloader), total=len(inputs_dataloader)):\n",
    "        pred_outputs = net((i[0].to(device), i[1].to(device)))\n",
    "        # pred_outputs = np.expand_dims(pred_outputs.cpu().detach().numpy(), axis=0)[0]\n",
    "        outputs = i[2].to(device)\n",
    "        loss = torch.add(loss, loss_func(pred_outputs,outputs))\n",
    "    \n",
    "    loss = loss/len(inputs_dataloader)\n",
    "    grad_f = torch.autograd.grad(loss, inputs=params, create_graph=True, allow_unused=True)\n",
    "\n",
    "    # Compute inner product of gradient with the direction vector\n",
    "    prod = Variable(torch.zeros(1)).type(type(grad_f[0].data))\n",
    "\n",
    "    #for i in range(len(vec)):\n",
    "    tmp = []\n",
    "    for i in range(len(vec)):\n",
    "        if (grad_f[i] is not None) and (vec[i] is not None):\n",
    "            tmp.append((grad_f[i].to(device) * vec[i].to(device)).cpu().sum())\n",
    "    prod =+ sum(tmp)\n",
    "    # prod += sum([(grad_f[i] * vec[i]).cpu().sum() for i in range(len(vec))])\n",
    "\n",
    "    # Compute the Hessian-vector product, H*v\n",
    "    # prod.backward() computes dprod/dparams for every parameter in params and\n",
    "    # accumulate the gradients into the params.grad attributes\n",
    "    prod.backward()\n",
    "    "
   ]
  },
  {
   "cell_type": "code",
   "execution_count": 29,
   "metadata": {},
   "outputs": [],
   "source": [
    "def min_max_hessian_eigs(net, inputs, outputs, criterion, rank=0, use_cuda=False, verbose=False, all_params=True):\n",
    "    from scipy.sparse.linalg import LinearOperator, eigsh\n",
    "    import time\n",
    "    \"\"\"\n",
    "        Compute the largest and the smallest eigenvalues of the Hessian marix.\n",
    "\n",
    "        Args:\n",
    "            net: the trained model.\n",
    "            inputs: nn inputs.\n",
    "            outputs: desired nn outputs.\n",
    "            criterion: loss function.\n",
    "            rank: rank of the working node.\n",
    "            use_cuda: use GPU\n",
    "            verbose: print more information\n",
    "            all_params: use all nn parameters\n",
    "\n",
    "        Returns:\n",
    "            maxeig: max eigenvalue\n",
    "            mineig: min eigenvalue\n",
    "            hess_vec_prod.count: number of iterations for calculating max and min eigenvalues\n",
    "    \"\"\"\n",
    "    \n",
    "    if all_params:\n",
    "        params = [p for p in net.parameters()]\n",
    "    else:\n",
    "        params = [p for p in net.parameters() if len(p.size()) > 1]\n",
    "        \n",
    "    N = sum(p.numel() for p in params)\n",
    "\n",
    "    def hess_vec_prod(vec):\n",
    "        hess_vec_prod.count += 1  # simulates a static variable\n",
    "        vec = npvec_to_tensorlist(vec, params)\n",
    "        start_time = time.time()\n",
    "        eval_hess_vec_prod(vec, params, net, criterion, inputs, outputs, use_cuda)\n",
    "        prod_time = time.time() - start_time\n",
    "        if verbose and rank == 0: print(\"Iter: %d  time: %f\" % (hess_vec_prod.count, prod_time))\n",
    "        return gradtensor_to_npvec(net,all_params)\n",
    "        \n",
    "    hess_vec_prod.count = 0\n",
    "    if verbose and rank == 0: print(\"Rank %d: computing max eigenvalue\" % rank)\n",
    "\n",
    "    A = LinearOperator((N, N), matvec=hess_vec_prod)\n",
    "  \n",
    "    eigvals, eigvecs = eigsh(A, k=1, which='LM', tol=1e-2)\n",
    "    maxeig = eigvals[0]\n",
    "    maxeigvec = eigvecs\n",
    "    if verbose and rank == 0: print('max eigenvalue = %f' % maxeig)\n",
    "\n",
    "    # If the largest eigenvalue is positive, shift matrix so that any negative eigenvalue is now the largest\n",
    "    # We assume the smallest eigenvalue is zero or less, and so this shift is more than what we need\n",
    "    shift = maxeig*1.0\n",
    "    def shifted_hess_vec_prod(vec):\n",
    "        return hess_vec_prod(vec) - shift*vec\n",
    "\n",
    "    if verbose and rank == 0: print(\"Rank %d: Computing shifted eigenvalue\" % rank)\n",
    "\n",
    "    A = LinearOperator((N, N), matvec=shifted_hess_vec_prod)\n",
    "    eigvals, eigvecs = eigsh(A, k=1, which='LM', tol=1e-2)\n",
    "    eigvals = eigvals + shift\n",
    "    mineig = eigvals[0]\n",
    "    mineigvec = eigvecs\n",
    "    if verbose and rank == 0: print('min eigenvalue = ' + str(mineig))\n",
    "\n",
    "    if maxeig <= 0 and mineig > 0:\n",
    "        maxeig, mineig = mineig, maxeig\n",
    "        maxeig, mineig = mineigvec, maxeigvec\n",
    "\n",
    "    return maxeig, mineig, maxeigvec, mineigvec, hess_vec_prod.count"
   ]
  },
  {
   "cell_type": "code",
   "execution_count": 30,
   "metadata": {},
   "outputs": [],
   "source": [
    "### Defaults from OG implementation\n",
    "loss_func = torch.nn.MSELoss()\n",
    "func = copy.deepcopy(model)\n",
    "og_params = [i[1] for i in func.named_parameters() if len(i[1].size()) > 1]\n",
    "og_layer_names = [i[0] for i in func.named_parameters() if len(i[1].size())>1]"
   ]
  },
  {
   "cell_type": "markdown",
   "metadata": {},
   "source": [
    "This next cell calculates the eigenvectors, and can take considerable time (upwards of 40 minutes)"
   ]
  },
  {
   "cell_type": "markdown",
   "metadata": {},
   "source": [
    "here, we are computing the hessian eigenvectors using 3(or more) samples that 1. do not contain Fe, 2. is well predicted by the model (defined by existing model weights)\n",
    "\n",
    "then, we perturb the model such that the rate of loss increase would increase or we perturb the model such that the rate of loss increase would be constant\n",
    "\n",
    "we then test these perturbed model's performance on the same 3 samples that it had been predicting well to construct the loss land scape.\n",
    "\n",
    "- on the other hand, we will be picking samples that do not contain Fe and was not well predicted by the original model. they will not be involved in the hessian computation, so the perturbation has nothing to do with them. we will then test the perturbed model's performance on these samples\n",
    "\n",
    "hypothesis (need to be validated):\n",
    "\n",
    "perturbing in the direction of max eigenvector should increase/decress the loss by a lot (but that would be true for first derivative??? ask)\n",
    "\n",
    "perturbing in the direction of min eigenvector should not increase/decress the loss by a lot since it is the flattest direction\n",
    "\n",
    "\n",
    "\n",
    "\n",
    "- also, the choice of loss function is involved twice, 1. when we are choosing the samples; 2. when we are computing the hessian; 3. when we are visualizing the loss landscape"
   ]
  },
  {
   "cell_type": "code",
   "execution_count": 31,
   "metadata": {},
   "outputs": [
    {
     "name": "stderr",
     "output_type": "stream",
     "text": [
      "  0%|          | 0/50 [00:00<?, ?it/s]c:\\Users\\EthanH24\\anaconda3\\envs\\losslandscapefeb8gpu4\\lib\\site-packages\\torch\\nn\\modules\\loss.py:538: UserWarning: Using a target size (torch.Size([1])) that is different to the input size (torch.Size([])). This will likely lead to incorrect results due to broadcasting. Please ensure they have the same size.\n",
      "  return F.mse_loss(input, target, reduction=self.reduction)\n",
      "100%|██████████| 50/50 [00:02<00:00, 20.27it/s]\n",
      "100%|██████████| 50/50 [00:02<00:00, 23.41it/s]\n",
      "100%|██████████| 50/50 [00:02<00:00, 20.84it/s]\n",
      "100%|██████████| 50/50 [00:02<00:00, 19.82it/s]\n",
      "100%|██████████| 50/50 [00:02<00:00, 21.51it/s]\n",
      "100%|██████████| 50/50 [00:02<00:00, 23.56it/s]\n",
      "100%|██████████| 50/50 [00:02<00:00, 20.79it/s]\n",
      "100%|██████████| 50/50 [00:02<00:00, 23.80it/s]\n",
      "100%|██████████| 50/50 [00:02<00:00, 24.02it/s]\n",
      "100%|██████████| 50/50 [00:02<00:00, 23.57it/s]\n",
      "100%|██████████| 50/50 [00:02<00:00, 23.04it/s]\n",
      "100%|██████████| 50/50 [00:02<00:00, 23.41it/s]\n",
      "100%|██████████| 50/50 [00:02<00:00, 24.40it/s]\n",
      "100%|██████████| 50/50 [00:02<00:00, 20.16it/s]\n",
      "100%|██████████| 50/50 [00:02<00:00, 19.51it/s]\n",
      "100%|██████████| 50/50 [00:02<00:00, 22.84it/s]\n",
      "100%|██████████| 50/50 [00:02<00:00, 23.36it/s]\n",
      "100%|██████████| 50/50 [00:02<00:00, 23.65it/s]\n",
      "100%|██████████| 50/50 [00:02<00:00, 23.69it/s]\n",
      "100%|██████████| 50/50 [00:02<00:00, 24.06it/s]\n",
      "100%|██████████| 50/50 [00:04<00:00, 12.41it/s]\n",
      "100%|██████████| 50/50 [00:03<00:00, 13.58it/s]\n",
      "100%|██████████| 50/50 [00:03<00:00, 13.38it/s]\n",
      "100%|██████████| 50/50 [00:03<00:00, 13.17it/s]\n",
      "100%|██████████| 50/50 [00:03<00:00, 14.16it/s]\n",
      "100%|██████████| 50/50 [00:03<00:00, 13.83it/s]\n",
      "100%|██████████| 50/50 [00:03<00:00, 14.22it/s]\n",
      "100%|██████████| 50/50 [00:03<00:00, 14.06it/s]\n",
      "100%|██████████| 50/50 [00:03<00:00, 13.35it/s]\n",
      "100%|██████████| 50/50 [00:03<00:00, 14.28it/s]\n",
      "100%|██████████| 50/50 [00:03<00:00, 13.08it/s]\n",
      "100%|██████████| 50/50 [00:03<00:00, 15.07it/s]\n",
      "100%|██████████| 50/50 [00:03<00:00, 13.54it/s]\n",
      "100%|██████████| 50/50 [00:03<00:00, 14.05it/s]\n",
      "100%|██████████| 50/50 [00:03<00:00, 13.14it/s]\n",
      "100%|██████████| 50/50 [00:03<00:00, 14.42it/s]\n",
      "100%|██████████| 50/50 [00:02<00:00, 23.55it/s]\n",
      "100%|██████████| 50/50 [00:02<00:00, 20.91it/s]\n",
      "100%|██████████| 50/50 [00:02<00:00, 19.43it/s]\n",
      "100%|██████████| 50/50 [00:02<00:00, 23.55it/s]\n",
      "100%|██████████| 50/50 [00:02<00:00, 22.74it/s]\n",
      "100%|██████████| 50/50 [00:02<00:00, 23.11it/s]\n",
      "100%|██████████| 50/50 [00:02<00:00, 22.45it/s]\n",
      "100%|██████████| 50/50 [00:02<00:00, 23.53it/s]\n"
     ]
    }
   ],
   "source": [
    "maxeig, mineig, maxeigvec, mineigvec, num_iter = min_max_hessian_eigs(\n",
    "    func, train_subset_dataloader, subset_train_y, loss_func, all_params=False\n",
    "    )"
   ]
  },
  {
   "cell_type": "markdown",
   "metadata": {},
   "source": [
    "we found two directions of steepest and flattest curvature, the eigenvectors have unit length"
   ]
  },
  {
   "cell_type": "code",
   "execution_count": 32,
   "metadata": {},
   "outputs": [
    {
     "name": "stdout",
     "output_type": "stream",
     "text": [
      "48.10708 -9.479919071964105e-10\n"
     ]
    }
   ],
   "source": [
    "print(maxeig, mineig)"
   ]
  },
  {
   "cell_type": "code",
   "execution_count": 33,
   "metadata": {},
   "outputs": [
    {
     "name": "stdout",
     "output_type": "stream",
     "text": [
      "The Euclidean norm of the eigenvector is: 1.0000001192092896\n"
     ]
    }
   ],
   "source": [
    "norm = np.linalg.norm(maxeigvec)\n",
    "print(f\"The Euclidean norm of the eigenvector is: {norm}\")"
   ]
  },
  {
   "cell_type": "code",
   "execution_count": 35,
   "metadata": {},
   "outputs": [
    {
     "name": "stdout",
     "output_type": "stream",
     "text": [
      "The Euclidean norm of the weights is: 520.29345703125\n"
     ]
    }
   ],
   "source": [
    "def unpack_tensors_to_1d(tensor_list):\n",
    "    \"\"\"Unpack a list of 2D tensors into a 1D NumPy array.\n",
    "\n",
    "    Args:\n",
    "        tensor_list: A list of 2D PyTorch tensors.\n",
    "\n",
    "    Returns:\n",
    "        A 1D NumPy array containing all elements from the tensors.\n",
    "    \"\"\"\n",
    "    # Flatten each tensor, detach from the computation graph, move to CPU, and convert to a NumPy array\n",
    "    flattened_arrays = [tensor.detach().cpu().flatten().numpy() for tensor in tensor_list]\n",
    "    \n",
    "    # Concatenate all flattened arrays into a single 1D array\n",
    "    result = np.concatenate(flattened_arrays)\n",
    "    \n",
    "    return result\n",
    "\n",
    "# Now you can call the function without encountering the TypeError\n",
    "unpacked_array = unpack_tensors_to_1d(og_params)\n",
    "norm = np.linalg.norm(unpacked_array)\n",
    "print(f\"The Euclidean norm of the weights is: {norm}\")\n"
   ]
  },
  {
   "cell_type": "markdown",
   "metadata": {},
   "source": [
    "# Formatting as Two New Models"
   ]
  },
  {
   "cell_type": "markdown",
   "metadata": {},
   "source": [
    "create two models with weights being the two most dominant hessian eigenvector and save to local path"
   ]
  },
  {
   "cell_type": "code",
   "execution_count": 45,
   "metadata": {},
   "outputs": [],
   "source": [
    "max_model_wts = hess.npvec_to_tensorlist(maxeigvec, og_params)\n",
    "min_model_wts = hess.npvec_to_tensorlist(mineigvec, og_params)\n",
    "\n",
    "model_eig_max = copy.deepcopy(func)\n",
    "model_eig_min = copy.deepcopy(func)"
   ]
  },
  {
   "cell_type": "code",
   "execution_count": 46,
   "metadata": {},
   "outputs": [
    {
     "name": "stdout",
     "output_type": "stream",
     "text": [
      "_IncompatibleKeys(missing_keys=['atom_embedding.layer.1.running_mean', 'atom_embedding.layer.1.running_var', 'edge_embedding.0.centers', 'edge_embedding.1.layer.1.running_mean', 'edge_embedding.1.layer.1.running_var', 'edge_embedding.2.layer.1.running_mean', 'edge_embedding.2.layer.1.running_var', 'angle_embedding.0.centers', 'angle_embedding.1.layer.1.running_mean', 'angle_embedding.1.layer.1.running_var', 'angle_embedding.2.layer.1.running_mean', 'angle_embedding.2.layer.1.running_var', 'alignn_layers.0.node_update.bn_edges.running_mean', 'alignn_layers.0.node_update.bn_edges.running_var', 'alignn_layers.0.node_update.bn_nodes.running_mean', 'alignn_layers.0.node_update.bn_nodes.running_var', 'alignn_layers.0.edge_update.bn_edges.running_mean', 'alignn_layers.0.edge_update.bn_edges.running_var', 'alignn_layers.0.edge_update.bn_nodes.running_mean', 'alignn_layers.0.edge_update.bn_nodes.running_var', 'alignn_layers.1.node_update.bn_edges.running_mean', 'alignn_layers.1.node_update.bn_edges.running_var', 'alignn_layers.1.node_update.bn_nodes.running_mean', 'alignn_layers.1.node_update.bn_nodes.running_var', 'alignn_layers.1.edge_update.bn_edges.running_mean', 'alignn_layers.1.edge_update.bn_edges.running_var', 'alignn_layers.1.edge_update.bn_nodes.running_mean', 'alignn_layers.1.edge_update.bn_nodes.running_var', 'alignn_layers.2.node_update.bn_edges.running_mean', 'alignn_layers.2.node_update.bn_edges.running_var', 'alignn_layers.2.node_update.bn_nodes.running_mean', 'alignn_layers.2.node_update.bn_nodes.running_var', 'alignn_layers.2.edge_update.bn_edges.running_mean', 'alignn_layers.2.edge_update.bn_edges.running_var', 'alignn_layers.2.edge_update.bn_nodes.running_mean', 'alignn_layers.2.edge_update.bn_nodes.running_var', 'alignn_layers.3.node_update.bn_edges.running_mean', 'alignn_layers.3.node_update.bn_edges.running_var', 'alignn_layers.3.node_update.bn_nodes.running_mean', 'alignn_layers.3.node_update.bn_nodes.running_var', 'alignn_layers.3.edge_update.bn_edges.running_mean', 'alignn_layers.3.edge_update.bn_edges.running_var', 'alignn_layers.3.edge_update.bn_nodes.running_mean', 'alignn_layers.3.edge_update.bn_nodes.running_var', 'gcn_layers.0.bn_edges.running_mean', 'gcn_layers.0.bn_edges.running_var', 'gcn_layers.0.bn_nodes.running_mean', 'gcn_layers.0.bn_nodes.running_var', 'gcn_layers.1.bn_edges.running_mean', 'gcn_layers.1.bn_edges.running_var', 'gcn_layers.1.bn_nodes.running_mean', 'gcn_layers.1.bn_nodes.running_var', 'gcn_layers.2.bn_edges.running_mean', 'gcn_layers.2.bn_edges.running_var', 'gcn_layers.2.bn_nodes.running_mean', 'gcn_layers.2.bn_nodes.running_var', 'gcn_layers.3.bn_edges.running_mean', 'gcn_layers.3.bn_edges.running_var', 'gcn_layers.3.bn_nodes.running_mean', 'gcn_layers.3.bn_nodes.running_var'], unexpected_keys=[])\n",
      "_IncompatibleKeys(missing_keys=['atom_embedding.layer.1.running_mean', 'atom_embedding.layer.1.running_var', 'edge_embedding.0.centers', 'edge_embedding.1.layer.1.running_mean', 'edge_embedding.1.layer.1.running_var', 'edge_embedding.2.layer.1.running_mean', 'edge_embedding.2.layer.1.running_var', 'angle_embedding.0.centers', 'angle_embedding.1.layer.1.running_mean', 'angle_embedding.1.layer.1.running_var', 'angle_embedding.2.layer.1.running_mean', 'angle_embedding.2.layer.1.running_var', 'alignn_layers.0.node_update.bn_edges.running_mean', 'alignn_layers.0.node_update.bn_edges.running_var', 'alignn_layers.0.node_update.bn_nodes.running_mean', 'alignn_layers.0.node_update.bn_nodes.running_var', 'alignn_layers.0.edge_update.bn_edges.running_mean', 'alignn_layers.0.edge_update.bn_edges.running_var', 'alignn_layers.0.edge_update.bn_nodes.running_mean', 'alignn_layers.0.edge_update.bn_nodes.running_var', 'alignn_layers.1.node_update.bn_edges.running_mean', 'alignn_layers.1.node_update.bn_edges.running_var', 'alignn_layers.1.node_update.bn_nodes.running_mean', 'alignn_layers.1.node_update.bn_nodes.running_var', 'alignn_layers.1.edge_update.bn_edges.running_mean', 'alignn_layers.1.edge_update.bn_edges.running_var', 'alignn_layers.1.edge_update.bn_nodes.running_mean', 'alignn_layers.1.edge_update.bn_nodes.running_var', 'alignn_layers.2.node_update.bn_edges.running_mean', 'alignn_layers.2.node_update.bn_edges.running_var', 'alignn_layers.2.node_update.bn_nodes.running_mean', 'alignn_layers.2.node_update.bn_nodes.running_var', 'alignn_layers.2.edge_update.bn_edges.running_mean', 'alignn_layers.2.edge_update.bn_edges.running_var', 'alignn_layers.2.edge_update.bn_nodes.running_mean', 'alignn_layers.2.edge_update.bn_nodes.running_var', 'alignn_layers.3.node_update.bn_edges.running_mean', 'alignn_layers.3.node_update.bn_edges.running_var', 'alignn_layers.3.node_update.bn_nodes.running_mean', 'alignn_layers.3.node_update.bn_nodes.running_var', 'alignn_layers.3.edge_update.bn_edges.running_mean', 'alignn_layers.3.edge_update.bn_edges.running_var', 'alignn_layers.3.edge_update.bn_nodes.running_mean', 'alignn_layers.3.edge_update.bn_nodes.running_var', 'gcn_layers.0.bn_edges.running_mean', 'gcn_layers.0.bn_edges.running_var', 'gcn_layers.0.bn_nodes.running_mean', 'gcn_layers.0.bn_nodes.running_var', 'gcn_layers.1.bn_edges.running_mean', 'gcn_layers.1.bn_edges.running_var', 'gcn_layers.1.bn_nodes.running_mean', 'gcn_layers.1.bn_nodes.running_var', 'gcn_layers.2.bn_edges.running_mean', 'gcn_layers.2.bn_edges.running_var', 'gcn_layers.2.bn_nodes.running_mean', 'gcn_layers.2.bn_nodes.running_var', 'gcn_layers.3.bn_edges.running_mean', 'gcn_layers.3.bn_edges.running_var', 'gcn_layers.3.bn_nodes.running_mean', 'gcn_layers.3.bn_nodes.running_var'], unexpected_keys=[])\n"
     ]
    }
   ],
   "source": [
    "# There will be some incompatible keys due to the batch norm values\n",
    "# the original batch norm values will be retained\n",
    "model_eig_max = force_wts_into_model(og_layer_names, max_model_wts, model_eig_max,  model_wt_dict)\n",
    "model_eig_min = force_wts_into_model(og_layer_names, min_model_wts, model_eig_min,  model_wt_dict)"
   ]
  },
  {
   "cell_type": "code",
   "execution_count": 47,
   "metadata": {},
   "outputs": [],
   "source": [
    "torch.save(model_eig_max.state_dict(), 'model_eig_max.pt')\n",
    "torch.save(model_eig_min.state_dict(), 'model_eig_min.pt')"
   ]
  },
  {
   "cell_type": "markdown",
   "metadata": {},
   "source": [
    "inspecting the original weights and hessian eigenvector model"
   ]
  },
  {
   "cell_type": "code",
   "execution_count": 48,
   "metadata": {},
   "outputs": [
    {
     "data": {
      "text/plain": [
       "tensor([-0.0489, -0.0350,  0.1071, -0.1211], device='cuda:0',\n",
       "       grad_fn=<SliceBackward0>)"
      ]
     },
     "execution_count": 48,
     "metadata": {},
     "output_type": "execute_result"
    }
   ],
   "source": [
    "og_params[0][0][:4]"
   ]
  },
  {
   "cell_type": "code",
   "execution_count": 49,
   "metadata": {},
   "outputs": [
    {
     "data": {
      "text/plain": [
       "array([1.3937840e-05, 5.1789698e-06, 1.6494187e-04, 0.0000000e+00],\n",
       "      dtype=float32)"
      ]
     },
     "execution_count": 49,
     "metadata": {},
     "output_type": "execute_result"
    }
   ],
   "source": [
    "maxeigvec[:4].flatten()"
   ]
  },
  {
   "cell_type": "code",
   "execution_count": 50,
   "metadata": {},
   "outputs": [
    {
     "data": {
      "text/plain": [
       "tensor([1.3938e-05, 5.1790e-06, 1.6494e-04, 0.0000e+00])"
      ]
     },
     "execution_count": 50,
     "metadata": {},
     "output_type": "execute_result"
    }
   ],
   "source": [
    "max_model_wts[0][0][:4]"
   ]
  },
  {
   "cell_type": "code",
   "execution_count": 51,
   "metadata": {},
   "outputs": [
    {
     "data": {
      "text/plain": [
       "Parameter containing:\n",
       "tensor([[ 1.3938e-05,  5.1790e-06,  1.6494e-04,  ...,  3.7632e-05,\n",
       "          1.5899e-05,  0.0000e+00],\n",
       "        [ 1.1868e-05,  7.6569e-06, -2.0781e-05,  ..., -1.9890e-05,\n",
       "         -8.2938e-07,  0.0000e+00],\n",
       "        [ 1.3115e-06, -4.7240e-06, -1.3706e-05,  ..., -1.2141e-05,\n",
       "          2.5079e-06,  0.0000e+00],\n",
       "        ...,\n",
       "        [ 3.1603e-05,  5.8877e-06,  5.8690e-06,  ..., -2.1886e-05,\n",
       "          1.2498e-06,  0.0000e+00],\n",
       "        [ 6.6453e-06,  2.4982e-05,  7.2249e-05,  ...,  5.0897e-05,\n",
       "          2.1233e-05,  0.0000e+00],\n",
       "        [ 4.5978e-06,  5.8054e-05, -2.7311e-05,  ..., -4.1944e-06,\n",
       "          4.1606e-05,  0.0000e+00]], device='cuda:0', requires_grad=True)"
      ]
     },
     "execution_count": 51,
     "metadata": {},
     "output_type": "execute_result"
    }
   ],
   "source": [
    "max_model_params = [i[1] for i in model_eig_max.named_parameters() if len(i[1].size()) > 1]\n",
    "max_model_params[0]"
   ]
  }
 ],
 "metadata": {
  "kernelspec": {
   "display_name": "losslandscapefeb8gpu4",
   "language": "python",
   "name": "python3"
  },
  "language_info": {
   "codemirror_mode": {
    "name": "ipython",
    "version": 3
   },
   "file_extension": ".py",
   "mimetype": "text/x-python",
   "name": "python",
   "nbconvert_exporter": "python",
   "pygments_lexer": "ipython3",
   "version": "3.10.16"
  }
 },
 "nbformat": 4,
 "nbformat_minor": 2
}
