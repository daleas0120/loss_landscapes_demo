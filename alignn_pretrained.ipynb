{
 "cells": [
  {
   "cell_type": "markdown",
   "metadata": {},
   "source": [
    "# Pretrained ALIGNN Models\n",
    "Ashley S. Dale\n",
    "\n",
    "Notebook loads a pretrained ALIGNN model, and calculates the loss landscape."
   ]
  },
  {
   "cell_type": "code",
   "execution_count": 2,
   "metadata": {},
   "outputs": [],
   "source": [
    "%matplotlib widget"
   ]
  },
  {
   "cell_type": "code",
   "execution_count": 5,
   "metadata": {},
   "outputs": [],
   "source": [
    "import copy\n",
    "import numpy as np\n",
    "import matplotlib.pyplot as plt\n",
    "\n",
    "from alignn.pretrained import *\n",
    "from jarvis.db.figshare import data\n",
    "\n",
    "import ipywidgets as widgets\n",
    "from torchinfo import summary\n",
    "\n",
    "import loss_landscapes\n",
    "import loss_landscapes.metrics\n",
    "\n",
    "from abc import ABC, abstractmethod\n",
    "from loss_landscapes.model_interface.model_wrapper import ModelWrapper\n",
    "import torch"
   ]
  },
  {
   "cell_type": "markdown",
   "metadata": {},
   "source": [
    "# Load Model"
   ]
  },
  {
   "cell_type": "code",
   "execution_count": 6,
   "metadata": {},
   "outputs": [],
   "source": [
    "list_of_pretrained_models = list(get_all_models().keys())"
   ]
  },
  {
   "cell_type": "markdown",
   "metadata": {},
   "source": [
    "-> Select the `jv_formation_energy_peratom_alignn` model for the demo"
   ]
  },
  {
   "cell_type": "code",
   "execution_count": null,
   "metadata": {},
   "outputs": [],
   "source": [
    "style = {'description_width': 'initial'}\n",
    "\n",
    "config_selector = widgets.Dropdown(\n",
    "    options=list_of_pretrained_models,\n",
    "    value=None,\n",
    "    description='Select Model',\n",
    "    style=style,\n",
    "    disabled=False,\n",
    ")\n",
    "\n",
    "display(config_selector)"
   ]
  },
  {
   "cell_type": "code",
   "execution_count": null,
   "metadata": {},
   "outputs": [],
   "source": [
    "# This is the model we will load\n",
    "model_name = config_selector.value\n",
    "print(\"Selected: \", model_name)"
   ]
  },
  {
   "cell_type": "code",
   "execution_count": null,
   "metadata": {},
   "outputs": [],
   "source": [
    "model = get_figshare_model(model_name)"
   ]
  },
  {
   "cell_type": "code",
   "execution_count": null,
   "metadata": {},
   "outputs": [],
   "source": [
    "summary(model)"
   ]
  },
  {
   "cell_type": "markdown",
   "metadata": {},
   "source": [
    "We can use the model weights distribution to help scale the distance traveled on the loss landscape:"
   ]
  },
  {
   "cell_type": "code",
   "execution_count": null,
   "metadata": {},
   "outputs": [],
   "source": [
    "fc_layer_wts = model.fc.weight.detach().numpy()\n",
    "counts, bins = np.histogram(fc_layer_wts)\n",
    "\n",
    "log_counts, log_bins = np.histogram(np.log(np.abs(fc_layer_wts)))\n",
    "\n",
    "fig, ax = plt.subplots(1,2, figsize=(8,4))\n",
    "ax[0].hist(bins[:-1], bins, weights=counts)\n",
    "ax[0].set_title('Weights from Final FC Layer')\n",
    "ax[0].set_xlabel('Wt Value')\n",
    "ax[0].set_ylabel('Count')\n",
    "\n",
    "ax[1].hist(log_bins[:-1], log_bins, weights=log_counts)\n",
    "ax[1].set_title('Weights from Final FC Layer')\n",
    "ax[1].set_xlabel('Log(Abs(Wt Value))')\n",
    "ax[1].set_ylabel('Count')\n",
    "\n",
    "fig.tight_layout()\n",
    "plt.show()"
   ]
  },
  {
   "cell_type": "code",
   "execution_count": null,
   "metadata": {},
   "outputs": [],
   "source": [
    "print('avg wt val: ', np.mean(fc_layer_wts))\n",
    "print('std wt val: ', np.std(fc_layer_wts))\n",
    "wt_std = np.std(fc_layer_wts)"
   ]
  },
  {
   "cell_type": "markdown",
   "metadata": {},
   "source": [
    "# Load Data"
   ]
  },
  {
   "cell_type": "code",
   "execution_count": null,
   "metadata": {},
   "outputs": [],
   "source": [
    "## For larger sample\n",
    "target=\"formation_energy_peratom\"\n",
    "n_samples = 250\n",
    "\n",
    "d = data(\"dft_3d\")\n",
    "d = d[:n_samples]"
   ]
  },
  {
   "cell_type": "code",
   "execution_count": 14,
   "metadata": {},
   "outputs": [],
   "source": [
    "def get_data_loader(atoms_array, target):\n",
    "    from torch.utils.data import DataLoader\n",
    "\n",
    "    neighbor_strategy=\"k-nearest\"\n",
    "    atom_features=\"cgcnn\"\n",
    "    use_canonize=True\n",
    "    line_graph=True\n",
    "    batch_size = 1\n",
    "    workers = 0\n",
    "    pin_memory=False\n",
    "\n",
    "    mem = []\n",
    "    for i, ii in enumerate(atoms_array):\n",
    "        info = {}\n",
    "        info[\"atoms\"] = ii['atoms']\n",
    "        info[\"prop\"] = ii[target]\n",
    "        info[\"jid\"] = str(i)\n",
    "        mem.append(info)\n",
    "\n",
    "    test_data = get_torch_dataset(\n",
    "        dataset=mem,\n",
    "        target=\"prop\",\n",
    "        neighbor_strategy=neighbor_strategy,\n",
    "        atom_features=atom_features,\n",
    "        use_canonize=use_canonize,\n",
    "        line_graph=line_graph,\n",
    "    )\n",
    "    collate_fn = test_data.collate_line_graph\n",
    "\n",
    "    test_loader = DataLoader(\n",
    "        test_data,\n",
    "        batch_size=batch_size,\n",
    "        shuffle=False,\n",
    "        collate_fn=collate_fn,\n",
    "        drop_last=False,\n",
    "        num_workers=workers,\n",
    "        pin_memory=pin_memory,\n",
    "    )\n",
    "\n",
    "    return test_loader"
   ]
  },
  {
   "cell_type": "code",
   "execution_count": null,
   "metadata": {},
   "outputs": [],
   "source": [
    "test_dataloader = get_data_loader(d, target)"
   ]
  },
  {
   "cell_type": "code",
   "execution_count": null,
   "metadata": {},
   "outputs": [],
   "source": [
    "single_batch = next(iter(test_dataloader))\n",
    "len(single_batch)"
   ]
  },
  {
   "cell_type": "code",
   "execution_count": null,
   "metadata": {},
   "outputs": [],
   "source": [
    "print('Graph 1: ', single_batch[0])\n",
    "print('Graph 2: ', single_batch[1])\n",
    "print(target+': ', single_batch[2])"
   ]
  },
  {
   "cell_type": "markdown",
   "metadata": {},
   "source": [
    "# Prepare Loss Landscape"
   ]
  },
  {
   "cell_type": "code",
   "execution_count": 18,
   "metadata": {},
   "outputs": [],
   "source": [
    "model_final = copy.deepcopy(model)"
   ]
  },
  {
   "cell_type": "code",
   "execution_count": 19,
   "metadata": {},
   "outputs": [],
   "source": [
    "STEPS=20\n",
    "DISTANCE=10*wt_std"
   ]
  },
  {
   "cell_type": "markdown",
   "metadata": {},
   "source": [
    "### Define Loss Function"
   ]
  },
  {
   "cell_type": "code",
   "execution_count": 20,
   "metadata": {},
   "outputs": [],
   "source": [
    "criterion = torch.nn.L1Loss()"
   ]
  },
  {
   "cell_type": "markdown",
   "metadata": {},
   "source": [
    "### Define Model Wrapper"
   ]
  },
  {
   "cell_type": "code",
   "execution_count": 21,
   "metadata": {},
   "outputs": [],
   "source": [
    "\n",
    "class Metric(ABC):\n",
    "    \"\"\" A quantity that can be computed given a model or an agent. \"\"\"\n",
    "\n",
    "    def __init__(self):\n",
    "        super().__init__()\n",
    "\n",
    "    @abstractmethod\n",
    "    def __call__(self, model_wrapper: ModelWrapper):\n",
    "        pass\n",
    "\n",
    "class Loss(Metric):\n",
    "    \"\"\" Computes a specified loss function over specified input-output pairs. \"\"\"\n",
    "    def __init__(self, loss_fn, model, inputs: torch.Tensor, target: torch.Tensor):\n",
    "        super().__init__()\n",
    "        self.loss_fn = loss_fn\n",
    "        self.inputs = inputs\n",
    "        self.model = model\n",
    "        self.target = target\n",
    "\n",
    "    def __call__(self, model_wrapper: ModelWrapper) -> float:\n",
    "        outputs = model_wrapper.forward(self.inputs)\n",
    "        err = self.loss_fn(self.target, outputs)\n",
    "        return err"
   ]
  },
  {
   "cell_type": "markdown",
   "metadata": {},
   "source": [
    "## Calculate Loss Function"
   ]
  },
  {
   "cell_type": "code",
   "execution_count": 22,
   "metadata": {},
   "outputs": [],
   "source": [
    "metric = Loss(criterion, model_final.eval(), (single_batch[0], single_batch[1]), single_batch[2])"
   ]
  },
  {
   "cell_type": "code",
   "execution_count": null,
   "metadata": {},
   "outputs": [],
   "source": [
    "loss_data_fin = loss_landscapes.random_plane(model_final, metric, distance=DISTANCE, steps=STEPS, normalization=None, deepcopy_model=True)"
   ]
  },
  {
   "cell_type": "markdown",
   "metadata": {},
   "source": [
    "# Plot the surface"
   ]
  },
  {
   "cell_type": "code",
   "execution_count": 24,
   "metadata": {},
   "outputs": [],
   "source": [
    "\n",
    "perturbation_range = np.round(np.linspace(-0.5*DISTANCE, 0.5*DISTANCE, 8), 3)"
   ]
  },
  {
   "cell_type": "code",
   "execution_count": null,
   "metadata": {},
   "outputs": [],
   "source": [
    "save_fig_name = os.path.join('loss_contours.png')\n",
    "fig, ax = plt.subplots(1, 1)\n",
    "plt.contourf(np.log(loss_data_fin), levels=50)\n",
    "ax.set_title('Loss Contours \\n'+ r'$L(\\theta + \\alpha i + \\beta j$)')\n",
    "ax.axis('square')\n",
    "ax.scatter((STEPS-1)/2., (STEPS-1)/2., 20, 'r', '*')\n",
    "ax.set_xticks(np.linspace(0, STEPS, 8, endpoint=True))\n",
    "ax.set_xticklabels(perturbation_range)\n",
    "ax.set_yticks(np.linspace(0, STEPS, 8, endpoint=True))\n",
    "ax.set_yticklabels(perturbation_range)\n",
    "ax.set_xlabel(r'$\\alpha$')\n",
    "ax.set_ylabel(r'$\\beta$')\n",
    "plt.colorbar()\n",
    "fig.savefig(save_fig_name, transparent=True, dpi=300)\n",
    "plt.show()"
   ]
  },
  {
   "cell_type": "code",
   "execution_count": null,
   "metadata": {},
   "outputs": [],
   "source": [
    "import numpy as np\n",
    "save_fig_name = os.path.join('loss_surface.png')\n",
    "fig = plt.figure()\n",
    "ax = plt.axes(projection='3d')\n",
    "X = np.array([[j for j in range(STEPS)] for i in range(STEPS)])\n",
    "Y = np.array([[i for _ in range(STEPS)] for i in range(STEPS)])\n",
    "ax.plot_surface(X, Y, np.log(loss_data_fin), rstride=1, cstride=1, cmap='viridis', edgecolor='none')\n",
    "ax.set_xticks(np.linspace(0, STEPS, 8, endpoint=True))\n",
    "ax.set_xticklabels(perturbation_range)\n",
    "ax.set_yticks(np.linspace(0, STEPS, 8, endpoint=True))\n",
    "ax.set_yticklabels(perturbation_range)\n",
    "ax.set_xlabel(r'$\\alpha$')\n",
    "ax.set_ylabel(r'$\\beta$')\n",
    "ax.set_zlabel('Loss')\n",
    "fig.savefig(save_fig_name, transparent=True, dpi=300)\n",
    "plt.show()"
   ]
  },
  {
   "cell_type": "code",
   "execution_count": null,
   "metadata": {},
   "outputs": [],
   "source": []
  }
 ],
 "metadata": {
  "kernelspec": {
   "display_name": "Python 3",
   "language": "python",
   "name": "python3"
  },
  "language_info": {
   "codemirror_mode": {
    "name": "ipython",
    "version": 3
   },
   "file_extension": ".py",
   "mimetype": "text/x-python",
   "name": "python",
   "nbconvert_exporter": "python",
   "pygments_lexer": "ipython3",
   "version": "3.10.0"
  }
 },
 "nbformat": 4,
 "nbformat_minor": 2
}
